{
  "cells": [
    {
      "attachments": {},
      "cell_type": "markdown",
      "metadata": {
        "id": "Vl3eIEYFkgP7"
      },
      "source": [
        "# <font color = 'pickle'> **Fine-tuning Transformer Model**\n"
      ]
    },
    {
      "cell_type": "markdown",
      "metadata": {
        "id": "xfyZf28zDRHM"
      },
      "source": [
        "<font color = 'indianred'>  **Objective:**\n",
        "- Learn to fine-tune Transformer Models</font>"
      ]
    },
    {
      "cell_type": "markdown",
      "metadata": {
        "id": "gTd5DfBAqbc6"
      },
      "source": [
        "# <Font color = 'pickle'>**Load Libraries/Install Software**"
      ]
    },
    {
      "cell_type": "code",
      "execution_count": 1,
      "metadata": {
        "execution": {
          "iopub.execute_input": "2022-12-05T21:39:57.522650Z",
          "iopub.status.busy": "2022-12-05T21:39:57.522435Z",
          "iopub.status.idle": "2022-12-05T21:39:57.533925Z",
          "shell.execute_reply": "2022-12-05T21:39:57.533526Z",
          "shell.execute_reply.started": "2022-12-05T21:39:57.522585Z"
        },
        "id": "vK_qmWYFa_Yo",
        "tags": []
      },
      "outputs": [],
      "source": [
        "%load_ext autoreload\n",
        "%autoreload 2"
      ]
    },
    {
      "cell_type": "code",
      "execution_count": 2,
      "metadata": {
        "colab": {
          "base_uri": "https://localhost:8080/"
        },
        "execution": {
          "iopub.execute_input": "2022-12-05T21:39:58.006615Z",
          "iopub.status.busy": "2022-12-05T21:39:58.006318Z",
          "iopub.status.idle": "2022-12-05T21:39:58.015827Z",
          "shell.execute_reply": "2022-12-05T21:39:58.015104Z",
          "shell.execute_reply.started": "2022-12-05T21:39:58.006601Z"
        },
        "id": "XzOwlYkpa_4r",
        "outputId": "50fce48e-b489-480b-c623-47114e608121",
        "tags": []
      },
      "outputs": [
        {
          "name": "stdout",
          "output_type": "stream",
          "text": [
            "Running on CoLab\n"
          ]
        }
      ],
      "source": [
        "if 'google.colab' in str(get_ipython()):\n",
        "  print('Running on CoLab')\n",
        "else:\n",
        "  print('Not running on CoLab')"
      ]
    },
    {
      "cell_type": "code",
      "execution_count": 3,
      "metadata": {
        "colab": {
          "base_uri": "https://localhost:8080/"
        },
        "execution": {
          "iopub.execute_input": "2022-12-05T21:39:58.389474Z",
          "iopub.status.busy": "2022-12-05T21:39:58.389339Z",
          "iopub.status.idle": "2022-12-05T21:39:58.399000Z",
          "shell.execute_reply": "2022-12-05T21:39:58.398438Z",
          "shell.execute_reply.started": "2022-12-05T21:39:58.389460Z"
        },
        "id": "YN34PmjL51ID",
        "outputId": "9fa3f23b-977e-423f-86d4-7d167ba41279",
        "tags": []
      },
      "outputs": [
        {
          "name": "stdout",
          "output_type": "stream",
          "text": [
            "\u001b[K     |████████████████████████████████| 24.1 MB 1.2 MB/s \n",
            "\u001b[?25h"
          ]
        }
      ],
      "source": [
        "#!pip install -U spacy -qq\n",
        "if 'google.colab' in str(get_ipython()):\n",
        "  !pip install -U gensim -qq"
      ]
    },
    {
      "cell_type": "code",
      "execution_count": 4,
      "metadata": {
        "colab": {
          "base_uri": "https://localhost:8080/"
        },
        "execution": {
          "iopub.execute_input": "2022-12-05T21:39:58.790250Z",
          "iopub.status.busy": "2022-12-05T21:39:58.790063Z",
          "iopub.status.idle": "2022-12-05T21:39:58.799752Z",
          "shell.execute_reply": "2022-12-05T21:39:58.799204Z",
          "shell.execute_reply.started": "2022-12-05T21:39:58.790227Z"
        },
        "id": "6dMS3KisSRLT",
        "outputId": "27759d89-50b6-4b15-83a2-ea12b714bf7d",
        "tags": []
      },
      "outputs": [
        {
          "name": "stdout",
          "output_type": "stream",
          "text": [
            "\u001b[K     |████████████████████████████████| 1.9 MB 33.1 MB/s \n",
            "\u001b[K     |████████████████████████████████| 168 kB 65.4 MB/s \n",
            "\u001b[K     |████████████████████████████████| 182 kB 74.1 MB/s \n",
            "\u001b[K     |████████████████████████████████| 62 kB 456 kB/s \n",
            "\u001b[K     |████████████████████████████████| 168 kB 20.8 MB/s \n",
            "\u001b[K     |████████████████████████████████| 166 kB 65.8 MB/s \n",
            "\u001b[K     |████████████████████████████████| 166 kB 66.4 MB/s \n",
            "\u001b[K     |████████████████████████████████| 162 kB 63.7 MB/s \n",
            "\u001b[K     |████████████████████████████████| 162 kB 12.8 MB/s \n",
            "\u001b[K     |████████████████████████████████| 158 kB 62.0 MB/s \n",
            "\u001b[K     |████████████████████████████████| 157 kB 65.6 MB/s \n",
            "\u001b[K     |████████████████████████████████| 157 kB 31.1 MB/s \n",
            "\u001b[K     |████████████████████████████████| 157 kB 69.3 MB/s \n",
            "\u001b[K     |████████████████████████████████| 157 kB 76.5 MB/s \n",
            "\u001b[K     |████████████████████████████████| 157 kB 66.5 MB/s \n",
            "\u001b[K     |████████████████████████████████| 157 kB 64.0 MB/s \n",
            "\u001b[K     |████████████████████████████████| 157 kB 65.2 MB/s \n",
            "\u001b[K     |████████████████████████████████| 156 kB 46.4 MB/s \n",
            "\u001b[?25h  Building wheel for pathtools (setup.py) ... \u001b[?25l\u001b[?25hdone\n"
          ]
        }
      ],
      "source": [
        "# Install wandb and update it to the latest version\n",
        "if 'google.colab' in str(get_ipython()):\n",
        "    !pip install wandb --upgrade -q"
      ]
    },
    {
      "cell_type": "code",
      "execution_count": 5,
      "metadata": {
        "colab": {
          "base_uri": "https://localhost:8080/"
        },
        "execution": {
          "iopub.execute_input": "2022-12-05T21:39:59.132721Z",
          "iopub.status.busy": "2022-12-05T21:39:59.132522Z",
          "iopub.status.idle": "2022-12-05T21:39:59.140196Z",
          "shell.execute_reply": "2022-12-05T21:39:59.139892Z",
          "shell.execute_reply.started": "2022-12-05T21:39:59.132698Z"
        },
        "id": "GdkdBjeeTzyg",
        "outputId": "bc36b35a-7ce9-4e09-b167-95f43901acbb",
        "tags": []
      },
      "outputs": [
        {
          "name": "stdout",
          "output_type": "stream",
          "text": [
            "Mounted at /content/drive\n"
          ]
        }
      ],
      "source": [
        "# mount google drive\n",
        "if 'google.colab' in str(get_ipython()):\n",
        "    from google.colab import drive\n",
        "    drive.mount('/content/drive')"
      ]
    },
    {
      "cell_type": "code",
      "execution_count": 6,
      "metadata": {
        "execution": {
          "iopub.execute_input": "2022-12-05T21:39:59.474288Z",
          "iopub.status.busy": "2022-12-05T21:39:59.474098Z",
          "iopub.status.idle": "2022-12-05T21:40:00.418024Z",
          "shell.execute_reply": "2022-12-05T21:40:00.417511Z",
          "shell.execute_reply.started": "2022-12-05T21:39:59.474266Z"
        },
        "id": "CQQbjmDl5Got",
        "tags": []
      },
      "outputs": [],
      "source": [
        "# Import random function\n",
        "\n",
        "import torch\n",
        "import torch.nn as nn\n",
        "import torch.nn.functional as F\n",
        "from torchtext.vocab import  vocab\n",
        "from torch.optim.lr_scheduler import ReduceLROnPlateau, OneCycleLR, StepLR\n",
        "\n",
        "from torch.nn.utils.rnn import pad_sequence\n",
        "from torch.utils.data.sampler import Sampler\n",
        "\n",
        "\n",
        "import wandb\n",
        "\n",
        "\n",
        "import random\n",
        "from datetime import datetime\n",
        "import numpy as np\n",
        "from pathlib import Path\n",
        "import pandas as pd\n",
        "import joblib\n",
        "from collections import Counter\n",
        "import sys\n",
        "\n",
        "\n",
        "from sklearn.model_selection import train_test_split\n",
        "\n",
        "\n",
        "from types import SimpleNamespace"
      ]
    },
    {
      "cell_type": "markdown",
      "metadata": {
        "id": "v0CyZzobQoT_"
      },
      "source": [
        "We will be using W&B for visualization."
      ]
    },
    {
      "cell_type": "code",
      "execution_count": 7,
      "metadata": {
        "colab": {
          "base_uri": "https://localhost:8080/",
          "height": 86
        },
        "execution": {
          "iopub.execute_input": "2022-12-05T21:40:00.988080Z",
          "iopub.status.busy": "2022-12-05T21:40:00.987983Z",
          "iopub.status.idle": "2022-12-05T21:40:01.855742Z",
          "shell.execute_reply": "2022-12-05T21:40:01.855039Z",
          "shell.execute_reply.started": "2022-12-05T21:40:00.988068Z"
        },
        "id": "faY9UaHhQkb3",
        "outputId": "a57282b0-be7a-442d-aa7b-556d8e01966d",
        "tags": []
      },
      "outputs": [
        {
          "name": "stderr",
          "output_type": "stream",
          "text": [
            "ERROR:wandb.jupyter:Failed to detect the name of this notebook, you can set it manually with the WANDB_NOTEBOOK_NAME environment variable to enable code saving.\n"
          ]
        },
        {
          "data": {
            "application/javascript": "\n        window._wandbApiKey = new Promise((resolve, reject) => {\n            function loadScript(url) {\n            return new Promise(function(resolve, reject) {\n                let newScript = document.createElement(\"script\");\n                newScript.onerror = reject;\n                newScript.onload = resolve;\n                document.body.appendChild(newScript);\n                newScript.src = url;\n            });\n            }\n            loadScript(\"https://cdn.jsdelivr.net/npm/postmate/build/postmate.min.js\").then(() => {\n            const iframe = document.createElement('iframe')\n            iframe.style.cssText = \"width:0;height:0;border:none\"\n            document.body.appendChild(iframe)\n            const handshake = new Postmate({\n                container: iframe,\n                url: 'https://wandb.ai/authorize'\n            });\n            const timeout = setTimeout(() => reject(\"Couldn't auto authenticate\"), 5000)\n            handshake.then(function(child) {\n                child.on('authorize', data => {\n                    clearTimeout(timeout)\n                    resolve(data)\n                });\n            });\n            })\n        });\n    ",
            "text/plain": [
              "<IPython.core.display.Javascript object>"
            ]
          },
          "metadata": {},
          "output_type": "display_data"
        },
        {
          "name": "stderr",
          "output_type": "stream",
          "text": [
            "\u001b[34m\u001b[1mwandb\u001b[0m: Appending key for api.wandb.ai to your netrc file: /root/.netrc\n"
          ]
        },
        {
          "data": {
            "text/plain": [
              "True"
            ]
          },
          "execution_count": 7,
          "metadata": {},
          "output_type": "execute_result"
        }
      ],
      "source": [
        "# Login to W&B\n",
        "wandb.login()"
      ]
    },
    {
      "cell_type": "code",
      "execution_count": null,
      "metadata": {
        "id": "I46s8THDb66c"
      },
      "outputs": [],
      "source": []
    },
    {
      "cell_type": "markdown",
      "metadata": {
        "id": "J2nAIo5uNxEr"
      },
      "source": [
        "# <Font color = 'pickle'>**Specify Project Folders**"
      ]
    },
    {
      "cell_type": "code",
      "execution_count": 8,
      "metadata": {
        "execution": {
          "iopub.execute_input": "2022-12-05T21:40:05.799308Z",
          "iopub.status.busy": "2022-12-05T21:40:05.799064Z",
          "iopub.status.idle": "2022-12-05T21:40:05.831001Z",
          "shell.execute_reply": "2022-12-05T21:40:05.830232Z",
          "shell.execute_reply.started": "2022-12-05T21:40:05.799282Z"
        },
        "id": "zd6c5IGa_iUl",
        "tags": []
      },
      "outputs": [],
      "source": [
        "# This is the path where we will downlaod and save data\n",
        "if 'google.colab' in str(get_ipython()):\n",
        "  base_folder = Path('/content/drive/MyDrive/NLP_Fall22/HW7')\n",
        "else:\n",
        "  base_folder = Path('/home/harpreet/Insync/google_drive_shaannoor/data')"
      ]
    },
    {
      "cell_type": "code",
      "execution_count": 9,
      "metadata": {
        "execution": {
          "iopub.execute_input": "2022-12-05T21:40:06.069932Z",
          "iopub.status.busy": "2022-12-05T21:40:06.069736Z",
          "iopub.status.idle": "2022-12-05T21:40:06.096007Z",
          "shell.execute_reply": "2022-12-05T21:40:06.095377Z",
          "shell.execute_reply.started": "2022-12-05T21:40:06.069909Z"
        },
        "id": "Z0yKILuteTDE",
        "tags": []
      },
      "outputs": [],
      "source": [
        "data_folder = base_folder/'Data'\n",
        "model_folder = base_folder/'Models'"
      ]
    },
    {
      "cell_type": "markdown",
      "metadata": {
        "id": "17xctemopjdA"
      },
      "source": [
        "# <Font color = 'pickle'>**IMDB Dataset**\n",
        "\n",
        "For this notebook, we will use IMDB movie review dataset. <br>\n",
        "LInk for complete dataset: http://ai.stanford.edu/~amaas/data/sentiment/aclImdb_v1.tar.gz.\n",
        "\n",
        "We downloaded the dataset in the previous lecture 2 notebook (notebook: 3_Faster_tokenization_spacy_final.ipynb)\n",
        "\n",
        "We created csv files in Lecture 2 -- train.csv and test.csv file. The files are availible in Lecture2/data folder from eLearning. I have applied the custom pre=processor and cleaned the data set for this lecture. I pickled the datasets and saved them as files. The files are available in Lecture_6/data folder. We will download the following files as well.\n",
        "\n",
        "- 'x_train_cleaned_bag_of_words.pkl'\n",
        "- 'x_valid_cleaned_bag_of_words.pkl'\n",
        "- 'x_test_cleaned_bag_of_words.pkl'"
      ]
    },
    {
      "cell_type": "code",
      "execution_count": 10,
      "metadata": {
        "execution": {
          "iopub.execute_input": "2022-12-05T21:40:12.949698Z",
          "iopub.status.busy": "2022-12-05T21:40:12.949291Z",
          "iopub.status.idle": "2022-12-05T21:40:12.980936Z",
          "shell.execute_reply": "2022-12-05T21:40:12.980412Z",
          "shell.execute_reply.started": "2022-12-05T21:40:12.949670Z"
        },
        "id": "2f94n6S-6YCO",
        "tags": []
      },
      "outputs": [],
      "source": [
        "# location of train and test files\n",
        "train_file = data_folder /'train.csv'\n",
        "test_file = data_folder /'test.csv'"
      ]
    },
    {
      "cell_type": "code",
      "execution_count": 11,
      "metadata": {
        "execution": {
          "iopub.execute_input": "2022-12-05T21:40:14.382954Z",
          "iopub.status.busy": "2022-12-05T21:40:14.382714Z",
          "iopub.status.idle": "2022-12-05T21:40:14.763505Z",
          "shell.execute_reply": "2022-12-05T21:40:14.762870Z",
          "shell.execute_reply.started": "2022-12-05T21:40:14.382929Z"
        },
        "id": "5ggR-K3o6fhY",
        "tags": []
      },
      "outputs": [],
      "source": [
        "# creating Pandas Dataframe\n",
        "train_data = pd.read_csv(train_file, index_col=0)\n",
        "test_data = pd.read_csv(test_file, index_col=0)"
      ]
    },
    {
      "cell_type": "code",
      "execution_count": 12,
      "metadata": {
        "execution": {
          "iopub.execute_input": "2022-12-05T21:40:50.111501Z",
          "iopub.status.busy": "2022-12-05T21:40:50.111336Z",
          "iopub.status.idle": "2022-12-05T21:40:50.127106Z",
          "shell.execute_reply": "2022-12-05T21:40:50.126642Z",
          "shell.execute_reply.started": "2022-12-05T21:40:50.111489Z"
        },
        "id": "ZUn9abSt-mn_"
      },
      "outputs": [],
      "source": [
        "train_data = train_data.sample(frac = 0.1, random_state=1)\n",
        "test_data = train_data.sample(frac = 0.1, random_state=1)"
      ]
    },
    {
      "cell_type": "code",
      "execution_count": 13,
      "metadata": {
        "colab": {
          "base_uri": "https://localhost:8080/"
        },
        "execution": {
          "iopub.execute_input": "2022-12-05T21:40:51.140128Z",
          "iopub.status.busy": "2022-12-05T21:40:51.139888Z",
          "iopub.status.idle": "2022-12-05T21:40:51.161306Z",
          "shell.execute_reply": "2022-12-05T21:40:51.160647Z",
          "shell.execute_reply.started": "2022-12-05T21:40:51.140103Z"
        },
        "id": "RXYsyw4r7OGb",
        "outputId": "10022b3a-7782-4c87-bebd-42d156b23024",
        "tags": []
      },
      "outputs": [
        {
          "name": "stdout",
          "output_type": "stream",
          "text": [
            "Shape of Training data set is : (2500, 2)\n",
            "Shape of Test data set is : (250, 2)\n"
          ]
        }
      ],
      "source": [
        "# print shape of the datasets\n",
        "print(f'Shape of Training data set is : {train_data.shape}')\n",
        "print(f'Shape of Test data set is : {test_data.shape}')"
      ]
    },
    {
      "cell_type": "code",
      "execution_count": 14,
      "metadata": {
        "colab": {
          "base_uri": "https://localhost:8080/",
          "height": 206
        },
        "execution": {
          "iopub.execute_input": "2022-12-05T21:40:54.929949Z",
          "iopub.status.busy": "2022-12-05T21:40:54.929705Z",
          "iopub.status.idle": "2022-12-05T21:40:54.966461Z",
          "shell.execute_reply": "2022-12-05T21:40:54.965944Z",
          "shell.execute_reply.started": "2022-12-05T21:40:54.929923Z"
        },
        "id": "ETuO1KJp7R8W",
        "outputId": "7f8c8da3-c6e8-494e-e667-67634d7678c1",
        "tags": []
      },
      "outputs": [
        {
          "data": {
            "text/html": [
              "\n",
              "  <div id=\"df-5b740007-3444-4b31-911d-f7326bf02c88\">\n",
              "    <div class=\"colab-df-container\">\n",
              "      <div>\n",
              "<style scoped>\n",
              "    .dataframe tbody tr th:only-of-type {\n",
              "        vertical-align: middle;\n",
              "    }\n",
              "\n",
              "    .dataframe tbody tr th {\n",
              "        vertical-align: top;\n",
              "    }\n",
              "\n",
              "    .dataframe thead th {\n",
              "        text-align: right;\n",
              "    }\n",
              "</style>\n",
              "<table border=\"1\" class=\"dataframe\">\n",
              "  <thead>\n",
              "    <tr style=\"text-align: right;\">\n",
              "      <th></th>\n",
              "      <th>Reviews</th>\n",
              "      <th>Labels</th>\n",
              "    </tr>\n",
              "  </thead>\n",
              "  <tbody>\n",
              "    <tr>\n",
              "      <th>21492</th>\n",
              "      <td>The movie starts with a pair of campers, a man...</td>\n",
              "      <td>0</td>\n",
              "    </tr>\n",
              "    <tr>\n",
              "      <th>9488</th>\n",
              "      <td>I'm a pretty old dude, old enough to remember ...</td>\n",
              "      <td>1</td>\n",
              "    </tr>\n",
              "    <tr>\n",
              "      <th>16933</th>\n",
              "      <td>When they killed off John Amos's character the...</td>\n",
              "      <td>0</td>\n",
              "    </tr>\n",
              "    <tr>\n",
              "      <th>12604</th>\n",
              "      <td>Despite some occasionally original touches, li...</td>\n",
              "      <td>0</td>\n",
              "    </tr>\n",
              "    <tr>\n",
              "      <th>8222</th>\n",
              "      <td>I found this movie to be very well-paced. The ...</td>\n",
              "      <td>1</td>\n",
              "    </tr>\n",
              "  </tbody>\n",
              "</table>\n",
              "</div>\n",
              "      <button class=\"colab-df-convert\" onclick=\"convertToInteractive('df-5b740007-3444-4b31-911d-f7326bf02c88')\"\n",
              "              title=\"Convert this dataframe to an interactive table.\"\n",
              "              style=\"display:none;\">\n",
              "        \n",
              "  <svg xmlns=\"http://www.w3.org/2000/svg\" height=\"24px\"viewBox=\"0 0 24 24\"\n",
              "       width=\"24px\">\n",
              "    <path d=\"M0 0h24v24H0V0z\" fill=\"none\"/>\n",
              "    <path d=\"M18.56 5.44l.94 2.06.94-2.06 2.06-.94-2.06-.94-.94-2.06-.94 2.06-2.06.94zm-11 1L8.5 8.5l.94-2.06 2.06-.94-2.06-.94L8.5 2.5l-.94 2.06-2.06.94zm10 10l.94 2.06.94-2.06 2.06-.94-2.06-.94-.94-2.06-.94 2.06-2.06.94z\"/><path d=\"M17.41 7.96l-1.37-1.37c-.4-.4-.92-.59-1.43-.59-.52 0-1.04.2-1.43.59L10.3 9.45l-7.72 7.72c-.78.78-.78 2.05 0 2.83L4 21.41c.39.39.9.59 1.41.59.51 0 1.02-.2 1.41-.59l7.78-7.78 2.81-2.81c.8-.78.8-2.07 0-2.86zM5.41 20L4 18.59l7.72-7.72 1.47 1.35L5.41 20z\"/>\n",
              "  </svg>\n",
              "      </button>\n",
              "      \n",
              "  <style>\n",
              "    .colab-df-container {\n",
              "      display:flex;\n",
              "      flex-wrap:wrap;\n",
              "      gap: 12px;\n",
              "    }\n",
              "\n",
              "    .colab-df-convert {\n",
              "      background-color: #E8F0FE;\n",
              "      border: none;\n",
              "      border-radius: 50%;\n",
              "      cursor: pointer;\n",
              "      display: none;\n",
              "      fill: #1967D2;\n",
              "      height: 32px;\n",
              "      padding: 0 0 0 0;\n",
              "      width: 32px;\n",
              "    }\n",
              "\n",
              "    .colab-df-convert:hover {\n",
              "      background-color: #E2EBFA;\n",
              "      box-shadow: 0px 1px 2px rgba(60, 64, 67, 0.3), 0px 1px 3px 1px rgba(60, 64, 67, 0.15);\n",
              "      fill: #174EA6;\n",
              "    }\n",
              "\n",
              "    [theme=dark] .colab-df-convert {\n",
              "      background-color: #3B4455;\n",
              "      fill: #D2E3FC;\n",
              "    }\n",
              "\n",
              "    [theme=dark] .colab-df-convert:hover {\n",
              "      background-color: #434B5C;\n",
              "      box-shadow: 0px 1px 3px 1px rgba(0, 0, 0, 0.15);\n",
              "      filter: drop-shadow(0px 1px 2px rgba(0, 0, 0, 0.3));\n",
              "      fill: #FFFFFF;\n",
              "    }\n",
              "  </style>\n",
              "\n",
              "      <script>\n",
              "        const buttonEl =\n",
              "          document.querySelector('#df-5b740007-3444-4b31-911d-f7326bf02c88 button.colab-df-convert');\n",
              "        buttonEl.style.display =\n",
              "          google.colab.kernel.accessAllowed ? 'block' : 'none';\n",
              "\n",
              "        async function convertToInteractive(key) {\n",
              "          const element = document.querySelector('#df-5b740007-3444-4b31-911d-f7326bf02c88');\n",
              "          const dataTable =\n",
              "            await google.colab.kernel.invokeFunction('convertToInteractive',\n",
              "                                                     [key], {});\n",
              "          if (!dataTable) return;\n",
              "\n",
              "          const docLinkHtml = 'Like what you see? Visit the ' +\n",
              "            '<a target=\"_blank\" href=https://colab.research.google.com/notebooks/data_table.ipynb>data table notebook</a>'\n",
              "            + ' to learn more about interactive tables.';\n",
              "          element.innerHTML = '';\n",
              "          dataTable['output_type'] = 'display_data';\n",
              "          await google.colab.output.renderOutput(dataTable, element);\n",
              "          const docLink = document.createElement('div');\n",
              "          docLink.innerHTML = docLinkHtml;\n",
              "          element.appendChild(docLink);\n",
              "        }\n",
              "      </script>\n",
              "    </div>\n",
              "  </div>\n",
              "  "
            ],
            "text/plain": [
              "                                                 Reviews  Labels\n",
              "21492  The movie starts with a pair of campers, a man...       0\n",
              "9488   I'm a pretty old dude, old enough to remember ...       1\n",
              "16933  When they killed off John Amos's character the...       0\n",
              "12604  Despite some occasionally original touches, li...       0\n",
              "8222   I found this movie to be very well-paced. The ...       1"
            ]
          },
          "execution_count": 14,
          "metadata": {},
          "output_type": "execute_result"
        }
      ],
      "source": [
        "train_data.head()"
      ]
    },
    {
      "cell_type": "markdown",
      "metadata": {
        "id": "bTrbf15aROgj"
      },
      "source": [
        "## <Font color = 'pickle'>**Create Train/Test/Valid Split**\n"
      ]
    },
    {
      "cell_type": "code",
      "execution_count": 15,
      "metadata": {
        "execution": {
          "iopub.execute_input": "2022-12-05T21:40:55.955869Z",
          "iopub.status.busy": "2022-12-05T21:40:55.955669Z",
          "iopub.status.idle": "2022-12-05T21:40:55.983744Z",
          "shell.execute_reply": "2022-12-05T21:40:55.983135Z",
          "shell.execute_reply.started": "2022-12-05T21:40:55.955845Z"
        },
        "id": "9RFTtWvX7Vwr",
        "tags": []
      },
      "outputs": [],
      "source": [
        "X, y = train_data['Reviews'].values, train_data['Labels'].values"
      ]
    },
    {
      "cell_type": "code",
      "execution_count": 16,
      "metadata": {
        "execution": {
          "iopub.execute_input": "2022-12-05T21:40:56.337827Z",
          "iopub.status.busy": "2022-12-05T21:40:56.337316Z",
          "iopub.status.idle": "2022-12-05T21:40:56.365912Z",
          "shell.execute_reply": "2022-12-05T21:40:56.365310Z",
          "shell.execute_reply.started": "2022-12-05T21:40:56.337793Z"
        },
        "id": "a8sZ605P7mON",
        "tags": []
      },
      "outputs": [],
      "source": [
        "X_train, X_valid, y_train, y_valid = train_test_split(X, y, test_size = 0.20, random_state=42)"
      ]
    },
    {
      "cell_type": "code",
      "execution_count": 17,
      "metadata": {
        "execution": {
          "iopub.execute_input": "2022-12-05T21:40:56.721955Z",
          "iopub.status.busy": "2022-12-05T21:40:56.721450Z",
          "iopub.status.idle": "2022-12-05T21:40:56.749016Z",
          "shell.execute_reply": "2022-12-05T21:40:56.748410Z",
          "shell.execute_reply.started": "2022-12-05T21:40:56.721928Z"
        },
        "id": "AMapwMp88dBO",
        "tags": []
      },
      "outputs": [],
      "source": [
        "X_test , y_test = test_data['Reviews'].values, test_data['Labels'].values"
      ]
    },
    {
      "cell_type": "markdown",
      "metadata": {
        "id": "yNsbSCsHQkrS"
      },
      "source": [
        "## <Font color = 'pickle'>**Data PreProcessing**"
      ]
    },
    {
      "cell_type": "code",
      "execution_count": 18,
      "metadata": {
        "colab": {
          "base_uri": "https://localhost:8080/"
        },
        "execution": {
          "iopub.execute_input": "2022-12-05T21:40:57.526225Z",
          "iopub.status.busy": "2022-12-05T21:40:57.526017Z",
          "iopub.status.idle": "2022-12-05T21:40:57.790867Z",
          "shell.execute_reply": "2022-12-05T21:40:57.790250Z",
          "shell.execute_reply.started": "2022-12-05T21:40:57.526201Z"
        },
        "id": "P-iVke1O-moA",
        "outputId": "a87bc227-c19a-4801-87c7-9ac527b464dd",
        "tags": []
      },
      "outputs": [
        {
          "name": "stdout",
          "output_type": "stream",
          "text": [
            "Looking in indexes: https://pypi.org/simple, https://us-python.pkg.dev/colab-wheels/public/simple/\n",
            "Collecting transformers\n",
            "  Downloading transformers-4.25.1-py3-none-any.whl (5.8 MB)\n",
            "\u001b[K     |████████████████████████████████| 5.8 MB 30.4 MB/s \n",
            "\u001b[?25hCollecting huggingface-hub<1.0,>=0.10.0\n",
            "  Downloading huggingface_hub-0.11.1-py3-none-any.whl (182 kB)\n",
            "\u001b[K     |████████████████████████████████| 182 kB 79.2 MB/s \n",
            "\u001b[?25hRequirement already satisfied: packaging>=20.0 in /usr/local/lib/python3.8/dist-packages (from transformers) (21.3)\n",
            "Collecting tokenizers!=0.11.3,<0.14,>=0.11.1\n",
            "  Downloading tokenizers-0.13.2-cp38-cp38-manylinux_2_17_x86_64.manylinux2014_x86_64.whl (7.6 MB)\n",
            "\u001b[K     |████████████████████████████████| 7.6 MB 54.4 MB/s \n",
            "\u001b[?25hRequirement already satisfied: filelock in /usr/local/lib/python3.8/dist-packages (from transformers) (3.8.0)\n",
            "Requirement already satisfied: numpy>=1.17 in /usr/local/lib/python3.8/dist-packages (from transformers) (1.21.6)\n",
            "Requirement already satisfied: pyyaml>=5.1 in /usr/local/lib/python3.8/dist-packages (from transformers) (6.0)\n",
            "Requirement already satisfied: requests in /usr/local/lib/python3.8/dist-packages (from transformers) (2.23.0)\n",
            "Requirement already satisfied: regex!=2019.12.17 in /usr/local/lib/python3.8/dist-packages (from transformers) (2022.6.2)\n",
            "Requirement already satisfied: tqdm>=4.27 in /usr/local/lib/python3.8/dist-packages (from transformers) (4.64.1)\n",
            "Requirement already satisfied: typing-extensions>=3.7.4.3 in /usr/local/lib/python3.8/dist-packages (from huggingface-hub<1.0,>=0.10.0->transformers) (4.1.1)\n",
            "Requirement already satisfied: pyparsing!=3.0.5,>=2.0.2 in /usr/local/lib/python3.8/dist-packages (from packaging>=20.0->transformers) (3.0.9)\n",
            "Requirement already satisfied: urllib3!=1.25.0,!=1.25.1,<1.26,>=1.21.1 in /usr/local/lib/python3.8/dist-packages (from requests->transformers) (1.24.3)\n",
            "Requirement already satisfied: chardet<4,>=3.0.2 in /usr/local/lib/python3.8/dist-packages (from requests->transformers) (3.0.4)\n",
            "Requirement already satisfied: idna<3,>=2.5 in /usr/local/lib/python3.8/dist-packages (from requests->transformers) (2.10)\n",
            "Requirement already satisfied: certifi>=2017.4.17 in /usr/local/lib/python3.8/dist-packages (from requests->transformers) (2022.9.24)\n",
            "Installing collected packages: tokenizers, huggingface-hub, transformers\n",
            "Successfully installed huggingface-hub-0.11.1 tokenizers-0.13.2 transformers-4.25.1\n"
          ]
        }
      ],
      "source": [
        "!pip install transformers"
      ]
    },
    {
      "cell_type": "code",
      "execution_count": 21,
      "metadata": {
        "execution": {
          "iopub.execute_input": "2022-12-05T21:40:57.930296Z",
          "iopub.status.busy": "2022-12-05T21:40:57.930157Z",
          "iopub.status.idle": "2022-12-05T21:40:57.944871Z",
          "shell.execute_reply": "2022-12-05T21:40:57.944428Z",
          "shell.execute_reply.started": "2022-12-05T21:40:57.930285Z"
        },
        "id": "O6Ctob65-moA",
        "tags": []
      },
      "outputs": [],
      "source": [
        "from transformers import  AutoTokenizer"
      ]
    },
    {
      "cell_type": "code",
      "execution_count": 22,
      "metadata": {
        "execution": {
          "iopub.execute_input": "2022-12-05T21:40:58.292049Z",
          "iopub.status.busy": "2022-12-05T21:40:58.291964Z",
          "iopub.status.idle": "2022-12-05T21:40:58.543933Z",
          "shell.execute_reply": "2022-12-05T21:40:58.543398Z",
          "shell.execute_reply.started": "2022-12-05T21:40:58.292039Z"
        },
        "id": "W2ywItkJ-moB",
        "tags": []
      },
      "outputs": [],
      "source": [
        "checkpoint = 'distilbert-base-uncased'"
      ]
    },
    {
      "cell_type": "code",
      "execution_count": 23,
      "metadata": {
        "colab": {
          "base_uri": "https://localhost:8080/",
          "height": 145,
          "referenced_widgets": [
            "00ecf9eb5b6a4ebb8b105973ff34d6a1",
            "707c3360450f4bfb98144aae0ff20eb1",
            "db3995ef8bd747588365ac5e1548c7d8",
            "9c32493e79a34c1987a0eb823ced702b",
            "562199c662aa4acbb1f67fed290e90fb",
            "23c1f6f1946b43bc98d34ea828e92690",
            "b9fe68e06006418f86d03f30be325130",
            "82b63cfa8563452eb3e81eef15ce44a9",
            "ab5e97ea2ea842b28a8ec6160db7effb",
            "f2266e6aeb154a87940ccaac0ee685aa",
            "aca80fcb43574b48b100df35901a4d39",
            "81f1a06803c5459193aef5c2d932855a",
            "df77a1b1cd354035952ced577fe08197",
            "5838a172035345c38e19e963dd726631",
            "e4ba816b3d9b4498bfc3361bd9417545",
            "e65bd4b4cca24fa18f30de1b31f6b3a1",
            "a64c5ad55ce949a793ab45dc73b2d806",
            "eae7b501d758406c88a49a8227dfbf57",
            "4ee37352668943ec917aaf4ea16f408e",
            "13f1ca24eb174782b12bbf165fd10e96",
            "9ec60eeaef784ced90512b64900fbe2f",
            "7ad87c82077045e29efe1d006af55813",
            "5f3cdd3a9517472cb1d8ae1c72284596",
            "f9b822799c834cd7b52e2e4c7da76421",
            "b70d645441d5472aa5e0b70b6d92af8b",
            "bea4597c81b64be38150b17851b22025",
            "ac6d321dc31c46bea951da6cd389f70f",
            "8c27e8fb6c6543da93ac51cb6dd5aaef",
            "1d0c72e8b52e46f6b33f80aee524fea7",
            "c1439815ea4142e4a9d812ad127a3c2f",
            "b8c2c6a9519447608dbee0cf04421d9b",
            "f99f3f486d1749108d0533566e60cf4d",
            "605805a8f57f42d1b5ee90dfefcf8cda",
            "16706d120409456a8320b53991f38f89",
            "8c738f67cbac4ccbb5093640497fa36c",
            "5a66870d18f745ea8fc9322a91b30e97",
            "5738c03fffa44900a18ace1dce06f51c",
            "c2f967f00d9344a49bd9876b17bf3d26",
            "298abe286a5f4dfa8dd60d2ed7b6c942",
            "8c069d9b6c334827a748531c5c02420e",
            "c7c69474950a443cb4577315ea81a3f3",
            "db37eed42af543758526dbceb0dd740b",
            "0053e3350bbc4531b0140d1999c88af0",
            "3696d9d204b54b41b280afabf8f41dea"
          ]
        },
        "execution": {
          "iopub.execute_input": "2022-12-05T21:40:59.106253Z",
          "iopub.status.busy": "2022-12-05T21:40:59.106028Z",
          "iopub.status.idle": "2022-12-05T21:40:59.264134Z",
          "shell.execute_reply": "2022-12-05T21:40:59.263803Z",
          "shell.execute_reply.started": "2022-12-05T21:40:59.106227Z"
        },
        "id": "-g8RkVvk-moB",
        "outputId": "4b12fbf7-55cf-4678-b1a2-5b24d9922559",
        "tags": []
      },
      "outputs": [
        {
          "data": {
            "application/vnd.jupyter.widget-view+json": {
              "model_id": "00ecf9eb5b6a4ebb8b105973ff34d6a1",
              "version_major": 2,
              "version_minor": 0
            },
            "text/plain": [
              "Downloading:   0%|          | 0.00/28.0 [00:00<?, ?B/s]"
            ]
          },
          "metadata": {},
          "output_type": "display_data"
        },
        {
          "data": {
            "application/vnd.jupyter.widget-view+json": {
              "model_id": "81f1a06803c5459193aef5c2d932855a",
              "version_major": 2,
              "version_minor": 0
            },
            "text/plain": [
              "Downloading:   0%|          | 0.00/483 [00:00<?, ?B/s]"
            ]
          },
          "metadata": {},
          "output_type": "display_data"
        },
        {
          "data": {
            "application/vnd.jupyter.widget-view+json": {
              "model_id": "5f3cdd3a9517472cb1d8ae1c72284596",
              "version_major": 2,
              "version_minor": 0
            },
            "text/plain": [
              "Downloading:   0%|          | 0.00/232k [00:00<?, ?B/s]"
            ]
          },
          "metadata": {},
          "output_type": "display_data"
        },
        {
          "data": {
            "application/vnd.jupyter.widget-view+json": {
              "model_id": "16706d120409456a8320b53991f38f89",
              "version_major": 2,
              "version_minor": 0
            },
            "text/plain": [
              "Downloading:   0%|          | 0.00/466k [00:00<?, ?B/s]"
            ]
          },
          "metadata": {},
          "output_type": "display_data"
        }
      ],
      "source": [
        "tokenizer = AutoTokenizer.from_pretrained(checkpoint)"
      ]
    },
    {
      "cell_type": "code",
      "execution_count": 34,
      "metadata": {
        "id": "EYc63KpI-moB",
        "tags": []
      },
      "outputs": [],
      "source": [
        "train_encodings = tokenizer(list(X_train), truncation = True, padding = True)"
      ]
    },
    {
      "cell_type": "code",
      "execution_count": 35,
      "metadata": {
        "execution": {
          "iopub.execute_input": "2022-12-05T21:40:59.917259Z",
          "iopub.status.busy": "2022-12-05T21:40:59.917018Z",
          "iopub.status.idle": "2022-12-05T21:40:59.944374Z",
          "shell.execute_reply": "2022-12-05T21:40:59.943912Z",
          "shell.execute_reply.started": "2022-12-05T21:40:59.917234Z"
        },
        "id": "wulh8wY--moB",
        "tags": []
      },
      "outputs": [],
      "source": [
        "valid_encodings = tokenizer(list(X_valid), truncation = True, padding = True)\n",
        "test_encodings = tokenizer(list(X_test), truncation = True, padding = True)"
      ]
    },
    {
      "cell_type": "code",
      "execution_count": 36,
      "metadata": {
        "colab": {
          "base_uri": "https://localhost:8080/"
        },
        "id": "vK9rw-U0-moB",
        "outputId": "bf9d1714-89ac-4828-ed9b-06b60097daee",
        "tags": []
      },
      "outputs": [
        {
          "data": {
            "text/plain": [
              "Encoding(num_tokens=512, attributes=[ids, type_ids, tokens, offsets, attention_mask, special_tokens_mask, overflowing])"
            ]
          },
          "execution_count": 36,
          "metadata": {},
          "output_type": "execute_result"
        }
      ],
      "source": [
        "train_encodings[0]"
      ]
    },
    {
      "cell_type": "code",
      "execution_count": 37,
      "metadata": {
        "colab": {
          "base_uri": "https://localhost:8080/"
        },
        "id": "2rueGPSRGeRz",
        "outputId": "207073d6-1a6d-4b54-c4e7-1176948563dd"
      },
      "outputs": [
        {
          "data": {
            "text/plain": [
              "dict_keys(['input_ids', 'attention_mask'])"
            ]
          },
          "execution_count": 37,
          "metadata": {},
          "output_type": "execute_result"
        }
      ],
      "source": [
        "train_encodings.keys()"
      ]
    },
    {
      "cell_type": "code",
      "execution_count": 38,
      "metadata": {
        "colab": {
          "base_uri": "https://localhost:8080/"
        },
        "id": "z86uIEdmGhxN",
        "outputId": "5d2ae88e-a09b-4dd2-a8e9-fef539bf6277"
      },
      "outputs": [
        {
          "name": "stdout",
          "output_type": "stream",
          "text": [
            "input_ids [101, 9826, 1010, 2073, 2064, 1045, 4088, 999, 2023, 2001, 1037, 2659, 5166, 1010, 27762, 6051, 2143, 1010, 2009, 2001, 2061, 18178, 2229, 2100, 2009, 2018, 2149, 2035, 21305, 2007, 7239, 2000, 2129, 3294, 2128, 7559, 5732, 2009, 2001, 999, 1996, 4690, 3554, 5019, 4694, 1005, 1056, 2130, 4690, 9590, 1010, 2027, 2020, 2652, 2105, 2007, 2070, 6081, 10689, 2027, 4149, 2012, 24547, 1011, 20481, 1998, 2035, 2027, 2020, 2725, 2001, 2074, 22653, 2000, 3046, 1998, 2191, 2009, 2298, 2066, 2027, 2020, 8084, 999, 999, 2033, 1998, 2026, 2155, 2001, 1999, 1996, 6888, 2005, 1037, 2428, 2204, 2895, 3185, 2028, 2154, 1010, 2061, 2057, 2787, 2000, 2175, 2000, 1996, 3573, 1998, 2298, 2005, 2028, 1010, 1998, 2045, 2009, 2001, 1996, 2387, 19392, 2479, 3185, 1012, 1045, 2812, 2009, 2246, 2061, 2307, 2021, 2043, 2057, 3427, 2009, 2012, 2188, 1045, 8134, 2351, 2044, 1996, 2034, 3496, 1012, 1026, 7987, 1013, 1028, 1026, 7987, 1013, 1028, 2821, 1998, 1996, 5436, 1997, 1996, 2143, 1010, 1996, 2466, 2604, 1010, 1996, 5896, 1010, 4385, 1012, 1012, 2001, 1037, 9129, 1997, 13044, 2008, 1045, 2123, 1005, 1056, 2130, 2113, 2339, 1996, 2472, 1998, 3135, 2130, 13842, 2037, 2051, 2437, 2009, 999, 999, 2021, 2065, 2017, 4148, 2000, 21811, 2588, 2023, 3185, 1012, 1012, 2079, 2025, 2131, 2009, 999, 999, 999, 999, 999, 102, 0, 0, 0, 0, 0, 0, 0, 0, 0, 0, 0, 0, 0, 0, 0, 0, 0, 0, 0, 0, 0, 0, 0, 0, 0, 0, 0, 0, 0, 0, 0, 0, 0, 0, 0, 0, 0, 0, 0, 0, 0, 0, 0, 0, 0, 0, 0, 0, 0, 0, 0, 0, 0, 0, 0, 0, 0, 0, 0, 0, 0, 0, 0, 0, 0, 0, 0, 0, 0, 0, 0, 0, 0, 0, 0, 0, 0, 0, 0, 0, 0, 0, 0, 0, 0, 0, 0, 0, 0, 0, 0, 0, 0, 0, 0, 0, 0, 0, 0, 0, 0, 0, 0, 0, 0, 0, 0, 0, 0, 0, 0, 0, 0, 0, 0, 0, 0, 0, 0, 0, 0, 0, 0, 0, 0, 0, 0, 0, 0, 0, 0, 0, 0, 0, 0, 0, 0, 0, 0, 0, 0, 0, 0, 0, 0, 0, 0, 0, 0, 0, 0, 0, 0, 0, 0, 0, 0, 0, 0, 0, 0, 0, 0, 0, 0, 0, 0, 0, 0, 0, 0, 0, 0, 0, 0, 0, 0, 0, 0, 0, 0, 0, 0, 0, 0, 0, 0, 0, 0, 0, 0, 0, 0, 0, 0, 0, 0, 0, 0, 0, 0, 0, 0, 0, 0, 0, 0, 0, 0, 0, 0, 0, 0, 0, 0, 0, 0, 0, 0, 0, 0, 0, 0, 0, 0, 0, 0, 0, 0, 0, 0, 0, 0, 0, 0, 0, 0, 0, 0, 0, 0, 0, 0, 0, 0, 0, 0, 0, 0, 0, 0, 0, 0, 0, 0, 0, 0, 0, 0, 0, 0, 0, 0, 0, 0, 0, 0, 0, 0, 0, 0, 0, 0, 0, 0, 0, 0, 0, 0, 0, 0, 0, 0, 0, 0, 0, 0, 0, 0, 0, 0, 0, 0, 0]\n"
          ]
        }
      ],
      "source": [
        "for key,value in train_encodings.items():\n",
        "  print(key, value[0])\n",
        "  break"
      ]
    },
    {
      "cell_type": "markdown",
      "metadata": {
        "id": "rsYaM3_ftTgi"
      },
      "source": [
        "## <font color = 'pickle'> **Custom Dataset Class**"
      ]
    },
    {
      "cell_type": "code",
      "execution_count": 39,
      "metadata": {
        "execution": {
          "iopub.execute_input": "2022-12-05T21:41:01.507253Z",
          "iopub.status.busy": "2022-12-05T21:41:01.506930Z",
          "iopub.status.idle": "2022-12-05T21:41:01.536422Z",
          "shell.execute_reply": "2022-12-05T21:41:01.536013Z",
          "shell.execute_reply.started": "2022-12-05T21:41:01.507226Z"
        },
        "id": "kFmE7lcjCuSM",
        "tags": []
      },
      "outputs": [],
      "source": [
        "class IMDbDataset(torch.utils.data.Dataset):\n",
        "  def __init__(self, encodings, labels):\n",
        "\n",
        "    self.encodings = encodings\n",
        "\n",
        "    self.labels = labels\n",
        "\n",
        "\n",
        "\n",
        "  def __getitem__(self, idx):\n",
        "\n",
        "    item = {key: torch.tensor(value[idx]) for key, value in self.encodings.items()}\n",
        "\n",
        "    item['labels'] = torch.tensor(self.labels[idx])\n",
        "\n",
        "    return item\n",
        "\n",
        "\n",
        "\n",
        "  def __len__(self):\n",
        "\n",
        "    return len(self.labels)"
      ]
    },
    {
      "cell_type": "code",
      "execution_count": 40,
      "metadata": {
        "execution": {
          "iopub.execute_input": "2022-12-05T21:41:15.617741Z",
          "iopub.status.busy": "2022-12-05T21:41:15.617500Z",
          "iopub.status.idle": "2022-12-05T21:41:15.648757Z",
          "shell.execute_reply": "2022-12-05T21:41:15.648115Z",
          "shell.execute_reply.started": "2022-12-05T21:41:15.617715Z"
        },
        "id": "bDesWA-Ssmk_",
        "tags": []
      },
      "outputs": [],
      "source": [
        "trainset = IMDbDataset(train_encodings, y_train)\n",
        "validset = IMDbDataset(valid_encodings, y_valid)\n",
        "testset = IMDbDataset(test_encodings, y_test)"
      ]
    },
    {
      "cell_type": "code",
      "execution_count": 41,
      "metadata": {
        "colab": {
          "base_uri": "https://localhost:8080/"
        },
        "execution": {
          "iopub.execute_input": "2022-12-05T21:41:16.390054Z",
          "iopub.status.busy": "2022-12-05T21:41:16.389419Z",
          "iopub.status.idle": "2022-12-05T21:41:16.426090Z",
          "shell.execute_reply": "2022-12-05T21:41:16.425579Z",
          "shell.execute_reply.started": "2022-12-05T21:41:16.390003Z"
        },
        "id": "T-lZrEottGtH",
        "outputId": "0e3de125-b805-40fd-9a37-95db6101aaa4",
        "tags": []
      },
      "outputs": [
        {
          "data": {
            "text/plain": [
              "{'input_ids': tensor([  101,  9826,  1010,  2073,  2064,  1045,  4088,   999,  2023,  2001,\n",
              "          1037,  2659,  5166,  1010, 27762,  6051,  2143,  1010,  2009,  2001,\n",
              "          2061, 18178,  2229,  2100,  2009,  2018,  2149,  2035, 21305,  2007,\n",
              "          7239,  2000,  2129,  3294,  2128,  7559,  5732,  2009,  2001,   999,\n",
              "          1996,  4690,  3554,  5019,  4694,  1005,  1056,  2130,  4690,  9590,\n",
              "          1010,  2027,  2020,  2652,  2105,  2007,  2070,  6081, 10689,  2027,\n",
              "          4149,  2012, 24547,  1011, 20481,  1998,  2035,  2027,  2020,  2725,\n",
              "          2001,  2074, 22653,  2000,  3046,  1998,  2191,  2009,  2298,  2066,\n",
              "          2027,  2020,  8084,   999,   999,  2033,  1998,  2026,  2155,  2001,\n",
              "          1999,  1996,  6888,  2005,  1037,  2428,  2204,  2895,  3185,  2028,\n",
              "          2154,  1010,  2061,  2057,  2787,  2000,  2175,  2000,  1996,  3573,\n",
              "          1998,  2298,  2005,  2028,  1010,  1998,  2045,  2009,  2001,  1996,\n",
              "          2387, 19392,  2479,  3185,  1012,  1045,  2812,  2009,  2246,  2061,\n",
              "          2307,  2021,  2043,  2057,  3427,  2009,  2012,  2188,  1045,  8134,\n",
              "          2351,  2044,  1996,  2034,  3496,  1012,  1026,  7987,  1013,  1028,\n",
              "          1026,  7987,  1013,  1028,  2821,  1998,  1996,  5436,  1997,  1996,\n",
              "          2143,  1010,  1996,  2466,  2604,  1010,  1996,  5896,  1010,  4385,\n",
              "          1012,  1012,  2001,  1037,  9129,  1997, 13044,  2008,  1045,  2123,\n",
              "          1005,  1056,  2130,  2113,  2339,  1996,  2472,  1998,  3135,  2130,\n",
              "         13842,  2037,  2051,  2437,  2009,   999,   999,  2021,  2065,  2017,\n",
              "          4148,  2000, 21811,  2588,  2023,  3185,  1012,  1012,  2079,  2025,\n",
              "          2131,  2009,   999,   999,   999,   999,   999,   102,     0,     0,\n",
              "             0,     0,     0,     0,     0,     0,     0,     0,     0,     0,\n",
              "             0,     0,     0,     0,     0,     0,     0,     0,     0,     0,\n",
              "             0,     0,     0,     0,     0,     0,     0,     0,     0,     0,\n",
              "             0,     0,     0,     0,     0,     0,     0,     0,     0,     0,\n",
              "             0,     0,     0,     0,     0,     0,     0,     0,     0,     0,\n",
              "             0,     0,     0,     0,     0,     0,     0,     0,     0,     0,\n",
              "             0,     0,     0,     0,     0,     0,     0,     0,     0,     0,\n",
              "             0,     0,     0,     0,     0,     0,     0,     0,     0,     0,\n",
              "             0,     0,     0,     0,     0,     0,     0,     0,     0,     0,\n",
              "             0,     0,     0,     0,     0,     0,     0,     0,     0,     0,\n",
              "             0,     0,     0,     0,     0,     0,     0,     0,     0,     0,\n",
              "             0,     0,     0,     0,     0,     0,     0,     0,     0,     0,\n",
              "             0,     0,     0,     0,     0,     0,     0,     0,     0,     0,\n",
              "             0,     0,     0,     0,     0,     0,     0,     0,     0,     0,\n",
              "             0,     0,     0,     0,     0,     0,     0,     0,     0,     0,\n",
              "             0,     0,     0,     0,     0,     0,     0,     0,     0,     0,\n",
              "             0,     0,     0,     0,     0,     0,     0,     0,     0,     0,\n",
              "             0,     0,     0,     0,     0,     0,     0,     0,     0,     0,\n",
              "             0,     0,     0,     0,     0,     0,     0,     0,     0,     0,\n",
              "             0,     0,     0,     0,     0,     0,     0,     0,     0,     0,\n",
              "             0,     0,     0,     0,     0,     0,     0,     0,     0,     0,\n",
              "             0,     0,     0,     0,     0,     0,     0,     0,     0,     0,\n",
              "             0,     0,     0,     0,     0,     0,     0,     0,     0,     0,\n",
              "             0,     0,     0,     0,     0,     0,     0,     0,     0,     0,\n",
              "             0,     0,     0,     0,     0,     0,     0,     0,     0,     0,\n",
              "             0,     0,     0,     0,     0,     0,     0,     0,     0,     0,\n",
              "             0,     0,     0,     0,     0,     0,     0,     0,     0,     0,\n",
              "             0,     0,     0,     0,     0,     0,     0,     0,     0,     0,\n",
              "             0,     0,     0,     0,     0,     0,     0,     0,     0,     0,\n",
              "             0,     0]),\n",
              " 'attention_mask': tensor([1, 1, 1, 1, 1, 1, 1, 1, 1, 1, 1, 1, 1, 1, 1, 1, 1, 1, 1, 1, 1, 1, 1, 1,\n",
              "         1, 1, 1, 1, 1, 1, 1, 1, 1, 1, 1, 1, 1, 1, 1, 1, 1, 1, 1, 1, 1, 1, 1, 1,\n",
              "         1, 1, 1, 1, 1, 1, 1, 1, 1, 1, 1, 1, 1, 1, 1, 1, 1, 1, 1, 1, 1, 1, 1, 1,\n",
              "         1, 1, 1, 1, 1, 1, 1, 1, 1, 1, 1, 1, 1, 1, 1, 1, 1, 1, 1, 1, 1, 1, 1, 1,\n",
              "         1, 1, 1, 1, 1, 1, 1, 1, 1, 1, 1, 1, 1, 1, 1, 1, 1, 1, 1, 1, 1, 1, 1, 1,\n",
              "         1, 1, 1, 1, 1, 1, 1, 1, 1, 1, 1, 1, 1, 1, 1, 1, 1, 1, 1, 1, 1, 1, 1, 1,\n",
              "         1, 1, 1, 1, 1, 1, 1, 1, 1, 1, 1, 1, 1, 1, 1, 1, 1, 1, 1, 1, 1, 1, 1, 1,\n",
              "         1, 1, 1, 1, 1, 1, 1, 1, 1, 1, 1, 1, 1, 1, 1, 1, 1, 1, 1, 1, 1, 1, 1, 1,\n",
              "         1, 1, 1, 1, 1, 1, 1, 1, 1, 1, 1, 1, 1, 1, 1, 1, 1, 1, 1, 1, 1, 1, 1, 1,\n",
              "         1, 1, 0, 0, 0, 0, 0, 0, 0, 0, 0, 0, 0, 0, 0, 0, 0, 0, 0, 0, 0, 0, 0, 0,\n",
              "         0, 0, 0, 0, 0, 0, 0, 0, 0, 0, 0, 0, 0, 0, 0, 0, 0, 0, 0, 0, 0, 0, 0, 0,\n",
              "         0, 0, 0, 0, 0, 0, 0, 0, 0, 0, 0, 0, 0, 0, 0, 0, 0, 0, 0, 0, 0, 0, 0, 0,\n",
              "         0, 0, 0, 0, 0, 0, 0, 0, 0, 0, 0, 0, 0, 0, 0, 0, 0, 0, 0, 0, 0, 0, 0, 0,\n",
              "         0, 0, 0, 0, 0, 0, 0, 0, 0, 0, 0, 0, 0, 0, 0, 0, 0, 0, 0, 0, 0, 0, 0, 0,\n",
              "         0, 0, 0, 0, 0, 0, 0, 0, 0, 0, 0, 0, 0, 0, 0, 0, 0, 0, 0, 0, 0, 0, 0, 0,\n",
              "         0, 0, 0, 0, 0, 0, 0, 0, 0, 0, 0, 0, 0, 0, 0, 0, 0, 0, 0, 0, 0, 0, 0, 0,\n",
              "         0, 0, 0, 0, 0, 0, 0, 0, 0, 0, 0, 0, 0, 0, 0, 0, 0, 0, 0, 0, 0, 0, 0, 0,\n",
              "         0, 0, 0, 0, 0, 0, 0, 0, 0, 0, 0, 0, 0, 0, 0, 0, 0, 0, 0, 0, 0, 0, 0, 0,\n",
              "         0, 0, 0, 0, 0, 0, 0, 0, 0, 0, 0, 0, 0, 0, 0, 0, 0, 0, 0, 0, 0, 0, 0, 0,\n",
              "         0, 0, 0, 0, 0, 0, 0, 0, 0, 0, 0, 0, 0, 0, 0, 0, 0, 0, 0, 0, 0, 0, 0, 0,\n",
              "         0, 0, 0, 0, 0, 0, 0, 0, 0, 0, 0, 0, 0, 0, 0, 0, 0, 0, 0, 0, 0, 0, 0, 0,\n",
              "         0, 0, 0, 0, 0, 0, 0, 0]),\n",
              " 'labels': tensor(0)}"
            ]
          },
          "execution_count": 41,
          "metadata": {},
          "output_type": "execute_result"
        }
      ],
      "source": [
        "trainset.__getitem__(0)"
      ]
    },
    {
      "cell_type": "markdown",
      "metadata": {
        "id": "Ry-7lHYVPlPP"
      },
      "source": [
        "# <font color = 'pickle'> **Training Functions**"
      ]
    },
    {
      "cell_type": "markdown",
      "metadata": {
        "id": "aqI_o6qwy6lb"
      },
      "source": [
        "## <Font color = 'pickle'>**Function for Training  Loops**\n",
        "\n",
        "**Model Training** involves five steps: \n",
        "\n",
        "- Step 0: Randomly initialize parameters / weights\n",
        "- Step 1: Compute model's predictions - forward pass\n",
        "- Step 2: Compute loss\n",
        "- Step 3: Compute the gradients\n",
        "- Step 4: Update the parameters\n",
        "- Step 5: Repeat steps 1 - 4\n",
        "\n",
        "Model training is repeating this process over and over, for many **epochs**.\n",
        "\n",
        "We will specify number of ***epochs*** and during each epoch we will iterate over the complete dataset and will keep on updating the parameters.\n",
        "\n",
        "***Learning rate*** and ***epochs*** are known as hyperparameters. We have to adjust the values of these two based on validation dataset.\n",
        "\n",
        "We will now create functions for step 1 to 4."
      ]
    },
    {
      "cell_type": "code",
      "execution_count": 43,
      "metadata": {
        "execution": {
          "iopub.execute_input": "2022-12-05T21:41:18.022573Z",
          "iopub.status.busy": "2022-12-05T21:41:18.022331Z",
          "iopub.status.idle": "2022-12-05T21:41:18.057542Z",
          "shell.execute_reply": "2022-12-05T21:41:18.056849Z",
          "shell.execute_reply.started": "2022-12-05T21:41:18.022544Z"
        },
        "id": "Pv4x22lZMn5p",
        "tags": []
      },
      "outputs": [],
      "source": [
        "def train(train_loader, model, optimizer, grad_clipping, max_norm, log_batch, log_interval, device):\n",
        "\n",
        "  # Training Loop \n",
        "  # initilalize variables as global\n",
        "  # these counts will be updated every epoch\n",
        "  global batch_ct_train\n",
        "\n",
        "  # Initialize train_loss at the he start of the epoch\n",
        "\n",
        "  running_train_loss = 0\n",
        "  running_train_correct = 0\n",
        "\n",
        "  # put the model in training mode\n",
        "  model.train()\n",
        "\n",
        "  # Iterate on batches from the dataset using train_loader\n",
        "  for batch in train_loader:\n",
        "  # move inputs and outputs to GPUs\n",
        "\n",
        "    input_ids = batch['input_ids'].to(device)\n",
        "\n",
        "    attention_mask = batch['attention_mask'].to(device)\n",
        "\n",
        "    labels = batch['labels'].to(device)\n",
        "\n",
        "    # Outputs & loss\n",
        "\n",
        "    outputs = model(input_ids, attention_mask = attention_mask, labels = labels)\n",
        "\n",
        "    loss, output = outputs['loss'], outputs['logits']\n",
        "\n",
        "    # correct predictions\n",
        "    y_pred = torch.argmax(output, dim =1)\n",
        "    correct = torch.sum(y_pred==labels)\n",
        "\n",
        "    batch_ct_train+=1\n",
        "\n",
        "    # Compute gradients\n",
        "    optimizer.zero_grad()\n",
        "    loss.backward()\n",
        "\n",
        "    # Gradient Clipping\n",
        "\n",
        "    if grad_clipping:\n",
        "      nn.utils.clip_grad_norm_(model.parameters(), max_norm=max_norm, norm_type=2)\n",
        "\n",
        "\n",
        "    # Step 4: Update the parameters\n",
        "    optimizer.step()\n",
        "\n",
        "    # Add train loss of a batch \n",
        "    running_train_loss += loss.item()\n",
        "\n",
        "    # Add Corect counts of a batch\n",
        "    running_train_correct += correct\n",
        "\n",
        "    # log batch loss and accuracy\n",
        "    if log_batch:\n",
        "      if ((batch_ct_train + 1) % log_interval) == 0:\n",
        "        wandb.log({f\"Train Batch Loss  :\": loss})\n",
        "        wandb.log({f\"Train Batch Acc :\": correct/len(labels)})\n",
        "\n",
        "  # Calculate mean train loss for the whole dataset for a particular epoch\n",
        "  train_loss = running_train_loss/len(train_loader)\n",
        "\n",
        "  # Calculate accuracy for the whole dataset for a particular epoch\n",
        "  train_acc = running_train_correct/len(train_loader.dataset)\n",
        "\n",
        "  return train_loss, train_acc"
      ]
    },
    {
      "cell_type": "markdown",
      "metadata": {
        "id": "KeLm-GI5bW2V"
      },
      "source": [
        "## <Font color = 'pickle'>**Function for Validation Loops**\n"
      ]
    },
    {
      "cell_type": "code",
      "execution_count": 47,
      "metadata": {
        "execution": {
          "iopub.execute_input": "2022-12-05T21:41:18.824561Z",
          "iopub.status.busy": "2022-12-05T21:41:18.824247Z",
          "iopub.status.idle": "2022-12-05T21:41:18.856908Z",
          "shell.execute_reply": "2022-12-05T21:41:18.856163Z",
          "shell.execute_reply.started": "2022-12-05T21:41:18.824535Z"
        },
        "id": "pHP1WKDessiI",
        "tags": []
      },
      "outputs": [],
      "source": [
        "def validate(valid_loader, model, log_batch, log_interval, device):\n",
        "\n",
        "  # initilalize variables as global\n",
        "  # these counts will be updated every epoch\n",
        "  global batch_ct_valid\n",
        "\n",
        "  # Validation/Test loop\n",
        "  # Initialize valid_loss at the he strat of the epoch\n",
        "  running_val_loss = 0\n",
        "  running_val_correct = 0\n",
        "\n",
        "  # put the model in evaluation mode\n",
        "  model.eval()\n",
        "\n",
        "  with torch.no_grad():\n",
        "    for batch in valid_loader:\n",
        "    # move inputs and outputs to GPUs\n",
        "\n",
        "      input_ids = batch['input_ids'].to(device)\n",
        "\n",
        "      attention_mask = batch['attention_mask'].to(device)\n",
        "\n",
        "      labels = batch['labels'].to(device)\n",
        "\n",
        "\n",
        "      # Step 1: Forward Pass: Compute model's predictions \n",
        "    \n",
        "      outputs = model(input_ids, attention_mask = attention_mask, labels = labels)\n",
        "\n",
        "\n",
        "      # Step 2: Compute loss\n",
        "      loss, output = outputs['loss'], outputs['logits']\n",
        "\n",
        "      # Correct Predictions\n",
        "      y_pred = torch.argmax(output, dim=1)\n",
        "\n",
        "      correct = torch.sum(y_pred==labels)\n",
        "\n",
        "      batch_ct_valid += 1\n",
        "\n",
        "      # Add val loss of a batch \n",
        "      running_val_loss += loss.item()\n",
        "\n",
        "      # Add correct count for each batch\n",
        "      running_val_correct += correct\n",
        "\n",
        "      # log batch loss and accuracy\n",
        "      if log_batch:\n",
        "        if ((batch_ct_valid + 1) % log_interval) == 0:\n",
        "          wandb.log({f\"Valid Batch Loss  :\": loss})\n",
        "          wandb.log({f\"Valid Batch Accuracy :\": correct/len(labels)})\n",
        "\n",
        "    # Calculate mean val loss for the whole dataset for a particular epoch\n",
        "    val_loss = running_val_loss/len(valid_loader)\n",
        "\n",
        "    # Calculate accuracy for the whole dataset for a particular epoch\n",
        "    val_acc = running_val_correct/len(valid_loader.dataset)\n",
        "\n",
        "    # scheduler step\n",
        "    # scheduler.step(val_loss)\n",
        "    # scheduler.step()\n",
        "    \n",
        "  return val_loss, val_acc"
      ]
    },
    {
      "cell_type": "markdown",
      "metadata": {
        "id": "UwF70eqE6n_v"
      },
      "source": [
        "## <Font color = 'pickle'>**Function for Model Training**\n",
        "    \n",
        "We will now create a function for step 5 of model training\n"
      ]
    },
    {
      "cell_type": "code",
      "execution_count": 48,
      "metadata": {
        "execution": {
          "iopub.execute_input": "2022-12-05T21:41:19.228296Z",
          "iopub.status.busy": "2022-12-05T21:41:19.227770Z",
          "iopub.status.idle": "2022-12-05T21:41:19.268571Z",
          "shell.execute_reply": "2022-12-05T21:41:19.267964Z",
          "shell.execute_reply.started": "2022-12-05T21:41:19.228270Z"
        },
        "id": "KeCKVgg-5FiZ",
        "tags": []
      },
      "outputs": [],
      "source": [
        "def train_loop(train_loader, valid_loader, model, optimizer, epochs, device, patience, early_stopping,\n",
        "               file_model, save_best_model, grad_clipping, max_norm, log_batch, log_interval):\n",
        "    \n",
        "  \"\"\" \n",
        "  Function for training the model and plotting the graph for train & validation loss vs epoch.\n",
        "  Input: iterator for train dataset, initial weights and bias, epochs, learning rate, batch size.\n",
        "  Output: final weights, bias and train loss and validation loss for each epoch.\n",
        "  \"\"\"\n",
        "\n",
        "  # Create lists to store train and val loss at each epoch\n",
        "  train_loss_history = []\n",
        "  valid_loss_history = []\n",
        "  train_acc_history = []\n",
        "  valid_acc_history = []\n",
        "\n",
        "  # initialize variables for early stopping\n",
        "\n",
        "  delta = 0\n",
        "  best_score = None\n",
        "  valid_loss_min = np.Inf\n",
        "  counter_early_stop=0\n",
        "  early_stop=False\n",
        "\n",
        "  # Iterate for the given number of epochs\n",
        "  # Step 5: Repeat steps 1 - 4\n",
        "\n",
        "  for epoch in range(epochs):\n",
        "\n",
        "    t0 = datetime.now()\n",
        "\n",
        "    # Get train loss and accuracy for one epoch\n",
        "    train_loss, train_acc = train(train_loader, model, optimizer, grad_clipping, max_norm, log_batch, log_interval, device)\n",
        "    valid_loss, valid_acc  = validate(valid_loader, model, log_batch, log_interval, device)\n",
        "\n",
        "    dt = datetime.now() - t0\n",
        "\n",
        "    # Save history of the Losses and accuracy\n",
        "    train_loss_history.append(train_loss)\n",
        "    train_acc_history.append(train_acc)\n",
        "\n",
        "    valid_loss_history.append(valid_loss)\n",
        "    valid_acc_history.append(valid_acc)\n",
        "\n",
        "    # Log the train and valid loss to wandb\n",
        "    wandb.log({f\"Train Loss :\": train_loss, \"epoch\": epoch})\n",
        "    # wandb.log({f\"Train Acc :\": train_acc, \"epoch\": epoch})\n",
        "\n",
        "    wandb.log({f\"Valid Loss :\": valid_loss, \"epoch\": epoch})\n",
        "    # wandb.log({f\"Valid Acc :\": valid_acc, \"epoch\": epoch})\n",
        "\n",
        "    if early_stopping:\n",
        "      score = -valid_loss\n",
        "      if best_score is None:\n",
        "        best_score=score\n",
        "        print(f'Validation loss has decreased ({valid_loss_min:.6f} --> {valid_loss:.6f}). Saving Model...')\n",
        "        torch.save(model.state_dict(), file_model)\n",
        "        valid_loss_min = valid_loss\n",
        "\n",
        "      elif score < best_score + delta:\n",
        "        counter_early_stop += 1\n",
        "        print(f'Early stoping counter: {counter_early_stop} out of {patience}')\n",
        "        if counter_early_stop > patience:\n",
        "          early_stop = True\n",
        "\n",
        "\n",
        "      else:\n",
        "        best_score = score\n",
        "        print(f'Validation loss has decreased ({valid_loss_min:.6f} --> {valid_loss:.6f}). Saving model...')\n",
        "        torch.save(model.state_dict(), file_model)\n",
        "        counter_early_stop=0\n",
        "        valid_loss_min = valid_loss\n",
        "\n",
        "      if early_stop:\n",
        "        print('Early Stopping')\n",
        "        break\n",
        "\n",
        "    elif save_best_model:\n",
        "\n",
        "      score = -valid_loss\n",
        "      if best_score is None:\n",
        "        best_score=score\n",
        "        print(f'Validation loss has decreased ({valid_loss_min:.6f} --> {valid_loss:.6f}). Saving Model...')\n",
        "        torch.save(model.state_dict(), file_model)\n",
        "        valid_loss_min = valid_loss\n",
        "\n",
        "      elif score < best_score + delta:\n",
        "        print(f'Validation loss has not decreased ({valid_loss_min:.6f} --> {valid_loss:.6f}). Not Saving Model...')\n",
        "      \n",
        "      else:\n",
        "        best_score = score\n",
        "        print(f'Validation loss has decreased ({valid_loss_min:.6f} --> {valid_loss:.6f}). Saving model...')\n",
        "        torch.save(model.state_dict(), file_model)\n",
        "        valid_loss_min = valid_loss\n",
        "        \n",
        "    else:\n",
        "        torch.save(model.state_dict(), file_model)\n",
        "    \n",
        "    print(f'Epoch : {epoch+1} / {epochs}')\n",
        "    print(f'Time to complete {epoch+1} is {dt}')\n",
        "    # print(f'Learning rate: {scheduler._last_lr[0]}')\n",
        "    print(f'Train Loss: {train_loss : .4f} | Train Accuracy: {train_acc * 100 : .4f}%')\n",
        "    print(f'Valid Loss: {valid_loss : .4f} | Valid Accuracy: {valid_acc * 100 : .4f}%')\n",
        "    print()\n",
        "    torch.cuda.empty_cache()\n",
        "\n",
        "  return train_loss_history, train_acc_history, valid_loss_history, valid_acc_history"
      ]
    },
    {
      "cell_type": "markdown",
      "metadata": {
        "id": "Dho6vMB2ciZf"
      },
      "source": [
        "## <Font color = 'pickle'>**Function for Accuracy and Predictions**\n",
        "\n",
        "Now we have final values for weights and bias after training the model. We will use these values to make predictions on the test dataset."
      ]
    },
    {
      "cell_type": "code",
      "execution_count": 49,
      "metadata": {
        "execution": {
          "iopub.execute_input": "2022-12-05T21:41:19.877931Z",
          "iopub.status.busy": "2022-12-05T21:41:19.877772Z",
          "iopub.status.idle": "2022-12-05T21:41:19.904688Z",
          "shell.execute_reply": "2022-12-05T21:41:19.904019Z",
          "shell.execute_reply.started": "2022-12-05T21:41:19.877914Z"
        },
        "id": "LsQ-0Bu6ciZf",
        "tags": []
      },
      "outputs": [],
      "source": [
        "def get_acc_pred(data_loader, model, device):\n",
        "    \n",
        "  \"\"\" \n",
        "  Function to get predictions and accuracy for a given data using estimated model\n",
        "  Input: Data iterator, Final estimated weoights, bias\n",
        "  Output: Prections and Accuracy for given dataset\n",
        "  \"\"\"\n",
        "\n",
        "  # Array to store predicted labels\n",
        "  predictions = torch.Tensor() # empty tensor\n",
        "  predictions = predictions.to(device) # move predictions to GPU\n",
        "\n",
        "  # Array to store actual labels\n",
        "  y = torch.Tensor() # empty tensor\n",
        "  y = y.to(device)\n",
        "\n",
        "  # put the model in evaluation mode\n",
        "  model.eval()\n",
        "  \n",
        "  # Iterate over batches from data iterator\n",
        "  with torch.no_grad():\n",
        "    for batch in data_loader:\n",
        "      \n",
        "      # move inputs and outputs to GPUs\n",
        "      \n",
        "      input_ids = batch['input_ids'].to(device)\n",
        "      attention_mask = batch['attention_mask'].to(device)\n",
        "      labels = batch['labels'].to(device)\n",
        "      \n",
        "      outputs = model(input_ids, attention_mask=attention_mask, labels=labels)\n",
        "      loss, output = outputs['loss'], outputs['logits']\n",
        "\n",
        "      # Choose the label with maximum probability\n",
        "      prediction = torch.argmax(output, dim = 1)\n",
        "\n",
        "      # Add the predicted labels to the array\n",
        "      predictions = torch.cat((predictions, prediction)) \n",
        "\n",
        "      # Add the actual labels to the array\n",
        "      y = torch.cat((y, labels)) \n",
        "\n",
        "  # Check for complete dataset if actual and predicted labels are same or not\n",
        "  # Calculate accuracy\n",
        "  acc = (predictions == y).float().mean()\n",
        "\n",
        "  # Return tuple containing predictions and accuracy\n",
        "  return predictions, acc  "
      ]
    },
    {
      "cell_type": "markdown",
      "metadata": {
        "id": "Yte1HzNniWlr"
      },
      "source": [
        "# <font color = 'pickle'> **Model Training**"
      ]
    },
    {
      "cell_type": "markdown",
      "metadata": {
        "id": "8fLa11d5rPZv"
      },
      "source": [
        "## <font color = 'pickle'> **Meta data**\n",
        "\n"
      ]
    },
    {
      "cell_type": "code",
      "execution_count": 50,
      "metadata": {
        "execution": {
          "iopub.execute_input": "2022-12-05T21:41:20.708095Z",
          "iopub.status.busy": "2022-12-05T21:41:20.707576Z",
          "iopub.status.idle": "2022-12-05T21:41:20.759701Z",
          "shell.execute_reply": "2022-12-05T21:41:20.759069Z",
          "shell.execute_reply.started": "2022-12-05T21:41:20.708069Z"
        },
        "id": "g8KdDs2mhfpv",
        "tags": []
      },
      "outputs": [],
      "source": [
        "hyperparameters = SimpleNamespace(\n",
        "\n",
        "    EPOCHS = 1,\n",
        "    BATCH_SIZE = 16,\n",
        "    LEARNING_RATE = 5e-5,\n",
        "    DATASET=\"IMDB\",\n",
        "    ARCHITECTURE=\"distilbert\",\n",
        "    LOG_INTERVAL = 25,\n",
        "    LOG_BATCH = True,\n",
        "    FILE_MODEL = model_folder/'distilbert.PT',\n",
        "    GRAD_CLIPPING = True,\n",
        "    MAX_NORM = 1,\n",
        "    MOMENTUM = 0,\n",
        "    PATIENCE = 10,\n",
        "    SAVE_BEST_MODEL = True,\n",
        "    EARLY_STOPPING = False,\n",
        "    WEIGHT_DECAY = 0.00,\n",
        "    DEVICE = torch.device('cuda:0' if torch.cuda.is_available() else 'cpu')\n",
        "   )\n"
      ]
    },
    {
      "cell_type": "markdown",
      "metadata": {
        "id": "xH25I8Pikqpb"
      },
      "source": [
        "# <Font color = 'pickle'>**Data Loaders, Loss Function, Optimizer**"
      ]
    },
    {
      "cell_type": "code",
      "execution_count": 51,
      "metadata": {
        "colab": {
          "base_uri": "https://localhost:8080/",
          "height": 108
        },
        "execution": {
          "iopub.execute_input": "2022-12-05T21:41:21.799141Z",
          "iopub.status.busy": "2022-12-05T21:41:21.798617Z",
          "iopub.status.idle": "2022-12-05T21:41:26.111126Z",
          "shell.execute_reply": "2022-12-05T21:41:26.110816Z",
          "shell.execute_reply.started": "2022-12-05T21:41:21.799110Z"
        },
        "id": "9Zp9fDrAheXc",
        "outputId": "265017cd-7d23-40e3-e976-09238f59a68f",
        "tags": []
      },
      "outputs": [
        {
          "name": "stderr",
          "output_type": "stream",
          "text": [
            "\u001b[34m\u001b[1mwandb\u001b[0m: Currently logged in as: \u001b[33mhamshaks1\u001b[0m. Use \u001b[1m`wandb login --relogin`\u001b[0m to force relogin\n"
          ]
        },
        {
          "data": {
            "text/html": [
              "Tracking run with wandb version 0.13.5"
            ],
            "text/plain": [
              "<IPython.core.display.HTML object>"
            ]
          },
          "metadata": {},
          "output_type": "display_data"
        },
        {
          "data": {
            "text/html": [
              "Run data is saved locally in <code>/content/wandb/run-20221206_022004-20s0v3zd</code>"
            ],
            "text/plain": [
              "<IPython.core.display.HTML object>"
            ]
          },
          "metadata": {},
          "output_type": "display_data"
        },
        {
          "data": {
            "text/html": [
              "Syncing run <strong><a href=\"https://wandb.ai/hamshaks1/uncategorized/runs/20s0v3zd\" target=\"_blank\">distilbert</a></strong> to <a href=\"https://wandb.ai/hamshaks1/uncategorized\" target=\"_blank\">Weights & Biases</a> (<a href=\"https://wandb.me/run\" target=\"_blank\">docs</a>)<br/>"
            ],
            "text/plain": [
              "<IPython.core.display.HTML object>"
            ]
          },
          "metadata": {},
          "output_type": "display_data"
        },
        {
          "data": {
            "text/html": [
              "<button onClick=\"this.nextSibling.style.display='block';this.style.display='none';\">Display W&B run</button><iframe src=\"https://wandb.ai/hamshaks1/uncategorized/runs/20s0v3zd?jupyter=true\" style=\"border:none;width:100%;height:420px;display:none;\"></iframe>"
            ],
            "text/plain": [
              "<wandb.sdk.wandb_run.Run at 0x7f299e9c7d60>"
            ]
          },
          "execution_count": 51,
          "metadata": {},
          "output_type": "execute_result"
        }
      ],
      "source": [
        "wandb.init(name = 'distilbert', project = '', config = hyperparameters)"
      ]
    },
    {
      "cell_type": "code",
      "execution_count": 52,
      "metadata": {
        "colab": {
          "base_uri": "https://localhost:8080/"
        },
        "execution": {
          "iopub.execute_input": "2022-12-05T21:41:26.112163Z",
          "iopub.status.busy": "2022-12-05T21:41:26.111979Z",
          "iopub.status.idle": "2022-12-05T21:41:26.138375Z",
          "shell.execute_reply": "2022-12-05T21:41:26.137960Z",
          "shell.execute_reply.started": "2022-12-05T21:41:26.112139Z"
        },
        "id": "Y1IZOBtaS2st",
        "outputId": "10d9bb9b-b279-45d6-8498-6528903dcefd",
        "tags": []
      },
      "outputs": [
        {
          "data": {
            "text/plain": [
              "namespace(ARCHITECTURE='distilbert', BATCH_SIZE=16, DATASET='IMDB', DEVICE=device(type='cuda', index=0), EARLY_STOPPING=False, EPOCHS=1, FILE_MODEL=PosixPath('/content/drive/MyDrive/NLP_Fall22/HW7/Models/distilbert.PT'), GRAD_CLIPPING=True, LEARNING_RATE=5e-05, LOG_BATCH=True, LOG_INTERVAL=25, MAX_NORM=1, MOMENTUM=0, PATIENCE=10, SAVE_BEST_MODEL=True, WEIGHT_DECAY=0.0)"
            ]
          },
          "execution_count": 52,
          "metadata": {},
          "output_type": "execute_result"
        }
      ],
      "source": [
        "wandb.config = hyperparameters\n",
        "wandb.config"
      ]
    },
    {
      "cell_type": "code",
      "execution_count": 53,
      "metadata": {
        "colab": {
          "base_uri": "https://localhost:8080/",
          "height": 156,
          "referenced_widgets": [
            "f898799010a245dea4c7ad36d728cb9a",
            "4626f7899e274b7096400a6355588068",
            "b5234716eb52488d88a63189d22eb00a",
            "65eabb5b93af4cf4b29891fcb4574961",
            "17126906c9534b8eacf53c2485f7a734",
            "812f3fe772f547d398a86155365e220c",
            "9b598c6e45a0411692a13dec78df2711",
            "bb370fe3322343ec8a6dbd70a0c21887",
            "c445046a33824e23a7dea061002e6974",
            "2fbd101ed78443f9b86ec31db069fd0b",
            "37dec8b1d6c8402bb9a65734efdf94be"
          ]
        },
        "execution": {
          "iopub.execute_input": "2022-12-05T21:41:26.139128Z",
          "iopub.status.busy": "2022-12-05T21:41:26.138957Z",
          "iopub.status.idle": "2022-12-05T21:41:27.348797Z",
          "shell.execute_reply": "2022-12-05T21:41:27.348179Z",
          "shell.execute_reply.started": "2022-12-05T21:41:26.139112Z"
        },
        "id": "XyTAuL2BpO_Q",
        "outputId": "def145f6-ec5c-4645-cc41-17eea3162ed4",
        "tags": []
      },
      "outputs": [
        {
          "data": {
            "application/vnd.jupyter.widget-view+json": {
              "model_id": "f898799010a245dea4c7ad36d728cb9a",
              "version_major": 2,
              "version_minor": 0
            },
            "text/plain": [
              "Downloading:   0%|          | 0.00/268M [00:00<?, ?B/s]"
            ]
          },
          "metadata": {},
          "output_type": "display_data"
        },
        {
          "name": "stderr",
          "output_type": "stream",
          "text": [
            "Some weights of the model checkpoint at distilbert-base-uncased were not used when initializing DistilBertForSequenceClassification: ['vocab_layer_norm.bias', 'vocab_projector.weight', 'vocab_transform.weight', 'vocab_layer_norm.weight', 'vocab_transform.bias', 'vocab_projector.bias']\n",
            "- This IS expected if you are initializing DistilBertForSequenceClassification from the checkpoint of a model trained on another task or with another architecture (e.g. initializing a BertForSequenceClassification model from a BertForPreTraining model).\n",
            "- This IS NOT expected if you are initializing DistilBertForSequenceClassification from the checkpoint of a model that you expect to be exactly identical (initializing a BertForSequenceClassification model from a BertForSequenceClassification model).\n",
            "Some weights of DistilBertForSequenceClassification were not initialized from the model checkpoint at distilbert-base-uncased and are newly initialized: ['pre_classifier.weight', 'pre_classifier.bias', 'classifier.weight', 'classifier.bias']\n",
            "You should probably TRAIN this model on a down-stream task to be able to use it for predictions and inference.\n"
          ]
        }
      ],
      "source": [
        "# Fix seed value\n",
        "SEED = 2345\n",
        "random.seed(SEED)\n",
        "np.random.seed(SEED)\n",
        "torch.manual_seed(SEED)\n",
        "torch.cuda.manual_seed(SEED)\n",
        "torch.backends.cudnn.deterministic = True\n",
        "\n",
        "# Data Loader\n",
        "\n",
        "train_loader = torch.utils.data.DataLoader(trainset, batch_size=wandb.config.BATCH_SIZE, shuffle=True)\n",
        "valid_loader = torch.utils.data.DataLoader(validset, batch_size=wandb.config.BATCH_SIZE, shuffle=False)\n",
        "test_loader = torch.utils.data.DataLoader(testset, batch_size=wandb.config.BATCH_SIZE, shuffle=False)\n",
        "\n",
        "# cross entropy loss function\n",
        "# loss_function = nn.CrossEntropyLoss()\n",
        "\n",
        "# model \n",
        "from transformers import AutoModelForSequenceClassification\n",
        "model = AutoModelForSequenceClassification.from_pretrained(checkpoint)\n",
        "\n",
        "model.to(wandb.config.DEVICE)\n",
        "# code here\n",
        "\n",
        "#Intialize stochiastic gradient descent optimizer\n",
        "#optimizer = torch.optim.SGD(model.parameters(), lr = wandb.config.learning_rate, weight_decay=wandb.config.weight_decay, \n",
        "#                          momentum=wandb.config.momentum)\n",
        "\n",
        "optimizer = torch.optim.Adam(model.parameters(), \n",
        "                             lr = wandb.config.LEARNING_RATE, \n",
        "                             weight_decay=wandb.config.WEIGHT_DECAY)\n",
        "\n",
        "wandb.config.optimizer = optimizer\n"
      ]
    },
    {
      "cell_type": "code",
      "execution_count": 54,
      "metadata": {
        "colab": {
          "base_uri": "https://localhost:8080/"
        },
        "execution": {
          "iopub.execute_input": "2022-12-05T21:41:27.349814Z",
          "iopub.status.busy": "2022-12-05T21:41:27.349726Z",
          "iopub.status.idle": "2022-12-05T21:41:27.366028Z",
          "shell.execute_reply": "2022-12-05T21:41:27.365574Z",
          "shell.execute_reply.started": "2022-12-05T21:41:27.349803Z"
        },
        "id": "R3-aDejndNBr",
        "outputId": "677cfd0c-552b-4585-ca99-05332f44d40c",
        "tags": []
      },
      "outputs": [
        {
          "data": {
            "text/plain": [
              "namespace(ARCHITECTURE='distilbert', BATCH_SIZE=16, DATASET='IMDB', DEVICE=device(type='cuda', index=0), EARLY_STOPPING=False, EPOCHS=1, FILE_MODEL=PosixPath('/content/drive/MyDrive/NLP_Fall22/HW7/Models/distilbert.PT'), GRAD_CLIPPING=True, LEARNING_RATE=5e-05, LOG_BATCH=True, LOG_INTERVAL=25, MAX_NORM=1, MOMENTUM=0, PATIENCE=10, SAVE_BEST_MODEL=True, WEIGHT_DECAY=0.0, optimizer=Adam (\n",
              "Parameter Group 0\n",
              "    amsgrad: False\n",
              "    betas: (0.9, 0.999)\n",
              "    capturable: False\n",
              "    eps: 1e-08\n",
              "    foreach: None\n",
              "    lr: 5e-05\n",
              "    maximize: False\n",
              "    weight_decay: 0.0\n",
              "))"
            ]
          },
          "execution_count": 54,
          "metadata": {},
          "output_type": "execute_result"
        }
      ],
      "source": [
        "wandb.config"
      ]
    },
    {
      "cell_type": "markdown",
      "metadata": {
        "id": "CPDnF9JbSHdX"
      },
      "source": [
        "## <font color = 'pickle'> **Sanity Check**\n",
        "- Check the loss without any training. For Cross entropy the expected value will be log(number of classes)"
      ]
    },
    {
      "cell_type": "code",
      "execution_count": 55,
      "metadata": {
        "colab": {
          "base_uri": "https://localhost:8080/"
        },
        "execution": {
          "iopub.execute_input": "2022-12-05T21:41:27.366541Z",
          "iopub.status.busy": "2022-12-05T21:41:27.366467Z",
          "iopub.status.idle": "2022-12-05T21:41:27.863869Z",
          "shell.execute_reply": "2022-12-05T21:41:27.863236Z",
          "shell.execute_reply.started": "2022-12-05T21:41:27.366531Z"
        },
        "id": "GWkFxtEqSKlW",
        "outputId": "892301a4-f460-4301-904e-7ac3c084c3db",
        "tags": []
      },
      "outputs": [
        {
          "name": "stdout",
          "output_type": "stream",
          "text": [
            "Actual loss: 0.6892105340957642\n",
            "Expected Theoretical loss: 0.6931471805599453\n"
          ]
        }
      ],
      "source": [
        "# Fix seed value\n",
        "device = torch.device('cuda:0' if torch.cuda.is_available() else 'cpu')\n",
        "SEED = 2345\n",
        "random.seed(SEED)\n",
        "np.random.seed(SEED)\n",
        "torch.manual_seed(SEED)\n",
        "torch.cuda.manual_seed(SEED)\n",
        "torch.backends.cudnn.deterministic = True\n",
        "\n",
        "for batch in train_loader:\n",
        "  \n",
        "  # move inputs and outputs to GPUs\n",
        "  input_ids = batch['input_ids'].to(device)\n",
        "  attention_mask = batch['attention_mask'].to(device)\n",
        "  labels = batch['labels'].to(device)\n",
        "\n",
        "  # Step 1: Forward Pass: Compute model's predictions \n",
        "  outputs = model(input_ids, attention_mask=attention_mask, labels=labels)\n",
        "  loss, output = outputs['loss'], outputs['logits']\n",
        "  print(f'Actual loss: {loss}')\n",
        "  break\n",
        "\n",
        "print(f'Expected Theoretical loss: {np.log(2)}')"
      ]
    },
    {
      "cell_type": "markdown",
      "metadata": {
        "id": "htWT1-Nhlw3m"
      },
      "source": [
        "## <font color = 'pickle'> **Train Model and Save best model**"
      ]
    },
    {
      "cell_type": "code",
      "execution_count": 56,
      "metadata": {
        "colab": {
          "base_uri": "https://localhost:8080/"
        },
        "execution": {
          "iopub.execute_input": "2022-12-05T21:41:29.723310Z",
          "iopub.status.busy": "2022-12-05T21:41:29.723070Z",
          "iopub.status.idle": "2022-12-05T21:41:29.742063Z",
          "shell.execute_reply": "2022-12-05T21:41:29.741625Z",
          "shell.execute_reply.started": "2022-12-05T21:41:29.723284Z"
        },
        "id": "MwnGtxo3B2nD",
        "outputId": "15f30519-8a78-4c92-caa5-11275c192d9d",
        "tags": []
      },
      "outputs": [
        {
          "name": "stderr",
          "output_type": "stream",
          "text": [
            "\u001b[34m\u001b[1mwandb\u001b[0m: logging graph, to disable use `wandb.watch(log_graph=False)`\n"
          ]
        },
        {
          "data": {
            "text/plain": [
              "[<wandb.wandb_torch.TorchGraph at 0x7f299e88c4f0>]"
            ]
          },
          "execution_count": 56,
          "metadata": {},
          "output_type": "execute_result"
        }
      ],
      "source": [
        "wandb.watch(model, log = 'all', log_freq=25, log_graph=True)"
      ]
    },
    {
      "cell_type": "code",
      "execution_count": 57,
      "metadata": {
        "colab": {
          "base_uri": "https://localhost:8080/"
        },
        "execution": {
          "iopub.execute_input": "2022-12-05T21:41:30.273264Z",
          "iopub.status.busy": "2022-12-05T21:41:30.273061Z",
          "iopub.status.idle": "2022-12-05T21:41:57.199131Z",
          "shell.execute_reply": "2022-12-05T21:41:57.198773Z",
          "shell.execute_reply.started": "2022-12-05T21:41:30.273240Z"
        },
        "id": "QyAaOEg5DdKp",
        "outputId": "9b6ed251-b068-4254-e820-13e27d52ff1a",
        "tags": []
      },
      "outputs": [
        {
          "name": "stdout",
          "output_type": "stream",
          "text": [
            "Validation loss has decreased (inf --> 0.260541). Saving Model...\n",
            "Epoch : 1 / 1\n",
            "Time to complete 1 is 0:01:45.609718\n",
            "Train Loss:  0.4071 | Train Accuracy:  81.7500%\n",
            "Valid Loss:  0.2605 | Valid Accuracy:  90.0000%\n",
            "\n"
          ]
        }
      ],
      "source": [
        "# See live graphs in the notebook.\n",
        "#%%wandb \n",
        "batch_ct_train, batch_ct_valid = 0, 0\n",
        "train_loss_history, train_acc_history, valid_loss_history, valid_acc_history = train_loop(train_loader,\n",
        "                                                                                            valid_loader,\n",
        "                                                                                            model, \n",
        "                                                                                            optimizer,                                                                          wandb.config.EPOCHS,\n",
        "                                                                                            wandb.config.DEVICE,\n",
        "                                                                                            wandb.config.PATIENCE, \n",
        "                                                                                            wandb.config.EARLY_STOPPING,\n",
        "                                                                                            wandb.config.FILE_MODEL,\n",
        "                                                                                           wandb.config.SAVE_BEST_MODEL,\n",
        "                                                                                           wandb.config.GRAD_CLIPPING,\n",
        "                                                                                           wandb.config.MAX_NORM,\n",
        "                                                                                           wandb.config.LOG_BATCH,\n",
        "                                                                                           wandb.config.LOG_INTERVAL)"
      ]
    },
    {
      "cell_type": "markdown",
      "metadata": {
        "id": "FWCLH47azD6j"
      },
      "source": [
        "# <Font color = 'pickle'>**Get Accuracy, Predictions**\n",
        "\n",
        "Now we have final values for weights and bias after training the model. We will use these values to make predictions on the test dataset."
      ]
    },
    {
      "cell_type": "markdown",
      "metadata": {
        "id": "lK-g-bSTvkl8"
      },
      "source": [
        "## <font color = 'pickle'> **Load saved model from file** "
      ]
    },
    {
      "cell_type": "code",
      "execution_count": 58,
      "metadata": {
        "colab": {
          "base_uri": "https://localhost:8080/"
        },
        "execution": {
          "iopub.execute_input": "2022-12-05T21:42:15.234474Z",
          "iopub.status.busy": "2022-12-05T21:42:15.234334Z",
          "iopub.status.idle": "2022-12-05T21:42:15.355531Z",
          "shell.execute_reply": "2022-12-05T21:42:15.355237Z",
          "shell.execute_reply.started": "2022-12-05T21:42:15.234460Z"
        },
        "id": "QVT_qlEivpER",
        "outputId": "fe43d84b-3c6a-4f14-d695-3e48b4ca5a5c",
        "tags": []
      },
      "outputs": [
        {
          "data": {
            "text/plain": [
              "<All keys matched successfully>"
            ]
          },
          "execution_count": 58,
          "metadata": {},
          "output_type": "execute_result"
        }
      ],
      "source": [
        "model_nn = model\n",
        "model_nn.to(device)\n",
        "model_nn.load_state_dict(torch.load(wandb.config.FILE_MODEL))"
      ]
    },
    {
      "cell_type": "code",
      "execution_count": 59,
      "metadata": {
        "execution": {
          "iopub.execute_input": "2022-12-05T21:42:15.892003Z",
          "iopub.status.busy": "2022-12-05T21:42:15.891820Z",
          "iopub.status.idle": "2022-12-05T21:42:27.367162Z",
          "shell.execute_reply": "2022-12-05T21:42:27.366819Z",
          "shell.execute_reply.started": "2022-12-05T21:42:15.891981Z"
        },
        "id": "rKNCkt_XeCZ1",
        "tags": []
      },
      "outputs": [],
      "source": [
        "# Get the prediction and accuracy for the test dataseta\n",
        "predictions_test, acc_test = get_acc_pred(test_loader, model_nn, device)\n",
        "predictions_train, acc_train = get_acc_pred(train_loader, model_nn, device)\n",
        "predictions_valid, acc_valid = get_acc_pred(valid_loader, model_nn, device)"
      ]
    },
    {
      "cell_type": "code",
      "execution_count": 60,
      "metadata": {
        "colab": {
          "base_uri": "https://localhost:8080/"
        },
        "execution": {
          "iopub.execute_input": "2022-12-05T21:42:27.367916Z",
          "iopub.status.busy": "2022-12-05T21:42:27.367799Z",
          "iopub.status.idle": "2022-12-05T21:42:27.384773Z",
          "shell.execute_reply": "2022-12-05T21:42:27.384491Z",
          "shell.execute_reply.started": "2022-12-05T21:42:27.367905Z"
        },
        "id": "6mZ5tlp53hi7",
        "outputId": "56acd9e7-68a8-42d6-cd30-5b1b3de53cff",
        "tags": []
      },
      "outputs": [
        {
          "name": "stdout",
          "output_type": "stream",
          "text": [
            "Test accuracy tensor(92.8000, device='cuda:0')\n",
            "Train accuracy tensor(93.8000, device='cuda:0')\n",
            "Valid accuracy tensor(90., device='cuda:0')\n"
          ]
        }
      ],
      "source": [
        "# Print Accuracy\n",
        "print('Test accuracy', acc_test * 100)\n",
        "print('Train accuracy', acc_train * 100)\n",
        "print('Valid accuracy', acc_valid * 100)"
      ]
    },
    {
      "cell_type": "code",
      "execution_count": 61,
      "metadata": {
        "colab": {
          "base_uri": "https://localhost:8080/"
        },
        "execution": {
          "iopub.execute_input": "2022-12-05T21:42:27.385302Z",
          "iopub.status.busy": "2022-12-05T21:42:27.385152Z",
          "iopub.status.idle": "2022-12-05T21:42:27.399475Z",
          "shell.execute_reply": "2022-12-05T21:42:27.399209Z",
          "shell.execute_reply.started": "2022-12-05T21:42:27.385291Z"
        },
        "id": "3v2z0oFcRjrF",
        "outputId": "48e28f13-572a-4f92-fef1-d327a696edcd",
        "tags": []
      },
      "outputs": [
        {
          "name": "stdout",
          "output_type": "stream",
          "text": [
            "acc_train tensor(93.8000, device='cuda:0')\n",
            "acc_valid tensor(90., device='cuda:0')\n",
            "acc_test tensor(92.8000, device='cuda:0')\n"
          ]
        }
      ],
      "source": [
        "# Print Accuracy based on saved Model\n",
        "print('acc_train', acc_train * 100)\n",
        "print('acc_valid', acc_valid * 100)\n",
        "print('acc_test', acc_test * 100)"
      ]
    },
    {
      "cell_type": "code",
      "execution_count": 62,
      "metadata": {
        "execution": {
          "iopub.execute_input": "2022-12-05T21:42:27.400292Z",
          "iopub.status.busy": "2022-12-05T21:42:27.400151Z",
          "iopub.status.idle": "2022-12-05T21:42:27.412317Z",
          "shell.execute_reply": "2022-12-05T21:42:27.412057Z",
          "shell.execute_reply.started": "2022-12-05T21:42:27.400282Z"
        },
        "id": "PhTfTgJviydS",
        "tags": []
      },
      "outputs": [],
      "source": [
        "wandb.log({'Best_test_Acc': acc_test})\n",
        "wandb.log({'Best_train_Acc': acc_train})\n",
        "wandb.log({'Best_valid_Acc': acc_valid})"
      ]
    },
    {
      "cell_type": "markdown",
      "metadata": {
        "id": "jgOQMtJ8VFYf"
      },
      "source": [
        "**We have obtained 92 % accuracy on test dataset.**\n"
      ]
    },
    {
      "cell_type": "markdown",
      "metadata": {
        "id": "q8_MwA8QeCry"
      },
      "source": [
        "# <Font color = 'pickle'>**Confusion Matrix for Test Data**"
      ]
    },
    {
      "cell_type": "markdown",
      "metadata": {
        "id": "AakFP0XveCry"
      },
      "source": [
        "Now, we will make some visualizations for the predictions that we obtained."
      ]
    },
    {
      "cell_type": "markdown",
      "metadata": {
        "id": "g7RjA6daeCry"
      },
      "source": [
        "We will construct a `confusion matrix` which will help us to visualize the performance of our classification model on the test dataset as we know the true values for the test data."
      ]
    },
    {
      "cell_type": "code",
      "execution_count": 63,
      "metadata": {
        "execution": {
          "iopub.execute_input": "2022-12-05T21:42:27.412841Z",
          "iopub.status.busy": "2022-12-05T21:42:27.412662Z",
          "iopub.status.idle": "2022-12-05T21:42:27.423864Z",
          "shell.execute_reply": "2022-12-05T21:42:27.423591Z",
          "shell.execute_reply.started": "2022-12-05T21:42:27.412831Z"
        },
        "id": "sHdtLHEPeCry",
        "tags": []
      },
      "outputs": [],
      "source": [
        "# Get an array containing actual labels\n",
        "testing_labels = y_test"
      ]
    },
    {
      "cell_type": "code",
      "execution_count": 64,
      "metadata": {
        "colab": {
          "base_uri": "https://localhost:8080/"
        },
        "execution": {
          "iopub.execute_input": "2022-12-05T21:42:27.424351Z",
          "iopub.status.busy": "2022-12-05T21:42:27.424212Z",
          "iopub.status.idle": "2022-12-05T21:42:27.436193Z",
          "shell.execute_reply": "2022-12-05T21:42:27.435939Z",
          "shell.execute_reply.started": "2022-12-05T21:42:27.424341Z"
        },
        "id": "wMuZ1Yl2X47z",
        "outputId": "d814eed0-6d9e-4490-d7b5-743f9e8a4fd6",
        "tags": []
      },
      "outputs": [
        {
          "data": {
            "text/plain": [
              "array([0, 1])"
            ]
          },
          "execution_count": 64,
          "metadata": {},
          "output_type": "execute_result"
        }
      ],
      "source": [
        "np.unique(testing_labels)"
      ]
    },
    {
      "cell_type": "code",
      "execution_count": 65,
      "metadata": {
        "execution": {
          "iopub.execute_input": "2022-12-05T21:42:27.436711Z",
          "iopub.status.busy": "2022-12-05T21:42:27.436533Z",
          "iopub.status.idle": "2022-12-05T21:42:27.574906Z",
          "shell.execute_reply": "2022-12-05T21:42:27.574315Z",
          "shell.execute_reply.started": "2022-12-05T21:42:27.436700Z"
        },
        "id": "lAtBZumJcuwX",
        "tags": []
      },
      "outputs": [],
      "source": [
        "# Log a confusion matrix to W&B\n",
        "wandb.log({\"conf_mat\" : wandb.plot.confusion_matrix(\n",
        "                        probs = None,\n",
        "                        y_true = testing_labels,\n",
        "                        preds = predictions_test.to('cpu').numpy(),\n",
        "                        class_names =['negative', 'positive'])})"
      ]
    },
    {
      "cell_type": "code",
      "execution_count": 66,
      "metadata": {
        "colab": {
          "base_uri": "https://localhost:8080/",
          "height": 454
        },
        "execution": {
          "iopub.execute_input": "2022-12-05T21:42:27.575657Z",
          "iopub.status.busy": "2022-12-05T21:42:27.575567Z",
          "iopub.status.idle": "2022-12-05T21:42:34.148548Z",
          "shell.execute_reply": "2022-12-05T21:42:34.147766Z",
          "shell.execute_reply.started": "2022-12-05T21:42:27.575645Z"
        },
        "id": "jIlsxRdPHZYa",
        "outputId": "cbf5e6cb-3200-439d-9da7-7eb7c6ce8c5a",
        "tags": []
      },
      "outputs": [
        {
          "data": {
            "text/html": [
              "Waiting for W&B process to finish... <strong style=\"color:green\">(success).</strong>"
            ],
            "text/plain": [
              "<IPython.core.display.HTML object>"
            ]
          },
          "metadata": {},
          "output_type": "display_data"
        },
        {
          "data": {
            "text/html": [
              "<style>\n",
              "    table.wandb td:nth-child(1) { padding: 0 10px; text-align: left ; width: auto;} td:nth-child(2) {text-align: left ; width: 100%}\n",
              "    .wandb-row { display: flex; flex-direction: row; flex-wrap: wrap; justify-content: flex-start; width: 100% }\n",
              "    .wandb-col { display: flex; flex-direction: column; flex-basis: 100%; flex: 1; padding: 10px; }\n",
              "    </style>\n",
              "<div class=\"wandb-row\"><div class=\"wandb-col\"><h3>Run history:</h3><br/><table class=\"wandb\"><tr><td>Best_test_Acc</td><td>▁</td></tr><tr><td>Best_train_Acc</td><td>▁</td></tr><tr><td>Best_valid_Acc</td><td>▁</td></tr><tr><td>Train Batch Acc :</td><td>▁▁███</td></tr><tr><td>Train Batch Loss  :</td><td>▆█▁▁▁</td></tr><tr><td>Train Loss :</td><td>▁</td></tr><tr><td>Valid Batch Accuracy :</td><td>▁</td></tr><tr><td>Valid Batch Loss  :</td><td>▁</td></tr><tr><td>Valid Loss :</td><td>▁</td></tr><tr><td>epoch</td><td>▁▁</td></tr></table><br/></div><div class=\"wandb-col\"><h3>Run summary:</h3><br/><table class=\"wandb\"><tr><td>Best_test_Acc</td><td>0.928</td></tr><tr><td>Best_train_Acc</td><td>0.938</td></tr><tr><td>Best_valid_Acc</td><td>0.9</td></tr><tr><td>Train Batch Acc :</td><td>0.9375</td></tr><tr><td>Train Batch Loss  :</td><td>0.17961</td></tr><tr><td>Train Loss :</td><td>0.40707</td></tr><tr><td>Valid Batch Accuracy :</td><td>0.75</td></tr><tr><td>Valid Batch Loss  :</td><td>0.66594</td></tr><tr><td>Valid Loss :</td><td>0.26054</td></tr><tr><td>epoch</td><td>0</td></tr></table><br/></div></div>"
            ],
            "text/plain": [
              "<IPython.core.display.HTML object>"
            ]
          },
          "metadata": {},
          "output_type": "display_data"
        },
        {
          "data": {
            "text/html": [
              "Synced <strong style=\"color:#cdcd00\">distilbert</strong>: <a href=\"https://wandb.ai/hamshaks1/uncategorized/runs/20s0v3zd\" target=\"_blank\">https://wandb.ai/hamshaks1/uncategorized/runs/20s0v3zd</a><br/>Synced 5 W&B file(s), 2 media file(s), 1 artifact file(s) and 0 other file(s)"
            ],
            "text/plain": [
              "<IPython.core.display.HTML object>"
            ]
          },
          "metadata": {},
          "output_type": "display_data"
        },
        {
          "data": {
            "text/html": [
              "Find logs at: <code>./wandb/run-20221206_022004-20s0v3zd/logs</code>"
            ],
            "text/plain": [
              "<IPython.core.display.HTML object>"
            ]
          },
          "metadata": {},
          "output_type": "display_data"
        }
      ],
      "source": [
        "wandb.finish()"
      ]
    },
    {
      "cell_type": "code",
      "execution_count": null,
      "metadata": {
        "id": "cAbQBeVY-moG"
      },
      "outputs": [],
      "source": []
    },
    {
      "cell_type": "code",
      "execution_count": null,
      "metadata": {
        "id": "BJ_V2GOq-moG"
      },
      "outputs": [],
      "source": []
    }
  ],
  "metadata": {
    "accelerator": "GPU",
    "colab": {
      "machine_shape": "hm",
      "provenance": []
    },
    "kernelspec": {
      "display_name": "Python 3 (ipykernel)",
      "language": "python",
      "name": "python3"
    },
    "language_info": {
      "codemirror_mode": {
        "name": "ipython",
        "version": 3
      },
      "file_extension": ".py",
      "mimetype": "text/x-python",
      "name": "python",
      "nbconvert_exporter": "python",
      "pygments_lexer": "ipython3",
      "version": "3.10.6"
    },
    "widgets": {
      "application/vnd.jupyter.widget-state+json": {
        "0053e3350bbc4531b0140d1999c88af0": {
          "model_module": "@jupyter-widgets/base",
          "model_module_version": "1.2.0",
          "model_name": "LayoutModel",
          "state": {
            "_model_module": "@jupyter-widgets/base",
            "_model_module_version": "1.2.0",
            "_model_name": "LayoutModel",
            "_view_count": null,
            "_view_module": "@jupyter-widgets/base",
            "_view_module_version": "1.2.0",
            "_view_name": "LayoutView",
            "align_content": null,
            "align_items": null,
            "align_self": null,
            "border": null,
            "bottom": null,
            "display": null,
            "flex": null,
            "flex_flow": null,
            "grid_area": null,
            "grid_auto_columns": null,
            "grid_auto_flow": null,
            "grid_auto_rows": null,
            "grid_column": null,
            "grid_gap": null,
            "grid_row": null,
            "grid_template_areas": null,
            "grid_template_columns": null,
            "grid_template_rows": null,
            "height": null,
            "justify_content": null,
            "justify_items": null,
            "left": null,
            "margin": null,
            "max_height": null,
            "max_width": null,
            "min_height": null,
            "min_width": null,
            "object_fit": null,
            "object_position": null,
            "order": null,
            "overflow": null,
            "overflow_x": null,
            "overflow_y": null,
            "padding": null,
            "right": null,
            "top": null,
            "visibility": null,
            "width": null
          }
        },
        "00ecf9eb5b6a4ebb8b105973ff34d6a1": {
          "model_module": "@jupyter-widgets/controls",
          "model_module_version": "1.5.0",
          "model_name": "HBoxModel",
          "state": {
            "_dom_classes": [],
            "_model_module": "@jupyter-widgets/controls",
            "_model_module_version": "1.5.0",
            "_model_name": "HBoxModel",
            "_view_count": null,
            "_view_module": "@jupyter-widgets/controls",
            "_view_module_version": "1.5.0",
            "_view_name": "HBoxView",
            "box_style": "",
            "children": [
              "IPY_MODEL_707c3360450f4bfb98144aae0ff20eb1",
              "IPY_MODEL_db3995ef8bd747588365ac5e1548c7d8",
              "IPY_MODEL_9c32493e79a34c1987a0eb823ced702b"
            ],
            "layout": "IPY_MODEL_562199c662aa4acbb1f67fed290e90fb"
          }
        },
        "13f1ca24eb174782b12bbf165fd10e96": {
          "model_module": "@jupyter-widgets/controls",
          "model_module_version": "1.5.0",
          "model_name": "ProgressStyleModel",
          "state": {
            "_model_module": "@jupyter-widgets/controls",
            "_model_module_version": "1.5.0",
            "_model_name": "ProgressStyleModel",
            "_view_count": null,
            "_view_module": "@jupyter-widgets/base",
            "_view_module_version": "1.2.0",
            "_view_name": "StyleView",
            "bar_color": null,
            "description_width": ""
          }
        },
        "16706d120409456a8320b53991f38f89": {
          "model_module": "@jupyter-widgets/controls",
          "model_module_version": "1.5.0",
          "model_name": "HBoxModel",
          "state": {
            "_dom_classes": [],
            "_model_module": "@jupyter-widgets/controls",
            "_model_module_version": "1.5.0",
            "_model_name": "HBoxModel",
            "_view_count": null,
            "_view_module": "@jupyter-widgets/controls",
            "_view_module_version": "1.5.0",
            "_view_name": "HBoxView",
            "box_style": "",
            "children": [
              "IPY_MODEL_8c738f67cbac4ccbb5093640497fa36c",
              "IPY_MODEL_5a66870d18f745ea8fc9322a91b30e97",
              "IPY_MODEL_5738c03fffa44900a18ace1dce06f51c"
            ],
            "layout": "IPY_MODEL_c2f967f00d9344a49bd9876b17bf3d26"
          }
        },
        "17126906c9534b8eacf53c2485f7a734": {
          "model_module": "@jupyter-widgets/base",
          "model_module_version": "1.2.0",
          "model_name": "LayoutModel",
          "state": {
            "_model_module": "@jupyter-widgets/base",
            "_model_module_version": "1.2.0",
            "_model_name": "LayoutModel",
            "_view_count": null,
            "_view_module": "@jupyter-widgets/base",
            "_view_module_version": "1.2.0",
            "_view_name": "LayoutView",
            "align_content": null,
            "align_items": null,
            "align_self": null,
            "border": null,
            "bottom": null,
            "display": null,
            "flex": null,
            "flex_flow": null,
            "grid_area": null,
            "grid_auto_columns": null,
            "grid_auto_flow": null,
            "grid_auto_rows": null,
            "grid_column": null,
            "grid_gap": null,
            "grid_row": null,
            "grid_template_areas": null,
            "grid_template_columns": null,
            "grid_template_rows": null,
            "height": null,
            "justify_content": null,
            "justify_items": null,
            "left": null,
            "margin": null,
            "max_height": null,
            "max_width": null,
            "min_height": null,
            "min_width": null,
            "object_fit": null,
            "object_position": null,
            "order": null,
            "overflow": null,
            "overflow_x": null,
            "overflow_y": null,
            "padding": null,
            "right": null,
            "top": null,
            "visibility": null,
            "width": null
          }
        },
        "1d0c72e8b52e46f6b33f80aee524fea7": {
          "model_module": "@jupyter-widgets/controls",
          "model_module_version": "1.5.0",
          "model_name": "DescriptionStyleModel",
          "state": {
            "_model_module": "@jupyter-widgets/controls",
            "_model_module_version": "1.5.0",
            "_model_name": "DescriptionStyleModel",
            "_view_count": null,
            "_view_module": "@jupyter-widgets/base",
            "_view_module_version": "1.2.0",
            "_view_name": "StyleView",
            "description_width": ""
          }
        },
        "23c1f6f1946b43bc98d34ea828e92690": {
          "model_module": "@jupyter-widgets/base",
          "model_module_version": "1.2.0",
          "model_name": "LayoutModel",
          "state": {
            "_model_module": "@jupyter-widgets/base",
            "_model_module_version": "1.2.0",
            "_model_name": "LayoutModel",
            "_view_count": null,
            "_view_module": "@jupyter-widgets/base",
            "_view_module_version": "1.2.0",
            "_view_name": "LayoutView",
            "align_content": null,
            "align_items": null,
            "align_self": null,
            "border": null,
            "bottom": null,
            "display": null,
            "flex": null,
            "flex_flow": null,
            "grid_area": null,
            "grid_auto_columns": null,
            "grid_auto_flow": null,
            "grid_auto_rows": null,
            "grid_column": null,
            "grid_gap": null,
            "grid_row": null,
            "grid_template_areas": null,
            "grid_template_columns": null,
            "grid_template_rows": null,
            "height": null,
            "justify_content": null,
            "justify_items": null,
            "left": null,
            "margin": null,
            "max_height": null,
            "max_width": null,
            "min_height": null,
            "min_width": null,
            "object_fit": null,
            "object_position": null,
            "order": null,
            "overflow": null,
            "overflow_x": null,
            "overflow_y": null,
            "padding": null,
            "right": null,
            "top": null,
            "visibility": null,
            "width": null
          }
        },
        "298abe286a5f4dfa8dd60d2ed7b6c942": {
          "model_module": "@jupyter-widgets/base",
          "model_module_version": "1.2.0",
          "model_name": "LayoutModel",
          "state": {
            "_model_module": "@jupyter-widgets/base",
            "_model_module_version": "1.2.0",
            "_model_name": "LayoutModel",
            "_view_count": null,
            "_view_module": "@jupyter-widgets/base",
            "_view_module_version": "1.2.0",
            "_view_name": "LayoutView",
            "align_content": null,
            "align_items": null,
            "align_self": null,
            "border": null,
            "bottom": null,
            "display": null,
            "flex": null,
            "flex_flow": null,
            "grid_area": null,
            "grid_auto_columns": null,
            "grid_auto_flow": null,
            "grid_auto_rows": null,
            "grid_column": null,
            "grid_gap": null,
            "grid_row": null,
            "grid_template_areas": null,
            "grid_template_columns": null,
            "grid_template_rows": null,
            "height": null,
            "justify_content": null,
            "justify_items": null,
            "left": null,
            "margin": null,
            "max_height": null,
            "max_width": null,
            "min_height": null,
            "min_width": null,
            "object_fit": null,
            "object_position": null,
            "order": null,
            "overflow": null,
            "overflow_x": null,
            "overflow_y": null,
            "padding": null,
            "right": null,
            "top": null,
            "visibility": null,
            "width": null
          }
        },
        "2fbd101ed78443f9b86ec31db069fd0b": {
          "model_module": "@jupyter-widgets/base",
          "model_module_version": "1.2.0",
          "model_name": "LayoutModel",
          "state": {
            "_model_module": "@jupyter-widgets/base",
            "_model_module_version": "1.2.0",
            "_model_name": "LayoutModel",
            "_view_count": null,
            "_view_module": "@jupyter-widgets/base",
            "_view_module_version": "1.2.0",
            "_view_name": "LayoutView",
            "align_content": null,
            "align_items": null,
            "align_self": null,
            "border": null,
            "bottom": null,
            "display": null,
            "flex": null,
            "flex_flow": null,
            "grid_area": null,
            "grid_auto_columns": null,
            "grid_auto_flow": null,
            "grid_auto_rows": null,
            "grid_column": null,
            "grid_gap": null,
            "grid_row": null,
            "grid_template_areas": null,
            "grid_template_columns": null,
            "grid_template_rows": null,
            "height": null,
            "justify_content": null,
            "justify_items": null,
            "left": null,
            "margin": null,
            "max_height": null,
            "max_width": null,
            "min_height": null,
            "min_width": null,
            "object_fit": null,
            "object_position": null,
            "order": null,
            "overflow": null,
            "overflow_x": null,
            "overflow_y": null,
            "padding": null,
            "right": null,
            "top": null,
            "visibility": null,
            "width": null
          }
        },
        "3696d9d204b54b41b280afabf8f41dea": {
          "model_module": "@jupyter-widgets/controls",
          "model_module_version": "1.5.0",
          "model_name": "DescriptionStyleModel",
          "state": {
            "_model_module": "@jupyter-widgets/controls",
            "_model_module_version": "1.5.0",
            "_model_name": "DescriptionStyleModel",
            "_view_count": null,
            "_view_module": "@jupyter-widgets/base",
            "_view_module_version": "1.2.0",
            "_view_name": "StyleView",
            "description_width": ""
          }
        },
        "37dec8b1d6c8402bb9a65734efdf94be": {
          "model_module": "@jupyter-widgets/controls",
          "model_module_version": "1.5.0",
          "model_name": "DescriptionStyleModel",
          "state": {
            "_model_module": "@jupyter-widgets/controls",
            "_model_module_version": "1.5.0",
            "_model_name": "DescriptionStyleModel",
            "_view_count": null,
            "_view_module": "@jupyter-widgets/base",
            "_view_module_version": "1.2.0",
            "_view_name": "StyleView",
            "description_width": ""
          }
        },
        "4626f7899e274b7096400a6355588068": {
          "model_module": "@jupyter-widgets/controls",
          "model_module_version": "1.5.0",
          "model_name": "HTMLModel",
          "state": {
            "_dom_classes": [],
            "_model_module": "@jupyter-widgets/controls",
            "_model_module_version": "1.5.0",
            "_model_name": "HTMLModel",
            "_view_count": null,
            "_view_module": "@jupyter-widgets/controls",
            "_view_module_version": "1.5.0",
            "_view_name": "HTMLView",
            "description": "",
            "description_tooltip": null,
            "layout": "IPY_MODEL_812f3fe772f547d398a86155365e220c",
            "placeholder": "​",
            "style": "IPY_MODEL_9b598c6e45a0411692a13dec78df2711",
            "value": "Downloading: 100%"
          }
        },
        "4ee37352668943ec917aaf4ea16f408e": {
          "model_module": "@jupyter-widgets/base",
          "model_module_version": "1.2.0",
          "model_name": "LayoutModel",
          "state": {
            "_model_module": "@jupyter-widgets/base",
            "_model_module_version": "1.2.0",
            "_model_name": "LayoutModel",
            "_view_count": null,
            "_view_module": "@jupyter-widgets/base",
            "_view_module_version": "1.2.0",
            "_view_name": "LayoutView",
            "align_content": null,
            "align_items": null,
            "align_self": null,
            "border": null,
            "bottom": null,
            "display": null,
            "flex": null,
            "flex_flow": null,
            "grid_area": null,
            "grid_auto_columns": null,
            "grid_auto_flow": null,
            "grid_auto_rows": null,
            "grid_column": null,
            "grid_gap": null,
            "grid_row": null,
            "grid_template_areas": null,
            "grid_template_columns": null,
            "grid_template_rows": null,
            "height": null,
            "justify_content": null,
            "justify_items": null,
            "left": null,
            "margin": null,
            "max_height": null,
            "max_width": null,
            "min_height": null,
            "min_width": null,
            "object_fit": null,
            "object_position": null,
            "order": null,
            "overflow": null,
            "overflow_x": null,
            "overflow_y": null,
            "padding": null,
            "right": null,
            "top": null,
            "visibility": null,
            "width": null
          }
        },
        "562199c662aa4acbb1f67fed290e90fb": {
          "model_module": "@jupyter-widgets/base",
          "model_module_version": "1.2.0",
          "model_name": "LayoutModel",
          "state": {
            "_model_module": "@jupyter-widgets/base",
            "_model_module_version": "1.2.0",
            "_model_name": "LayoutModel",
            "_view_count": null,
            "_view_module": "@jupyter-widgets/base",
            "_view_module_version": "1.2.0",
            "_view_name": "LayoutView",
            "align_content": null,
            "align_items": null,
            "align_self": null,
            "border": null,
            "bottom": null,
            "display": null,
            "flex": null,
            "flex_flow": null,
            "grid_area": null,
            "grid_auto_columns": null,
            "grid_auto_flow": null,
            "grid_auto_rows": null,
            "grid_column": null,
            "grid_gap": null,
            "grid_row": null,
            "grid_template_areas": null,
            "grid_template_columns": null,
            "grid_template_rows": null,
            "height": null,
            "justify_content": null,
            "justify_items": null,
            "left": null,
            "margin": null,
            "max_height": null,
            "max_width": null,
            "min_height": null,
            "min_width": null,
            "object_fit": null,
            "object_position": null,
            "order": null,
            "overflow": null,
            "overflow_x": null,
            "overflow_y": null,
            "padding": null,
            "right": null,
            "top": null,
            "visibility": null,
            "width": null
          }
        },
        "5738c03fffa44900a18ace1dce06f51c": {
          "model_module": "@jupyter-widgets/controls",
          "model_module_version": "1.5.0",
          "model_name": "HTMLModel",
          "state": {
            "_dom_classes": [],
            "_model_module": "@jupyter-widgets/controls",
            "_model_module_version": "1.5.0",
            "_model_name": "HTMLModel",
            "_view_count": null,
            "_view_module": "@jupyter-widgets/controls",
            "_view_module_version": "1.5.0",
            "_view_name": "HTMLView",
            "description": "",
            "description_tooltip": null,
            "layout": "IPY_MODEL_0053e3350bbc4531b0140d1999c88af0",
            "placeholder": "​",
            "style": "IPY_MODEL_3696d9d204b54b41b280afabf8f41dea",
            "value": " 466k/466k [00:01&lt;00:00, 470kB/s]"
          }
        },
        "5838a172035345c38e19e963dd726631": {
          "model_module": "@jupyter-widgets/controls",
          "model_module_version": "1.5.0",
          "model_name": "FloatProgressModel",
          "state": {
            "_dom_classes": [],
            "_model_module": "@jupyter-widgets/controls",
            "_model_module_version": "1.5.0",
            "_model_name": "FloatProgressModel",
            "_view_count": null,
            "_view_module": "@jupyter-widgets/controls",
            "_view_module_version": "1.5.0",
            "_view_name": "ProgressView",
            "bar_style": "success",
            "description": "",
            "description_tooltip": null,
            "layout": "IPY_MODEL_4ee37352668943ec917aaf4ea16f408e",
            "max": 483,
            "min": 0,
            "orientation": "horizontal",
            "style": "IPY_MODEL_13f1ca24eb174782b12bbf165fd10e96",
            "value": 483
          }
        },
        "5a66870d18f745ea8fc9322a91b30e97": {
          "model_module": "@jupyter-widgets/controls",
          "model_module_version": "1.5.0",
          "model_name": "FloatProgressModel",
          "state": {
            "_dom_classes": [],
            "_model_module": "@jupyter-widgets/controls",
            "_model_module_version": "1.5.0",
            "_model_name": "FloatProgressModel",
            "_view_count": null,
            "_view_module": "@jupyter-widgets/controls",
            "_view_module_version": "1.5.0",
            "_view_name": "ProgressView",
            "bar_style": "success",
            "description": "",
            "description_tooltip": null,
            "layout": "IPY_MODEL_c7c69474950a443cb4577315ea81a3f3",
            "max": 466062,
            "min": 0,
            "orientation": "horizontal",
            "style": "IPY_MODEL_db37eed42af543758526dbceb0dd740b",
            "value": 466062
          }
        },
        "5f3cdd3a9517472cb1d8ae1c72284596": {
          "model_module": "@jupyter-widgets/controls",
          "model_module_version": "1.5.0",
          "model_name": "HBoxModel",
          "state": {
            "_dom_classes": [],
            "_model_module": "@jupyter-widgets/controls",
            "_model_module_version": "1.5.0",
            "_model_name": "HBoxModel",
            "_view_count": null,
            "_view_module": "@jupyter-widgets/controls",
            "_view_module_version": "1.5.0",
            "_view_name": "HBoxView",
            "box_style": "",
            "children": [
              "IPY_MODEL_f9b822799c834cd7b52e2e4c7da76421",
              "IPY_MODEL_b70d645441d5472aa5e0b70b6d92af8b",
              "IPY_MODEL_bea4597c81b64be38150b17851b22025"
            ],
            "layout": "IPY_MODEL_ac6d321dc31c46bea951da6cd389f70f"
          }
        },
        "605805a8f57f42d1b5ee90dfefcf8cda": {
          "model_module": "@jupyter-widgets/controls",
          "model_module_version": "1.5.0",
          "model_name": "DescriptionStyleModel",
          "state": {
            "_model_module": "@jupyter-widgets/controls",
            "_model_module_version": "1.5.0",
            "_model_name": "DescriptionStyleModel",
            "_view_count": null,
            "_view_module": "@jupyter-widgets/base",
            "_view_module_version": "1.2.0",
            "_view_name": "StyleView",
            "description_width": ""
          }
        },
        "65eabb5b93af4cf4b29891fcb4574961": {
          "model_module": "@jupyter-widgets/controls",
          "model_module_version": "1.5.0",
          "model_name": "HTMLModel",
          "state": {
            "_dom_classes": [],
            "_model_module": "@jupyter-widgets/controls",
            "_model_module_version": "1.5.0",
            "_model_name": "HTMLModel",
            "_view_count": null,
            "_view_module": "@jupyter-widgets/controls",
            "_view_module_version": "1.5.0",
            "_view_name": "HTMLView",
            "description": "",
            "description_tooltip": null,
            "layout": "IPY_MODEL_2fbd101ed78443f9b86ec31db069fd0b",
            "placeholder": "​",
            "style": "IPY_MODEL_37dec8b1d6c8402bb9a65734efdf94be",
            "value": " 268M/268M [00:03&lt;00:00, 80.3MB/s]"
          }
        },
        "707c3360450f4bfb98144aae0ff20eb1": {
          "model_module": "@jupyter-widgets/controls",
          "model_module_version": "1.5.0",
          "model_name": "HTMLModel",
          "state": {
            "_dom_classes": [],
            "_model_module": "@jupyter-widgets/controls",
            "_model_module_version": "1.5.0",
            "_model_name": "HTMLModel",
            "_view_count": null,
            "_view_module": "@jupyter-widgets/controls",
            "_view_module_version": "1.5.0",
            "_view_name": "HTMLView",
            "description": "",
            "description_tooltip": null,
            "layout": "IPY_MODEL_23c1f6f1946b43bc98d34ea828e92690",
            "placeholder": "​",
            "style": "IPY_MODEL_b9fe68e06006418f86d03f30be325130",
            "value": "Downloading: 100%"
          }
        },
        "7ad87c82077045e29efe1d006af55813": {
          "model_module": "@jupyter-widgets/controls",
          "model_module_version": "1.5.0",
          "model_name": "DescriptionStyleModel",
          "state": {
            "_model_module": "@jupyter-widgets/controls",
            "_model_module_version": "1.5.0",
            "_model_name": "DescriptionStyleModel",
            "_view_count": null,
            "_view_module": "@jupyter-widgets/base",
            "_view_module_version": "1.2.0",
            "_view_name": "StyleView",
            "description_width": ""
          }
        },
        "812f3fe772f547d398a86155365e220c": {
          "model_module": "@jupyter-widgets/base",
          "model_module_version": "1.2.0",
          "model_name": "LayoutModel",
          "state": {
            "_model_module": "@jupyter-widgets/base",
            "_model_module_version": "1.2.0",
            "_model_name": "LayoutModel",
            "_view_count": null,
            "_view_module": "@jupyter-widgets/base",
            "_view_module_version": "1.2.0",
            "_view_name": "LayoutView",
            "align_content": null,
            "align_items": null,
            "align_self": null,
            "border": null,
            "bottom": null,
            "display": null,
            "flex": null,
            "flex_flow": null,
            "grid_area": null,
            "grid_auto_columns": null,
            "grid_auto_flow": null,
            "grid_auto_rows": null,
            "grid_column": null,
            "grid_gap": null,
            "grid_row": null,
            "grid_template_areas": null,
            "grid_template_columns": null,
            "grid_template_rows": null,
            "height": null,
            "justify_content": null,
            "justify_items": null,
            "left": null,
            "margin": null,
            "max_height": null,
            "max_width": null,
            "min_height": null,
            "min_width": null,
            "object_fit": null,
            "object_position": null,
            "order": null,
            "overflow": null,
            "overflow_x": null,
            "overflow_y": null,
            "padding": null,
            "right": null,
            "top": null,
            "visibility": null,
            "width": null
          }
        },
        "81f1a06803c5459193aef5c2d932855a": {
          "model_module": "@jupyter-widgets/controls",
          "model_module_version": "1.5.0",
          "model_name": "HBoxModel",
          "state": {
            "_dom_classes": [],
            "_model_module": "@jupyter-widgets/controls",
            "_model_module_version": "1.5.0",
            "_model_name": "HBoxModel",
            "_view_count": null,
            "_view_module": "@jupyter-widgets/controls",
            "_view_module_version": "1.5.0",
            "_view_name": "HBoxView",
            "box_style": "",
            "children": [
              "IPY_MODEL_df77a1b1cd354035952ced577fe08197",
              "IPY_MODEL_5838a172035345c38e19e963dd726631",
              "IPY_MODEL_e4ba816b3d9b4498bfc3361bd9417545"
            ],
            "layout": "IPY_MODEL_e65bd4b4cca24fa18f30de1b31f6b3a1"
          }
        },
        "82b63cfa8563452eb3e81eef15ce44a9": {
          "model_module": "@jupyter-widgets/base",
          "model_module_version": "1.2.0",
          "model_name": "LayoutModel",
          "state": {
            "_model_module": "@jupyter-widgets/base",
            "_model_module_version": "1.2.0",
            "_model_name": "LayoutModel",
            "_view_count": null,
            "_view_module": "@jupyter-widgets/base",
            "_view_module_version": "1.2.0",
            "_view_name": "LayoutView",
            "align_content": null,
            "align_items": null,
            "align_self": null,
            "border": null,
            "bottom": null,
            "display": null,
            "flex": null,
            "flex_flow": null,
            "grid_area": null,
            "grid_auto_columns": null,
            "grid_auto_flow": null,
            "grid_auto_rows": null,
            "grid_column": null,
            "grid_gap": null,
            "grid_row": null,
            "grid_template_areas": null,
            "grid_template_columns": null,
            "grid_template_rows": null,
            "height": null,
            "justify_content": null,
            "justify_items": null,
            "left": null,
            "margin": null,
            "max_height": null,
            "max_width": null,
            "min_height": null,
            "min_width": null,
            "object_fit": null,
            "object_position": null,
            "order": null,
            "overflow": null,
            "overflow_x": null,
            "overflow_y": null,
            "padding": null,
            "right": null,
            "top": null,
            "visibility": null,
            "width": null
          }
        },
        "8c069d9b6c334827a748531c5c02420e": {
          "model_module": "@jupyter-widgets/controls",
          "model_module_version": "1.5.0",
          "model_name": "DescriptionStyleModel",
          "state": {
            "_model_module": "@jupyter-widgets/controls",
            "_model_module_version": "1.5.0",
            "_model_name": "DescriptionStyleModel",
            "_view_count": null,
            "_view_module": "@jupyter-widgets/base",
            "_view_module_version": "1.2.0",
            "_view_name": "StyleView",
            "description_width": ""
          }
        },
        "8c27e8fb6c6543da93ac51cb6dd5aaef": {
          "model_module": "@jupyter-widgets/base",
          "model_module_version": "1.2.0",
          "model_name": "LayoutModel",
          "state": {
            "_model_module": "@jupyter-widgets/base",
            "_model_module_version": "1.2.0",
            "_model_name": "LayoutModel",
            "_view_count": null,
            "_view_module": "@jupyter-widgets/base",
            "_view_module_version": "1.2.0",
            "_view_name": "LayoutView",
            "align_content": null,
            "align_items": null,
            "align_self": null,
            "border": null,
            "bottom": null,
            "display": null,
            "flex": null,
            "flex_flow": null,
            "grid_area": null,
            "grid_auto_columns": null,
            "grid_auto_flow": null,
            "grid_auto_rows": null,
            "grid_column": null,
            "grid_gap": null,
            "grid_row": null,
            "grid_template_areas": null,
            "grid_template_columns": null,
            "grid_template_rows": null,
            "height": null,
            "justify_content": null,
            "justify_items": null,
            "left": null,
            "margin": null,
            "max_height": null,
            "max_width": null,
            "min_height": null,
            "min_width": null,
            "object_fit": null,
            "object_position": null,
            "order": null,
            "overflow": null,
            "overflow_x": null,
            "overflow_y": null,
            "padding": null,
            "right": null,
            "top": null,
            "visibility": null,
            "width": null
          }
        },
        "8c738f67cbac4ccbb5093640497fa36c": {
          "model_module": "@jupyter-widgets/controls",
          "model_module_version": "1.5.0",
          "model_name": "HTMLModel",
          "state": {
            "_dom_classes": [],
            "_model_module": "@jupyter-widgets/controls",
            "_model_module_version": "1.5.0",
            "_model_name": "HTMLModel",
            "_view_count": null,
            "_view_module": "@jupyter-widgets/controls",
            "_view_module_version": "1.5.0",
            "_view_name": "HTMLView",
            "description": "",
            "description_tooltip": null,
            "layout": "IPY_MODEL_298abe286a5f4dfa8dd60d2ed7b6c942",
            "placeholder": "​",
            "style": "IPY_MODEL_8c069d9b6c334827a748531c5c02420e",
            "value": "Downloading: 100%"
          }
        },
        "9b598c6e45a0411692a13dec78df2711": {
          "model_module": "@jupyter-widgets/controls",
          "model_module_version": "1.5.0",
          "model_name": "DescriptionStyleModel",
          "state": {
            "_model_module": "@jupyter-widgets/controls",
            "_model_module_version": "1.5.0",
            "_model_name": "DescriptionStyleModel",
            "_view_count": null,
            "_view_module": "@jupyter-widgets/base",
            "_view_module_version": "1.2.0",
            "_view_name": "StyleView",
            "description_width": ""
          }
        },
        "9c32493e79a34c1987a0eb823ced702b": {
          "model_module": "@jupyter-widgets/controls",
          "model_module_version": "1.5.0",
          "model_name": "HTMLModel",
          "state": {
            "_dom_classes": [],
            "_model_module": "@jupyter-widgets/controls",
            "_model_module_version": "1.5.0",
            "_model_name": "HTMLModel",
            "_view_count": null,
            "_view_module": "@jupyter-widgets/controls",
            "_view_module_version": "1.5.0",
            "_view_name": "HTMLView",
            "description": "",
            "description_tooltip": null,
            "layout": "IPY_MODEL_f2266e6aeb154a87940ccaac0ee685aa",
            "placeholder": "​",
            "style": "IPY_MODEL_aca80fcb43574b48b100df35901a4d39",
            "value": " 28.0/28.0 [00:00&lt;00:00, 851B/s]"
          }
        },
        "9ec60eeaef784ced90512b64900fbe2f": {
          "model_module": "@jupyter-widgets/base",
          "model_module_version": "1.2.0",
          "model_name": "LayoutModel",
          "state": {
            "_model_module": "@jupyter-widgets/base",
            "_model_module_version": "1.2.0",
            "_model_name": "LayoutModel",
            "_view_count": null,
            "_view_module": "@jupyter-widgets/base",
            "_view_module_version": "1.2.0",
            "_view_name": "LayoutView",
            "align_content": null,
            "align_items": null,
            "align_self": null,
            "border": null,
            "bottom": null,
            "display": null,
            "flex": null,
            "flex_flow": null,
            "grid_area": null,
            "grid_auto_columns": null,
            "grid_auto_flow": null,
            "grid_auto_rows": null,
            "grid_column": null,
            "grid_gap": null,
            "grid_row": null,
            "grid_template_areas": null,
            "grid_template_columns": null,
            "grid_template_rows": null,
            "height": null,
            "justify_content": null,
            "justify_items": null,
            "left": null,
            "margin": null,
            "max_height": null,
            "max_width": null,
            "min_height": null,
            "min_width": null,
            "object_fit": null,
            "object_position": null,
            "order": null,
            "overflow": null,
            "overflow_x": null,
            "overflow_y": null,
            "padding": null,
            "right": null,
            "top": null,
            "visibility": null,
            "width": null
          }
        },
        "a64c5ad55ce949a793ab45dc73b2d806": {
          "model_module": "@jupyter-widgets/base",
          "model_module_version": "1.2.0",
          "model_name": "LayoutModel",
          "state": {
            "_model_module": "@jupyter-widgets/base",
            "_model_module_version": "1.2.0",
            "_model_name": "LayoutModel",
            "_view_count": null,
            "_view_module": "@jupyter-widgets/base",
            "_view_module_version": "1.2.0",
            "_view_name": "LayoutView",
            "align_content": null,
            "align_items": null,
            "align_self": null,
            "border": null,
            "bottom": null,
            "display": null,
            "flex": null,
            "flex_flow": null,
            "grid_area": null,
            "grid_auto_columns": null,
            "grid_auto_flow": null,
            "grid_auto_rows": null,
            "grid_column": null,
            "grid_gap": null,
            "grid_row": null,
            "grid_template_areas": null,
            "grid_template_columns": null,
            "grid_template_rows": null,
            "height": null,
            "justify_content": null,
            "justify_items": null,
            "left": null,
            "margin": null,
            "max_height": null,
            "max_width": null,
            "min_height": null,
            "min_width": null,
            "object_fit": null,
            "object_position": null,
            "order": null,
            "overflow": null,
            "overflow_x": null,
            "overflow_y": null,
            "padding": null,
            "right": null,
            "top": null,
            "visibility": null,
            "width": null
          }
        },
        "ab5e97ea2ea842b28a8ec6160db7effb": {
          "model_module": "@jupyter-widgets/controls",
          "model_module_version": "1.5.0",
          "model_name": "ProgressStyleModel",
          "state": {
            "_model_module": "@jupyter-widgets/controls",
            "_model_module_version": "1.5.0",
            "_model_name": "ProgressStyleModel",
            "_view_count": null,
            "_view_module": "@jupyter-widgets/base",
            "_view_module_version": "1.2.0",
            "_view_name": "StyleView",
            "bar_color": null,
            "description_width": ""
          }
        },
        "ac6d321dc31c46bea951da6cd389f70f": {
          "model_module": "@jupyter-widgets/base",
          "model_module_version": "1.2.0",
          "model_name": "LayoutModel",
          "state": {
            "_model_module": "@jupyter-widgets/base",
            "_model_module_version": "1.2.0",
            "_model_name": "LayoutModel",
            "_view_count": null,
            "_view_module": "@jupyter-widgets/base",
            "_view_module_version": "1.2.0",
            "_view_name": "LayoutView",
            "align_content": null,
            "align_items": null,
            "align_self": null,
            "border": null,
            "bottom": null,
            "display": null,
            "flex": null,
            "flex_flow": null,
            "grid_area": null,
            "grid_auto_columns": null,
            "grid_auto_flow": null,
            "grid_auto_rows": null,
            "grid_column": null,
            "grid_gap": null,
            "grid_row": null,
            "grid_template_areas": null,
            "grid_template_columns": null,
            "grid_template_rows": null,
            "height": null,
            "justify_content": null,
            "justify_items": null,
            "left": null,
            "margin": null,
            "max_height": null,
            "max_width": null,
            "min_height": null,
            "min_width": null,
            "object_fit": null,
            "object_position": null,
            "order": null,
            "overflow": null,
            "overflow_x": null,
            "overflow_y": null,
            "padding": null,
            "right": null,
            "top": null,
            "visibility": null,
            "width": null
          }
        },
        "aca80fcb43574b48b100df35901a4d39": {
          "model_module": "@jupyter-widgets/controls",
          "model_module_version": "1.5.0",
          "model_name": "DescriptionStyleModel",
          "state": {
            "_model_module": "@jupyter-widgets/controls",
            "_model_module_version": "1.5.0",
            "_model_name": "DescriptionStyleModel",
            "_view_count": null,
            "_view_module": "@jupyter-widgets/base",
            "_view_module_version": "1.2.0",
            "_view_name": "StyleView",
            "description_width": ""
          }
        },
        "b5234716eb52488d88a63189d22eb00a": {
          "model_module": "@jupyter-widgets/controls",
          "model_module_version": "1.5.0",
          "model_name": "FloatProgressModel",
          "state": {
            "_dom_classes": [],
            "_model_module": "@jupyter-widgets/controls",
            "_model_module_version": "1.5.0",
            "_model_name": "FloatProgressModel",
            "_view_count": null,
            "_view_module": "@jupyter-widgets/controls",
            "_view_module_version": "1.5.0",
            "_view_name": "ProgressView",
            "bar_style": "success",
            "description": "",
            "description_tooltip": null,
            "layout": "IPY_MODEL_bb370fe3322343ec8a6dbd70a0c21887",
            "max": 267967963,
            "min": 0,
            "orientation": "horizontal",
            "style": "IPY_MODEL_c445046a33824e23a7dea061002e6974",
            "value": 267967963
          }
        },
        "b70d645441d5472aa5e0b70b6d92af8b": {
          "model_module": "@jupyter-widgets/controls",
          "model_module_version": "1.5.0",
          "model_name": "FloatProgressModel",
          "state": {
            "_dom_classes": [],
            "_model_module": "@jupyter-widgets/controls",
            "_model_module_version": "1.5.0",
            "_model_name": "FloatProgressModel",
            "_view_count": null,
            "_view_module": "@jupyter-widgets/controls",
            "_view_module_version": "1.5.0",
            "_view_name": "ProgressView",
            "bar_style": "success",
            "description": "",
            "description_tooltip": null,
            "layout": "IPY_MODEL_c1439815ea4142e4a9d812ad127a3c2f",
            "max": 231508,
            "min": 0,
            "orientation": "horizontal",
            "style": "IPY_MODEL_b8c2c6a9519447608dbee0cf04421d9b",
            "value": 231508
          }
        },
        "b8c2c6a9519447608dbee0cf04421d9b": {
          "model_module": "@jupyter-widgets/controls",
          "model_module_version": "1.5.0",
          "model_name": "ProgressStyleModel",
          "state": {
            "_model_module": "@jupyter-widgets/controls",
            "_model_module_version": "1.5.0",
            "_model_name": "ProgressStyleModel",
            "_view_count": null,
            "_view_module": "@jupyter-widgets/base",
            "_view_module_version": "1.2.0",
            "_view_name": "StyleView",
            "bar_color": null,
            "description_width": ""
          }
        },
        "b9fe68e06006418f86d03f30be325130": {
          "model_module": "@jupyter-widgets/controls",
          "model_module_version": "1.5.0",
          "model_name": "DescriptionStyleModel",
          "state": {
            "_model_module": "@jupyter-widgets/controls",
            "_model_module_version": "1.5.0",
            "_model_name": "DescriptionStyleModel",
            "_view_count": null,
            "_view_module": "@jupyter-widgets/base",
            "_view_module_version": "1.2.0",
            "_view_name": "StyleView",
            "description_width": ""
          }
        },
        "bb370fe3322343ec8a6dbd70a0c21887": {
          "model_module": "@jupyter-widgets/base",
          "model_module_version": "1.2.0",
          "model_name": "LayoutModel",
          "state": {
            "_model_module": "@jupyter-widgets/base",
            "_model_module_version": "1.2.0",
            "_model_name": "LayoutModel",
            "_view_count": null,
            "_view_module": "@jupyter-widgets/base",
            "_view_module_version": "1.2.0",
            "_view_name": "LayoutView",
            "align_content": null,
            "align_items": null,
            "align_self": null,
            "border": null,
            "bottom": null,
            "display": null,
            "flex": null,
            "flex_flow": null,
            "grid_area": null,
            "grid_auto_columns": null,
            "grid_auto_flow": null,
            "grid_auto_rows": null,
            "grid_column": null,
            "grid_gap": null,
            "grid_row": null,
            "grid_template_areas": null,
            "grid_template_columns": null,
            "grid_template_rows": null,
            "height": null,
            "justify_content": null,
            "justify_items": null,
            "left": null,
            "margin": null,
            "max_height": null,
            "max_width": null,
            "min_height": null,
            "min_width": null,
            "object_fit": null,
            "object_position": null,
            "order": null,
            "overflow": null,
            "overflow_x": null,
            "overflow_y": null,
            "padding": null,
            "right": null,
            "top": null,
            "visibility": null,
            "width": null
          }
        },
        "bea4597c81b64be38150b17851b22025": {
          "model_module": "@jupyter-widgets/controls",
          "model_module_version": "1.5.0",
          "model_name": "HTMLModel",
          "state": {
            "_dom_classes": [],
            "_model_module": "@jupyter-widgets/controls",
            "_model_module_version": "1.5.0",
            "_model_name": "HTMLModel",
            "_view_count": null,
            "_view_module": "@jupyter-widgets/controls",
            "_view_module_version": "1.5.0",
            "_view_name": "HTMLView",
            "description": "",
            "description_tooltip": null,
            "layout": "IPY_MODEL_f99f3f486d1749108d0533566e60cf4d",
            "placeholder": "​",
            "style": "IPY_MODEL_605805a8f57f42d1b5ee90dfefcf8cda",
            "value": " 232k/232k [00:00&lt;00:00, 291kB/s]"
          }
        },
        "c1439815ea4142e4a9d812ad127a3c2f": {
          "model_module": "@jupyter-widgets/base",
          "model_module_version": "1.2.0",
          "model_name": "LayoutModel",
          "state": {
            "_model_module": "@jupyter-widgets/base",
            "_model_module_version": "1.2.0",
            "_model_name": "LayoutModel",
            "_view_count": null,
            "_view_module": "@jupyter-widgets/base",
            "_view_module_version": "1.2.0",
            "_view_name": "LayoutView",
            "align_content": null,
            "align_items": null,
            "align_self": null,
            "border": null,
            "bottom": null,
            "display": null,
            "flex": null,
            "flex_flow": null,
            "grid_area": null,
            "grid_auto_columns": null,
            "grid_auto_flow": null,
            "grid_auto_rows": null,
            "grid_column": null,
            "grid_gap": null,
            "grid_row": null,
            "grid_template_areas": null,
            "grid_template_columns": null,
            "grid_template_rows": null,
            "height": null,
            "justify_content": null,
            "justify_items": null,
            "left": null,
            "margin": null,
            "max_height": null,
            "max_width": null,
            "min_height": null,
            "min_width": null,
            "object_fit": null,
            "object_position": null,
            "order": null,
            "overflow": null,
            "overflow_x": null,
            "overflow_y": null,
            "padding": null,
            "right": null,
            "top": null,
            "visibility": null,
            "width": null
          }
        },
        "c2f967f00d9344a49bd9876b17bf3d26": {
          "model_module": "@jupyter-widgets/base",
          "model_module_version": "1.2.0",
          "model_name": "LayoutModel",
          "state": {
            "_model_module": "@jupyter-widgets/base",
            "_model_module_version": "1.2.0",
            "_model_name": "LayoutModel",
            "_view_count": null,
            "_view_module": "@jupyter-widgets/base",
            "_view_module_version": "1.2.0",
            "_view_name": "LayoutView",
            "align_content": null,
            "align_items": null,
            "align_self": null,
            "border": null,
            "bottom": null,
            "display": null,
            "flex": null,
            "flex_flow": null,
            "grid_area": null,
            "grid_auto_columns": null,
            "grid_auto_flow": null,
            "grid_auto_rows": null,
            "grid_column": null,
            "grid_gap": null,
            "grid_row": null,
            "grid_template_areas": null,
            "grid_template_columns": null,
            "grid_template_rows": null,
            "height": null,
            "justify_content": null,
            "justify_items": null,
            "left": null,
            "margin": null,
            "max_height": null,
            "max_width": null,
            "min_height": null,
            "min_width": null,
            "object_fit": null,
            "object_position": null,
            "order": null,
            "overflow": null,
            "overflow_x": null,
            "overflow_y": null,
            "padding": null,
            "right": null,
            "top": null,
            "visibility": null,
            "width": null
          }
        },
        "c445046a33824e23a7dea061002e6974": {
          "model_module": "@jupyter-widgets/controls",
          "model_module_version": "1.5.0",
          "model_name": "ProgressStyleModel",
          "state": {
            "_model_module": "@jupyter-widgets/controls",
            "_model_module_version": "1.5.0",
            "_model_name": "ProgressStyleModel",
            "_view_count": null,
            "_view_module": "@jupyter-widgets/base",
            "_view_module_version": "1.2.0",
            "_view_name": "StyleView",
            "bar_color": null,
            "description_width": ""
          }
        },
        "c7c69474950a443cb4577315ea81a3f3": {
          "model_module": "@jupyter-widgets/base",
          "model_module_version": "1.2.0",
          "model_name": "LayoutModel",
          "state": {
            "_model_module": "@jupyter-widgets/base",
            "_model_module_version": "1.2.0",
            "_model_name": "LayoutModel",
            "_view_count": null,
            "_view_module": "@jupyter-widgets/base",
            "_view_module_version": "1.2.0",
            "_view_name": "LayoutView",
            "align_content": null,
            "align_items": null,
            "align_self": null,
            "border": null,
            "bottom": null,
            "display": null,
            "flex": null,
            "flex_flow": null,
            "grid_area": null,
            "grid_auto_columns": null,
            "grid_auto_flow": null,
            "grid_auto_rows": null,
            "grid_column": null,
            "grid_gap": null,
            "grid_row": null,
            "grid_template_areas": null,
            "grid_template_columns": null,
            "grid_template_rows": null,
            "height": null,
            "justify_content": null,
            "justify_items": null,
            "left": null,
            "margin": null,
            "max_height": null,
            "max_width": null,
            "min_height": null,
            "min_width": null,
            "object_fit": null,
            "object_position": null,
            "order": null,
            "overflow": null,
            "overflow_x": null,
            "overflow_y": null,
            "padding": null,
            "right": null,
            "top": null,
            "visibility": null,
            "width": null
          }
        },
        "db37eed42af543758526dbceb0dd740b": {
          "model_module": "@jupyter-widgets/controls",
          "model_module_version": "1.5.0",
          "model_name": "ProgressStyleModel",
          "state": {
            "_model_module": "@jupyter-widgets/controls",
            "_model_module_version": "1.5.0",
            "_model_name": "ProgressStyleModel",
            "_view_count": null,
            "_view_module": "@jupyter-widgets/base",
            "_view_module_version": "1.2.0",
            "_view_name": "StyleView",
            "bar_color": null,
            "description_width": ""
          }
        },
        "db3995ef8bd747588365ac5e1548c7d8": {
          "model_module": "@jupyter-widgets/controls",
          "model_module_version": "1.5.0",
          "model_name": "FloatProgressModel",
          "state": {
            "_dom_classes": [],
            "_model_module": "@jupyter-widgets/controls",
            "_model_module_version": "1.5.0",
            "_model_name": "FloatProgressModel",
            "_view_count": null,
            "_view_module": "@jupyter-widgets/controls",
            "_view_module_version": "1.5.0",
            "_view_name": "ProgressView",
            "bar_style": "success",
            "description": "",
            "description_tooltip": null,
            "layout": "IPY_MODEL_82b63cfa8563452eb3e81eef15ce44a9",
            "max": 28,
            "min": 0,
            "orientation": "horizontal",
            "style": "IPY_MODEL_ab5e97ea2ea842b28a8ec6160db7effb",
            "value": 28
          }
        },
        "df77a1b1cd354035952ced577fe08197": {
          "model_module": "@jupyter-widgets/controls",
          "model_module_version": "1.5.0",
          "model_name": "HTMLModel",
          "state": {
            "_dom_classes": [],
            "_model_module": "@jupyter-widgets/controls",
            "_model_module_version": "1.5.0",
            "_model_name": "HTMLModel",
            "_view_count": null,
            "_view_module": "@jupyter-widgets/controls",
            "_view_module_version": "1.5.0",
            "_view_name": "HTMLView",
            "description": "",
            "description_tooltip": null,
            "layout": "IPY_MODEL_a64c5ad55ce949a793ab45dc73b2d806",
            "placeholder": "​",
            "style": "IPY_MODEL_eae7b501d758406c88a49a8227dfbf57",
            "value": "Downloading: 100%"
          }
        },
        "e4ba816b3d9b4498bfc3361bd9417545": {
          "model_module": "@jupyter-widgets/controls",
          "model_module_version": "1.5.0",
          "model_name": "HTMLModel",
          "state": {
            "_dom_classes": [],
            "_model_module": "@jupyter-widgets/controls",
            "_model_module_version": "1.5.0",
            "_model_name": "HTMLModel",
            "_view_count": null,
            "_view_module": "@jupyter-widgets/controls",
            "_view_module_version": "1.5.0",
            "_view_name": "HTMLView",
            "description": "",
            "description_tooltip": null,
            "layout": "IPY_MODEL_9ec60eeaef784ced90512b64900fbe2f",
            "placeholder": "​",
            "style": "IPY_MODEL_7ad87c82077045e29efe1d006af55813",
            "value": " 483/483 [00:00&lt;00:00, 17.2kB/s]"
          }
        },
        "e65bd4b4cca24fa18f30de1b31f6b3a1": {
          "model_module": "@jupyter-widgets/base",
          "model_module_version": "1.2.0",
          "model_name": "LayoutModel",
          "state": {
            "_model_module": "@jupyter-widgets/base",
            "_model_module_version": "1.2.0",
            "_model_name": "LayoutModel",
            "_view_count": null,
            "_view_module": "@jupyter-widgets/base",
            "_view_module_version": "1.2.0",
            "_view_name": "LayoutView",
            "align_content": null,
            "align_items": null,
            "align_self": null,
            "border": null,
            "bottom": null,
            "display": null,
            "flex": null,
            "flex_flow": null,
            "grid_area": null,
            "grid_auto_columns": null,
            "grid_auto_flow": null,
            "grid_auto_rows": null,
            "grid_column": null,
            "grid_gap": null,
            "grid_row": null,
            "grid_template_areas": null,
            "grid_template_columns": null,
            "grid_template_rows": null,
            "height": null,
            "justify_content": null,
            "justify_items": null,
            "left": null,
            "margin": null,
            "max_height": null,
            "max_width": null,
            "min_height": null,
            "min_width": null,
            "object_fit": null,
            "object_position": null,
            "order": null,
            "overflow": null,
            "overflow_x": null,
            "overflow_y": null,
            "padding": null,
            "right": null,
            "top": null,
            "visibility": null,
            "width": null
          }
        },
        "eae7b501d758406c88a49a8227dfbf57": {
          "model_module": "@jupyter-widgets/controls",
          "model_module_version": "1.5.0",
          "model_name": "DescriptionStyleModel",
          "state": {
            "_model_module": "@jupyter-widgets/controls",
            "_model_module_version": "1.5.0",
            "_model_name": "DescriptionStyleModel",
            "_view_count": null,
            "_view_module": "@jupyter-widgets/base",
            "_view_module_version": "1.2.0",
            "_view_name": "StyleView",
            "description_width": ""
          }
        },
        "f2266e6aeb154a87940ccaac0ee685aa": {
          "model_module": "@jupyter-widgets/base",
          "model_module_version": "1.2.0",
          "model_name": "LayoutModel",
          "state": {
            "_model_module": "@jupyter-widgets/base",
            "_model_module_version": "1.2.0",
            "_model_name": "LayoutModel",
            "_view_count": null,
            "_view_module": "@jupyter-widgets/base",
            "_view_module_version": "1.2.0",
            "_view_name": "LayoutView",
            "align_content": null,
            "align_items": null,
            "align_self": null,
            "border": null,
            "bottom": null,
            "display": null,
            "flex": null,
            "flex_flow": null,
            "grid_area": null,
            "grid_auto_columns": null,
            "grid_auto_flow": null,
            "grid_auto_rows": null,
            "grid_column": null,
            "grid_gap": null,
            "grid_row": null,
            "grid_template_areas": null,
            "grid_template_columns": null,
            "grid_template_rows": null,
            "height": null,
            "justify_content": null,
            "justify_items": null,
            "left": null,
            "margin": null,
            "max_height": null,
            "max_width": null,
            "min_height": null,
            "min_width": null,
            "object_fit": null,
            "object_position": null,
            "order": null,
            "overflow": null,
            "overflow_x": null,
            "overflow_y": null,
            "padding": null,
            "right": null,
            "top": null,
            "visibility": null,
            "width": null
          }
        },
        "f898799010a245dea4c7ad36d728cb9a": {
          "model_module": "@jupyter-widgets/controls",
          "model_module_version": "1.5.0",
          "model_name": "HBoxModel",
          "state": {
            "_dom_classes": [],
            "_model_module": "@jupyter-widgets/controls",
            "_model_module_version": "1.5.0",
            "_model_name": "HBoxModel",
            "_view_count": null,
            "_view_module": "@jupyter-widgets/controls",
            "_view_module_version": "1.5.0",
            "_view_name": "HBoxView",
            "box_style": "",
            "children": [
              "IPY_MODEL_4626f7899e274b7096400a6355588068",
              "IPY_MODEL_b5234716eb52488d88a63189d22eb00a",
              "IPY_MODEL_65eabb5b93af4cf4b29891fcb4574961"
            ],
            "layout": "IPY_MODEL_17126906c9534b8eacf53c2485f7a734"
          }
        },
        "f99f3f486d1749108d0533566e60cf4d": {
          "model_module": "@jupyter-widgets/base",
          "model_module_version": "1.2.0",
          "model_name": "LayoutModel",
          "state": {
            "_model_module": "@jupyter-widgets/base",
            "_model_module_version": "1.2.0",
            "_model_name": "LayoutModel",
            "_view_count": null,
            "_view_module": "@jupyter-widgets/base",
            "_view_module_version": "1.2.0",
            "_view_name": "LayoutView",
            "align_content": null,
            "align_items": null,
            "align_self": null,
            "border": null,
            "bottom": null,
            "display": null,
            "flex": null,
            "flex_flow": null,
            "grid_area": null,
            "grid_auto_columns": null,
            "grid_auto_flow": null,
            "grid_auto_rows": null,
            "grid_column": null,
            "grid_gap": null,
            "grid_row": null,
            "grid_template_areas": null,
            "grid_template_columns": null,
            "grid_template_rows": null,
            "height": null,
            "justify_content": null,
            "justify_items": null,
            "left": null,
            "margin": null,
            "max_height": null,
            "max_width": null,
            "min_height": null,
            "min_width": null,
            "object_fit": null,
            "object_position": null,
            "order": null,
            "overflow": null,
            "overflow_x": null,
            "overflow_y": null,
            "padding": null,
            "right": null,
            "top": null,
            "visibility": null,
            "width": null
          }
        },
        "f9b822799c834cd7b52e2e4c7da76421": {
          "model_module": "@jupyter-widgets/controls",
          "model_module_version": "1.5.0",
          "model_name": "HTMLModel",
          "state": {
            "_dom_classes": [],
            "_model_module": "@jupyter-widgets/controls",
            "_model_module_version": "1.5.0",
            "_model_name": "HTMLModel",
            "_view_count": null,
            "_view_module": "@jupyter-widgets/controls",
            "_view_module_version": "1.5.0",
            "_view_name": "HTMLView",
            "description": "",
            "description_tooltip": null,
            "layout": "IPY_MODEL_8c27e8fb6c6543da93ac51cb6dd5aaef",
            "placeholder": "​",
            "style": "IPY_MODEL_1d0c72e8b52e46f6b33f80aee524fea7",
            "value": "Downloading: 100%"
          }
        }
      }
    }
  },
  "nbformat": 4,
  "nbformat_minor": 0
}
