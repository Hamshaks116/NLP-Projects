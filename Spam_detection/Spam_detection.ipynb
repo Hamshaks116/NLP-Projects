{
  "cells": [
    {
      "attachments": {},
      "cell_type": "markdown",
      "metadata": {
        "id": "_mJQGbTFOCAx"
      },
      "source": [
        "<h1 align='center'; color ='blue'><b><font color='pickle'></p>Spam Detection HW</b></h1>\n"
      ]
    },
    {
      "cell_type": "code",
      "execution_count": 1,
      "metadata": {
        "colab": {
          "base_uri": "https://localhost:8080/",
          "height": 1000
        },
        "id": "8ttaJzCQPrgg",
        "outputId": "1c663f1b-bf20-44ae-9f29-44a610286e64"
      },
      "outputs": [
        {
          "name": "stdout",
          "output_type": "stream",
          "text": [
            "Looking in indexes: https://pypi.org/simple, https://us-python.pkg.dev/colab-wheels/public/simple/\n",
            "Collecting swifter\n",
            "  Downloading swifter-1.3.4.tar.gz (830 kB)\n",
            "\u001b[K     |████████████████████████████████| 830 kB 4.0 MB/s \n",
            "\u001b[?25hRequirement already satisfied: pandas>=1.0.0 in /usr/local/lib/python3.7/dist-packages (from swifter) (1.3.5)\n",
            "Collecting psutil>=5.6.6\n",
            "  Downloading psutil-5.9.2-cp37-cp37m-manylinux_2_12_x86_64.manylinux2010_x86_64.manylinux_2_17_x86_64.manylinux2014_x86_64.whl (281 kB)\n",
            "\u001b[K     |████████████████████████████████| 281 kB 44.9 MB/s \n",
            "\u001b[?25hRequirement already satisfied: dask[dataframe]>=2.10.0 in /usr/local/lib/python3.7/dist-packages (from swifter) (2022.2.0)\n",
            "Requirement already satisfied: tqdm>=4.33.0 in /usr/local/lib/python3.7/dist-packages (from swifter) (4.64.1)\n",
            "Requirement already satisfied: ipywidgets>=7.0.0 in /usr/local/lib/python3.7/dist-packages (from swifter) (7.7.1)\n",
            "Requirement already satisfied: cloudpickle>=0.2.2 in /usr/local/lib/python3.7/dist-packages (from swifter) (1.5.0)\n",
            "Requirement already satisfied: parso>0.4.0 in /usr/local/lib/python3.7/dist-packages (from swifter) (0.8.3)\n",
            "Requirement already satisfied: bleach>=3.1.1 in /usr/local/lib/python3.7/dist-packages (from swifter) (5.0.1)\n",
            "Requirement already satisfied: six>=1.9.0 in /usr/local/lib/python3.7/dist-packages (from bleach>=3.1.1->swifter) (1.15.0)\n",
            "Requirement already satisfied: webencodings in /usr/local/lib/python3.7/dist-packages (from bleach>=3.1.1->swifter) (0.5.1)\n",
            "Requirement already satisfied: packaging>=20.0 in /usr/local/lib/python3.7/dist-packages (from dask[dataframe]>=2.10.0->swifter) (21.3)\n",
            "Requirement already satisfied: pyyaml>=5.3.1 in /usr/local/lib/python3.7/dist-packages (from dask[dataframe]>=2.10.0->swifter) (6.0)\n",
            "Requirement already satisfied: fsspec>=0.6.0 in /usr/local/lib/python3.7/dist-packages (from dask[dataframe]>=2.10.0->swifter) (2022.8.2)\n",
            "Requirement already satisfied: partd>=0.3.10 in /usr/local/lib/python3.7/dist-packages (from dask[dataframe]>=2.10.0->swifter) (1.3.0)\n",
            "Requirement already satisfied: toolz>=0.8.2 in /usr/local/lib/python3.7/dist-packages (from dask[dataframe]>=2.10.0->swifter) (0.12.0)\n",
            "Requirement already satisfied: numpy>=1.18 in /usr/local/lib/python3.7/dist-packages (from dask[dataframe]>=2.10.0->swifter) (1.21.6)\n",
            "Requirement already satisfied: ipython-genutils~=0.2.0 in /usr/local/lib/python3.7/dist-packages (from ipywidgets>=7.0.0->swifter) (0.2.0)\n",
            "Requirement already satisfied: ipykernel>=4.5.1 in /usr/local/lib/python3.7/dist-packages (from ipywidgets>=7.0.0->swifter) (5.3.4)\n",
            "Requirement already satisfied: ipython>=4.0.0 in /usr/local/lib/python3.7/dist-packages (from ipywidgets>=7.0.0->swifter) (7.9.0)\n",
            "Requirement already satisfied: traitlets>=4.3.1 in /usr/local/lib/python3.7/dist-packages (from ipywidgets>=7.0.0->swifter) (5.1.1)\n",
            "Requirement already satisfied: jupyterlab-widgets>=1.0.0 in /usr/local/lib/python3.7/dist-packages (from ipywidgets>=7.0.0->swifter) (3.0.3)\n",
            "Requirement already satisfied: widgetsnbextension~=3.6.0 in /usr/local/lib/python3.7/dist-packages (from ipywidgets>=7.0.0->swifter) (3.6.1)\n",
            "Requirement already satisfied: tornado>=4.2 in /usr/local/lib/python3.7/dist-packages (from ipykernel>=4.5.1->ipywidgets>=7.0.0->swifter) (5.1.1)\n",
            "Requirement already satisfied: jupyter-client in /usr/local/lib/python3.7/dist-packages (from ipykernel>=4.5.1->ipywidgets>=7.0.0->swifter) (6.1.12)\n",
            "Requirement already satisfied: decorator in /usr/local/lib/python3.7/dist-packages (from ipython>=4.0.0->ipywidgets>=7.0.0->swifter) (4.4.2)\n",
            "Requirement already satisfied: pexpect in /usr/local/lib/python3.7/dist-packages (from ipython>=4.0.0->ipywidgets>=7.0.0->swifter) (4.8.0)\n",
            "Requirement already satisfied: backcall in /usr/local/lib/python3.7/dist-packages (from ipython>=4.0.0->ipywidgets>=7.0.0->swifter) (0.2.0)\n",
            "Requirement already satisfied: pygments in /usr/local/lib/python3.7/dist-packages (from ipython>=4.0.0->ipywidgets>=7.0.0->swifter) (2.6.1)\n",
            "Requirement already satisfied: setuptools>=18.5 in /usr/local/lib/python3.7/dist-packages (from ipython>=4.0.0->ipywidgets>=7.0.0->swifter) (57.4.0)\n",
            "Requirement already satisfied: pickleshare in /usr/local/lib/python3.7/dist-packages (from ipython>=4.0.0->ipywidgets>=7.0.0->swifter) (0.7.5)\n",
            "Requirement already satisfied: prompt-toolkit<2.1.0,>=2.0.0 in /usr/local/lib/python3.7/dist-packages (from ipython>=4.0.0->ipywidgets>=7.0.0->swifter) (2.0.10)\n",
            "Collecting jedi>=0.10\n",
            "  Downloading jedi-0.18.1-py2.py3-none-any.whl (1.6 MB)\n",
            "\u001b[K     |████████████████████████████████| 1.6 MB 36.1 MB/s \n",
            "\u001b[?25hRequirement already satisfied: pyparsing!=3.0.5,>=2.0.2 in /usr/local/lib/python3.7/dist-packages (from packaging>=20.0->dask[dataframe]>=2.10.0->swifter) (3.0.9)\n",
            "Requirement already satisfied: python-dateutil>=2.7.3 in /usr/local/lib/python3.7/dist-packages (from pandas>=1.0.0->swifter) (2.8.2)\n",
            "Requirement already satisfied: pytz>=2017.3 in /usr/local/lib/python3.7/dist-packages (from pandas>=1.0.0->swifter) (2022.2.1)\n",
            "Requirement already satisfied: locket in /usr/local/lib/python3.7/dist-packages (from partd>=0.3.10->dask[dataframe]>=2.10.0->swifter) (1.0.0)\n",
            "Requirement already satisfied: wcwidth in /usr/local/lib/python3.7/dist-packages (from prompt-toolkit<2.1.0,>=2.0.0->ipython>=4.0.0->ipywidgets>=7.0.0->swifter) (0.2.5)\n",
            "Requirement already satisfied: notebook>=4.4.1 in /usr/local/lib/python3.7/dist-packages (from widgetsnbextension~=3.6.0->ipywidgets>=7.0.0->swifter) (5.3.1)\n",
            "Requirement already satisfied: terminado>=0.8.1 in /usr/local/lib/python3.7/dist-packages (from notebook>=4.4.1->widgetsnbextension~=3.6.0->ipywidgets>=7.0.0->swifter) (0.13.3)\n",
            "Requirement already satisfied: Send2Trash in /usr/local/lib/python3.7/dist-packages (from notebook>=4.4.1->widgetsnbextension~=3.6.0->ipywidgets>=7.0.0->swifter) (1.8.0)\n",
            "Requirement already satisfied: nbconvert in /usr/local/lib/python3.7/dist-packages (from notebook>=4.4.1->widgetsnbextension~=3.6.0->ipywidgets>=7.0.0->swifter) (5.6.1)\n",
            "Requirement already satisfied: jinja2 in /usr/local/lib/python3.7/dist-packages (from notebook>=4.4.1->widgetsnbextension~=3.6.0->ipywidgets>=7.0.0->swifter) (2.11.3)\n",
            "Requirement already satisfied: nbformat in /usr/local/lib/python3.7/dist-packages (from notebook>=4.4.1->widgetsnbextension~=3.6.0->ipywidgets>=7.0.0->swifter) (5.4.0)\n",
            "Requirement already satisfied: jupyter-core>=4.4.0 in /usr/local/lib/python3.7/dist-packages (from notebook>=4.4.1->widgetsnbextension~=3.6.0->ipywidgets>=7.0.0->swifter) (4.11.1)\n",
            "Requirement already satisfied: pyzmq>=13 in /usr/local/lib/python3.7/dist-packages (from jupyter-client->ipykernel>=4.5.1->ipywidgets>=7.0.0->swifter) (23.2.1)\n",
            "Requirement already satisfied: ptyprocess in /usr/local/lib/python3.7/dist-packages (from terminado>=0.8.1->notebook>=4.4.1->widgetsnbextension~=3.6.0->ipywidgets>=7.0.0->swifter) (0.7.0)\n",
            "Requirement already satisfied: MarkupSafe>=0.23 in /usr/local/lib/python3.7/dist-packages (from jinja2->notebook>=4.4.1->widgetsnbextension~=3.6.0->ipywidgets>=7.0.0->swifter) (2.0.1)\n",
            "Requirement already satisfied: entrypoints>=0.2.2 in /usr/local/lib/python3.7/dist-packages (from nbconvert->notebook>=4.4.1->widgetsnbextension~=3.6.0->ipywidgets>=7.0.0->swifter) (0.4)\n",
            "Requirement already satisfied: testpath in /usr/local/lib/python3.7/dist-packages (from nbconvert->notebook>=4.4.1->widgetsnbextension~=3.6.0->ipywidgets>=7.0.0->swifter) (0.6.0)\n",
            "Requirement already satisfied: defusedxml in /usr/local/lib/python3.7/dist-packages (from nbconvert->notebook>=4.4.1->widgetsnbextension~=3.6.0->ipywidgets>=7.0.0->swifter) (0.7.1)\n",
            "Requirement already satisfied: pandocfilters>=1.4.1 in /usr/local/lib/python3.7/dist-packages (from nbconvert->notebook>=4.4.1->widgetsnbextension~=3.6.0->ipywidgets>=7.0.0->swifter) (1.5.0)\n",
            "Requirement already satisfied: mistune<2,>=0.8.1 in /usr/local/lib/python3.7/dist-packages (from nbconvert->notebook>=4.4.1->widgetsnbextension~=3.6.0->ipywidgets>=7.0.0->swifter) (0.8.4)\n",
            "Requirement already satisfied: fastjsonschema in /usr/local/lib/python3.7/dist-packages (from nbformat->notebook>=4.4.1->widgetsnbextension~=3.6.0->ipywidgets>=7.0.0->swifter) (2.16.1)\n",
            "Requirement already satisfied: jsonschema>=2.6 in /usr/local/lib/python3.7/dist-packages (from nbformat->notebook>=4.4.1->widgetsnbextension~=3.6.0->ipywidgets>=7.0.0->swifter) (4.3.3)\n",
            "Requirement already satisfied: attrs>=17.4.0 in /usr/local/lib/python3.7/dist-packages (from jsonschema>=2.6->nbformat->notebook>=4.4.1->widgetsnbextension~=3.6.0->ipywidgets>=7.0.0->swifter) (22.1.0)\n",
            "Requirement already satisfied: pyrsistent!=0.17.0,!=0.17.1,!=0.17.2,>=0.14.0 in /usr/local/lib/python3.7/dist-packages (from jsonschema>=2.6->nbformat->notebook>=4.4.1->widgetsnbextension~=3.6.0->ipywidgets>=7.0.0->swifter) (0.18.1)\n",
            "Requirement already satisfied: importlib-resources>=1.4.0 in /usr/local/lib/python3.7/dist-packages (from jsonschema>=2.6->nbformat->notebook>=4.4.1->widgetsnbextension~=3.6.0->ipywidgets>=7.0.0->swifter) (5.9.0)\n",
            "Requirement already satisfied: importlib-metadata in /usr/local/lib/python3.7/dist-packages (from jsonschema>=2.6->nbformat->notebook>=4.4.1->widgetsnbextension~=3.6.0->ipywidgets>=7.0.0->swifter) (4.12.0)\n",
            "Requirement already satisfied: typing-extensions in /usr/local/lib/python3.7/dist-packages (from jsonschema>=2.6->nbformat->notebook>=4.4.1->widgetsnbextension~=3.6.0->ipywidgets>=7.0.0->swifter) (4.1.1)\n",
            "Requirement already satisfied: zipp>=3.1.0 in /usr/local/lib/python3.7/dist-packages (from importlib-resources>=1.4.0->jsonschema>=2.6->nbformat->notebook>=4.4.1->widgetsnbextension~=3.6.0->ipywidgets>=7.0.0->swifter) (3.8.1)\n",
            "Building wheels for collected packages: swifter\n",
            "  Building wheel for swifter (setup.py) ... \u001b[?25l\u001b[?25hdone\n",
            "  Created wheel for swifter: filename=swifter-1.3.4-py3-none-any.whl size=16322 sha256=7ad01ee157ba0bd5526956dbf0a0d27895e71976c48f580fc49f00503cb41e91\n",
            "  Stored in directory: /root/.cache/pip/wheels/29/a7/0e/3a8f17ac69d759e1e93647114bc9bdc95957e5b0cbfd405205\n",
            "Successfully built swifter\n",
            "Installing collected packages: jedi, psutil, swifter\n",
            "  Attempting uninstall: psutil\n",
            "    Found existing installation: psutil 5.4.8\n",
            "    Uninstalling psutil-5.4.8:\n",
            "      Successfully uninstalled psutil-5.4.8\n",
            "Successfully installed jedi-0.18.1 psutil-5.9.2 swifter-1.3.4\n"
          ]
        },
        {
          "data": {
            "application/vnd.colab-display-data+json": {
              "pip_warning": {
                "packages": [
                  "psutil"
                ]
              }
            }
          },
          "metadata": {},
          "output_type": "display_data"
        }
      ],
      "source": [
        "#Load libraries\n",
        "!pip install swifter"
      ]
    },
    {
      "cell_type": "code",
      "execution_count": 2,
      "metadata": {
        "colab": {
          "base_uri": "https://localhost:8080/"
        },
        "id": "5RiChQkYhX75",
        "outputId": "4ae6c72b-63ac-4690-a6fe-4eea9eff9ac8"
      },
      "outputs": [
        {
          "name": "stdout",
          "output_type": "stream",
          "text": [
            "display.max_colwidth : int or None\n",
            "    The maximum width in characters of a column in the repr of\n",
            "    a pandas data structure. When the column overflows, a \"...\"\n",
            "    placeholder is embedded in the output. A 'None' value means unlimited.\n",
            "    [default: 50] [currently: 400]\n"
          ]
        }
      ],
      "source": [
        "import pandas as pd\n",
        "import numpy as np\n",
        "import pandas as pd\n",
        "from pathlib import Path\n",
        "import zipfile\n",
        "import tarfile\n",
        "import numpy as np\n",
        "import swifter\n",
        "import re\n",
        "import string\n",
        "import random\n",
        "from sklearn.base import BaseEstimator, TransformerMixin\n",
        "from bs4 import BeautifulSoup\n",
        "import spacy\n",
        "import re\n",
        "import os\n",
        "from spacy.matcher import Matcher\n",
        "from spacy.tokens import Token\n",
        "from pathlib import Path\n",
        "from sklearn.model_selection import train_test_split\n",
        "from nltk.stem.porter import PorterStemmer\n",
        "from collections import defaultdict\n",
        "from pathlib import Path\n",
        "import joblib\n",
        "from sklearn.pipeline import Pipeline\n",
        "import pandas as pd\n",
        "import numpy as np\n",
        "from pathlib import Path\n",
        "import textwrap as tw\n",
        "import matplotlib.pyplot as plt\n",
        "#from scipy.sparse import hstack\n",
        "import sklearn\n",
        "from sklearn.linear_model import LogisticRegression\n",
        "from sklearn.feature_extraction.text import TfidfTransformer, CountVectorizer, TfidfVectorizer\n",
        "from sklearn.model_selection import GridSearchCV\n",
        "from sklearn.metrics import classification_report\n",
        "from sklearn.pipeline import Pipeline\n",
        "from  sklearn.compose import ColumnTransformer\n",
        "from sklearn.metrics import fbeta_score, make_scorer\n",
        "pd.set_option('max_rows', 99999)\n",
        "pd.set_option('max_colwidth', 400)\n",
        "pd.describe_option('max_colwidth')"
      ]
    },
    {
      "attachments": {},
      "cell_type": "markdown",
      "metadata": {
        "id": "cXeG6ZQ4OVDj"
      },
      "source": [
        "# <font color='pickle'> **Load the dataset**\n",
        "\n",
        "- For this Hw you will usespam dataset from kaggle which can be found from [this](https://www.kaggle.com/uciml/sms-spam-collection-dataset) link. You can download this data and either upload it in google drive or in colab workspace. Load the data in pandas dataframe. \n",
        "\n",
        "- There are only two useful columns. These columns are related to (1) label (ham and spam) and the (2) text of email.\n",
        "\n",
        "- Rename columns as label and message\n",
        "\n",
        "- Find the %  ham amd spam in the data.\n",
        "\n",
        "\n",
        "\n"
      ]
    },
    {
      "cell_type": "code",
      "execution_count": 3,
      "metadata": {
        "colab": {
          "base_uri": "https://localhost:8080/"
        },
        "id": "SeVJSSN8P4O3",
        "outputId": "c681d0b6-7655-4cdb-878d-72eacfc339a7"
      },
      "outputs": [
        {
          "name": "stdout",
          "output_type": "stream",
          "text": [
            "Mounted at /content/drive\n"
          ]
        }
      ],
      "source": [
        "from google.colab import drive\n",
        "drive.mount('/content/drive')"
      ]
    },
    {
      "cell_type": "code",
      "execution_count": 4,
      "metadata": {
        "id": "MD-G22MqPR1o"
      },
      "outputs": [],
      "source": [
        "basepath = '/content/drive/MyDrive/NLP_Fall22/HW3/'\n",
        "base_folder = Path(basepath)\n",
        "data_folder = base_folder/'Data'\n",
        "model_folder =  base_folder/'Models'"
      ]
    },
    {
      "cell_type": "code",
      "execution_count": 5,
      "metadata": {
        "id": "rJ9FzhBLRI_r"
      },
      "outputs": [],
      "source": [
        "data = pd.read_csv(data_folder/'spam.csv',encoding='ISO-8859-1',usecols=['v1','v2'])\n",
        "data.columns = ['label','message']"
      ]
    },
    {
      "cell_type": "code",
      "execution_count": 6,
      "metadata": {
        "colab": {
          "base_uri": "https://localhost:8080/",
          "height": 206
        },
        "id": "X-gZlVPfRekd",
        "outputId": "acf8c0b0-3936-434b-986d-d6934305920d"
      },
      "outputs": [
        {
          "data": {
            "text/html": [
              "\n",
              "  <div id=\"df-0f5b5473-fb10-440b-9b01-e47c9837ef60\">\n",
              "    <div class=\"colab-df-container\">\n",
              "      <div>\n",
              "<style scoped>\n",
              "    .dataframe tbody tr th:only-of-type {\n",
              "        vertical-align: middle;\n",
              "    }\n",
              "\n",
              "    .dataframe tbody tr th {\n",
              "        vertical-align: top;\n",
              "    }\n",
              "\n",
              "    .dataframe thead th {\n",
              "        text-align: right;\n",
              "    }\n",
              "</style>\n",
              "<table border=\"1\" class=\"dataframe\">\n",
              "  <thead>\n",
              "    <tr style=\"text-align: right;\">\n",
              "      <th></th>\n",
              "      <th>label</th>\n",
              "      <th>message</th>\n",
              "    </tr>\n",
              "  </thead>\n",
              "  <tbody>\n",
              "    <tr>\n",
              "      <th>0</th>\n",
              "      <td>ham</td>\n",
              "      <td>Go until jurong point, crazy.. Available only in bugis n great world la e buffet... Cine there got amore wat...</td>\n",
              "    </tr>\n",
              "    <tr>\n",
              "      <th>1</th>\n",
              "      <td>ham</td>\n",
              "      <td>Ok lar... Joking wif u oni...</td>\n",
              "    </tr>\n",
              "    <tr>\n",
              "      <th>2</th>\n",
              "      <td>spam</td>\n",
              "      <td>Free entry in 2 a wkly comp to win FA Cup final tkts 21st May 2005. Text FA to 87121 to receive entry question(std txt rate)T&amp;C's apply 08452810075over18's</td>\n",
              "    </tr>\n",
              "    <tr>\n",
              "      <th>3</th>\n",
              "      <td>ham</td>\n",
              "      <td>U dun say so early hor... U c already then say...</td>\n",
              "    </tr>\n",
              "    <tr>\n",
              "      <th>4</th>\n",
              "      <td>ham</td>\n",
              "      <td>Nah I don't think he goes to usf, he lives around here though</td>\n",
              "    </tr>\n",
              "  </tbody>\n",
              "</table>\n",
              "</div>\n",
              "      <button class=\"colab-df-convert\" onclick=\"convertToInteractive('df-0f5b5473-fb10-440b-9b01-e47c9837ef60')\"\n",
              "              title=\"Convert this dataframe to an interactive table.\"\n",
              "              style=\"display:none;\">\n",
              "        \n",
              "  <svg xmlns=\"http://www.w3.org/2000/svg\" height=\"24px\"viewBox=\"0 0 24 24\"\n",
              "       width=\"24px\">\n",
              "    <path d=\"M0 0h24v24H0V0z\" fill=\"none\"/>\n",
              "    <path d=\"M18.56 5.44l.94 2.06.94-2.06 2.06-.94-2.06-.94-.94-2.06-.94 2.06-2.06.94zm-11 1L8.5 8.5l.94-2.06 2.06-.94-2.06-.94L8.5 2.5l-.94 2.06-2.06.94zm10 10l.94 2.06.94-2.06 2.06-.94-2.06-.94-.94-2.06-.94 2.06-2.06.94z\"/><path d=\"M17.41 7.96l-1.37-1.37c-.4-.4-.92-.59-1.43-.59-.52 0-1.04.2-1.43.59L10.3 9.45l-7.72 7.72c-.78.78-.78 2.05 0 2.83L4 21.41c.39.39.9.59 1.41.59.51 0 1.02-.2 1.41-.59l7.78-7.78 2.81-2.81c.8-.78.8-2.07 0-2.86zM5.41 20L4 18.59l7.72-7.72 1.47 1.35L5.41 20z\"/>\n",
              "  </svg>\n",
              "      </button>\n",
              "      \n",
              "  <style>\n",
              "    .colab-df-container {\n",
              "      display:flex;\n",
              "      flex-wrap:wrap;\n",
              "      gap: 12px;\n",
              "    }\n",
              "\n",
              "    .colab-df-convert {\n",
              "      background-color: #E8F0FE;\n",
              "      border: none;\n",
              "      border-radius: 50%;\n",
              "      cursor: pointer;\n",
              "      display: none;\n",
              "      fill: #1967D2;\n",
              "      height: 32px;\n",
              "      padding: 0 0 0 0;\n",
              "      width: 32px;\n",
              "    }\n",
              "\n",
              "    .colab-df-convert:hover {\n",
              "      background-color: #E2EBFA;\n",
              "      box-shadow: 0px 1px 2px rgba(60, 64, 67, 0.3), 0px 1px 3px 1px rgba(60, 64, 67, 0.15);\n",
              "      fill: #174EA6;\n",
              "    }\n",
              "\n",
              "    [theme=dark] .colab-df-convert {\n",
              "      background-color: #3B4455;\n",
              "      fill: #D2E3FC;\n",
              "    }\n",
              "\n",
              "    [theme=dark] .colab-df-convert:hover {\n",
              "      background-color: #434B5C;\n",
              "      box-shadow: 0px 1px 3px 1px rgba(0, 0, 0, 0.15);\n",
              "      filter: drop-shadow(0px 1px 2px rgba(0, 0, 0, 0.3));\n",
              "      fill: #FFFFFF;\n",
              "    }\n",
              "  </style>\n",
              "\n",
              "      <script>\n",
              "        const buttonEl =\n",
              "          document.querySelector('#df-0f5b5473-fb10-440b-9b01-e47c9837ef60 button.colab-df-convert');\n",
              "        buttonEl.style.display =\n",
              "          google.colab.kernel.accessAllowed ? 'block' : 'none';\n",
              "\n",
              "        async function convertToInteractive(key) {\n",
              "          const element = document.querySelector('#df-0f5b5473-fb10-440b-9b01-e47c9837ef60');\n",
              "          const dataTable =\n",
              "            await google.colab.kernel.invokeFunction('convertToInteractive',\n",
              "                                                     [key], {});\n",
              "          if (!dataTable) return;\n",
              "\n",
              "          const docLinkHtml = 'Like what you see? Visit the ' +\n",
              "            '<a target=\"_blank\" href=https://colab.research.google.com/notebooks/data_table.ipynb>data table notebook</a>'\n",
              "            + ' to learn more about interactive tables.';\n",
              "          element.innerHTML = '';\n",
              "          dataTable['output_type'] = 'display_data';\n",
              "          await google.colab.output.renderOutput(dataTable, element);\n",
              "          const docLink = document.createElement('div');\n",
              "          docLink.innerHTML = docLinkHtml;\n",
              "          element.appendChild(docLink);\n",
              "        }\n",
              "      </script>\n",
              "    </div>\n",
              "  </div>\n",
              "  "
            ],
            "text/plain": [
              "  label  \\\n",
              "0   ham   \n",
              "1   ham   \n",
              "2  spam   \n",
              "3   ham   \n",
              "4   ham   \n",
              "\n",
              "                                                                                                                                                       message  \n",
              "0                                              Go until jurong point, crazy.. Available only in bugis n great world la e buffet... Cine there got amore wat...  \n",
              "1                                                                                                                                Ok lar... Joking wif u oni...  \n",
              "2  Free entry in 2 a wkly comp to win FA Cup final tkts 21st May 2005. Text FA to 87121 to receive entry question(std txt rate)T&C's apply 08452810075over18's  \n",
              "3                                                                                                            U dun say so early hor... U c already then say...  \n",
              "4                                                                                                Nah I don't think he goes to usf, he lives around here though  "
            ]
          },
          "execution_count": 6,
          "metadata": {},
          "output_type": "execute_result"
        }
      ],
      "source": [
        "data.head()"
      ]
    },
    {
      "cell_type": "code",
      "execution_count": 7,
      "metadata": {
        "colab": {
          "base_uri": "https://localhost:8080/"
        },
        "id": "LpHhsMUecAJe",
        "outputId": "12a2bf06-3a18-4974-c053-37de4f0d73ce"
      },
      "outputs": [
        {
          "name": "stdout",
          "output_type": "stream",
          "text": [
            "2022-09-23 00:47:02.271956: E tensorflow/stream_executor/cuda/cuda_driver.cc:271] failed call to cuInit: CUDA_ERROR_NO_DEVICE: no CUDA-capable device is detected\n",
            "Looking in indexes: https://pypi.org/simple, https://us-python.pkg.dev/colab-wheels/public/simple/\n",
            "Collecting en-core-web-sm==3.4.0\n",
            "  Downloading https://github.com/explosion/spacy-models/releases/download/en_core_web_sm-3.4.0/en_core_web_sm-3.4.0-py3-none-any.whl (12.8 MB)\n",
            "\u001b[K     |████████████████████████████████| 12.8 MB 3.9 MB/s \n",
            "\u001b[?25hRequirement already satisfied: spacy<3.5.0,>=3.4.0 in /usr/local/lib/python3.7/dist-packages (from en-core-web-sm==3.4.0) (3.4.1)\n",
            "Requirement already satisfied: langcodes<4.0.0,>=3.2.0 in /usr/local/lib/python3.7/dist-packages (from spacy<3.5.0,>=3.4.0->en-core-web-sm==3.4.0) (3.3.0)\n",
            "Requirement already satisfied: setuptools in /usr/local/lib/python3.7/dist-packages (from spacy<3.5.0,>=3.4.0->en-core-web-sm==3.4.0) (57.4.0)\n",
            "Requirement already satisfied: numpy>=1.15.0 in /usr/local/lib/python3.7/dist-packages (from spacy<3.5.0,>=3.4.0->en-core-web-sm==3.4.0) (1.21.6)\n",
            "Requirement already satisfied: spacy-legacy<3.1.0,>=3.0.9 in /usr/local/lib/python3.7/dist-packages (from spacy<3.5.0,>=3.4.0->en-core-web-sm==3.4.0) (3.0.10)\n",
            "Requirement already satisfied: spacy-loggers<2.0.0,>=1.0.0 in /usr/local/lib/python3.7/dist-packages (from spacy<3.5.0,>=3.4.0->en-core-web-sm==3.4.0) (1.0.3)\n",
            "Requirement already satisfied: typer<0.5.0,>=0.3.0 in /usr/local/lib/python3.7/dist-packages (from spacy<3.5.0,>=3.4.0->en-core-web-sm==3.4.0) (0.4.2)\n",
            "Requirement already satisfied: cymem<2.1.0,>=2.0.2 in /usr/local/lib/python3.7/dist-packages (from spacy<3.5.0,>=3.4.0->en-core-web-sm==3.4.0) (2.0.6)\n",
            "Requirement already satisfied: wasabi<1.1.0,>=0.9.1 in /usr/local/lib/python3.7/dist-packages (from spacy<3.5.0,>=3.4.0->en-core-web-sm==3.4.0) (0.10.1)\n",
            "Requirement already satisfied: pathy>=0.3.5 in /usr/local/lib/python3.7/dist-packages (from spacy<3.5.0,>=3.4.0->en-core-web-sm==3.4.0) (0.6.2)\n",
            "Requirement already satisfied: pydantic!=1.8,!=1.8.1,<1.10.0,>=1.7.4 in /usr/local/lib/python3.7/dist-packages (from spacy<3.5.0,>=3.4.0->en-core-web-sm==3.4.0) (1.9.2)\n",
            "Requirement already satisfied: typing-extensions<4.2.0,>=3.7.4 in /usr/local/lib/python3.7/dist-packages (from spacy<3.5.0,>=3.4.0->en-core-web-sm==3.4.0) (4.1.1)\n",
            "Requirement already satisfied: preshed<3.1.0,>=3.0.2 in /usr/local/lib/python3.7/dist-packages (from spacy<3.5.0,>=3.4.0->en-core-web-sm==3.4.0) (3.0.7)\n",
            "Requirement already satisfied: catalogue<2.1.0,>=2.0.6 in /usr/local/lib/python3.7/dist-packages (from spacy<3.5.0,>=3.4.0->en-core-web-sm==3.4.0) (2.0.8)\n",
            "Requirement already satisfied: srsly<3.0.0,>=2.4.3 in /usr/local/lib/python3.7/dist-packages (from spacy<3.5.0,>=3.4.0->en-core-web-sm==3.4.0) (2.4.4)\n",
            "Requirement already satisfied: tqdm<5.0.0,>=4.38.0 in /usr/local/lib/python3.7/dist-packages (from spacy<3.5.0,>=3.4.0->en-core-web-sm==3.4.0) (4.64.1)\n",
            "Requirement already satisfied: jinja2 in /usr/local/lib/python3.7/dist-packages (from spacy<3.5.0,>=3.4.0->en-core-web-sm==3.4.0) (2.11.3)\n",
            "Requirement already satisfied: requests<3.0.0,>=2.13.0 in /usr/local/lib/python3.7/dist-packages (from spacy<3.5.0,>=3.4.0->en-core-web-sm==3.4.0) (2.23.0)\n",
            "Requirement already satisfied: thinc<8.2.0,>=8.1.0 in /usr/local/lib/python3.7/dist-packages (from spacy<3.5.0,>=3.4.0->en-core-web-sm==3.4.0) (8.1.0)\n",
            "Requirement already satisfied: packaging>=20.0 in /usr/local/lib/python3.7/dist-packages (from spacy<3.5.0,>=3.4.0->en-core-web-sm==3.4.0) (21.3)\n",
            "Requirement already satisfied: murmurhash<1.1.0,>=0.28.0 in /usr/local/lib/python3.7/dist-packages (from spacy<3.5.0,>=3.4.0->en-core-web-sm==3.4.0) (1.0.8)\n",
            "Requirement already satisfied: zipp>=0.5 in /usr/local/lib/python3.7/dist-packages (from catalogue<2.1.0,>=2.0.6->spacy<3.5.0,>=3.4.0->en-core-web-sm==3.4.0) (3.8.1)\n",
            "Requirement already satisfied: pyparsing!=3.0.5,>=2.0.2 in /usr/local/lib/python3.7/dist-packages (from packaging>=20.0->spacy<3.5.0,>=3.4.0->en-core-web-sm==3.4.0) (3.0.9)\n",
            "Requirement already satisfied: smart-open<6.0.0,>=5.2.1 in /usr/local/lib/python3.7/dist-packages (from pathy>=0.3.5->spacy<3.5.0,>=3.4.0->en-core-web-sm==3.4.0) (5.2.1)\n",
            "Requirement already satisfied: chardet<4,>=3.0.2 in /usr/local/lib/python3.7/dist-packages (from requests<3.0.0,>=2.13.0->spacy<3.5.0,>=3.4.0->en-core-web-sm==3.4.0) (3.0.4)\n",
            "Requirement already satisfied: urllib3!=1.25.0,!=1.25.1,<1.26,>=1.21.1 in /usr/local/lib/python3.7/dist-packages (from requests<3.0.0,>=2.13.0->spacy<3.5.0,>=3.4.0->en-core-web-sm==3.4.0) (1.24.3)\n",
            "Requirement already satisfied: certifi>=2017.4.17 in /usr/local/lib/python3.7/dist-packages (from requests<3.0.0,>=2.13.0->spacy<3.5.0,>=3.4.0->en-core-web-sm==3.4.0) (2022.6.15)\n",
            "Requirement already satisfied: idna<3,>=2.5 in /usr/local/lib/python3.7/dist-packages (from requests<3.0.0,>=2.13.0->spacy<3.5.0,>=3.4.0->en-core-web-sm==3.4.0) (2.10)\n",
            "Requirement already satisfied: blis<0.8.0,>=0.7.8 in /usr/local/lib/python3.7/dist-packages (from thinc<8.2.0,>=8.1.0->spacy<3.5.0,>=3.4.0->en-core-web-sm==3.4.0) (0.7.8)\n",
            "Requirement already satisfied: click<9.0.0,>=7.1.1 in /usr/local/lib/python3.7/dist-packages (from typer<0.5.0,>=0.3.0->spacy<3.5.0,>=3.4.0->en-core-web-sm==3.4.0) (7.1.2)\n",
            "Requirement already satisfied: MarkupSafe>=0.23 in /usr/local/lib/python3.7/dist-packages (from jinja2->spacy<3.5.0,>=3.4.0->en-core-web-sm==3.4.0) (2.0.1)\n",
            "\u001b[38;5;2m✔ Download and installation successful\u001b[0m\n",
            "You can now load the package via spacy.load('en_core_web_sm')\n"
          ]
        }
      ],
      "source": [
        "!python -m spacy download 'en_core_web_sm'"
      ]
    },
    {
      "cell_type": "code",
      "execution_count": 8,
      "metadata": {
        "id": "g6xXQ9qnc2r8"
      },
      "outputs": [],
      "source": [
        "custom_functions = base_folder/'Scripts/custom_functions'\n",
        "import sys\n",
        "sys.path.append(str(custom_functions))\n",
        "import custom_preprocessor as cp\n",
        "from  featurizer import ManualFeatures\n",
        "from  plot_learning_curve import plot_learning_curve"
      ]
    },
    {
      "attachments": {},
      "cell_type": "markdown",
      "metadata": {
        "id": "pNdWCViagO4F"
      },
      "source": [
        "# <font color='pickle'> **Provide the metric for evaluating model**</font>\n",
        "\n",
        "As you will notice, the  data is highly imbalanced (most messages are labelled as ham and only few are labelled as spam). Always predicting ham will give us very good accuracy (close to 90%). So you need to choose a different metric.\n",
        "\n",
        "Task: Provde the metric you will choose to evaluate your model. Explain why this is an appropriate metric for this case."
      ]
    },
    {
      "cell_type": "markdown",
      "metadata": {
        "id": "6fcMN-xgHmZQ"
      },
      "source": [
        "*    Precision = TruePositive / (TruePositive + FalsePositive)\n",
        "\n",
        "*    Recall = TruePositive / (TruePositive + FalseNegative)\n",
        "\n",
        "I choose F-score as my evaluation metric as it combines Precision and recall into a single score that seeks to balance both concerns.\n",
        "\n",
        "*    F-Measure = (2 * Precision * Recall) / (Precision + Recall)\n",
        "\n",
        "The Fbeta-measure measure is an abstraction of the F-measure where the balance of precision and recall in the calculation of the harmonic mean is controlled by a coefficient called beta.\n",
        "\n",
        "*    Fbeta-Measure = ((1 + beta^2) * Precision * Recall) / (beta^2 * Precision + Recall)\n",
        "\n",
        "In my case, I am assuming that the False negatives are more costly giving an higher weightage to recall, hence I am considering the beta score to be 0.5 and considering **F0.5 score** as my evaluation metric.\n",
        "\n",
        "\n"
      ]
    },
    {
      "attachments": {},
      "cell_type": "markdown",
      "metadata": {
        "id": "rH8_mvGhiThV"
      },
      "source": [
        "# <font color='pickle'> **Classification Pipelines**</font>\n",
        "\n",
        "In the previous lectures you learned Data processing, Featurization such as CountVectorizer, TFIDFVectorizer, and also Feature Engineering.\n",
        "* You will now use folllowing methods to create fearures which you can use in your model. \n",
        "\n",
        "    1. Sparse Embeddings (TF-IDF) (6 Points)\n",
        "    2. Feature Engineering (see examples below) (6 Points)\n",
        "    3. Sparse Embeddings (TF-IDF) + Feature Engineering (6 Points)\n",
        "\n",
        "**Approach:**\n",
        "\n",
        "<font color='indianred'> ****Use a smaller subset of dataset (e.g. 10 %) to evaluate the three pipelines . Based on your analysis (e.g. model score, learning curves) , choose one pipeline from the three. Provde your rational for choosing the pipleine. Train only the final pipeline on randomly selected larger subset (e.g. 40%) of the data.** </font>\n",
        "\n",
        "**Requirements:** \n",
        "\n",
        "1. You can use any ML model (Logistic Regression, XgBoost) for the classification. You will need to tune the **model for imbalanced dataset** (The link on XGBoost tutorial for imbalanced data: https://machinelearningmastery.com/xgboost-for-imbalanced-classification/).\n",
        "\n",
        "2. For feature engineering, you can choose from the examples below. You do not  have to use all of them. You can add other featues as well. Think about what faetures can distinguish a spam from a regular email. Some examples :\n",
        "\n",
        ">> Count of following  (Words, characters, digits, exclamation marks, numbers, Nouns, ProperNouns, AUX, VERBS, Adjectives, named entities, spelling mistakes (see the link on how to get spelling mistakes https://pypi.org/project/pyspellchecker/). \n",
        "\n",
        "3. For Sparse embeddings you will use **tfidf vectorization**. You need to choose appopriate parameters e.g. min_df, max_df, max_faetures, n-grams etc.). \n",
        "\n",
        "4. Think carefully about the pre-processing you will do.\n",
        "\n",
        "Tip: <font color = 'indianred'>**Using GridSearch for hyperparameter tuning might take a lot of time. Try using RandomizedSearch.**</font> You can also explore faster implementation of Gridsearch and RandomizedSearch in sklearn: \n",
        "\n",
        "1. [Halving Grid Search](https://scikit-learn.org/stable/modules/generated/sklearn.model_selection.HalvingGridSearchCV.html?highlight=halving#sklearn.model_selection.HalvingGridSearchCV)\n",
        "\n",
        "2. [HalvingRandomSearchCV](https://scikit-learn.org/stable/modules/generated/sklearn.model_selection.HalvingRandomSearchCV.html?highlight=halving#sklearn.model_selection.HalvingRandomSearchCV)\n",
        "\n",
        "\n",
        "\n"
      ]
    },
    {
      "cell_type": "markdown",
      "metadata": {
        "id": "PqPTPb0AsMP3"
      },
      "source": [
        "# **Required Submissions:**\n",
        "1.  Submit two colab/jupyter notebooks\n",
        "- (analysis with smaller subset and all three pipelines)\n",
        "- (analysis with bigger subset and only final pipeline)\n",
        "2. Pdf version of the notebooks (HWs will not be graded if pdf version is not provided.\n",
        "3. **The notebooks and pdf files should have the output.**\n",
        "4. **Name files as follows : FirstName_file1_hw2, FirstName_file2_h2**"
      ]
    },
    {
      "cell_type": "markdown",
      "metadata": {
        "id": "HQWtARc3Si6z"
      },
      "source": [
        "### **EDA**"
      ]
    },
    {
      "cell_type": "code",
      "execution_count": 10,
      "metadata": {
        "colab": {
          "base_uri": "https://localhost:8080/"
        },
        "id": "YlSQJ5ZlFRNv",
        "outputId": "ec44cfbc-ff5a-4689-ab05-c2723c97f45f"
      },
      "outputs": [
        {
          "data": {
            "text/plain": [
              "5572"
            ]
          },
          "execution_count": 10,
          "metadata": {},
          "output_type": "execute_result"
        }
      ],
      "source": [
        "# Train and test split of dataset\n",
        "len(data)"
      ]
    },
    {
      "cell_type": "code",
      "execution_count": 11,
      "metadata": {
        "id": "spa_r6mGQUmE"
      },
      "outputs": [],
      "source": [
        "# Capturing 10% of the dataset\n",
        "\n",
        "spam_dataset = data.sample(frac=0.1, replace=True, random_state=1)\n",
        "X_train, X_test, y_train, y_test = train_test_split(spam_dataset['message'],spam_dataset['label'], test_size= 0.3, stratify=spam_dataset['label'])"
      ]
    },
    {
      "cell_type": "code",
      "execution_count": 12,
      "metadata": {
        "colab": {
          "base_uri": "https://localhost:8080/"
        },
        "id": "f3p1UbDzRLNS",
        "outputId": "4c783230-d696-41eb-fb2e-1d29216ff552"
      },
      "outputs": [
        {
          "name": "stdout",
          "output_type": "stream",
          "text": [
            "<class 'pandas.core.frame.DataFrame'>\n",
            "Int64Index: 557 entries, 5157 to 2195\n",
            "Data columns (total 2 columns):\n",
            " #   Column   Non-Null Count  Dtype \n",
            "---  ------   --------------  ----- \n",
            " 0   label    557 non-null    object\n",
            " 1   message  557 non-null    object\n",
            "dtypes: object(2)\n",
            "memory usage: 13.1+ KB\n"
          ]
        }
      ],
      "source": [
        "spam_dataset.info()"
      ]
    },
    {
      "cell_type": "code",
      "execution_count": 13,
      "metadata": {
        "colab": {
          "base_uri": "https://localhost:8080/"
        },
        "id": "XKx53E1DScN-",
        "outputId": "bad78c30-3d37-488b-8ae0-05a46baa44a3"
      },
      "outputs": [
        {
          "data": {
            "text/plain": [
              "ham     338\n",
              "spam     51\n",
              "Name: label, dtype: int64"
            ]
          },
          "execution_count": 13,
          "metadata": {},
          "output_type": "execute_result"
        }
      ],
      "source": [
        "y_train.value_counts()"
      ]
    },
    {
      "cell_type": "code",
      "execution_count": 14,
      "metadata": {
        "colab": {
          "base_uri": "https://localhost:8080/"
        },
        "id": "6NEyrBGsS11H",
        "outputId": "48ca3e77-f181-4074-fb3b-7fbdbc2ce7dd"
      },
      "outputs": [
        {
          "data": {
            "text/plain": [
              "ham     146\n",
              "spam     22\n",
              "Name: label, dtype: int64"
            ]
          },
          "execution_count": 14,
          "metadata": {},
          "output_type": "execute_result"
        }
      ],
      "source": [
        "y_test.value_counts()"
      ]
    },
    {
      "cell_type": "code",
      "execution_count": 15,
      "metadata": {
        "colab": {
          "base_uri": "https://localhost:8080/"
        },
        "id": "-BfV8PZHS3i6",
        "outputId": "c63d5ab8-57c0-4102-a5b3-45f972a0dd84"
      },
      "outputs": [
        {
          "name": "stdout",
          "output_type": "stream",
          "text": [
            "X_train: (389,) y_train: (389,)\n",
            "X_test: (168,) y_test: (168,)\n"
          ]
        }
      ],
      "source": [
        "print(f'X_train: {X_train.shape} y_train: {y_train.shape}')\n",
        "print(f'X_test: {X_test.shape} y_test: {y_test.shape}')"
      ]
    },
    {
      "cell_type": "markdown",
      "metadata": {
        "id": "W9PVePumfokU"
      },
      "source": [
        "### Data preprocessing"
      ]
    },
    {
      "cell_type": "code",
      "execution_count": 16,
      "metadata": {
        "id": "E6TWyXI1foEt"
      },
      "outputs": [],
      "source": [
        "X_train_cleaned = cp.SpacyPreprocessor(model = 'en_core_web_sm', remove_stop=True,stemming=True, remove_hashtag_prefix=True ).transform(X_train.to_list())"
      ]
    },
    {
      "cell_type": "code",
      "execution_count": 17,
      "metadata": {
        "colab": {
          "base_uri": "https://localhost:8080/"
        },
        "id": "GnfGU9fdgrgx",
        "outputId": "6c9ada52-7cc7-4686-a3bd-9a181035983c"
      },
      "outputs": [
        {
          "data": {
            "text/plain": [
              "[\"yes.i'm office da\",\n",
              " 'free entry å£250 weekly competition text word win 80086 18 t&c',\n",
              " 'yeah work fine start week stuff dull easy guy fun',\n",
              " 'k fyi x ride early tomorrow morning crash place tonight',\n",
              " 'lol ok remember til nite',\n",
              " 'sorry da go mad pende work',\n",
              " 'anytime lor',\n",
              " 'sir late pay rent past month pay $ lt;#&gt   charge feel inconsiderate nag great cost not speak recession will not able pay charge month askin ahead month end help thank',\n",
              " 'u ask sit ok lor',\n",
              " 'want custom officer discount oh',\n",
              " 'nice talk not forget pix want',\n",
              " 'freemsg today day ready horny live town love sex fun game netcollex ltd 08700621170150p msg reply stop end',\n",
              " '2 sleeping bag 1 blanket paper   phone detail',\n",
              " 'great news freefone 08006344447 claim guarantee å£1000 cash å£2000 gift speak live operator',\n",
              " 'know jack shit ask helpful want pretend text response hypotheticalhuagauahahuagahyuhagga',\n",
              " 'nah straight bring bud drink actually little useful straight cash',\n",
              " 'right space want need start issue go suggest set definite there-- greece maybe ready',\n",
              " 'think disturb da',\n",
              " 'not kick coco',\n",
              " 'txt 86888 claim reward 3 hour talk time use phone subscribe6gbp mnth inc 3hrs 16 stop?txtstop',\n",
              " 'house maid murderer coz man murder   lt;#&gt th january public holiday closed include post office',\n",
              " 'lol busy',\n",
              " '07801543489 guarantee latest nokia phone 40 gb ipod mp3 player å£500 prize txt word collect no:83355 tc llc ny usa 150p mt msgrcvd18 +',\n",
              " 'situation gurl appropriate',\n",
              " 'play gautham',\n",
              " 'oh k. come tomorrow',\n",
              " 'home ard wat time u reach',\n",
              " 'wait e car dat bored wat cos wait outside get 2 home stuff watch tv wat',\n",
              " 'alright take morphine yo',\n",
              " 'usually fucking minute respond yes question',\n",
              " 'sound great m go sleep good night',\n",
              " 'ok prob',\n",
              " 'yay well tell 5 girl',\n",
              " 'want inside outside bedroom',\n",
              " \"west coast haiz ìï'll forever come\",\n",
              " 'time thinkin goin',\n",
              " 'ok ur typical reply',\n",
              " 'class hour sorry',\n",
              " 'bored housewife chat n date 0871750.77.11 bt national rate 10p min landline',\n",
              " 'yeah leave maybe 7ish',\n",
              " 'saturday sunday holiday difficult',\n",
              " 'think secure lemme know want drive south chill',\n",
              " 'dude friend afraid',\n",
              " 'hope thing go doctor remind need u c d little thing leave lounge',\n",
              " 'long quit like 5 minute day',\n",
              " 'future plan tomorrow result today good present enjoy future',\n",
              " '\\x89û r stayin extra week d. rugby weekend hi c u soon ham',\n",
              " 'welcome uk mobile date msg free give free call 08719839835 future mgs bill 150p daily cancel send \\\\go stop\\\\ 89123',\n",
              " 'ups 3days shipping company take 2wks way usp take week get lag bribe nipost stuff',\n",
              " 'hi roger cl',\n",
              " 'rt king pro video club > > need help 08701237397 16 + club credit redeemable enjoy',\n",
              " 'urgent 09061213237 landline å£5000 cash 4 holiday await collection t cs sae po box 177 m227xy 16 +',\n",
              " 'hey babe sorry soon gary come fix cause think know far ptbo say cost   lt;#&gt   buck know cheap find second hand machine right let know want babe',\n",
              " 'hi online yahoo like chat someday',\n",
              " 'lot cash weekend dear welcome weekend get big good cash away',\n",
              " 'ask carlos anybody chip',\n",
              " 'wine flow nevere',\n",
              " 'ron fri leh n say ding tai feng not reservation say wait lor',\n",
              " 'say go bed sleep',\n",
              " 'ok ill tell company',\n",
              " 'hey sit go intro pilate kickboxing',\n",
              " 'summer finally fancy chat flirt sexy single yr area matched reply summer free 2 join optout txt stop help08714742804',\n",
              " 'yavnt try play original',\n",
              " 'tough',\n",
              " 'win tkts euro2004 cup final å£800 cash collect 09058099801 b4190604 pobox 7876150ppm',\n",
              " 'know pls open',\n",
              " 'not worry guess busy',\n",
              " 'weird know point',\n",
              " 'go to ask lol think 7',\n",
              " 'lt;#&gt   w jetton ave forget',\n",
              " 'use half-8th',\n",
              " 'olol print forum post guy exact   prob fix gpu replacement hopefully not ignore',\n",
              " 'aiyo cos sm ì ì neva reply wait 4 ì reply lar tot ì not finish ur lab wat',\n",
              " 'hope work not stressful gr8 day',\n",
              " 'haha think',\n",
              " 'yep derek house sunday lt;3',\n",
              " '1apple day = doctor 1tulsi leaf day = cancer 1lemon day = fat 1cup milk day = bone problms 3 litres watr day = diseases snd th 2 u care',\n",
              " 'okay soon good',\n",
              " 'total disappointment texte crazy shit get',\n",
              " 'pattern emerge friend tell drive come smoke tell weed fiend smoke impede thing hesitant',\n",
              " 'da vijay go talk jaya tv',\n",
              " 'u today',\n",
              " 'sorry later meeting',\n",
              " \"excellent thought misundrstud frnd knw u hate bt day wen u'll knw truth u'll hate urself:- gn:-\",\n",
              " 'haha drive usf man know lot stoner',\n",
              " \"true dear sit pray evening feel sms'd time\",\n",
              " 'good luck draw take place 28th feb 06 good luck removal send stop 87239 customer service 08708034412',\n",
              " 'ola maybe today ve tell direct link get car bid online arrange shipping cut u partnership u invest money shipping take care rest!u??wud b self reliant soon dnt worry',\n",
              " 'sorry miss',\n",
              " '7 wonder world 7th 6th ur style 5th ur smile 4th ur personality 3rd ur nature 2nd ur sms 1st \\\\ur lovely friendship\\\\ good morning dear',\n",
              " 'today voda number end 1225 select receive å£50award match 08712300220 quote claim code 3100 standard rate app',\n",
              " \"s'fine anytime good\",\n",
              " 'match   lt;#&gt   2',\n",
              " 'hey guy know breathe neck bud able half track usf tonight',\n",
              " 'ur pin',\n",
              " 'big surprise',\n",
              " 'free entry å£250 weekly comp send word win 80086 18 t&c',\n",
              " 'joy father john john joy father mandan',\n",
              " 'well friday stuff like pig yesterday feel bleh writhe pain kind bleh',\n",
              " 'okie yan jiu skip ard oso cine den mrt blah blah blah',\n",
              " 'thanx yup come sun finish dinner go 2 hotel time fly tog 4 exactly mth today hope haf mth come',\n",
              " 'bluray player',\n",
              " 'half hour',\n",
              " 'uncle abbey happy new year abiola',\n",
              " 'sorry roommate take forever ok come',\n",
              " 'facebook huh',\n",
              " 'not know ask brother problem thing tell',\n",
              " 'oh k. come tomorrow',\n",
              " 'yeah think lemme know goin later',\n",
              " 'i\\x89û÷ve get salt rub open wound like',\n",
              " \"tell u dat baig face watch like e watch u give cos fr u. thanx 4 dat u've today touch\",\n",
              " 'not pick phone right pls send message',\n",
              " 'k k:)how training process',\n",
              " 'kit strip bill 150p netcollex ltd. po box 1013 ig11 oja',\n",
              " 'u lousy run come half dead hee',\n",
              " 'send aunty number',\n",
              " 'k sec break   lt;#&gt   cstore',\n",
              " 'aaooooright work',\n",
              " 'family happiness',\n",
              " '\\x89û r stayin extra week d. rugby weekend hi c u soon ham',\n",
              " 'yoyyooo u know change permission drive mac usb flash drive',\n",
              " 'send naughty pix',\n",
              " 'yeah ju rite',\n",
              " 'green quote tell jerry cartoon \\\\a person irritate u love u vry fail express gud nyt',\n",
              " 'amazing xxx picsfree1 video send enjoy vid 2day text keyword picsfree1 video',\n",
              " 'lick center tootsie pop',\n",
              " 'think miss teach til lecture damn work thing',\n",
              " 'stuff sell tell',\n",
              " 'i\\x89û÷ve get salt rub open wound like',\n",
              " 'won guarantee å£1000 cash å£2000 prize claim yr prize customer service representative 08714712379 10am-7pm cost 10p',\n",
              " '1 write msg 2 dictionary mode 3)cover screen hand 4)press   lt;#&gt 5)gently remove ur hand interesting',\n",
              " 'lot thing happen lindsay new year sigh bar ptbo blue heron go',\n",
              " 'oops   lt;#&gt',\n",
              " 'hey boys want hot xxx pic send direct 2 ur phone txt porn 69855 24hrs free 50p day stop text stopbcm sf wc1n3xx',\n",
              " 'december mobile 11mths+ entitle update late colour camera mobile free mobile update co free 08002986906',\n",
              " 'yuou work get pc mom find spot work need',\n",
              " 'want grasp pretty booty',\n",
              " 'yup not want yoga book',\n",
              " 'think fix send test message',\n",
              " 'shhhhh suppose know',\n",
              " 'u konw waht rael friendship m gve yuo exmpel jsut ese tihs msg evrey spllee tihs msg wrnog bt sitll yuo raed wihtuot ayn mitsake goodnight amp nice sleep sweet dreams',\n",
              " 'hey sun 1030 basic yoga course bugis pilate intro sit tell time r free',\n",
              " 'aldrine rakhesh ex rtm',\n",
              " 'okey dokey swashbuckling stuff oh',\n",
              " 'today iz yellow rise day u love frndship 1 misscall amp send ur frndz amp miss call u u 6missed u marry ur lover',\n",
              " 'watch tv get new job',\n",
              " 'u secret admirer look 2 contact u find r*reveal think ur special 09058094565',\n",
              " 'fine absolutly fine',\n",
              " 'award sipix digital camera 09061221061 landline delivery 28days t cs box177 m221bp 2yr warranty 150ppm 16 p på£3.99',\n",
              " 'room need',\n",
              " 'ok thanx',\n",
              " 'way home long dry spell season',\n",
              " 'ìï get wat buy tell ì need come',\n",
              " 'oh love soooo good hear omg miss today sorry have problem provider thank tme',\n",
              " 'u turn heater heater set lt;#&gt degree',\n",
              " 'receive understand n act',\n",
              " 'aiyo cos sm ì ì neva reply wait 4 ì reply lar tot ì not finish ur lab wat',\n",
              " 'freemsg hey buffy 25 love satisfy man home feel randy reply 2 c pix qlynnbv help08700621170150p msg send stop stop txt',\n",
              " 'tell accenture confirm true',\n",
              " 'seek lady street freak sheet',\n",
              " 'send ur email d soon',\n",
              " 'love',\n",
              " 'huh not thk oredi page',\n",
              " 'ring come guy costume gift future yowifes hint hint',\n",
              " 'valentine day special win å£1000 quiz partner trip lifetime send 83600 150p msg rcvd custcare:08718720201',\n",
              " 's nice bad not eat',\n",
              " 'ya referin mei ex wat ah waitin 4 u treat somebody shld b rich liao gd den u dun work frm tmr onwards',\n",
              " 'problem talk later',\n",
              " 'ringtone club uk single chart mobile week choose quality ringtone message free charge',\n",
              " 'enjoy watch play football basketball outdoors',\n",
              " 'babe hope ok shit night sleep fall asleep 5.iåõm knackered iåõm dread work tonight thou upto tonight x',\n",
              " 'not know jabo abi',\n",
              " 'coffee cake guess',\n",
              " 'get tea sure flavour',\n",
              " 'die e toot fringe',\n",
              " 'hair cream ship',\n",
              " \"plz number show coveragd area urgnt vasai amp reach 4'o clock plz\",\n",
              " 'yup finish c ì',\n",
              " 'ron fri leh n say ding tai feng not reservation say wait lor',\n",
              " 'ok',\n",
              " 'send greeting joy happiness gr8 evening',\n",
              " \"west coast haiz ìï'll forever come\",\n",
              " 'aight close alex place',\n",
              " 's staff take class',\n",
              " 'try contact response offer new nokia fone camcorder hit reply 08000930705 delivery',\n",
              " 'u secret admirer look 2 contact u find r*reveal think ur special 09058094599',\n",
              " 'probably tomorrow later tonight go',\n",
              " 'haha hope ì hear receipt sound gd luck',\n",
              " 'u want xmas 100 free text message new video phone half price line rental free 0800 0721072 find',\n",
              " 'month kotee birthday know',\n",
              " 'pain catch',\n",
              " 'sunny california weather cool',\n",
              " 'total disappointment texte crazy shit get',\n",
              " 'shall book chez jule half ok',\n",
              " 'love decision feeling decide love life simple magical',\n",
              " \"friendship game play word doesn\\\\'t start march end tomorrow yesterday today e\",\n",
              " '2 laptop noe infra slow lar wan fast',\n",
              " 'blame day ur life good day u happiness bad day u experience essential life gods blessing good morning',\n",
              " 'geeeee love barely stand',\n",
              " 'tell say eat shit',\n",
              " 'hope have good week check',\n",
              " 'enjoy jamster videosound gold club credit 2 new videosounds+2 logos+musicnew fun 16+only help 09701213186',\n",
              " 'prefer free day tue d fri oso ìï ask workin lor',\n",
              " 'forget couple buck send tomorrow k love ya',\n",
              " 'haha not tmr forfeit haha',\n",
              " 'doing?how',\n",
              " 'think go reg pract lesson fling advance haha wat time u go',\n",
              " 'thought prap mean goodo look tomorrow',\n",
              " 'home n ready',\n",
              " 'u wan 2 come dinner tonight',\n",
              " \"congratulation you've won winner august å£1000 prize draw 09066660100 prize code 2309\",\n",
              " 'notice like look shit mirror turn right freak',\n",
              " 'o turn stereo love mi phone unknown album',\n",
              " 'message responce happend',\n",
              " 'aight bit',\n",
              " 'it\\x89û÷ å£6 ok',\n",
              " 'fren lor wif mum n sis lor',\n",
              " 'gosh pain spose well come',\n",
              " 'yup lor u dun wan ok',\n",
              " 'time history need comfort luxury sell price india onion rs lt;#&gt   petrol rs lt;#&gt   beer rs lt;#&gt   shesil   lt;#&gt',\n",
              " 'sure check yahoo email send photo yesterday',\n",
              " 'send score sophas secondary application school think think apply research cost contact joke ogunrinde school expensive one',\n",
              " 'not know jabo abi',\n",
              " 'not thnk wrong calling',\n",
              " 'print oh   lt;#&gt   come upstairs',\n",
              " 'urgent 09061743811 landline abta complimentary 4 tenerife holiday å£5000 cash await collection sae t&cs box 326 cw25wx 150ppm',\n",
              " 'not thnk wrong calling',\n",
              " 'sorry go place tomorrow sorry',\n",
              " 'x2   lt;#&gt go',\n",
              " 'screaming mean shout',\n",
              " 'hi speak maneesha v. like know satisfied experience reply toll free yes',\n",
              " 'feel conveying reason ese',\n",
              " 'like talk pa able not know y.',\n",
              " 'mom want know',\n",
              " 'text creepy like will think forget',\n",
              " 'not want hear',\n",
              " 'mean get epi she.s fine she.s',\n",
              " 'v aluable ffectionate l oveable e ternal n oble t ruthful ntimate n atural e namous happy \\\\valentines day\\\\ advance',\n",
              " 'want holy shit guy kid bud',\n",
              " 'make easy pay   lt;#&gt yr pay early',\n",
              " 'think tantrum finished yeah point',\n",
              " 'yes ya dot',\n",
              " 'talk',\n",
              " 'ya tell abt tht incident',\n",
              " 'plan manage',\n",
              " 'haha get fast lose weight thk muz 4 month den get effect gee later aust bk e weight',\n",
              " 'nice new shirt thing wear nudist theme mu',\n",
              " 'payasam rinu bring',\n",
              " 'come home time will not trust',\n",
              " 'oh mr sheffield wanna play game okay boss nanny raise',\n",
              " 'thank lot wish birthday thank make birthday truly memorable',\n",
              " 'im gonnamissu much!!i il send u postcard buttheres aboutas chance merememberin asthere ofsi breakin contract luv yaxx',\n",
              " 'plan stay night prolly will til late',\n",
              " 'guess   lt;#&gt   min',\n",
              " 'nope watch tv home go v bored',\n",
              " '  lt;#&gt   min s ok',\n",
              " 'ugh long day exhaust want cuddle nap',\n",
              " 'ok s cool raglan rd edward rd cricket ground gimme ring ur closeby tuesday',\n",
              " 'like xxx pic hot nearly ban uk',\n",
              " '3 lion england tone reply lionm 4 mono lionp 4 poly 4 2 original n good tone 3gbp network operator rate apply',\n",
              " 'aight text tonight',\n",
              " 'text82228 > > ringtone logo game question',\n",
              " 'oh lk tt den e tt end cine lor dun wan yogasana oso',\n",
              " 'somewhr surely 4 u. god decide perfect time u meet dat person till den enjoy ur crush',\n",
              " 'lmao know',\n",
              " 'pls today   lt;#&gt not want excuse',\n",
              " 's watch resize',\n",
              " 'buy blackberry bold 2 torch buy new let know plus say buy   lt;#&gt g wifi ipad say   lt;#&gt g',\n",
              " 'finished class',\n",
              " '07732584351 rodger burns msg = try reply sms free nokia mobile + free camcorder 08000930705 delivery tomorrow',\n",
              " 'management puzzele',\n",
              " 'thread wishlist section forum ppl post nitro request start page collect',\n",
              " 'weekend fine excuse decorating',\n",
              " 'twink bear scallie skin jock call miss weekend fun 08712466669 10p min 2 stop text 08712460324(nat rate',\n",
              " '\\\\hey j r u feel well',\n",
              " 'prominent bite mark right cheek',\n",
              " 'tell friend plan valentines day lt;url&gt',\n",
              " 'hmm bad news hype park plaza $ 700 studio take leave 2 bedrm-$900',\n",
              " 'hi chachi try call u unable reach u pl missed cal u c tiz msg   kanagu',\n",
              " 'buy',\n",
              " 'yup bathe liao',\n",
              " 'desires- u go doctor 4 liver bit stylish ur hair manage s',\n",
              " 'ummmmmaah happy return d day dear sweet heart happy birthday dear',\n",
              " 'awesome think 8th usf time tonight',\n",
              " 'ok thanx',\n",
              " 'home',\n",
              " 'will believe true incredible txts reply g learn truly amazing thing blow mind o2fwd 18p txt',\n",
              " '',\n",
              " 'storm msg wen u lift d phne u \\\\hello\\\\ u knw wt d real meaning hello d girl yes u knw dat girl \\\\\"margaret hello\\\\ d girlfrnd f grahmbell invnte telphone moral 4get d person',\n",
              " '09094100151 use ur min call cast 10p min mob vary service provide aom gbp5 month aom box61,m60 1er u stop age 18 +',\n",
              " 'want inside night',\n",
              " 'gorgeous pix cumme thank',\n",
              " 'wat u like 4 ur birthday',\n",
              " 'sorry later',\n",
              " 'happen dear silent tense',\n",
              " 'ask mummy father',\n",
              " 'e admin building b slightly early u reach',\n",
              " 'aiyar u poor thing u support k jia think u',\n",
              " 'teach ranjith sir call sm like becaus s verify project prabu tell today pa not mistake',\n",
              " 'want new video phone750 anytime network min 150 text pound week 08000776320 reply delivery tomorrow',\n",
              " 'add care dude fuck hey money want',\n",
              " 'text way cup stop work bus',\n",
              " 'ur pin',\n",
              " 'bad use half way stop well complete',\n",
              " 'hey charle sorry late reply',\n",
              " 'lol member say aunt flow visit 6 month cause develop ovarian cyst bc way shrink',\n",
              " 'guess pub m m happy pig clover saying',\n",
              " 'watch telugu movie wat abt u',\n",
              " 'not na hi hi hi hi hi',\n",
              " 'auction round 4 high bid å£54 maximum bid å£71 bid send bids e. g. 10 bid å£10 83383 good luck',\n",
              " 'lmao ok will not need u hair anymore',\n",
              " 'u secret admirer look 2 contact u find r*reveal think ur special 09058094594',\n",
              " 'pick drop problem',\n",
              " 'stop club tone reply \\\\stop mix\\\\ html term club tone cost gbp4.50 week mfl',\n",
              " 'ok prob',\n",
              " 'thk fast xy suggest u dun wan ok go 2 rain leh get gd',\n",
              " 's able sleep',\n",
              " 'slowly god love amp need clean heart blood.send special people amp u c miracle tomorrow pls pls',\n",
              " 'miserable tell u effect birth control massive gut wrench cramp 2 month sleep night',\n",
              " 'yup ok',\n",
              " 'dunno dad say come home 2 bring 4 lunch yup w u lor u reach school lor',\n",
              " 'sorry able morning',\n",
              " 'u r close heart u away shatter plz stay',\n",
              " 'spend new year brother family let plan meet week ready spoil',\n",
              " 'buy today ìï need c meh',\n",
              " 'dear dave final notice collect 4 tenerife holiday #5000 cash award 09061743806 landline tc sae box326 cw25wx 150ppm',\n",
              " 'hello lover go new job happy think wake slave send teasing kiss sea',\n",
              " 'hope work not stressful gr8 day',\n",
              " 'thank ringtone order reference number x49 mobile charge 4.50 tone arrive customer service 09065989182 colour = red]text[/colour]txtstar',\n",
              " 'sorry   later meet sir',\n",
              " 'hey thk juz accordin wat discuss y lor kb sun cos not lesson attend kb sat',\n",
              " 'idea',\n",
              " 'yup shd haf ard 10 page add figure ìï get page',\n",
              " 'hi.:)technical assistance customer email',\n",
              " 'ok',\n",
              " 'buzzzz grin buzz ass buzz chest buzz cock phone vibrator feel shake',\n",
              " 'rounder:)so require',\n",
              " 'nope forget week',\n",
              " 'hey hun onbus goin 2 meet want 2go 4a meal donyt feel like cuz 2 bus home!but s sweet latelyxxx',\n",
              " 'wish',\n",
              " 'account credit 500 free text messages activate txt word credit 80488 t&c',\n",
              " 'request melle melle oru minnaminunginte nurungu vettam set callertune callers press 9 copy friend callertune',\n",
              " 'sure sure know be smokin',\n",
              " 'rip mobile content 08717509990 poly true pix ringtones games download 3',\n",
              " '1 thing change sentence \\\\because want 2 concentrate educational career m leave',\n",
              " 'sure parent work tuesday need cover story',\n",
              " 'sport fan late sport news str 2 ur mobile 1 wk free plus free tone txt sport 8007 0870141701216 + norm 4txt/120p',\n",
              " 'ask maybe message send glo',\n",
              " 'ok ur typical reply',\n",
              " 'que pase un buen tiempo like',\n",
              " 'lol big sale',\n",
              " '1 new voicemail 08719181513',\n",
              " 'ill obey',\n",
              " 'noice text',\n",
              " 'not file bag work call me.i tell find room',\n",
              " 'plus say grinule greet speak',\n",
              " 'yes swim',\n",
              " 'go college pa ill come self pa.',\n",
              " 'big surprise',\n",
              " 'specially select receive 2000 pound award 08712402050 line close cost 10ppm 16 + t&cs apply ag promo',\n",
              " '2 sch yar e salon v boring',\n",
              " 'dad go to get work ask crazy question',\n",
              " 'ya referin mei ex wat ah waitin 4 u treat somebody shld b rich liao gd den u dun work frm tmr onwards',\n",
              " 'u try',\n",
              " 'ok lor u wan look 4 u',\n",
              " 'not complete gist oh',\n",
              " 'doc prescribe morphine cause pain med wait mom bring med kick fast go to try later',\n",
              " 'library',\n",
              " 'yo dude guess get arrest day',\n",
              " 'goin workout lor muz lose e fat',\n",
              " 'gd luck 4 ur exam',\n",
              " 'say text time',\n",
              " 'huh y lei',\n",
              " 'omg snow tonite',\n",
              " 'ok h&m friday not wait dunno wot hell m go to 3 week slob- oh wait',\n",
              " 'win tkts euro2004 cup final å£800 cash collect 09058099801 b4190604 pobox 7876150ppm',\n",
              " 'k sleep rest:-',\n",
              " 'want kfc tuesday buy 2 meal 2 gravy 2 mark 2',\n",
              " 'oh yeah forget u 2 shop',\n",
              " 'see miss dear brother gr8 day',\n",
              " 'farm open',\n",
              " 'brainless baby doll :-d;- vehicle sariyag drive madoke barolla',\n",
              " 'im gonna mis u',\n",
              " 'exactly anyways far jide study visit',\n",
              " 'reach home safe n sound liao',\n",
              " 'urgent mobile number award å£2000 prize guaranteed 09061790126 land line claim 3030 valid 12hrs 150ppm',\n",
              " 'x course 2yr message messenger lik r send',\n",
              " 'oh oh den muz change plan liao yan jiu',\n",
              " 'huh fast dat mean u not finish painting']"
            ]
          },
          "execution_count": 17,
          "metadata": {},
          "output_type": "execute_result"
        }
      ],
      "source": [
        "X_train_cleaned"
      ]
    },
    {
      "cell_type": "code",
      "execution_count": 18,
      "metadata": {
        "colab": {
          "base_uri": "https://localhost:8080/"
        },
        "id": "kPSRtO3vhQ1O",
        "outputId": "57071f5c-e830-46a8-9d30-684bfdba09da"
      },
      "outputs": [
        {
          "data": {
            "text/plain": [
              "['/content/drive/MyDrive/NLP_Fall22/HW3/Data/Cleaned_data/x_train_cleaned_sparse_embed.pkl']"
            ]
          },
          "execution_count": 18,
          "metadata": {},
          "output_type": "execute_result"
        }
      ],
      "source": [
        "# save  this to a file\n",
        "X_train_cleaned_sparse_embed = data_folder/'Cleaned_data/x_train_cleaned_sparse_embed.pkl'\n",
        "joblib.dump(X_train_cleaned, X_train_cleaned_sparse_embed)"
      ]
    },
    {
      "cell_type": "code",
      "execution_count": 19,
      "metadata": {
        "colab": {
          "base_uri": "https://localhost:8080/"
        },
        "id": "WABufipahu-D",
        "outputId": "dd670fb2-5d70-48b3-fb18-3f67a832fb6a"
      },
      "outputs": [
        {
          "data": {
            "text/plain": [
              "['/content/drive/MyDrive/NLP_Fall22/HW3/Data/Cleaned_data/x_test_cleaned_sparse_embed.pkl']"
            ]
          },
          "execution_count": 19,
          "metadata": {},
          "output_type": "execute_result"
        }
      ],
      "source": [
        "X_test_cleaned = cp.SpacyPreprocessor(model = 'en_core_web_sm', remove_stop=True,stemming=True, remove_hashtag_prefix=True ).transform(X_test.to_list())\n",
        "\n",
        "# save  this to a file\n",
        "X_test_cleaned_sparse_embed = data_folder / 'Cleaned_data/x_test_cleaned_sparse_embed.pkl'\n",
        "joblib.dump(X_test_cleaned, X_test_cleaned_sparse_embed)"
      ]
    },
    {
      "cell_type": "markdown",
      "metadata": {
        "id": "px4CGDMca9KB"
      },
      "source": [
        "# **Pipeline 1 : Sparse embeddings**"
      ]
    },
    {
      "cell_type": "markdown",
      "metadata": {
        "id": "uMiGEWjmis3t"
      },
      "source": [
        "### Create pipeline"
      ]
    },
    {
      "cell_type": "code",
      "execution_count": 266,
      "metadata": {
        "id": "88oK4NACUBsP"
      },
      "outputs": [],
      "source": [
        "classifier_1a = Pipeline([('vectorizer', TfidfVectorizer(analyzer='word', token_pattern=r\"[\\S]+\")),\n",
        "                         ('classifier', LogisticRegression(max_iter = 10000)),\n",
        "                        ])"
      ]
    },
    {
      "cell_type": "markdown",
      "metadata": {
        "id": "E1d42T_qj5h7"
      },
      "source": [
        "### Parameter grid\n",
        "\n"
      ]
    },
    {
      "cell_type": "code",
      "execution_count": 267,
      "metadata": {
        "id": "DVjZnKxOjyLX"
      },
      "outputs": [],
      "source": [
        "# We have used default valus for all parameters except for lammetizer\n",
        "# Ideally we can specify range of values for all parameters\n",
        "# If the search space is very large then we should use RandomSerachCV\n",
        "\n",
        "param_grid_classifier_1a = {'vectorizer__max_features': [50, 100, 500, 1000, 2000, 5000],\n",
        "                           \n",
        "                           'classifier__C': [ 0.1, 1, 10, 100, 1000, 10000, 100000]}"
      ]
    },
    {
      "cell_type": "markdown",
      "metadata": {
        "id": "aMS8xPN-kF4R"
      },
      "source": [
        "### Apply gridsearch"
      ]
    },
    {
      "cell_type": "code",
      "execution_count": 174,
      "metadata": {
        "id": "IJ4tHv1ukMHG"
      },
      "outputs": [],
      "source": [
        "# We will now use Gridserach to find fine tune hyperparameters using cross validation\n",
        "# The advantage of using pipelines is that we can avoid data leakage\n",
        "# Since we have balanced data set, we will use default scoring method of accuracy\n",
        "# the typical value of cv used is 5. We are using 3, just for demonstration.\n",
        "from sklearn.metrics import f1_score, make_scorer\n",
        "\n",
        "def f2_func(y_true, y_pred):\n",
        "    f2_score = fbeta_score(y_true, y_pred, beta=0.5,pos_label='ham')\n",
        "    return f2_score\n",
        "\n",
        "def my_f2_scorer():\n",
        "    return make_scorer(f2_func)\n",
        "grid_classifier_1a = GridSearchCV(estimator=classifier_1a, param_grid=param_grid_classifier_1a, cv = 3,scoring=my_f2_scorer())"
      ]
    },
    {
      "cell_type": "code",
      "execution_count": 175,
      "metadata": {
        "colab": {
          "base_uri": "https://localhost:8080/"
        },
        "id": "3dsUASWakQQk",
        "outputId": "931d27ab-e2f1-476c-a5a7-994fe5a76c4a"
      },
      "outputs": [
        {
          "data": {
            "text/plain": [
              "GridSearchCV(cv=8,\n",
              "             estimator=Pipeline(steps=[('vectorizer',\n",
              "                                        TfidfVectorizer(token_pattern='[\\\\S]+')),\n",
              "                                       ('classifier',\n",
              "                                        LogisticRegression(max_iter=10000))]),\n",
              "             param_grid={'classifier__C': [0.1, 1, 10, 100, 1000, 10000,\n",
              "                                           100000],\n",
              "                         'vectorizer__max_features': [50, 100, 500, 1000, 2000,\n",
              "                                                      5000]},\n",
              "             scoring=make_scorer(f2_func))"
            ]
          },
          "execution_count": 175,
          "metadata": {},
          "output_type": "execute_result"
        }
      ],
      "source": [
        "# Fit the model on training data\n",
        "X_trained_cleaned = joblib.load(X_train_cleaned_sparse_embed)\n",
        "grid_classifier_1a.fit(X_trained_cleaned, y_train)"
      ]
    },
    {
      "cell_type": "code",
      "execution_count": 176,
      "metadata": {
        "colab": {
          "base_uri": "https://localhost:8080/"
        },
        "id": "hJqV3Y5onNzy",
        "outputId": "b70f86ea-ffca-4b76-eec4-68a4d9178599"
      },
      "outputs": [
        {
          "name": "stdout",
          "output_type": "stream",
          "text": [
            "Best cross-validation score: 0.98\n",
            "\n",
            "Best parameters:  {'classifier__C': 100000, 'vectorizer__max_features': 1000}\n",
            "\n",
            "Best estimator:  Pipeline(steps=[('vectorizer',\n",
            "                 TfidfVectorizer(max_features=1000, token_pattern='[\\\\S]+')),\n",
            "                ('classifier', LogisticRegression(C=100000, max_iter=10000))])\n"
          ]
        }
      ],
      "source": [
        "print(f'Best cross-validation score: {grid_classifier_1a.best_score_:.2f}')\n",
        "print(\"\\nBest parameters: \", grid_classifier_1a.best_params_)\n",
        "print(\"\\nBest estimator: \", grid_classifier_1a.best_estimator_)"
      ]
    },
    {
      "cell_type": "markdown",
      "metadata": {
        "id": "-4pqGeN8dMV-"
      },
      "source": [
        "### Save & Load model"
      ]
    },
    {
      "cell_type": "code",
      "execution_count": 177,
      "metadata": {
        "id": "u0eDrzUgdKsW"
      },
      "outputs": [],
      "source": [
        "file_model_sparse_embed = model_folder / 'sparse_embed_model.pkl'\n",
        "joblib.dump(grid_classifier_1a.best_estimator_, file_model_sparse_embed)\n",
        "# load the saved model\n",
        "grid_classifier_1a = joblib.load(file_model_sparse_embed)"
      ]
    },
    {
      "cell_type": "code",
      "execution_count": 178,
      "metadata": {
        "colab": {
          "base_uri": "https://localhost:8080/",
          "height": 368
        },
        "id": "u6uyS5uJqYfC",
        "outputId": "1bb27bbb-7e84-4e7a-a731-444de3bb9fbb"
      },
      "outputs": [
        {
          "data": {
            "text/plain": [
              "<module 'matplotlib.pyplot' from '/usr/local/lib/python3.7/dist-packages/matplotlib/pyplot.py'>"
            ]
          },
          "execution_count": 178,
          "metadata": {},
          "output_type": "execute_result"
        },
        {
          "data": {
            "image/png": "[encoded data removed]",
            "text/plain": [
              "<Figure size 1440x360 with 3 Axes>"
            ]
          },
          "metadata": {
            "needs_background": "light"
          },
          "output_type": "display_data"
        }
      ],
      "source": [
        "# plot learning curces\n",
        "# This cell can take upto 30 minutes to run\n",
        "plot_learning_curve(grid_classifier_1a, 'Learning Curves Pipeline1', X_train_cleaned, y_train)"
      ]
    },
    {
      "cell_type": "code",
      "execution_count": 179,
      "metadata": {
        "colab": {
          "base_uri": "https://localhost:8080/"
        },
        "id": "RJGPWRf9se1-",
        "outputId": "7dec1fd1-54c1-4e43-c3a1-9a731055ad90"
      },
      "outputs": [
        {
          "name": "stdout",
          "output_type": "stream",
          "text": [
            "Accuracy on train set  is 1.0\n"
          ]
        }
      ],
      "source": [
        "# Accuracy on Train data set\n",
        "grid_classifier_sparse_embed = grid_classifier_1a.score(X_train_cleaned, y_train)\n",
        "print(f'Accuracy on train set  is {grid_classifier_sparse_embed}')"
      ]
    },
    {
      "cell_type": "markdown",
      "metadata": {
        "id": "KYHnxyl9soSm"
      },
      "source": [
        "### Evaluation"
      ]
    },
    {
      "cell_type": "code",
      "execution_count": 180,
      "metadata": {
        "id": "oRDZyY-jsq2O"
      },
      "outputs": [],
      "source": [
        "# Final Pipeline\n",
        "def final_pipeline(text):\n",
        "  # cleaned_text = cp.SpacyPreprocessor(model = 'en_core_web_sm', remove_stop=True).transform(text)\n",
        "  cleaned_text = joblib.load(X_test_cleaned_sparse_embed)\n",
        "  predictions = grid_classifier_1a.predict(cleaned_text)\n",
        "  return predictions\n",
        "# predicted values for Test data set\n",
        "y_test_pred = final_pipeline(X_test)"
      ]
    },
    {
      "cell_type": "code",
      "execution_count": 181,
      "metadata": {
        "colab": {
          "base_uri": "https://localhost:8080/"
        },
        "id": "20osA3slsR2c",
        "outputId": "e1483906-4148-499d-feed-ffc161aee0b5"
      },
      "outputs": [
        {
          "name": "stdout",
          "output_type": "stream",
          "text": [
            "\n",
            "Test set classification report:\n",
            "\n",
            "               precision    recall  f1-score   support\n",
            "\n",
            "         ham       0.97      0.99      0.98       146\n",
            "        spam       0.95      0.82      0.88        22\n",
            "\n",
            "    accuracy                           0.97       168\n",
            "   macro avg       0.96      0.91      0.93       168\n",
            "weighted avg       0.97      0.97      0.97       168\n",
            "\n"
          ]
        }
      ],
      "source": [
        "print('\\nTest set classification report:\\n\\n',classification_report(y_test, y_test_pred ))"
      ]
    },
    {
      "cell_type": "markdown",
      "metadata": {
        "id": "xL785OPUd1w2"
      },
      "source": [
        "# **Pipeline 2: Data Preprocessing + Manual Features + ML Model pipeline**"
      ]
    },
    {
      "cell_type": "markdown",
      "metadata": {
        "id": "0oEyKy3PeCLa"
      },
      "source": [
        "### Generate Manual Features"
      ]
    },
    {
      "cell_type": "code",
      "execution_count": 182,
      "metadata": {
        "id": "_yJEMzxFrYJz"
      },
      "outputs": [],
      "source": [
        "featurizer =  ManualFeatures(spacy_model='en_core_web_sm')"
      ]
    },
    {
      "cell_type": "code",
      "execution_count": 183,
      "metadata": {
        "colab": {
          "base_uri": "https://localhost:8080/"
        },
        "id": "ZbIm8E_BnUDJ",
        "outputId": "9d494534-3b0d-4b1d-9999-29c248b80547"
      },
      "outputs": [
        {
          "data": {
            "text/plain": [
              "numpy.ndarray"
            ]
          },
          "execution_count": 183,
          "metadata": {},
          "output_type": "execute_result"
        }
      ],
      "source": [
        "type(X_train.values)"
      ]
    },
    {
      "cell_type": "code",
      "execution_count": 184,
      "metadata": {
        "id": "L3AdqNMavkGX"
      },
      "outputs": [],
      "source": [
        "X_train_features, feature_names  = featurizer.fit_transform(X_train.values)"
      ]
    },
    {
      "cell_type": "code",
      "execution_count": 225,
      "metadata": {
        "colab": {
          "base_uri": "https://localhost:8080/"
        },
        "id": "fybV-T5u4c8n",
        "outputId": "8d1e25cb-05fc-4113-c60c-96e92f0abd87"
      },
      "outputs": [
        {
          "data": {
            "text/plain": [
              "['count_words',\n",
              " 'count_characters',\n",
              " 'count_characters_no_space',\n",
              " 'avg_word_length',\n",
              " 'count_digits',\n",
              " 'count_numbers',\n",
              " 'noun_count',\n",
              " 'aux_count',\n",
              " 'verb_count',\n",
              " 'adj_count',\n",
              " 'ner']"
            ]
          },
          "execution_count": 225,
          "metadata": {},
          "output_type": "execute_result"
        }
      ],
      "source": [
        "feature_names"
      ]
    },
    {
      "cell_type": "markdown",
      "metadata": {
        "id": "Qa3vx_Lq8Qlh"
      },
      "source": [
        "### Create pipeline 2"
      ]
    },
    {
      "cell_type": "code",
      "execution_count": 186,
      "metadata": {
        "id": "IoFklWbMvoX5"
      },
      "outputs": [],
      "source": [
        "classifier_1b = Pipeline([('classifier', LogisticRegression(max_iter = 10000)),\n",
        "                        ])"
      ]
    },
    {
      "cell_type": "markdown",
      "metadata": {
        "id": "FgkO3Eeh8ajl"
      },
      "source": [
        "### Parameter grid"
      ]
    },
    {
      "cell_type": "code",
      "execution_count": 226,
      "metadata": {
        "id": "kidjwgfVd7wy"
      },
      "outputs": [],
      "source": [
        "# We have used default valus for all parameters except for lammetizer\n",
        "# Ideally we can specify range of values for all parameters\n",
        "# If the search space is very large then we should use RandomSerachCV\n",
        "\n",
        "param_grid_classifier_1b = {'classifier__C': [0.01, 10, 1000, 10000, 100000]}"
      ]
    },
    {
      "cell_type": "markdown",
      "metadata": {
        "id": "OegLcvEE8ge-"
      },
      "source": [
        "\n",
        "### Apply gridsearch\n"
      ]
    },
    {
      "cell_type": "code",
      "execution_count": 227,
      "metadata": {
        "id": "0nX_JCSxeHDK"
      },
      "outputs": [],
      "source": [
        "# We will now use Gridserach to find fine tune hyperparameters using cross validation\n",
        "# The advantage of using pipelines is that we can avoid data leakage\n",
        "# Since we have balanced data set, we will use default scoring method of accuracy\n",
        "# the typical value of cv used is 5. We are using 3, just for demonstration.\n",
        "\n",
        "grid_classifier_1b = GridSearchCV(estimator=classifier_1b, param_grid=param_grid_classifier_1b, cv = 8,scoring=my_f2_scorer())"
      ]
    },
    {
      "cell_type": "code",
      "execution_count": 228,
      "metadata": {
        "colab": {
          "base_uri": "https://localhost:8080/"
        },
        "id": "43gT4P0XeK5x",
        "outputId": "c8a88b49-2462-4f91-8394-e5a1c8040e0a"
      },
      "outputs": [
        {
          "data": {
            "text/plain": [
              "GridSearchCV(cv=8,\n",
              "             estimator=Pipeline(steps=[('classifier',\n",
              "                                        LogisticRegression(max_iter=10000))]),\n",
              "             param_grid={'classifier__C': [0.01, 10, 1000, 10000, 100000]},\n",
              "             scoring=make_scorer(f2_func))"
            ]
          },
          "execution_count": 228,
          "metadata": {},
          "output_type": "execute_result"
        }
      ],
      "source": [
        "# Fit the model on training data\n",
        "grid_classifier_1b.fit(X_train_features, y_train)"
      ]
    },
    {
      "cell_type": "code",
      "execution_count": 229,
      "metadata": {
        "colab": {
          "base_uri": "https://localhost:8080/"
        },
        "id": "Pq6YBjte0N-X",
        "outputId": "c936517c-5745-4cb7-ee74-f74899827614"
      },
      "outputs": [
        {
          "name": "stdout",
          "output_type": "stream",
          "text": [
            "Best cross-validation score: 0.98\n",
            "\n",
            "Best parameters:  {'classifier__C': 10}\n",
            "\n",
            "Best estimator:  Pipeline(steps=[('classifier', LogisticRegression(C=10, max_iter=10000))])\n"
          ]
        }
      ],
      "source": [
        "print(\"Best cross-validation score: {:.2f}\".format(grid_classifier_1b.best_score_))\n",
        "print(\"\\nBest parameters: \", grid_classifier_1b.best_params_)\n",
        "print(\"\\nBest estimator: \", grid_classifier_1b.best_estimator_)"
      ]
    },
    {
      "cell_type": "markdown",
      "metadata": {
        "id": "_CjUuqaK85U4"
      },
      "source": [
        "### Save and Load mode;"
      ]
    },
    {
      "cell_type": "code",
      "execution_count": 230,
      "metadata": {
        "colab": {
          "base_uri": "https://localhost:8080/"
        },
        "id": "elPM_B5i0QTH",
        "outputId": "f0f051c9-dc95-4e6a-b3a2-7e4f436ffb57"
      },
      "outputs": [
        {
          "data": {
            "text/plain": [
              "['/content/drive/MyDrive/NLP_Fall22/HW3/Models/features_model.pkl']"
            ]
          },
          "execution_count": 230,
          "metadata": {},
          "output_type": "execute_result"
        }
      ],
      "source": [
        "file_model_features = model_folder / 'features_model.pkl'\n",
        "joblib.dump(grid_classifier_1b.best_estimator_, file_model_features)"
      ]
    },
    {
      "cell_type": "code",
      "execution_count": 231,
      "metadata": {
        "id": "6VIHzagX0eKo"
      },
      "outputs": [],
      "source": [
        "# load the saved model\n",
        "grid_classifier_1b = joblib.load(file_model_features)"
      ]
    },
    {
      "cell_type": "markdown",
      "metadata": {
        "id": "ZrpvOJ3k9EB4"
      },
      "source": [
        "### Plot learning curve"
      ]
    },
    {
      "cell_type": "code",
      "execution_count": 232,
      "metadata": {
        "colab": {
          "base_uri": "https://localhost:8080/",
          "height": 351
        },
        "id": "6Aqj9GlF2o6A",
        "outputId": "1a9a4acf-d216-4840-dc9f-16cbb1c936b4"
      },
      "outputs": [
        {
          "data": {
            "image/png": "[encoded data removed]",
            "text/plain": [
              "<Figure size 1440x360 with 3 Axes>"
            ]
          },
          "metadata": {
            "needs_background": "light"
          },
          "output_type": "display_data"
        }
      ],
      "source": [
        "# plot learning curces\n",
        "# This cell can take upto 30 minutes to run\n",
        "plot_learning_curve(grid_classifier_1b, 'Learning Curves classifier_1b', X_train_features, y_train,scoring=my_f2_scorer())\n",
        "plt.show()"
      ]
    },
    {
      "cell_type": "code",
      "execution_count": 233,
      "metadata": {
        "colab": {
          "base_uri": "https://localhost:8080/"
        },
        "id": "ST7mZTuL5dOt",
        "outputId": "3918e3e5-79f2-4230-91eb-7c16636c8067"
      },
      "outputs": [
        {
          "name": "stdout",
          "output_type": "stream",
          "text": [
            "Accuracy on train set  is 0.9794344473007712\n"
          ]
        }
      ],
      "source": [
        "# Accuracy on Train data set\n",
        "grid_classifier_sparse_embed = grid_classifier_1b.score(X_train_features, y_train)\n",
        "print(f'Accuracy on train set  is {grid_classifier_sparse_embed}')"
      ]
    },
    {
      "cell_type": "markdown",
      "metadata": {
        "id": "pPfcc7yb9XI3"
      },
      "source": [
        "### Evaluate model on test datset"
      ]
    },
    {
      "cell_type": "code",
      "execution_count": 234,
      "metadata": {
        "id": "kFJv_MQq51-c"
      },
      "outputs": [],
      "source": [
        "# Final Pipeline\n",
        "def final_pipeline(text):\n",
        "  test_features, feature_names = featurizer.fit_transform(X_test.values)\n",
        "  predictions = grid_classifier_1b.predict(test_features)\n",
        "  return predictions\n",
        "# predicted values for Test data set\n",
        "y_test_pred = final_pipeline(X_test)"
      ]
    },
    {
      "cell_type": "markdown",
      "metadata": {
        "id": "Vr_ij0an9kAB"
      },
      "source": [
        "### Classification report for test dataset"
      ]
    },
    {
      "cell_type": "code",
      "execution_count": 235,
      "metadata": {
        "colab": {
          "base_uri": "https://localhost:8080/"
        },
        "id": "kR2M9N7w6WMV",
        "outputId": "1ecb1f50-9134-4fca-c95c-4af1ad5e3dd2"
      },
      "outputs": [
        {
          "name": "stdout",
          "output_type": "stream",
          "text": [
            "\n",
            "Test set classification report:\n",
            "\n",
            "               precision    recall  f1-score   support\n",
            "\n",
            "         ham       0.99      0.98      0.98       146\n",
            "        spam       0.87      0.91      0.89        22\n",
            "\n",
            "    accuracy                           0.97       168\n",
            "   macro avg       0.93      0.94      0.94       168\n",
            "weighted avg       0.97      0.97      0.97       168\n",
            "\n"
          ]
        }
      ],
      "source": [
        "print('\\nTest set classification report:\\n\\n',classification_report(y_test, y_test_pred ))"
      ]
    },
    {
      "cell_type": "markdown",
      "metadata": {
        "id": "CoBjjYDi9u4Q"
      },
      "source": [
        "# **Pipeline 3: Combine Manual Features and TfID**"
      ]
    },
    {
      "cell_type": "code",
      "execution_count": 236,
      "metadata": {
        "id": "cJMwgFYj6gEI"
      },
      "outputs": [],
      "source": [
        "X_train_final = pd.concat((pd.DataFrame(X_train_cleaned, columns =['cleaned_text']), \n",
        "                           pd.DataFrame(X_train_features, columns=feature_names)),axis =1)"
      ]
    },
    {
      "cell_type": "code",
      "execution_count": 237,
      "metadata": {
        "colab": {
          "base_uri": "https://localhost:8080/",
          "height": 320
        },
        "id": "A3mh9gP56ilk",
        "outputId": "ca99df8c-253e-446d-bed8-149bf568c5fc"
      },
      "outputs": [
        {
          "data": {
            "text/html": [
              "\n",
              "  <div id=\"df-9f57c95a-daab-4082-beaf-2da5bc151c19\">\n",
              "    <div class=\"colab-df-container\">\n",
              "      <div>\n",
              "<style scoped>\n",
              "    .dataframe tbody tr th:only-of-type {\n",
              "        vertical-align: middle;\n",
              "    }\n",
              "\n",
              "    .dataframe tbody tr th {\n",
              "        vertical-align: top;\n",
              "    }\n",
              "\n",
              "    .dataframe thead th {\n",
              "        text-align: right;\n",
              "    }\n",
              "</style>\n",
              "<table border=\"1\" class=\"dataframe\">\n",
              "  <thead>\n",
              "    <tr style=\"text-align: right;\">\n",
              "      <th></th>\n",
              "      <th>cleaned_text</th>\n",
              "      <th>count_words</th>\n",
              "      <th>count_characters</th>\n",
              "      <th>count_characters_no_space</th>\n",
              "      <th>avg_word_length</th>\n",
              "      <th>count_digits</th>\n",
              "      <th>count_numbers</th>\n",
              "      <th>noun_count</th>\n",
              "      <th>aux_count</th>\n",
              "      <th>verb_count</th>\n",
              "      <th>adj_count</th>\n",
              "      <th>ner</th>\n",
              "    </tr>\n",
              "  </thead>\n",
              "  <tbody>\n",
              "    <tr>\n",
              "      <th>0</th>\n",
              "      <td>yes.i'm office da</td>\n",
              "      <td>4.0</td>\n",
              "      <td>20.0</td>\n",
              "      <td>17.0</td>\n",
              "      <td>4.250000</td>\n",
              "      <td>0.0</td>\n",
              "      <td>0.0</td>\n",
              "      <td>0.0</td>\n",
              "      <td>1.0</td>\n",
              "      <td>0.0</td>\n",
              "      <td>1.0</td>\n",
              "      <td>0.0</td>\n",
              "    </tr>\n",
              "    <tr>\n",
              "      <th>1</th>\n",
              "      <td>free entry å£250 weekly competition text word win 80086 18 t&amp;c</td>\n",
              "      <td>14.0</td>\n",
              "      <td>74.0</td>\n",
              "      <td>61.0</td>\n",
              "      <td>4.357143</td>\n",
              "      <td>10.0</td>\n",
              "      <td>3.0</td>\n",
              "      <td>5.0</td>\n",
              "      <td>5.0</td>\n",
              "      <td>0.0</td>\n",
              "      <td>1.0</td>\n",
              "      <td>2.0</td>\n",
              "    </tr>\n",
              "    <tr>\n",
              "      <th>2</th>\n",
              "      <td>yeah work fine start week stuff dull easy guy fun</td>\n",
              "      <td>20.0</td>\n",
              "      <td>95.0</td>\n",
              "      <td>76.0</td>\n",
              "      <td>3.800000</td>\n",
              "      <td>0.0</td>\n",
              "      <td>0.0</td>\n",
              "      <td>1.0</td>\n",
              "      <td>4.0</td>\n",
              "      <td>2.0</td>\n",
              "      <td>1.0</td>\n",
              "      <td>6.0</td>\n",
              "    </tr>\n",
              "    <tr>\n",
              "      <th>3</th>\n",
              "      <td>k fyi x ride early tomorrow morning crash place tonight</td>\n",
              "      <td>17.0</td>\n",
              "      <td>81.0</td>\n",
              "      <td>65.0</td>\n",
              "      <td>3.823529</td>\n",
              "      <td>0.0</td>\n",
              "      <td>0.0</td>\n",
              "      <td>2.0</td>\n",
              "      <td>8.0</td>\n",
              "      <td>1.0</td>\n",
              "      <td>2.0</td>\n",
              "      <td>0.0</td>\n",
              "    </tr>\n",
              "    <tr>\n",
              "      <th>4</th>\n",
              "      <td>lol ok remember til nite</td>\n",
              "      <td>10.0</td>\n",
              "      <td>43.0</td>\n",
              "      <td>34.0</td>\n",
              "      <td>3.400000</td>\n",
              "      <td>0.0</td>\n",
              "      <td>0.0</td>\n",
              "      <td>0.0</td>\n",
              "      <td>1.0</td>\n",
              "      <td>1.0</td>\n",
              "      <td>2.0</td>\n",
              "      <td>1.0</td>\n",
              "    </tr>\n",
              "  </tbody>\n",
              "</table>\n",
              "</div>\n",
              "      <button class=\"colab-df-convert\" onclick=\"convertToInteractive('df-9f57c95a-daab-4082-beaf-2da5bc151c19')\"\n",
              "              title=\"Convert this dataframe to an interactive table.\"\n",
              "              style=\"display:none;\">\n",
              "        \n",
              "  <svg xmlns=\"http://www.w3.org/2000/svg\" height=\"24px\"viewBox=\"0 0 24 24\"\n",
              "       width=\"24px\">\n",
              "    <path d=\"M0 0h24v24H0V0z\" fill=\"none\"/>\n",
              "    <path d=\"M18.56 5.44l.94 2.06.94-2.06 2.06-.94-2.06-.94-.94-2.06-.94 2.06-2.06.94zm-11 1L8.5 8.5l.94-2.06 2.06-.94-2.06-.94L8.5 2.5l-.94 2.06-2.06.94zm10 10l.94 2.06.94-2.06 2.06-.94-2.06-.94-.94-2.06-.94 2.06-2.06.94z\"/><path d=\"M17.41 7.96l-1.37-1.37c-.4-.4-.92-.59-1.43-.59-.52 0-1.04.2-1.43.59L10.3 9.45l-7.72 7.72c-.78.78-.78 2.05 0 2.83L4 21.41c.39.39.9.59 1.41.59.51 0 1.02-.2 1.41-.59l7.78-7.78 2.81-2.81c.8-.78.8-2.07 0-2.86zM5.41 20L4 18.59l7.72-7.72 1.47 1.35L5.41 20z\"/>\n",
              "  </svg>\n",
              "      </button>\n",
              "      \n",
              "  <style>\n",
              "    .colab-df-container {\n",
              "      display:flex;\n",
              "      flex-wrap:wrap;\n",
              "      gap: 12px;\n",
              "    }\n",
              "\n",
              "    .colab-df-convert {\n",
              "      background-color: #E8F0FE;\n",
              "      border: none;\n",
              "      border-radius: 50%;\n",
              "      cursor: pointer;\n",
              "      display: none;\n",
              "      fill: #1967D2;\n",
              "      height: 32px;\n",
              "      padding: 0 0 0 0;\n",
              "      width: 32px;\n",
              "    }\n",
              "\n",
              "    .colab-df-convert:hover {\n",
              "      background-color: #E2EBFA;\n",
              "      box-shadow: 0px 1px 2px rgba(60, 64, 67, 0.3), 0px 1px 3px 1px rgba(60, 64, 67, 0.15);\n",
              "      fill: #174EA6;\n",
              "    }\n",
              "\n",
              "    [theme=dark] .colab-df-convert {\n",
              "      background-color: #3B4455;\n",
              "      fill: #D2E3FC;\n",
              "    }\n",
              "\n",
              "    [theme=dark] .colab-df-convert:hover {\n",
              "      background-color: #434B5C;\n",
              "      box-shadow: 0px 1px 3px 1px rgba(0, 0, 0, 0.15);\n",
              "      filter: drop-shadow(0px 1px 2px rgba(0, 0, 0, 0.3));\n",
              "      fill: #FFFFFF;\n",
              "    }\n",
              "  </style>\n",
              "\n",
              "      <script>\n",
              "        const buttonEl =\n",
              "          document.querySelector('#df-9f57c95a-daab-4082-beaf-2da5bc151c19 button.colab-df-convert');\n",
              "        buttonEl.style.display =\n",
              "          google.colab.kernel.accessAllowed ? 'block' : 'none';\n",
              "\n",
              "        async function convertToInteractive(key) {\n",
              "          const element = document.querySelector('#df-9f57c95a-daab-4082-beaf-2da5bc151c19');\n",
              "          const dataTable =\n",
              "            await google.colab.kernel.invokeFunction('convertToInteractive',\n",
              "                                                     [key], {});\n",
              "          if (!dataTable) return;\n",
              "\n",
              "          const docLinkHtml = 'Like what you see? Visit the ' +\n",
              "            '<a target=\"_blank\" href=https://colab.research.google.com/notebooks/data_table.ipynb>data table notebook</a>'\n",
              "            + ' to learn more about interactive tables.';\n",
              "          element.innerHTML = '';\n",
              "          dataTable['output_type'] = 'display_data';\n",
              "          await google.colab.output.renderOutput(dataTable, element);\n",
              "          const docLink = document.createElement('div');\n",
              "          docLink.innerHTML = docLinkHtml;\n",
              "          element.appendChild(docLink);\n",
              "        }\n",
              "      </script>\n",
              "    </div>\n",
              "  </div>\n",
              "  "
            ],
            "text/plain": [
              "                                                     cleaned_text  \\\n",
              "0                                               yes.i'm office da   \n",
              "1  free entry å£250 weekly competition text word win 80086 18 t&c   \n",
              "2               yeah work fine start week stuff dull easy guy fun   \n",
              "3         k fyi x ride early tomorrow morning crash place tonight   \n",
              "4                                        lol ok remember til nite   \n",
              "\n",
              "   count_words  count_characters  count_characters_no_space  avg_word_length  \\\n",
              "0          4.0              20.0                       17.0         4.250000   \n",
              "1         14.0              74.0                       61.0         4.357143   \n",
              "2         20.0              95.0                       76.0         3.800000   \n",
              "3         17.0              81.0                       65.0         3.823529   \n",
              "4         10.0              43.0                       34.0         3.400000   \n",
              "\n",
              "   count_digits  count_numbers  noun_count  aux_count  verb_count  adj_count  \\\n",
              "0           0.0            0.0         0.0        1.0         0.0        1.0   \n",
              "1          10.0            3.0         5.0        5.0         0.0        1.0   \n",
              "2           0.0            0.0         1.0        4.0         2.0        1.0   \n",
              "3           0.0            0.0         2.0        8.0         1.0        2.0   \n",
              "4           0.0            0.0         0.0        1.0         1.0        2.0   \n",
              "\n",
              "   ner  \n",
              "0  0.0  \n",
              "1  2.0  \n",
              "2  6.0  \n",
              "3  0.0  \n",
              "4  1.0  "
            ]
          },
          "execution_count": 237,
          "metadata": {},
          "output_type": "execute_result"
        }
      ],
      "source": [
        "X_train_final.head()"
      ]
    },
    {
      "cell_type": "code",
      "execution_count": 238,
      "metadata": {
        "colab": {
          "base_uri": "https://localhost:8080/"
        },
        "id": "3-R6pP6990rK",
        "outputId": "6fecb6ec-272f-4aff-ff1b-4001c07f2f7b"
      },
      "outputs": [
        {
          "name": "stdout",
          "output_type": "stream",
          "text": [
            "<class 'pandas.core.frame.DataFrame'>\n",
            "RangeIndex: 389 entries, 0 to 388\n",
            "Data columns (total 12 columns):\n",
            " #   Column                     Non-Null Count  Dtype  \n",
            "---  ------                     --------------  -----  \n",
            " 0   cleaned_text               389 non-null    object \n",
            " 1   count_words                389 non-null    float64\n",
            " 2   count_characters           389 non-null    float64\n",
            " 3   count_characters_no_space  389 non-null    float64\n",
            " 4   avg_word_length            389 non-null    float64\n",
            " 5   count_digits               389 non-null    float64\n",
            " 6   count_numbers              389 non-null    float64\n",
            " 7   noun_count                 389 non-null    float64\n",
            " 8   aux_count                  389 non-null    float64\n",
            " 9   verb_count                 389 non-null    float64\n",
            " 10  adj_count                  389 non-null    float64\n",
            " 11  ner                        389 non-null    float64\n",
            "dtypes: float64(11), object(1)\n",
            "memory usage: 36.6+ KB\n"
          ]
        }
      ],
      "source": [
        "X_train_final.info()"
      ]
    },
    {
      "cell_type": "code",
      "execution_count": 239,
      "metadata": {
        "id": "wCwjUo1U92q0"
      },
      "outputs": [],
      "source": [
        "subset = X_train_final[0:10]"
      ]
    },
    {
      "cell_type": "code",
      "execution_count": 240,
      "metadata": {
        "colab": {
          "base_uri": "https://localhost:8080/"
        },
        "id": "kIc-8Mst94rc",
        "outputId": "dc3096f3-f915-49a7-b137-231993d65b51"
      },
      "outputs": [
        {
          "data": {
            "text/plain": [
              "(10, 12)"
            ]
          },
          "execution_count": 240,
          "metadata": {},
          "output_type": "execute_result"
        }
      ],
      "source": [
        "subset.shape"
      ]
    },
    {
      "cell_type": "code",
      "execution_count": 241,
      "metadata": {
        "id": "gjwe9VsN96Dk"
      },
      "outputs": [],
      "source": [
        "from sklearn.base import TransformerMixin, BaseEstimator\n",
        "from scipy.sparse import csr_matrix\n",
        "class SparseTransformer(TransformerMixin, BaseEstimator):\n",
        "    \n",
        "  def __init__(self):\n",
        "    return None\n",
        "\n",
        "  def fit(self, X, y=None):\n",
        "      return self\n",
        "\n",
        "  def transform(self, X, y=None):\n",
        "      return csr_matrix(X)\n",
        " "
      ]
    },
    {
      "cell_type": "code",
      "execution_count": 242,
      "metadata": {
        "id": "S5NHyVw999Sy"
      },
      "outputs": [],
      "source": [
        "sparse_features = Pipeline([('sparse', SparseTransformer()),                     \n",
        "                        ]) \n",
        "vectorizer = Pipeline([('tfidf', TfidfVectorizer(max_features=10)),                     \n",
        "                        ]) "
      ]
    },
    {
      "cell_type": "code",
      "execution_count": 243,
      "metadata": {
        "colab": {
          "base_uri": "https://localhost:8080/"
        },
        "id": "cyKZqbId9-V7",
        "outputId": "6c3034f0-233c-48ec-f603-2690fa2997fe"
      },
      "outputs": [
        {
          "data": {
            "text/plain": [
              "<10x11 sparse matrix of type '<class 'numpy.float64'>'\n",
              "\twith 76 stored elements in Compressed Sparse Row format>"
            ]
          },
          "execution_count": 243,
          "metadata": {},
          "output_type": "execute_result"
        }
      ],
      "source": [
        "sparse_features.fit_transform(subset.iloc[:,1:])"
      ]
    },
    {
      "cell_type": "code",
      "execution_count": 244,
      "metadata": {
        "colab": {
          "base_uri": "https://localhost:8080/"
        },
        "id": "sjDHwNvx9_sa",
        "outputId": "08d9d0a8-4558-448b-9c19-505ff85f8281"
      },
      "outputs": [
        {
          "data": {
            "text/plain": [
              "<10x10 sparse matrix of type '<class 'numpy.float64'>'\n",
              "\twith 14 stored elements in Compressed Sparse Row format>"
            ]
          },
          "execution_count": 244,
          "metadata": {},
          "output_type": "execute_result"
        }
      ],
      "source": [
        "vectorizer.fit_transform(subset.iloc[:,0])"
      ]
    },
    {
      "cell_type": "code",
      "execution_count": 245,
      "metadata": {
        "id": "tb-tFlct-BST"
      },
      "outputs": [],
      "source": [
        "combined_features = ColumnTransformer(\n",
        " transformers=[\n",
        "     ('tfidf', vectorizer, 'cleaned_text'),\n",
        "      ], remainder=sparse_features\n",
        "     )"
      ]
    },
    {
      "cell_type": "code",
      "execution_count": 246,
      "metadata": {
        "id": "8EK-m_06-CVb"
      },
      "outputs": [],
      "source": [
        "test = combined_features.fit_transform(subset)"
      ]
    },
    {
      "cell_type": "code",
      "execution_count": 247,
      "metadata": {
        "colab": {
          "base_uri": "https://localhost:8080/"
        },
        "id": "NYBYhLAy-Dsj",
        "outputId": "389fcdd3-dc98-45bc-a83f-8575221795a8"
      },
      "outputs": [
        {
          "data": {
            "text/plain": [
              "dtype('float64')"
            ]
          },
          "execution_count": 247,
          "metadata": {},
          "output_type": "execute_result"
        }
      ],
      "source": [
        "test.dtype"
      ]
    },
    {
      "cell_type": "markdown",
      "metadata": {
        "id": "vs2Mfx-F-KJ9"
      },
      "source": [
        "### Create pipeline"
      ]
    },
    {
      "cell_type": "code",
      "execution_count": 248,
      "metadata": {
        "id": "OBFvKWVi-Lib"
      },
      "outputs": [],
      "source": [
        "classifier_1c = Pipeline([('combined_features',  combined_features),\n",
        "                         ('classifier', LogisticRegression(max_iter = 10000)),\n",
        "                        ])"
      ]
    },
    {
      "cell_type": "code",
      "execution_count": 249,
      "metadata": {
        "colab": {
          "base_uri": "https://localhost:8080/"
        },
        "id": "gQOWWTWw-N4c",
        "outputId": "ae869cc4-e9ec-4444-9489-16d7acc88f37"
      },
      "outputs": [
        {
          "data": {
            "text/plain": [
              "dict_keys(['memory', 'steps', 'verbose', 'combined_features', 'classifier', 'combined_features__n_jobs', 'combined_features__remainder__memory', 'combined_features__remainder__steps', 'combined_features__remainder__verbose', 'combined_features__remainder__sparse', 'combined_features__remainder', 'combined_features__sparse_threshold', 'combined_features__transformer_weights', 'combined_features__transformers', 'combined_features__verbose', 'combined_features__verbose_feature_names_out', 'combined_features__tfidf', 'combined_features__tfidf__memory', 'combined_features__tfidf__steps', 'combined_features__tfidf__verbose', 'combined_features__tfidf__tfidf', 'combined_features__tfidf__tfidf__analyzer', 'combined_features__tfidf__tfidf__binary', 'combined_features__tfidf__tfidf__decode_error', 'combined_features__tfidf__tfidf__dtype', 'combined_features__tfidf__tfidf__encoding', 'combined_features__tfidf__tfidf__input', 'combined_features__tfidf__tfidf__lowercase', 'combined_features__tfidf__tfidf__max_df', 'combined_features__tfidf__tfidf__max_features', 'combined_features__tfidf__tfidf__min_df', 'combined_features__tfidf__tfidf__ngram_range', 'combined_features__tfidf__tfidf__norm', 'combined_features__tfidf__tfidf__preprocessor', 'combined_features__tfidf__tfidf__smooth_idf', 'combined_features__tfidf__tfidf__stop_words', 'combined_features__tfidf__tfidf__strip_accents', 'combined_features__tfidf__tfidf__sublinear_tf', 'combined_features__tfidf__tfidf__token_pattern', 'combined_features__tfidf__tfidf__tokenizer', 'combined_features__tfidf__tfidf__use_idf', 'combined_features__tfidf__tfidf__vocabulary', 'classifier__C', 'classifier__class_weight', 'classifier__dual', 'classifier__fit_intercept', 'classifier__intercept_scaling', 'classifier__l1_ratio', 'classifier__max_iter', 'classifier__multi_class', 'classifier__n_jobs', 'classifier__penalty', 'classifier__random_state', 'classifier__solver', 'classifier__tol', 'classifier__verbose', 'classifier__warm_start'])"
            ]
          },
          "execution_count": 249,
          "metadata": {},
          "output_type": "execute_result"
        }
      ],
      "source": [
        "classifier_1c.get_params().keys()"
      ]
    },
    {
      "cell_type": "markdown",
      "metadata": {
        "id": "CJAgvtsK-RzS"
      },
      "source": [
        "Parameter Grid"
      ]
    },
    {
      "cell_type": "code",
      "execution_count": 250,
      "metadata": {
        "id": "hetE64TM-PJE"
      },
      "outputs": [],
      "source": [
        "# We are exploring a small combination of parameters\n",
        "# If the search space is very large then we should use RandomSerachCV\n",
        "\n",
        "param_grid_classifier_1c = {'combined_features__tfidf__tfidf__max_features': [50,500, 1000, 2000],\n",
        "                            'classifier__C': [0.1, 1, 10,100]}"
      ]
    },
    {
      "cell_type": "markdown",
      "metadata": {
        "id": "zB5Lry2g-XAD"
      },
      "source": [
        "Apply GridSearch"
      ]
    },
    {
      "cell_type": "code",
      "execution_count": 251,
      "metadata": {
        "id": "mUaJPGCi-3RK"
      },
      "outputs": [],
      "source": [
        "# We will now use Gridserach to find fine tune hyperparameters using cross validation\n",
        "# The advantage of using pipelines is that we can avoid data leakage\n",
        "# Since we have balanced data set, we will use default scoring method of accuracy\n",
        "# the typical value of cv used is 5. We are using 3, just for demonstration.\n",
        "\n",
        "grid_classifier_1c = GridSearchCV(estimator=classifier_1c, param_grid=param_grid_classifier_1c, cv = 8,scoring=my_f2_scorer())"
      ]
    },
    {
      "cell_type": "code",
      "execution_count": 252,
      "metadata": {
        "colab": {
          "base_uri": "https://localhost:8080/"
        },
        "id": "Iqnsj5aw-3RK",
        "outputId": "008d624b-efcc-443d-88cb-138c255eaa0e"
      },
      "outputs": [
        {
          "data": {
            "text/plain": [
              "GridSearchCV(cv=8,\n",
              "             estimator=Pipeline(steps=[('combined_features',\n",
              "                                        ColumnTransformer(remainder=Pipeline(steps=[('sparse',\n",
              "                                                                                     SparseTransformer())]),\n",
              "                                                          transformers=[('tfidf',\n",
              "                                                                         Pipeline(steps=[('tfidf',\n",
              "                                                                                          TfidfVectorizer(max_features=10))]),\n",
              "                                                                         'cleaned_text')])),\n",
              "                                       ('classifier',\n",
              "                                        LogisticRegression(max_iter=10000))]),\n",
              "             param_grid={'classifier__C': [0.1, 1, 10, 100],\n",
              "                         'combined_features__tfidf__tfidf__max_features': [50,\n",
              "                                                                           500,\n",
              "                                                                           1000,\n",
              "                                                                           2000]},\n",
              "             scoring=make_scorer(f2_func))"
            ]
          },
          "execution_count": 252,
          "metadata": {},
          "output_type": "execute_result"
        }
      ],
      "source": [
        "# Fit the model on training data\n",
        "grid_classifier_1c.fit(X_train_final, y_train)"
      ]
    },
    {
      "cell_type": "code",
      "execution_count": 253,
      "metadata": {
        "colab": {
          "base_uri": "https://localhost:8080/"
        },
        "id": "ApIhtxPs-3RM",
        "outputId": "9fc34fe5-77d0-4441-c107-467a131ccaf8"
      },
      "outputs": [
        {
          "name": "stdout",
          "output_type": "stream",
          "text": [
            "Best cross-validation score: 0.99\n",
            "\n",
            "Best parameters:  {'classifier__C': 100, 'combined_features__tfidf__tfidf__max_features': 1000}\n",
            "\n",
            "Best estimator:  Pipeline(steps=[('combined_features',\n",
            "                 ColumnTransformer(remainder=Pipeline(steps=[('sparse',\n",
            "                                                              SparseTransformer())]),\n",
            "                                   transformers=[('tfidf',\n",
            "                                                  Pipeline(steps=[('tfidf',\n",
            "                                                                   TfidfVectorizer(max_features=1000))]),\n",
            "                                                  'cleaned_text')])),\n",
            "                ('classifier', LogisticRegression(C=100, max_iter=10000))])\n"
          ]
        }
      ],
      "source": [
        "print(\"Best cross-validation score: {:.2f}\".format(grid_classifier_1c.best_score_))\n",
        "print(\"\\nBest parameters: \", grid_classifier_1c.best_params_)\n",
        "print(\"\\nBest estimator: \", grid_classifier_1c.best_estimator_)"
      ]
    },
    {
      "cell_type": "markdown",
      "metadata": {
        "id": "2RPATCS1-3RM"
      },
      "source": [
        "### Save and Load mode;"
      ]
    },
    {
      "cell_type": "code",
      "execution_count": 254,
      "metadata": {
        "colab": {
          "base_uri": "https://localhost:8080/"
        },
        "id": "nCQptnhd-3RM",
        "outputId": "780e4bd3-d89b-4500-8a0c-cc10e8e7a74c"
      },
      "outputs": [
        {
          "data": {
            "text/plain": [
              "['/content/drive/MyDrive/NLP_Fall22/HW3/Models/features_model.pkl']"
            ]
          },
          "execution_count": 254,
          "metadata": {},
          "output_type": "execute_result"
        }
      ],
      "source": [
        "file_model_features = model_folder / 'features_model.pkl'\n",
        "joblib.dump(grid_classifier_1c.best_estimator_, file_model_features)"
      ]
    },
    {
      "cell_type": "code",
      "execution_count": 255,
      "metadata": {
        "id": "mN75Kof3-3RM"
      },
      "outputs": [],
      "source": [
        "# load the saved model\n",
        "grid_classifier_1c = joblib.load(file_model_features)"
      ]
    },
    {
      "cell_type": "markdown",
      "metadata": {
        "id": "jl3lmEAE-3RM"
      },
      "source": [
        "### Plot learning curve"
      ]
    },
    {
      "cell_type": "code",
      "execution_count": 256,
      "metadata": {
        "colab": {
          "base_uri": "https://localhost:8080/",
          "height": 351
        },
        "id": "Rmis00ST-3RM",
        "outputId": "f3b9f9ea-5e8e-4ddc-fb38-2e842586aa24"
      },
      "outputs": [
        {
          "data": {
            "image/png": "[encoded data removed]",
            "text/plain": [
              "<Figure size 1440x360 with 3 Axes>"
            ]
          },
          "metadata": {
            "needs_background": "light"
          },
          "output_type": "display_data"
        }
      ],
      "source": [
        "# plot learning curces\n",
        "# This cell can take upto 30 minutes to run\n",
        "plot_learning_curve(grid_classifier_1c, 'Learning Curves classifier_1c', X_train_final, y_train,scoring=my_f2_scorer())\n",
        "plt.show()"
      ]
    },
    {
      "cell_type": "code",
      "execution_count": 257,
      "metadata": {
        "colab": {
          "base_uri": "https://localhost:8080/"
        },
        "id": "Dyt9PKN6-3RM",
        "outputId": "05037293-6389-42ee-da48-6d7fbab4e351"
      },
      "outputs": [
        {
          "name": "stdout",
          "output_type": "stream",
          "text": [
            "Accuracy on train set  is 1.0\n"
          ]
        }
      ],
      "source": [
        "# Accuracy on Train data set\n",
        "grid_classifier_sparse_embed = grid_classifier_1c.score(X_train_final, y_train)\n",
        "print(f'Accuracy on train set  is {grid_classifier_sparse_embed}')"
      ]
    },
    {
      "cell_type": "markdown",
      "metadata": {
        "id": "vi-dy2iQ-3RM"
      },
      "source": [
        "### Evaluate model on test datset"
      ]
    },
    {
      "cell_type": "code",
      "execution_count": 258,
      "metadata": {
        "id": "ZSH4xKUB-3RM"
      },
      "outputs": [],
      "source": [
        "X_test_cleaned = cp.SpacyPreprocessor(model = 'en_core_web_sm', remove_stop=True).transform(X_test.values)"
      ]
    },
    {
      "cell_type": "code",
      "execution_count": 259,
      "metadata": {
        "id": "pbVhnd4J_zfg"
      },
      "outputs": [],
      "source": [
        "# save  this to a file\n",
        "X_test_cleaned_sparse_embed = model_folder / 'x_test_cleaned_sparse_embed.pkl'"
      ]
    },
    {
      "cell_type": "code",
      "execution_count": 260,
      "metadata": {
        "colab": {
          "base_uri": "https://localhost:8080/"
        },
        "id": "_B9FDvCF_2iC",
        "outputId": "9bc1d668-9986-49cc-f475-b593868b046f"
      },
      "outputs": [
        {
          "data": {
            "text/plain": [
              "['/content/drive/MyDrive/NLP_Fall22/HW3/Models/x_test_cleaned_sparse_embed.pkl']"
            ]
          },
          "execution_count": 260,
          "metadata": {},
          "output_type": "execute_result"
        }
      ],
      "source": [
        "joblib.dump(X_test_cleaned, X_test_cleaned_sparse_embed)"
      ]
    },
    {
      "cell_type": "code",
      "execution_count": 261,
      "metadata": {
        "id": "m6hxKqt__5hP"
      },
      "outputs": [],
      "source": [
        "# Final Pipeline\n",
        "def final_pipeline(text):\n",
        "  #cleaned_text = cp.SpacyPreprocessor(model = 'en_core_web_sm', remove_stop=True).transform(text)\n",
        "  cleaned_text = joblib.load(X_test_cleaned_sparse_embed)\n",
        "  X_features, feature_names  = featurizer.fit_transform(text)\n",
        "  X_final = pd.concat((pd.DataFrame(cleaned_text, columns =['cleaned_text']), \n",
        "                           pd.DataFrame(X_features, columns=feature_names)),axis =1)\n",
        "  \n",
        "  predictions = grid_classifier_1c.predict(X_final)\n",
        "  return predictions"
      ]
    },
    {
      "cell_type": "code",
      "execution_count": 262,
      "metadata": {
        "id": "Nf8XZSuLACDr"
      },
      "outputs": [],
      "source": [
        "# predicted values for Test data set\n",
        "y_test_pred = final_pipeline(X_test.values)"
      ]
    },
    {
      "cell_type": "markdown",
      "metadata": {
        "id": "TIWLS8tA-3RM"
      },
      "source": [
        "### Classification report for test dataset"
      ]
    },
    {
      "cell_type": "code",
      "execution_count": 263,
      "metadata": {
        "colab": {
          "base_uri": "https://localhost:8080/"
        },
        "id": "EL5cX1Ei-3RM",
        "outputId": "ce22bea2-ce10-4280-ced2-43951d7c83f6"
      },
      "outputs": [
        {
          "name": "stdout",
          "output_type": "stream",
          "text": [
            "\n",
            "Test set classification report:\n",
            "\n",
            "               precision    recall  f1-score   support\n",
            "\n",
            "         ham       0.99      0.98      0.98       146\n",
            "        spam       0.87      0.91      0.89        22\n",
            "\n",
            "    accuracy                           0.97       168\n",
            "   macro avg       0.93      0.94      0.94       168\n",
            "weighted avg       0.97      0.97      0.97       168\n",
            "\n"
          ]
        }
      ],
      "source": [
        "print('\\nTest set classification report:\\n\\n',classification_report(y_test, y_test_pred ))"
      ]
    },
    {
      "cell_type": "markdown",
      "metadata": {
        "id": "3-1jsfN7L8pF"
      },
      "source": [
        "# Final Pipeline - Reason to pick second pipeline"
      ]
    },
    {
      "cell_type": "markdown",
      "metadata": {
        "id": "68pZ2tiFMHA5"
      },
      "source": [
        "Clearly there is **overfitting** in first and third pipeline. ie Sparse embeddings and having manual features with TfIDF. Eventhough the cv score is the highest for third pipeline, the data is overfitting and hence I am not choosing that to be my final pipeline for this. I am choosing the second pipeline as my final one because of the closest cv score and reasonable good accuracy on the test and train dataset. "
      ]
    },
    {
      "cell_type": "code",
      "execution_count": 263,
      "metadata": {
        "id": "QQq_zeI_O6GA"
      },
      "outputs": [],
      "source": []
    }
  ],
  "metadata": {
    "colab": {
      "collapsed_sections": [],
      "provenance": []
    },
    "kernelspec": {
      "display_name": "Python 3",
      "name": "python3"
    },
    "language_info": {
      "name": "python"
    }
  },
  "nbformat": 4,
  "nbformat_minor": 0
}
