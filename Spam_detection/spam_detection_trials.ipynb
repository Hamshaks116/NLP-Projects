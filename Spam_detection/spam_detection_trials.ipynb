{
  "cells": [
    {
      "attachments": {},
      "cell_type": "markdown",
      "metadata": {
        "id": "_mJQGbTFOCAx"
      },
      "source": [
        "<h1 align='center'; color ='blue'><b><font color='pickle'></p>Spam Detection Final Pipeline</b></h1>\n"
      ]
    },
    {
      "cell_type": "code",
      "execution_count": 3,
      "metadata": {
        "colab": {
          "base_uri": "https://localhost:8080/"
        },
        "id": "8ttaJzCQPrgg",
        "outputId": "284d32b1-72f0-4b73-b7d6-5b1a35b3c7fc"
      },
      "outputs": [
        {
          "name": "stdout",
          "output_type": "stream",
          "text": [
            "Looking in indexes: https://pypi.org/simple, https://us-python.pkg.dev/colab-wheels/public/simple/\n",
            "Requirement already satisfied: swifter in /usr/local/lib/python3.7/dist-packages (1.3.4)\n",
            "Requirement already satisfied: pandas>=1.0.0 in /usr/local/lib/python3.7/dist-packages (from swifter) (1.3.5)\n",
            "Requirement already satisfied: tqdm>=4.33.0 in /usr/local/lib/python3.7/dist-packages (from swifter) (4.64.1)\n",
            "Requirement already satisfied: cloudpickle>=0.2.2 in /usr/local/lib/python3.7/dist-packages (from swifter) (1.5.0)\n",
            "Requirement already satisfied: parso>0.4.0 in /usr/local/lib/python3.7/dist-packages (from swifter) (0.8.3)\n",
            "Requirement already satisfied: ipywidgets>=7.0.0 in /usr/local/lib/python3.7/dist-packages (from swifter) (7.7.1)\n",
            "Requirement already satisfied: bleach>=3.1.1 in /usr/local/lib/python3.7/dist-packages (from swifter) (5.0.1)\n",
            "Requirement already satisfied: psutil>=5.6.6 in /usr/local/lib/python3.7/dist-packages (from swifter) (5.9.2)\n",
            "Requirement already satisfied: dask[dataframe]>=2.10.0 in /usr/local/lib/python3.7/dist-packages (from swifter) (2022.2.0)\n",
            "Requirement already satisfied: webencodings in /usr/local/lib/python3.7/dist-packages (from bleach>=3.1.1->swifter) (0.5.1)\n",
            "Requirement already satisfied: six>=1.9.0 in /usr/local/lib/python3.7/dist-packages (from bleach>=3.1.1->swifter) (1.15.0)\n",
            "Requirement already satisfied: packaging>=20.0 in /usr/local/lib/python3.7/dist-packages (from dask[dataframe]>=2.10.0->swifter) (21.3)\n",
            "Requirement already satisfied: toolz>=0.8.2 in /usr/local/lib/python3.7/dist-packages (from dask[dataframe]>=2.10.0->swifter) (0.12.0)\n",
            "Requirement already satisfied: fsspec>=0.6.0 in /usr/local/lib/python3.7/dist-packages (from dask[dataframe]>=2.10.0->swifter) (2022.8.2)\n",
            "Requirement already satisfied: partd>=0.3.10 in /usr/local/lib/python3.7/dist-packages (from dask[dataframe]>=2.10.0->swifter) (1.3.0)\n",
            "Requirement already satisfied: pyyaml>=5.3.1 in /usr/local/lib/python3.7/dist-packages (from dask[dataframe]>=2.10.0->swifter) (6.0)\n",
            "Requirement already satisfied: numpy>=1.18 in /usr/local/lib/python3.7/dist-packages (from dask[dataframe]>=2.10.0->swifter) (1.21.6)\n",
            "Requirement already satisfied: ipykernel>=4.5.1 in /usr/local/lib/python3.7/dist-packages (from ipywidgets>=7.0.0->swifter) (5.3.4)\n",
            "Requirement already satisfied: jupyterlab-widgets>=1.0.0 in /usr/local/lib/python3.7/dist-packages (from ipywidgets>=7.0.0->swifter) (3.0.3)\n",
            "Requirement already satisfied: ipython-genutils~=0.2.0 in /usr/local/lib/python3.7/dist-packages (from ipywidgets>=7.0.0->swifter) (0.2.0)\n",
            "Requirement already satisfied: traitlets>=4.3.1 in /usr/local/lib/python3.7/dist-packages (from ipywidgets>=7.0.0->swifter) (5.1.1)\n",
            "Requirement already satisfied: ipython>=4.0.0 in /usr/local/lib/python3.7/dist-packages (from ipywidgets>=7.0.0->swifter) (7.9.0)\n",
            "Requirement already satisfied: widgetsnbextension~=3.6.0 in /usr/local/lib/python3.7/dist-packages (from ipywidgets>=7.0.0->swifter) (3.6.1)\n",
            "Requirement already satisfied: jupyter-client in /usr/local/lib/python3.7/dist-packages (from ipykernel>=4.5.1->ipywidgets>=7.0.0->swifter) (6.1.12)\n",
            "Requirement already satisfied: tornado>=4.2 in /usr/local/lib/python3.7/dist-packages (from ipykernel>=4.5.1->ipywidgets>=7.0.0->swifter) (5.1.1)\n",
            "Requirement already satisfied: decorator in /usr/local/lib/python3.7/dist-packages (from ipython>=4.0.0->ipywidgets>=7.0.0->swifter) (4.4.2)\n",
            "Requirement already satisfied: pickleshare in /usr/local/lib/python3.7/dist-packages (from ipython>=4.0.0->ipywidgets>=7.0.0->swifter) (0.7.5)\n",
            "Requirement already satisfied: pygments in /usr/local/lib/python3.7/dist-packages (from ipython>=4.0.0->ipywidgets>=7.0.0->swifter) (2.6.1)\n",
            "Requirement already satisfied: backcall in /usr/local/lib/python3.7/dist-packages (from ipython>=4.0.0->ipywidgets>=7.0.0->swifter) (0.2.0)\n",
            "Requirement already satisfied: setuptools>=18.5 in /usr/local/lib/python3.7/dist-packages (from ipython>=4.0.0->ipywidgets>=7.0.0->swifter) (57.4.0)\n",
            "Requirement already satisfied: prompt-toolkit<2.1.0,>=2.0.0 in /usr/local/lib/python3.7/dist-packages (from ipython>=4.0.0->ipywidgets>=7.0.0->swifter) (2.0.10)\n",
            "Requirement already satisfied: jedi>=0.10 in /usr/local/lib/python3.7/dist-packages (from ipython>=4.0.0->ipywidgets>=7.0.0->swifter) (0.18.1)\n",
            "Requirement already satisfied: pexpect in /usr/local/lib/python3.7/dist-packages (from ipython>=4.0.0->ipywidgets>=7.0.0->swifter) (4.8.0)\n",
            "Requirement already satisfied: pyparsing!=3.0.5,>=2.0.2 in /usr/local/lib/python3.7/dist-packages (from packaging>=20.0->dask[dataframe]>=2.10.0->swifter) (3.0.9)\n",
            "Requirement already satisfied: python-dateutil>=2.7.3 in /usr/local/lib/python3.7/dist-packages (from pandas>=1.0.0->swifter) (2.8.2)\n",
            "Requirement already satisfied: pytz>=2017.3 in /usr/local/lib/python3.7/dist-packages (from pandas>=1.0.0->swifter) (2022.2.1)\n",
            "Requirement already satisfied: locket in /usr/local/lib/python3.7/dist-packages (from partd>=0.3.10->dask[dataframe]>=2.10.0->swifter) (1.0.0)\n",
            "Requirement already satisfied: wcwidth in /usr/local/lib/python3.7/dist-packages (from prompt-toolkit<2.1.0,>=2.0.0->ipython>=4.0.0->ipywidgets>=7.0.0->swifter) (0.2.5)\n",
            "Requirement already satisfied: notebook>=4.4.1 in /usr/local/lib/python3.7/dist-packages (from widgetsnbextension~=3.6.0->ipywidgets>=7.0.0->swifter) (5.3.1)\n",
            "Requirement already satisfied: terminado>=0.8.1 in /usr/local/lib/python3.7/dist-packages (from notebook>=4.4.1->widgetsnbextension~=3.6.0->ipywidgets>=7.0.0->swifter) (0.13.3)\n",
            "Requirement already satisfied: nbformat in /usr/local/lib/python3.7/dist-packages (from notebook>=4.4.1->widgetsnbextension~=3.6.0->ipywidgets>=7.0.0->swifter) (5.4.0)\n",
            "Requirement already satisfied: nbconvert in /usr/local/lib/python3.7/dist-packages (from notebook>=4.4.1->widgetsnbextension~=3.6.0->ipywidgets>=7.0.0->swifter) (5.6.1)\n",
            "Requirement already satisfied: jinja2 in /usr/local/lib/python3.7/dist-packages (from notebook>=4.4.1->widgetsnbextension~=3.6.0->ipywidgets>=7.0.0->swifter) (2.11.3)\n",
            "Requirement already satisfied: jupyter-core>=4.4.0 in /usr/local/lib/python3.7/dist-packages (from notebook>=4.4.1->widgetsnbextension~=3.6.0->ipywidgets>=7.0.0->swifter) (4.11.1)\n",
            "Requirement already satisfied: Send2Trash in /usr/local/lib/python3.7/dist-packages (from notebook>=4.4.1->widgetsnbextension~=3.6.0->ipywidgets>=7.0.0->swifter) (1.8.0)\n",
            "Requirement already satisfied: pyzmq>=13 in /usr/local/lib/python3.7/dist-packages (from jupyter-client->ipykernel>=4.5.1->ipywidgets>=7.0.0->swifter) (23.2.1)\n",
            "Requirement already satisfied: ptyprocess in /usr/local/lib/python3.7/dist-packages (from terminado>=0.8.1->notebook>=4.4.1->widgetsnbextension~=3.6.0->ipywidgets>=7.0.0->swifter) (0.7.0)\n",
            "Requirement already satisfied: MarkupSafe>=0.23 in /usr/local/lib/python3.7/dist-packages (from jinja2->notebook>=4.4.1->widgetsnbextension~=3.6.0->ipywidgets>=7.0.0->swifter) (2.0.1)\n",
            "Requirement already satisfied: mistune<2,>=0.8.1 in /usr/local/lib/python3.7/dist-packages (from nbconvert->notebook>=4.4.1->widgetsnbextension~=3.6.0->ipywidgets>=7.0.0->swifter) (0.8.4)\n",
            "Requirement already satisfied: pandocfilters>=1.4.1 in /usr/local/lib/python3.7/dist-packages (from nbconvert->notebook>=4.4.1->widgetsnbextension~=3.6.0->ipywidgets>=7.0.0->swifter) (1.5.0)\n",
            "Requirement already satisfied: entrypoints>=0.2.2 in /usr/local/lib/python3.7/dist-packages (from nbconvert->notebook>=4.4.1->widgetsnbextension~=3.6.0->ipywidgets>=7.0.0->swifter) (0.4)\n",
            "Requirement already satisfied: defusedxml in /usr/local/lib/python3.7/dist-packages (from nbconvert->notebook>=4.4.1->widgetsnbextension~=3.6.0->ipywidgets>=7.0.0->swifter) (0.7.1)\n",
            "Requirement already satisfied: testpath in /usr/local/lib/python3.7/dist-packages (from nbconvert->notebook>=4.4.1->widgetsnbextension~=3.6.0->ipywidgets>=7.0.0->swifter) (0.6.0)\n",
            "Requirement already satisfied: jsonschema>=2.6 in /usr/local/lib/python3.7/dist-packages (from nbformat->notebook>=4.4.1->widgetsnbextension~=3.6.0->ipywidgets>=7.0.0->swifter) (4.3.3)\n",
            "Requirement already satisfied: fastjsonschema in /usr/local/lib/python3.7/dist-packages (from nbformat->notebook>=4.4.1->widgetsnbextension~=3.6.0->ipywidgets>=7.0.0->swifter) (2.16.1)\n",
            "Requirement already satisfied: attrs>=17.4.0 in /usr/local/lib/python3.7/dist-packages (from jsonschema>=2.6->nbformat->notebook>=4.4.1->widgetsnbextension~=3.6.0->ipywidgets>=7.0.0->swifter) (22.1.0)\n",
            "Requirement already satisfied: pyrsistent!=0.17.0,!=0.17.1,!=0.17.2,>=0.14.0 in /usr/local/lib/python3.7/dist-packages (from jsonschema>=2.6->nbformat->notebook>=4.4.1->widgetsnbextension~=3.6.0->ipywidgets>=7.0.0->swifter) (0.18.1)\n",
            "Requirement already satisfied: typing-extensions in /usr/local/lib/python3.7/dist-packages (from jsonschema>=2.6->nbformat->notebook>=4.4.1->widgetsnbextension~=3.6.0->ipywidgets>=7.0.0->swifter) (4.1.1)\n",
            "Requirement already satisfied: importlib-resources>=1.4.0 in /usr/local/lib/python3.7/dist-packages (from jsonschema>=2.6->nbformat->notebook>=4.4.1->widgetsnbextension~=3.6.0->ipywidgets>=7.0.0->swifter) (5.9.0)\n",
            "Requirement already satisfied: importlib-metadata in /usr/local/lib/python3.7/dist-packages (from jsonschema>=2.6->nbformat->notebook>=4.4.1->widgetsnbextension~=3.6.0->ipywidgets>=7.0.0->swifter) (4.12.0)\n",
            "Requirement already satisfied: zipp>=3.1.0 in /usr/local/lib/python3.7/dist-packages (from importlib-resources>=1.4.0->jsonschema>=2.6->nbformat->notebook>=4.4.1->widgetsnbextension~=3.6.0->ipywidgets>=7.0.0->swifter) (3.8.1)\n"
          ]
        }
      ],
      "source": [
        "#Load libraries\n",
        "!pip install swifter"
      ]
    },
    {
      "cell_type": "code",
      "execution_count": 4,
      "metadata": {
        "colab": {
          "base_uri": "https://localhost:8080/"
        },
        "id": "5RiChQkYhX75",
        "outputId": "1a6cbe14-b7df-4496-ed25-d4de10e62083"
      },
      "outputs": [
        {
          "name": "stdout",
          "output_type": "stream",
          "text": [
            "display.max_colwidth : int or None\n",
            "    The maximum width in characters of a column in the repr of\n",
            "    a pandas data structure. When the column overflows, a \"...\"\n",
            "    placeholder is embedded in the output. A 'None' value means unlimited.\n",
            "    [default: 50] [currently: 400]\n"
          ]
        }
      ],
      "source": [
        "import pandas as pd\n",
        "import numpy as np\n",
        "import pandas as pd\n",
        "from pathlib import Path\n",
        "import zipfile\n",
        "import tarfile\n",
        "import numpy as np\n",
        "import swifter\n",
        "import re\n",
        "import string\n",
        "import random\n",
        "from sklearn.base import BaseEstimator, TransformerMixin\n",
        "from bs4 import BeautifulSoup\n",
        "import spacy\n",
        "import re\n",
        "import os\n",
        "from spacy.matcher import Matcher\n",
        "from spacy.tokens import Token\n",
        "from pathlib import Path\n",
        "from sklearn.model_selection import train_test_split\n",
        "from nltk.stem.porter import PorterStemmer\n",
        "from collections import defaultdict\n",
        "from pathlib import Path\n",
        "import joblib\n",
        "from sklearn.pipeline import Pipeline\n",
        "import pandas as pd\n",
        "import numpy as np\n",
        "from pathlib import Path\n",
        "import textwrap as tw\n",
        "import matplotlib.pyplot as plt\n",
        "#from scipy.sparse import hstack\n",
        "import sklearn\n",
        "from sklearn.linear_model import LogisticRegression\n",
        "from sklearn.feature_extraction.text import TfidfTransformer, CountVectorizer, TfidfVectorizer\n",
        "from sklearn.model_selection import GridSearchCV\n",
        "from sklearn.metrics import classification_report\n",
        "from sklearn.pipeline import Pipeline\n",
        "from  sklearn.compose import ColumnTransformer\n",
        "from sklearn.metrics import fbeta_score, make_scorer\n",
        "pd.set_option('max_rows', 99999)\n",
        "pd.set_option('max_colwidth', 400)\n",
        "pd.describe_option('max_colwidth')"
      ]
    },
    {
      "attachments": {},
      "cell_type": "markdown",
      "metadata": {
        "id": "cXeG6ZQ4OVDj"
      },
      "source": [
        "# <font color='pickle'> **Load the dataset  (1 Point)**\n",
        "\n",
        "- For this project you will use spam dataset from kaggle which can be found from [this](https://www.kaggle.com/uciml/sms-spam-collection-dataset) link. You can download this data and either upload it in google drive or in colab workspace. Load the data in pandas dataframe. \n",
        "\n",
        "- There are only two useful columns. These columns are related to (1) label (ham and spam) and the (2) text of email.\n",
        "\n",
        "- Rename columns as label and message\n",
        "\n",
        "- Find the %  ham amd spam in the data.\n",
        "\n",
        "\n",
        "\n"
      ]
    },
    {
      "cell_type": "code",
      "execution_count": 5,
      "metadata": {
        "colab": {
          "base_uri": "https://localhost:8080/"
        },
        "id": "SeVJSSN8P4O3",
        "outputId": "27fb4d9d-b46e-45cd-ea2f-ff073f15db65"
      },
      "outputs": [
        {
          "name": "stdout",
          "output_type": "stream",
          "text": [
            "Mounted at /content/drive\n"
          ]
        }
      ],
      "source": [
        "from google.colab import drive\n",
        "drive.mount('/content/drive')"
      ]
    },
    {
      "cell_type": "code",
      "execution_count": 6,
      "metadata": {
        "id": "MD-G22MqPR1o"
      },
      "outputs": [],
      "source": [
        "basepath = '/content/drive/MyDrive/NLP_Fall22/HW3/'\n",
        "base_folder = Path(basepath)\n",
        "data_folder = base_folder/'Data'\n",
        "model_folder =  base_folder/'Models'"
      ]
    },
    {
      "cell_type": "code",
      "execution_count": 7,
      "metadata": {
        "id": "rJ9FzhBLRI_r"
      },
      "outputs": [],
      "source": [
        "data = pd.read_csv(data_folder/'spam.csv',encoding='ISO-8859-1',usecols=['v1','v2'])\n",
        "data.columns = ['label','message']"
      ]
    },
    {
      "cell_type": "code",
      "execution_count": 8,
      "metadata": {
        "colab": {
          "base_uri": "https://localhost:8080/",
          "height": 206
        },
        "id": "X-gZlVPfRekd",
        "outputId": "d5c7b7b2-2af9-4244-d193-4605bbd3f725"
      },
      "outputs": [
        {
          "data": {
            "text/html": [
              "\n",
              "  <div id=\"df-5e1bd4eb-7b3d-4114-8e90-6479bb6edf1b\">\n",
              "    <div class=\"colab-df-container\">\n",
              "      <div>\n",
              "<style scoped>\n",
              "    .dataframe tbody tr th:only-of-type {\n",
              "        vertical-align: middle;\n",
              "    }\n",
              "\n",
              "    .dataframe tbody tr th {\n",
              "        vertical-align: top;\n",
              "    }\n",
              "\n",
              "    .dataframe thead th {\n",
              "        text-align: right;\n",
              "    }\n",
              "</style>\n",
              "<table border=\"1\" class=\"dataframe\">\n",
              "  <thead>\n",
              "    <tr style=\"text-align: right;\">\n",
              "      <th></th>\n",
              "      <th>label</th>\n",
              "      <th>message</th>\n",
              "    </tr>\n",
              "  </thead>\n",
              "  <tbody>\n",
              "    <tr>\n",
              "      <th>0</th>\n",
              "      <td>ham</td>\n",
              "      <td>Go until jurong point, crazy.. Available only in bugis n great world la e buffet... Cine there got amore wat...</td>\n",
              "    </tr>\n",
              "    <tr>\n",
              "      <th>1</th>\n",
              "      <td>ham</td>\n",
              "      <td>Ok lar... Joking wif u oni...</td>\n",
              "    </tr>\n",
              "    <tr>\n",
              "      <th>2</th>\n",
              "      <td>spam</td>\n",
              "      <td>Free entry in 2 a wkly comp to win FA Cup final tkts 21st May 2005. Text FA to 87121 to receive entry question(std txt rate)T&amp;C's apply 08452810075over18's</td>\n",
              "    </tr>\n",
              "    <tr>\n",
              "      <th>3</th>\n",
              "      <td>ham</td>\n",
              "      <td>U dun say so early hor... U c already then say...</td>\n",
              "    </tr>\n",
              "    <tr>\n",
              "      <th>4</th>\n",
              "      <td>ham</td>\n",
              "      <td>Nah I don't think he goes to usf, he lives around here though</td>\n",
              "    </tr>\n",
              "  </tbody>\n",
              "</table>\n",
              "</div>\n",
              "      <button class=\"colab-df-convert\" onclick=\"convertToInteractive('df-5e1bd4eb-7b3d-4114-8e90-6479bb6edf1b')\"\n",
              "              title=\"Convert this dataframe to an interactive table.\"\n",
              "              style=\"display:none;\">\n",
              "        \n",
              "  <svg xmlns=\"http://www.w3.org/2000/svg\" height=\"24px\"viewBox=\"0 0 24 24\"\n",
              "       width=\"24px\">\n",
              "    <path d=\"M0 0h24v24H0V0z\" fill=\"none\"/>\n",
              "    <path d=\"M18.56 5.44l.94 2.06.94-2.06 2.06-.94-2.06-.94-.94-2.06-.94 2.06-2.06.94zm-11 1L8.5 8.5l.94-2.06 2.06-.94-2.06-.94L8.5 2.5l-.94 2.06-2.06.94zm10 10l.94 2.06.94-2.06 2.06-.94-2.06-.94-.94-2.06-.94 2.06-2.06.94z\"/><path d=\"M17.41 7.96l-1.37-1.37c-.4-.4-.92-.59-1.43-.59-.52 0-1.04.2-1.43.59L10.3 9.45l-7.72 7.72c-.78.78-.78 2.05 0 2.83L4 21.41c.39.39.9.59 1.41.59.51 0 1.02-.2 1.41-.59l7.78-7.78 2.81-2.81c.8-.78.8-2.07 0-2.86zM5.41 20L4 18.59l7.72-7.72 1.47 1.35L5.41 20z\"/>\n",
              "  </svg>\n",
              "      </button>\n",
              "      \n",
              "  <style>\n",
              "    .colab-df-container {\n",
              "      display:flex;\n",
              "      flex-wrap:wrap;\n",
              "      gap: 12px;\n",
              "    }\n",
              "\n",
              "    .colab-df-convert {\n",
              "      background-color: #E8F0FE;\n",
              "      border: none;\n",
              "      border-radius: 50%;\n",
              "      cursor: pointer;\n",
              "      display: none;\n",
              "      fill: #1967D2;\n",
              "      height: 32px;\n",
              "      padding: 0 0 0 0;\n",
              "      width: 32px;\n",
              "    }\n",
              "\n",
              "    .colab-df-convert:hover {\n",
              "      background-color: #E2EBFA;\n",
              "      box-shadow: 0px 1px 2px rgba(60, 64, 67, 0.3), 0px 1px 3px 1px rgba(60, 64, 67, 0.15);\n",
              "      fill: #174EA6;\n",
              "    }\n",
              "\n",
              "    [theme=dark] .colab-df-convert {\n",
              "      background-color: #3B4455;\n",
              "      fill: #D2E3FC;\n",
              "    }\n",
              "\n",
              "    [theme=dark] .colab-df-convert:hover {\n",
              "      background-color: #434B5C;\n",
              "      box-shadow: 0px 1px 3px 1px rgba(0, 0, 0, 0.15);\n",
              "      filter: drop-shadow(0px 1px 2px rgba(0, 0, 0, 0.3));\n",
              "      fill: #FFFFFF;\n",
              "    }\n",
              "  </style>\n",
              "\n",
              "      <script>\n",
              "        const buttonEl =\n",
              "          document.querySelector('#df-5e1bd4eb-7b3d-4114-8e90-6479bb6edf1b button.colab-df-convert');\n",
              "        buttonEl.style.display =\n",
              "          google.colab.kernel.accessAllowed ? 'block' : 'none';\n",
              "\n",
              "        async function convertToInteractive(key) {\n",
              "          const element = document.querySelector('#df-5e1bd4eb-7b3d-4114-8e90-6479bb6edf1b');\n",
              "          const dataTable =\n",
              "            await google.colab.kernel.invokeFunction('convertToInteractive',\n",
              "                                                     [key], {});\n",
              "          if (!dataTable) return;\n",
              "\n",
              "          const docLinkHtml = 'Like what you see? Visit the ' +\n",
              "            '<a target=\"_blank\" href=https://colab.research.google.com/notebooks/data_table.ipynb>data table notebook</a>'\n",
              "            + ' to learn more about interactive tables.';\n",
              "          element.innerHTML = '';\n",
              "          dataTable['output_type'] = 'display_data';\n",
              "          await google.colab.output.renderOutput(dataTable, element);\n",
              "          const docLink = document.createElement('div');\n",
              "          docLink.innerHTML = docLinkHtml;\n",
              "          element.appendChild(docLink);\n",
              "        }\n",
              "      </script>\n",
              "    </div>\n",
              "  </div>\n",
              "  "
            ],
            "text/plain": [
              "  label  \\\n",
              "0   ham   \n",
              "1   ham   \n",
              "2  spam   \n",
              "3   ham   \n",
              "4   ham   \n",
              "\n",
              "                                                                                                                                                       message  \n",
              "0                                              Go until jurong point, crazy.. Available only in bugis n great world la e buffet... Cine there got amore wat...  \n",
              "1                                                                                                                                Ok lar... Joking wif u oni...  \n",
              "2  Free entry in 2 a wkly comp to win FA Cup final tkts 21st May 2005. Text FA to 87121 to receive entry question(std txt rate)T&C's apply 08452810075over18's  \n",
              "3                                                                                                            U dun say so early hor... U c already then say...  \n",
              "4                                                                                                Nah I don't think he goes to usf, he lives around here though  "
            ]
          },
          "execution_count": 8,
          "metadata": {},
          "output_type": "execute_result"
        }
      ],
      "source": [
        "data.head()"
      ]
    },
    {
      "cell_type": "code",
      "execution_count": 9,
      "metadata": {
        "colab": {
          "base_uri": "https://localhost:8080/"
        },
        "id": "LpHhsMUecAJe",
        "outputId": "88a663ca-532e-4365-b195-98f5480127bb"
      },
      "outputs": [
        {
          "name": "stdout",
          "output_type": "stream",
          "text": [
            "2022-09-23 01:56:18.808231: E tensorflow/stream_executor/cuda/cuda_driver.cc:271] failed call to cuInit: CUDA_ERROR_NO_DEVICE: no CUDA-capable device is detected\n",
            "Looking in indexes: https://pypi.org/simple, https://us-python.pkg.dev/colab-wheels/public/simple/\n",
            "Collecting en-core-web-sm==3.4.0\n",
            "  Downloading https://github.com/explosion/spacy-models/releases/download/en_core_web_sm-3.4.0/en_core_web_sm-3.4.0-py3-none-any.whl (12.8 MB)\n",
            "\u001b[K     |████████████████████████████████| 12.8 MB 298 kB/s \n",
            "\u001b[?25hRequirement already satisfied: spacy<3.5.0,>=3.4.0 in /usr/local/lib/python3.7/dist-packages (from en-core-web-sm==3.4.0) (3.4.1)\n",
            "Requirement already satisfied: preshed<3.1.0,>=3.0.2 in /usr/local/lib/python3.7/dist-packages (from spacy<3.5.0,>=3.4.0->en-core-web-sm==3.4.0) (3.0.7)\n",
            "Requirement already satisfied: requests<3.0.0,>=2.13.0 in /usr/local/lib/python3.7/dist-packages (from spacy<3.5.0,>=3.4.0->en-core-web-sm==3.4.0) (2.23.0)\n",
            "Requirement already satisfied: typer<0.5.0,>=0.3.0 in /usr/local/lib/python3.7/dist-packages (from spacy<3.5.0,>=3.4.0->en-core-web-sm==3.4.0) (0.4.2)\n",
            "Requirement already satisfied: catalogue<2.1.0,>=2.0.6 in /usr/local/lib/python3.7/dist-packages (from spacy<3.5.0,>=3.4.0->en-core-web-sm==3.4.0) (2.0.8)\n",
            "Requirement already satisfied: pathy>=0.3.5 in /usr/local/lib/python3.7/dist-packages (from spacy<3.5.0,>=3.4.0->en-core-web-sm==3.4.0) (0.6.2)\n",
            "Requirement already satisfied: packaging>=20.0 in /usr/local/lib/python3.7/dist-packages (from spacy<3.5.0,>=3.4.0->en-core-web-sm==3.4.0) (21.3)\n",
            "Requirement already satisfied: langcodes<4.0.0,>=3.2.0 in /usr/local/lib/python3.7/dist-packages (from spacy<3.5.0,>=3.4.0->en-core-web-sm==3.4.0) (3.3.0)\n",
            "Requirement already satisfied: thinc<8.2.0,>=8.1.0 in /usr/local/lib/python3.7/dist-packages (from spacy<3.5.0,>=3.4.0->en-core-web-sm==3.4.0) (8.1.0)\n",
            "Requirement already satisfied: spacy-loggers<2.0.0,>=1.0.0 in /usr/local/lib/python3.7/dist-packages (from spacy<3.5.0,>=3.4.0->en-core-web-sm==3.4.0) (1.0.3)\n",
            "Requirement already satisfied: numpy>=1.15.0 in /usr/local/lib/python3.7/dist-packages (from spacy<3.5.0,>=3.4.0->en-core-web-sm==3.4.0) (1.21.6)\n",
            "Requirement already satisfied: setuptools in /usr/local/lib/python3.7/dist-packages (from spacy<3.5.0,>=3.4.0->en-core-web-sm==3.4.0) (57.4.0)\n",
            "Requirement already satisfied: cymem<2.1.0,>=2.0.2 in /usr/local/lib/python3.7/dist-packages (from spacy<3.5.0,>=3.4.0->en-core-web-sm==3.4.0) (2.0.6)\n",
            "Requirement already satisfied: typing-extensions<4.2.0,>=3.7.4 in /usr/local/lib/python3.7/dist-packages (from spacy<3.5.0,>=3.4.0->en-core-web-sm==3.4.0) (4.1.1)\n",
            "Requirement already satisfied: tqdm<5.0.0,>=4.38.0 in /usr/local/lib/python3.7/dist-packages (from spacy<3.5.0,>=3.4.0->en-core-web-sm==3.4.0) (4.64.1)\n",
            "Requirement already satisfied: jinja2 in /usr/local/lib/python3.7/dist-packages (from spacy<3.5.0,>=3.4.0->en-core-web-sm==3.4.0) (2.11.3)\n",
            "Requirement already satisfied: wasabi<1.1.0,>=0.9.1 in /usr/local/lib/python3.7/dist-packages (from spacy<3.5.0,>=3.4.0->en-core-web-sm==3.4.0) (0.10.1)\n",
            "Requirement already satisfied: srsly<3.0.0,>=2.4.3 in /usr/local/lib/python3.7/dist-packages (from spacy<3.5.0,>=3.4.0->en-core-web-sm==3.4.0) (2.4.4)\n",
            "Requirement already satisfied: spacy-legacy<3.1.0,>=3.0.9 in /usr/local/lib/python3.7/dist-packages (from spacy<3.5.0,>=3.4.0->en-core-web-sm==3.4.0) (3.0.10)\n",
            "Requirement already satisfied: murmurhash<1.1.0,>=0.28.0 in /usr/local/lib/python3.7/dist-packages (from spacy<3.5.0,>=3.4.0->en-core-web-sm==3.4.0) (1.0.8)\n",
            "Requirement already satisfied: pydantic!=1.8,!=1.8.1,<1.10.0,>=1.7.4 in /usr/local/lib/python3.7/dist-packages (from spacy<3.5.0,>=3.4.0->en-core-web-sm==3.4.0) (1.9.2)\n",
            "Requirement already satisfied: zipp>=0.5 in /usr/local/lib/python3.7/dist-packages (from catalogue<2.1.0,>=2.0.6->spacy<3.5.0,>=3.4.0->en-core-web-sm==3.4.0) (3.8.1)\n",
            "Requirement already satisfied: pyparsing!=3.0.5,>=2.0.2 in /usr/local/lib/python3.7/dist-packages (from packaging>=20.0->spacy<3.5.0,>=3.4.0->en-core-web-sm==3.4.0) (3.0.9)\n",
            "Requirement already satisfied: smart-open<6.0.0,>=5.2.1 in /usr/local/lib/python3.7/dist-packages (from pathy>=0.3.5->spacy<3.5.0,>=3.4.0->en-core-web-sm==3.4.0) (5.2.1)\n",
            "Requirement already satisfied: chardet<4,>=3.0.2 in /usr/local/lib/python3.7/dist-packages (from requests<3.0.0,>=2.13.0->spacy<3.5.0,>=3.4.0->en-core-web-sm==3.4.0) (3.0.4)\n",
            "Requirement already satisfied: idna<3,>=2.5 in /usr/local/lib/python3.7/dist-packages (from requests<3.0.0,>=2.13.0->spacy<3.5.0,>=3.4.0->en-core-web-sm==3.4.0) (2.10)\n",
            "Requirement already satisfied: certifi>=2017.4.17 in /usr/local/lib/python3.7/dist-packages (from requests<3.0.0,>=2.13.0->spacy<3.5.0,>=3.4.0->en-core-web-sm==3.4.0) (2022.6.15)\n",
            "Requirement already satisfied: urllib3!=1.25.0,!=1.25.1,<1.26,>=1.21.1 in /usr/local/lib/python3.7/dist-packages (from requests<3.0.0,>=2.13.0->spacy<3.5.0,>=3.4.0->en-core-web-sm==3.4.0) (1.24.3)\n",
            "Requirement already satisfied: blis<0.8.0,>=0.7.8 in /usr/local/lib/python3.7/dist-packages (from thinc<8.2.0,>=8.1.0->spacy<3.5.0,>=3.4.0->en-core-web-sm==3.4.0) (0.7.8)\n",
            "Requirement already satisfied: click<9.0.0,>=7.1.1 in /usr/local/lib/python3.7/dist-packages (from typer<0.5.0,>=0.3.0->spacy<3.5.0,>=3.4.0->en-core-web-sm==3.4.0) (7.1.2)\n",
            "Requirement already satisfied: MarkupSafe>=0.23 in /usr/local/lib/python3.7/dist-packages (from jinja2->spacy<3.5.0,>=3.4.0->en-core-web-sm==3.4.0) (2.0.1)\n",
            "\u001b[38;5;2m✔ Download and installation successful\u001b[0m\n",
            "You can now load the package via spacy.load('en_core_web_sm')\n"
          ]
        }
      ],
      "source": [
        "!python -m spacy download 'en_core_web_sm'"
      ]
    },
    {
      "cell_type": "code",
      "execution_count": 10,
      "metadata": {
        "id": "g6xXQ9qnc2r8"
      },
      "outputs": [],
      "source": [
        "custom_functions = base_folder/'Scripts/custom_functions'\n",
        "import sys\n",
        "sys.path.append(str(custom_functions))\n",
        "import custom_preprocessor as cp\n",
        "from  featurizer import ManualFeatures\n",
        "from  plot_learning_curve import plot_learning_curve"
      ]
    },
    {
      "attachments": {},
      "cell_type": "markdown",
      "metadata": {
        "id": "rH8_mvGhiThV"
      },
      "source": [
        "# <font color='pickle'> **Final Pipeline**</font>\n",
        "\n",
        "With the understanding of Data processing, Featurization such as CountVectorizer, TFIDFVectorizer, and also Feature Engineering.\n",
        "* I am using the folllowing methods to create fearures which you can use in your model. \n",
        "\n",
        "    1. Sparse Embeddings (TF-IDF) \n",
        "    2. Feature Engineering (see examples below) \n",
        "    3. Sparse Embeddings (TF-IDF) + Feature Engineering \n",
        "\n",
        "**Approach:**\n",
        "\n",
        "<font color='indianred'> ****Use a smaller subset of dataset (e.g. 10 %) to evaluate the three pipelines . Based on your analysis (e.g. model score, learning curves) , choose one pipeline from the three. Provde your rational for choosing the pipleine. Train only the final pipeline on randomly selected larger subset (e.g. 40%) of the data.** </font>\n",
        "\n",
        "**Requirements:** \n",
        "\n",
        "1. You can use any ML model (Logistic Regression, XgBoost) for the classification. You will need to tune the **model for imbalanced dataset** (The link on XGBoost tutorial for imbalanced data: https://machinelearningmastery.com/xgboost-for-imbalanced-classification/).\n",
        "\n",
        "2. For feature engineering, you can choose from the examples below. You do not  have to use all of them. You can add other featues as well. Think about what faetures can distinguish a spam from a regular email. Some examples :\n",
        "\n",
        ">> Count of following  (Words, characters, digits, exclamation marks, numbers, Nouns, ProperNouns, AUX, VERBS, Adjectives, named entities, spelling mistakes (see the link on how to get spelling mistakes https://pypi.org/project/pyspellchecker/). \n",
        "\n",
        "3. For Sparse embeddings you will use **tfidf vectorization**. You need to choose appopriate parameters e.g. min_df, max_df, max_faetures, n-grams etc.). \n",
        "\n",
        "4. Think carefully about the pre-processing you will do.\n",
        "\n",
        "Tip: <font color = 'indianred'>**Using GridSearch for hyperparameter tuning might take a lot of time. Try using RandomizedSearch.**</font> You can also explore faster implementation of Gridsearch and RandomizedSearch in sklearn: \n",
        "\n",
        "1. [Halving Grid Search](https://scikit-learn.org/stable/modules/generated/sklearn.model_selection.HalvingGridSearchCV.html?highlight=halving#sklearn.model_selection.HalvingGridSearchCV)\n",
        "\n",
        "2. [HalvingRandomSearchCV](https://scikit-learn.org/stable/modules/generated/sklearn.model_selection.HalvingRandomSearchCV.html?highlight=halving#sklearn.model_selection.HalvingRandomSearchCV)\n",
        "\n",
        "\n",
        "\n"
      ]
    },
    {
      "cell_type": "markdown",
      "metadata": {
        "id": "PqPTPb0AsMP3"
      },
      "source": [
        "# **Required Submissions:**\n",
        "1.  Submit two colab/jupyter notebooks\n",
        "- (analysis with smaller subset and all three pipelines)\n",
        "- (analysis with bigger subset and only final pipeline)\n",
        "2. Pdf version of the notebooks (HWs will not be graded if pdf version is not provided.\n",
        "3. **The notebooks and pdf files should have the output.**\n",
        "4. **Name files as follows : FirstName_file1_hw2, FirstName_file2_h2**"
      ]
    },
    {
      "cell_type": "markdown",
      "metadata": {
        "id": "HQWtARc3Si6z"
      },
      "source": [
        "### **EDA**"
      ]
    },
    {
      "cell_type": "code",
      "execution_count": null,
      "metadata": {
        "colab": {
          "base_uri": "https://localhost:8080/"
        },
        "id": "YlSQJ5ZlFRNv",
        "outputId": "ec44cfbc-ff5a-4689-ab05-c2723c97f45f"
      },
      "outputs": [
        {
          "data": {
            "text/plain": [
              "5572"
            ]
          },
          "execution_count": 10,
          "metadata": {},
          "output_type": "execute_result"
        }
      ],
      "source": [
        "# Train and test split of dataset\n",
        "len(data)"
      ]
    },
    {
      "cell_type": "code",
      "execution_count": 75,
      "metadata": {
        "id": "spa_r6mGQUmE"
      },
      "outputs": [],
      "source": [
        "# Capturing 10% of the dataset\n",
        "\n",
        "spam_dataset = data.sample(frac=0.4, replace=True, random_state=1)\n",
        "X_train, X_test, y_train, y_test = train_test_split(spam_dataset['message'],spam_dataset['label'], test_size= 0.3, stratify=spam_dataset['label'])"
      ]
    },
    {
      "cell_type": "code",
      "execution_count": 76,
      "metadata": {
        "colab": {
          "base_uri": "https://localhost:8080/"
        },
        "id": "f3p1UbDzRLNS",
        "outputId": "190f1171-420b-4602-f9b8-f4792be696dc"
      },
      "outputs": [
        {
          "name": "stdout",
          "output_type": "stream",
          "text": [
            "<class 'pandas.core.frame.DataFrame'>\n",
            "Int64Index: 2229 entries, 5157 to 1339\n",
            "Data columns (total 2 columns):\n",
            " #   Column   Non-Null Count  Dtype \n",
            "---  ------   --------------  ----- \n",
            " 0   label    2229 non-null   object\n",
            " 1   message  2229 non-null   object\n",
            "dtypes: object(2)\n",
            "memory usage: 52.2+ KB\n"
          ]
        }
      ],
      "source": [
        "spam_dataset.info()"
      ]
    },
    {
      "cell_type": "code",
      "execution_count": 77,
      "metadata": {
        "colab": {
          "base_uri": "https://localhost:8080/"
        },
        "id": "XKx53E1DScN-",
        "outputId": "90f46218-deac-4973-af51-a0f45fc298df"
      },
      "outputs": [
        {
          "data": {
            "text/plain": [
              "ham     1369\n",
              "spam     191\n",
              "Name: label, dtype: int64"
            ]
          },
          "execution_count": 77,
          "metadata": {},
          "output_type": "execute_result"
        }
      ],
      "source": [
        "y_train.value_counts()"
      ]
    },
    {
      "cell_type": "code",
      "execution_count": 78,
      "metadata": {
        "colab": {
          "base_uri": "https://localhost:8080/"
        },
        "id": "6NEyrBGsS11H",
        "outputId": "f22b940f-89aa-4450-dd2a-909c7f4417be"
      },
      "outputs": [
        {
          "data": {
            "text/plain": [
              "ham     587\n",
              "spam     82\n",
              "Name: label, dtype: int64"
            ]
          },
          "execution_count": 78,
          "metadata": {},
          "output_type": "execute_result"
        }
      ],
      "source": [
        "y_test.value_counts()"
      ]
    },
    {
      "cell_type": "code",
      "execution_count": 79,
      "metadata": {
        "colab": {
          "base_uri": "https://localhost:8080/"
        },
        "id": "-BfV8PZHS3i6",
        "outputId": "75731e77-6ce0-46f7-b399-fe571ff1b1f1"
      },
      "outputs": [
        {
          "name": "stdout",
          "output_type": "stream",
          "text": [
            "X_train: (1560,) y_train: (1560,)\n",
            "X_test: (669,) y_test: (669,)\n"
          ]
        }
      ],
      "source": [
        "print(f'X_train: {X_train.shape} y_train: {y_train.shape}')\n",
        "print(f'X_test: {X_test.shape} y_test: {y_test.shape}')"
      ]
    },
    {
      "cell_type": "markdown",
      "metadata": {
        "id": "W9PVePumfokU"
      },
      "source": [
        "### Data preprocessing"
      ]
    },
    {
      "cell_type": "code",
      "execution_count": 80,
      "metadata": {
        "id": "E6TWyXI1foEt"
      },
      "outputs": [],
      "source": [
        "X_train_cleaned = cp.SpacyPreprocessor(model = 'en_core_web_sm', remove_stop=True,stemming=True, remove_hashtag_prefix=True ).transform(X_train.to_list())"
      ]
    },
    {
      "cell_type": "code",
      "execution_count": 81,
      "metadata": {
        "colab": {
          "base_uri": "https://localhost:8080/"
        },
        "id": "GnfGU9fdgrgx",
        "outputId": "ba31d0e9-d55c-4990-d39b-36d6ecf1861b"
      },
      "outputs": [
        {
          "data": {
            "text/plain": [
              "['tough',\n",
              " 'guy close',\n",
              " 'get job wipro:)you thing life 2 3 year',\n",
              " 'send aunty number',\n",
              " 's training manual tech process:)it password reset troubleshooting',\n",
              " 'happen',\n",
              " 'urgent mobile 077xxx won å£2,000 bonus caller prize 02/06/03 2nd attempt reach 09066362206 asap box97n7qp 150ppm',\n",
              " 'baaaaabe misss youuuuu teach class 5',\n",
              " 'go to finish bath good fine night',\n",
              " 'ok prob',\n",
              " 'great comedy cant stop laugh da',\n",
              " 'tell return order',\n",
              " 'ready   lt;#&gt   inch pleasure',\n",
              " 'eat jap oso aft ur lect wat ìï get lect 12 rite',\n",
              " 'splashmobile choose 1000 gr8 tone wk subscrition service weekly tone cost 300p u credit kick enjoy',\n",
              " 'come room point iron plan weekend',\n",
              " 'sir send email log usc payment portal send message explain thing home great weekend',\n",
              " 'alright sure let know leave',\n",
              " 'house maid murderer coz man murder   lt;#&gt th january public holiday closed include post office understand',\n",
              " 'message responce happend',\n",
              " 'not sense free need know',\n",
              " 'hi di yijue meet 7 pm esaplanade tonight',\n",
              " 'think mentor 100 percent sure',\n",
              " 'bugis oso near wat',\n",
              " 'good evening ttyl',\n",
              " 'hey sexy bun tell adore loverboy hope remember thank sister law meatball grin love babe',\n",
              " 'great aunt anniversary party tarpon spring',\n",
              " 'good let thank god complete drug lot water beautiful day',\n",
              " 'oh come ah',\n",
              " 'hey time driving fri evaluation fri',\n",
              " 'yup shd haf ard 10 page add figure ìï get page',\n",
              " 'arun u transfr d amt',\n",
              " 'noe da car later c lar wear short',\n",
              " 'cos darren ì consider mah ask ì',\n",
              " 'fine imma drink somethin want come find',\n",
              " 'bruce amp fowl mom car park long story',\n",
              " 'yalru lyfu astne chikku bt innu mundhe lyf ali halla ke bilo marriage)program edhae lyf not ovr chikku ali vargu lyfu meow meow:-d',\n",
              " 'ok',\n",
              " 'come karnan car wait till 6 pm directly goto doctor',\n",
              " 'otside le u come 2morrow maga',\n",
              " 'i\\x89û÷ll leave ok',\n",
              " 'dear voucher holder meal use follow link pc 2 enjoy 2 4 1 dining',\n",
              " 'yeah sure couple minute track wallet',\n",
              " 'not shop lor juz arrive',\n",
              " 'lor come',\n",
              " 'not know bring food',\n",
              " 'hard true amp   express love hurt leave seperate !\\x8eö´\\x89ó_??\\x8bû¬ud evening',\n",
              " 'lt;#&gt   think syllabus',\n",
              " 'correct work today',\n",
              " 'university southern california',\n",
              " 'xy go 4 e lunch',\n",
              " \"go attend round today did't reach home\",\n",
              " 'u wake wat u u pick later rite take sq825 reach ard 7 smth 8 like dat u check e arrival time c ya soon',\n",
              " 'thk em find wtc far weiyi goin e rest dunno r ur goin 4 dinner den b able join',\n",
              " 'joy father john john joy father mandan',\n",
              " 'pain catch',\n",
              " 'nah wednesday bring mini cheeto bag',\n",
              " 'sorry hear book kinda joke thet look skinny white girl line camera like cast look',\n",
              " 'auction round 4 high bid å£54 maximum bid å£71 bid send bids e. g. 10 bid å£10 83383 good luck',\n",
              " 'bank granite issue strong buy explosive pick member 300 nasdaq symbol cdgt $ 5.00',\n",
              " 'yeah gang ready',\n",
              " 'stop suggest stay able or stool',\n",
              " 'nope drivin neva develop da photo lei',\n",
              " 'fyi take quick shower epsilon like   lt;#&gt   min',\n",
              " 'drama pls.i family struggle hot sun strange place reason ego go invite actually necessity reppurcussion',\n",
              " \"evry emotion dsn't hav word evry wish dsn't hav prayrs u smile d world wit u. othrwise d drop tear dsn't lik 2 stay wit u. b happy good morning smiling:-\",\n",
              " 'hey late amk need drink tea coffee',\n",
              " 'she.s drinkin ok',\n",
              " '2 sleeping bag 1 blanket paper   phone detail',\n",
              " 'tell number gautham',\n",
              " 'haha have dinner cousin',\n",
              " 'anyways gym love smile hope ok have good day babe miss',\n",
              " 'haha hear text',\n",
              " 'want new video phone 600 anytime network min 400 inclusive video call download 5 week free deltomorrow 08002888812 reply',\n",
              " \"congratulation you've won winner august å£1000 prize draw 09066660100 prize code 2309\",\n",
              " 'friend want drive em someplace probably',\n",
              " 'baby yo tho',\n",
              " 'dude friend afraid',\n",
              " 'collect valentine weekend paris inc flight hotel + å£200 prize guarantee text paris 69101',\n",
              " 'yes u texte pshew miss',\n",
              " 'k come wenever u lik come tel vikky come get free time',\n",
              " 'aiyo cos sm ì ì neva reply wait 4 ì reply lar tot ì not finish ur lab wat',\n",
              " 'today sunday sunday holiday work',\n",
              " 'haf msn',\n",
              " 'urgent 09066350750 landline complimentary 4 ibiza holiday 10,000 cash await collection sae t&cs po box 434 sk3 8wp 150 ppm 18 +',\n",
              " 'engalnd telly decide will let watch mia elliot kiss damn',\n",
              " 'won guarantee å£1000 cash å£2000 prize claim yr prize customer service representative 08714712379 10am-7pm cost 10p',\n",
              " 'leave house',\n",
              " 'free message activate 500 free text message reply message word free term condition visit',\n",
              " 'babe say 2 hour 4 internet',\n",
              " 'ha e thing get tv 2 watch u thk 2 tonight u haf smth mind',\n",
              " 'ur pin',\n",
              " 'hank lotsly',\n",
              " 'hi m have relaxing time 7 day party good night home tomorrow 5ish',\n",
              " 'hello little party animal think buzz friend grin remind love send naughty adore kiss',\n",
              " 'yes woman man tell like dislike bed',\n",
              " 'happen adventure',\n",
              " 'gd luck 4 ur exam',\n",
              " 'get outta class go to gym',\n",
              " 'i\\x89û÷ll leave ok',\n",
              " '1 thing change sentence \\\\because want 2 concentrate educational career m leave',\n",
              " 'wan2 win meet+greet westlife 4 u m8 currently tour 1)unbreakable 2)untame 3)unkempt text 1,2 3 83049 cost 50p + std text',\n",
              " 'sos pls',\n",
              " 'u lunch',\n",
              " 'aight time want come',\n",
              " 'big | god bring success',\n",
              " 'ok c ì',\n",
              " 'try contact offer new video phone 750 anytime network min half price rental camcorder 08000930705 reply delivery d',\n",
              " 'not sense free need know',\n",
              " 'sorry de go shop',\n",
              " 'ask anthony dad bf',\n",
              " 'sun not come earth send luv ray cloud not come river send luv rain not come meet u send care msg u. gud evng',\n",
              " 'request maangalyam alaipayuthe set callertune callers press 9 copy friend callertune',\n",
              " 'da intro cover energy trend n pro n con brief description nuclear fusion n oso brief history iter n jet get abt 7 n half page',\n",
              " 'ugh got to drive sd la butt sore',\n",
              " 'lose 4 pound doc visit week woot woot go to celebrate stuff face',\n",
              " 'not waitin usual ìï come sch oredi',\n",
              " 'lot thing happen lindsay new year sigh bar ptbo blue heron go',\n",
              " 'correct work today',\n",
              " 'download clear movie dvd copy',\n",
              " 'rounder:)so require',\n",
              " 'ì ask dad pick ì lar ìï wan 2 stay 6 meh',\n",
              " 'go to rimac access',\n",
              " 'sore throat scratch talk',\n",
              " 'urgent mobile number award 2000 prize guaranteed 09061790125 landline claim 3030 valid 12hrs 150ppm',\n",
              " 'ful song lyric',\n",
              " 'yo parent gettin cash good news pick downstem',\n",
              " 'adult learn experience real danger not like peep drug not need comment',\n",
              " 'don t think need go late school night especially class miss wednesday probably fail test friday',\n",
              " 'meet darren',\n",
              " 'thk u dun haf 2 hint e forum lor cos tell ron n darren go 2 tell shuhui',\n",
              " 'library',\n",
              " 'come slave go shell unconsciously avoid make unhappy',\n",
              " 'gorgeous pix cumme thank',\n",
              " 'won value vodafone customer computer pick win å£150 prize collect easy 09061743386',\n",
              " 'use half-8th',\n",
              " 'okey doke home dress cos lay ill speak later bout time stuff',\n",
              " 'little time thing good time ahead',\n",
              " 'get job hospital datum analysis start monday sure thesis got finish',\n",
              " 'simply sit watch match office',\n",
              " 'sound well evening m costume m sure time finish tomorrow txt end',\n",
              " 'thank ringtone order reference number x49 mobile charge 4.50 tone arrive customer service 09065989182 colour = red]text[/colour]txtstar',\n",
              " 'tell u 2 09066358152 claim å£5000 prize u 2 enter ur mobile personal detail prompt careful',\n",
              " 'ok',\n",
              " 'not mus ask u 1st wat meet 4 lunch den u n meet lor u wan 2 ask da ge 1st confirm w asap',\n",
              " 'excellent spend   lt;#&gt   year air force iraq afghanistan stable honest like travel',\n",
              " 'joy father john john joy father mandan',\n",
              " 'sorry able morning',\n",
              " 'important customer service announcement freephone 0800 542 0825',\n",
              " 'da good good unsold',\n",
              " 'send email \\x89ûò address incomm right',\n",
              " 'winner value network customer select receivea å£900 prize reward claim 09061701461 claim code kl341 valid 12 hour',\n",
              " 'want custom officer discount oh',\n",
              " 'gorgeous pix cumme thank',\n",
              " 'pick receipt early',\n",
              " 'wnt buy bmw car urgently vry hv shortage   lt;#&gt source arng dis amt lt;#&gt lac that prob',\n",
              " 'lol ok ill try send warn sprint dead slow prolly tomorrow',\n",
              " 'ron fri leh n say ding tai feng not reservation say wait lor',\n",
              " 'sorry later meeting',\n",
              " 'guess pub m m happy pig clover saying',\n",
              " 'wish',\n",
              " 'k text way',\n",
              " 'lol will feel bad use money steak dinner =d',\n",
              " 'plan',\n",
              " 'complimentary 4 star ibiza holiday å£10,000 cash need urgent collection 09066364349 landline lose box434sk38wp150ppm18 +',\n",
              " 'hate not accept single message',\n",
              " 'today \\\\song dedicated day song u dedicate send ur valuable frnd rply',\n",
              " 'buzz hey love think hope day go sleep miss babe long moment again*love smile',\n",
              " 'sure parent work tuesday need cover story',\n",
              " 'tell accenture confirm true',\n",
              " '2 sch yar e salon v boring',\n",
              " 'let know contact settle room let know ok',\n",
              " 'go intention run choose room clean visitor maybe good choice yes want embarasse maybe feel feel friend want drop buy happen morning try know',\n",
              " 'u turn heater heater set lt;#&gt degree',\n",
              " 'fine know want question',\n",
              " 'oh k:)after placement ah',\n",
              " 'print oh   lt;#&gt   come upstairs',\n",
              " 'know pls open',\n",
              " 'need strong arm',\n",
              " 'imma definitely need restock thanksgiving let know',\n",
              " 'home doc give pain med say fine',\n",
              " 'free entry 2 wkly comp win fa cup final tkts 21st 2005 text fa 87121 receive entry question(std txt rate)t&c apply 08452810075over18',\n",
              " '07801543489 guarantee latest nokia phone 40 gb ipod mp3 player å£500 prize txt word collect no:83355 tc llc ny usa 150p mt msgrcvd18 +',\n",
              " 'ok wun b angry msg u aft come home tonight',\n",
              " 'oops thk dun haf enuff check tell ì',\n",
              " 'rightio 11.48 not bright early morning',\n",
              " 'ur go 2 bahamas callfreefone 08081560665 speak live operator claim bahamas cruise ofå£2000 cash 18+only opt txt x 07786200117',\n",
              " 'ju reach home bathe sis net tell u finish k',\n",
              " 'pleased inform application airtel broadband process successfully installation happen 3 day',\n",
              " 'aight 8 late probably close 7 jay tyler trip',\n",
              " 'text82228 > > ringtone logo game question',\n",
              " 'seriously spell',\n",
              " 'wait 4 tv 2 start lor u leh busy ur report',\n",
              " 'fwiw reason time smoke gas afford tell apparently happen somebody want light',\n",
              " 'nice line say broken heart- plz cum 1 time infront wise ll trust u good 9 t',\n",
              " 'reserve ticket saturday eve chennai thirunelvali tirunelvali chennai sunday eve net ticket available want book ticket tackle',\n",
              " 'tell coulda real valentine u pick',\n",
              " '\\\\hi miss mumhas beendropping red wine theplace adress?\\\\',\n",
              " \"tell u dat baig face watch like e watch u give cos fr u. thanx 4 dat u've today touch\",\n",
              " 'aiyo ì get time meh',\n",
              " 'guy leave',\n",
              " 'hello lover go new job happy think wake slave send teasing kiss sea',\n",
              " 'thank tesco nice go speak soon',\n",
              " 'u noe 2 send file 2 computer',\n",
              " '08712402779 immediately urgent message wait',\n",
              " 'meh thgt clash ah dun mind dun see lose weight gee',\n",
              " 'oh god go to google nearby cliff',\n",
              " 'time tell friend',\n",
              " 'upload facebook',\n",
              " 'new year plan',\n",
              " 'chance reality fantasy = 08707509020 20p min ntt ltd po box 1327 croydon cr9 5wb 0870 national = rate',\n",
              " 'ok lor ne 2 toa payoh 4 2 return smth u wan 2 send wat',\n",
              " 'hope wasn\\x89û÷t piss remember go sister',\n",
              " 'th gower mate r u man good wales ill b åômorrow c u wk msg 4 åð random',\n",
              " 'yeah barely room x fucking shoe sorry man later',\n",
              " 'r ì comin dinner',\n",
              " 'hiya comin 2 bristol 1 st week april les get + rudi new yrs eve snoring.they drunk u bak college work send ink 2 bath',\n",
              " 'ok call mom instead fun',\n",
              " 'ur lecture',\n",
              " 'yeah like go like friend imma flip shit like half hour',\n",
              " 'sign maturity start say big thing actually start understand small thing nice evening bslvyl',\n",
              " 'ur change 2 da report big cos change 2 da previous report',\n",
              " 'lol starve lose pound end day',\n",
              " 'teach ship car',\n",
              " 'awesome question cute answer ask boy \\\\how ur life?\\\\ smile amp answer \\\\\"she fine!\\\\ gudnite',\n",
              " 'ok prob',\n",
              " 'chat awesome regular person',\n",
              " 'information ikea spell cap yell think leave sit bed mess come say go get home class try bullshit make want listen',\n",
              " '1 thing change sentence \\\\because want 2 concentrate educational career m leave',\n",
              " 'wat time ì finish',\n",
              " 's s india go draw series year south african soil',\n",
              " 'bar b q store life!?this twat orange dungeree come ask want deck get punch',\n",
              " 'urgent 09066612661 landline complimentary 4 lux costa del sol holiday å£1000 cash await collection ppm 150 sae t&cs james 28 eh74rr',\n",
              " 'room need',\n",
              " 'r u say order slipper cos pay return',\n",
              " '\\x89û r stayin extra week d. rugby weekend hi c u soon ham',\n",
              " 'u know ask date service 2 contact not guess 09058095107 reveal pobox 7 s3xy 150p',\n",
              " '6 ft good combination',\n",
              " 'ìï dun wan watch infernal affair',\n",
              " 'happen r 2waxsto wat want come ill medical insurance able deliver basic care currently shop right medical insurance til friday morning s major person guide right insurance',\n",
              " '\\\\alrite hunny!wot u 2 2nite didnt end goin town jus da pub instead jus chillin da mo bedroom!love jen xxx.\\\\',\n",
              " 'yup',\n",
              " 'bangbabes ur order way u receive service msg 2 download ur content u goto wap bangb tv ur mobile internet service menu',\n",
              " 'appt lt;time&gt fault u listen tell u twice',\n",
              " 'add care dude fuck hey money want',\n",
              " 'come b diff guess rite',\n",
              " 'nice new shirt thing wear nudist theme mu',\n",
              " 'thank pick trash',\n",
              " 'care sleep need learn change need convinced that.i wait conversation convinced time family u role life',\n",
              " 'today \\\\song dedicated day song u dedicate send ur valuable frnd rply',\n",
              " 'walk hour 2 c u doesnåõt care y will not u believe m',\n",
              " 'ìï takin linear algebra today',\n",
              " 'time',\n",
              " 'ask mummy father',\n",
              " 'green quote tell jerry cartoon \\\\a person irritate u love u vry fail express gud nyt',\n",
              " 'true easy',\n",
              " 'lol actually send pic right wanna pose comb hair dryer',\n",
              " 'unnecessarily affectionate',\n",
              " \"yes.i'm office da\",\n",
              " 'im gonnamissu much!!i il send u postcard buttheres aboutas chance merememberin asthere ofsi breakin contract luv yaxx',\n",
              " 'hello darle today love chat not tell look like sexy',\n",
              " 'not gimme lip caveboy',\n",
              " 'sunshine quiz wkly q win sony dvd player u know country liverpool play mid week txt ansr 82277 å£1.50 sp tyrone',\n",
              " 'wine flow nevere',\n",
              " 'bring tat cd don forget',\n",
              " 'sure check yahoo email send photo yesterday',\n",
              " 'oh lk tt den e tt end cine lor dun wan yogasana oso',\n",
              " 'hi babe jordan r u m home abroad lonely text u wanna chat xxsp text stop stopcost 150p 08712400603',\n",
              " '\\\\can come imin town.dontmatter urgoin outl8r',\n",
              " 'themob > yo yo yo come new selection hot download member free click open link send ur fone',\n",
              " 'sorry guess hold connection maybe hour text',\n",
              " 'xclusive@clubsaisai 2morow 28/5 soiree speciale zouk nichols paris.free rose 2 ladies info 07946746291/07880867867',\n",
              " 'big chic common declare',\n",
              " 'gift year not bad',\n",
              " 'urgent 4 costa del sol holiday å£5000 await collection 09050090044 toclaim sae tc s pobox334 stockport sk38xh costå£1.50 pm max10min',\n",
              " 'come hostel',\n",
              " 'ì b go esplanade fr home',\n",
              " 'seek lady street freak sheet',\n",
              " 'aww time u say u miss ask miss u love',\n",
              " 'eat jap oso aft ur lect wat ìï get lect 12 rite',\n",
              " 'customer service announcement recently try delivery unable 07090298926 schedule ref:9307622',\n",
              " 'collect valentine weekend paris inc flight hotel + å£200 prize guarantee text paris 69101',\n",
              " 'thread wishlist section forum ppl post nitro request start page collect',\n",
              " 'maybe reboot ym see buzz',\n",
              " 'raji pls favour pls convey birthday wish nimya pls today birthday',\n",
              " '\\x89û r stayin extra week d. rugby weekend hi c u soon ham',\n",
              " '  leave',\n",
              " 'thk fast xy suggest u dun wan ok go 2 rain leh get gd',\n",
              " 'oh fine tonight',\n",
              " '1 new voicemail 08719181513',\n",
              " 'btw try 4th guy commit random dude',\n",
              " 'hmm ill think ok forgive =d',\n",
              " 'uworld site buy qbank buy self assessment',\n",
              " 'ok let noe later n ask u tmr',\n",
              " 'new mobiles 2004 txt nokia 89545 collect today å£1 2optout 087187262701.50gbp mtmsg18 txtauction',\n",
              " 'x2   lt;#&gt go',\n",
              " 'av new number   wil u use ta',\n",
              " 'xmas iscoming ur award å£500 cd gift voucher free entry 2 r å£100 weekly draw txt music 87066 tnc www ldew.com1win150ppmx3age16subscription',\n",
              " '2 sleeping bag 1 blanket paper   phone detail',\n",
              " 'senthil group company apnt 5 pm',\n",
              " 'tomarrow want got court   lt;decimal&gt come bus stand 9',\n",
              " 'free > ringtone reply real poly eg real1 1 pushbutton 2 dontcha 3 babygoodbye 4 golddigger 5 webeburnin 1st tone free 6 u join å£3 wk',\n",
              " 'add care dude fuck hey money want',\n",
              " 's:)no competition',\n",
              " 'rt king pro video club > > need help 08701237397 16 + club credit redeemable enjoy',\n",
              " 'finish liao u',\n",
              " 'haha good hear officially pay market 8th',\n",
              " 'hi kate evening hope tomorrow bit bloody babyjontet txt u xxx',\n",
              " 'thanx yup come sun finish dinner go 2 hotel time fly tog 4 exactly mth today hope haf mth come',\n",
              " 'today \\\\song dedicated day song u dedicate send ur valuable frnd rply',\n",
              " 'stuff road get slippery',\n",
              " 'strike red bird + antelope begin toplay fieldof selfindependence believe + flower contention grow.random',\n",
              " 'payasam rinu bring',\n",
              " 'ok sure time tho sure library class try point good eve',\n",
              " 'sms services inclusive text credit pls gotto login 3qxj9 unsubscribe stop extra charge help 08702840625 comuk.220cm2 9ae',\n",
              " 'msg rajini come',\n",
              " 'ì buy wif meet ì later',\n",
              " 'ax m',\n",
              " 'haha think',\n",
              " 'money 4 steve mate',\n",
              " 'die e toot fringe',\n",
              " 'xmas prize draw try contact u. todays draw show win å£2000 prize guaranteed 09058094565 land line valid 12hrs',\n",
              " 'mean get epi she.s fine she.s',\n",
              " 'apart tell yesterday',\n",
              " 'sure night menu know noon menu',\n",
              " 'affidavit say   lt;#&gt   e twiggs st division g courtroom   lt;#&gt lt;time&gt   double check text tomorrow',\n",
              " 'doc prescribe morphine cause pain med wait mom bring med kick fast go to try later',\n",
              " 'love u 2 babe r u sure alrite idiot txt bak girlie',\n",
              " 'tick tick tick babe',\n",
              " 'realy sorry recognise number confused r u',\n",
              " 'receive understand n act',\n",
              " 'wait know wesley town bet hella drug',\n",
              " 'time u',\n",
              " 'oh ok',\n",
              " 'cool little get time soon',\n",
              " 'yeah open chat click friend list list easy pie',\n",
              " 'bus way calicut',\n",
              " 'hi amy send free phone number couple day access adult party',\n",
              " 'olol print forum post guy exact   prob fix gpu replacement hopefully not ignore',\n",
              " 'hiya u like hlday pic look horrible take mo s camp amrca thing speak soon serena',\n",
              " 'lookatme thank purchase video clip lookatme charge 35p think well send video mmsto 32323',\n",
              " 'come home time will not trust',\n",
              " 'haha sound crazy dunno tahan anot',\n",
              " 'thanks2',\n",
              " 'haha not angry practice real thing =)',\n",
              " 'yeah random dude need change info sheet party   lt;#&gt /7 study safe',\n",
              " 'post l8r class',\n",
              " 'treasure moment spend',\n",
              " 'go to worry will money use',\n",
              " 'think bout || drink tap spile seven || pub gas st broad st canal || ok',\n",
              " '',\n",
              " 'nah m goin 2 wrk j wot bout u',\n",
              " 'raji pls favour pls convey birthday wish nimya pls today birthday',\n",
              " '\\\\keep ur problem ur heart',\n",
              " 'sunny california weather cool',\n",
              " 'probably couple hour top',\n",
              " 'maybe pressie',\n",
              " 'hey happen u switch ur cell d day not good u care tomorrow',\n",
              " 'yup thk e shop close lor',\n",
              " 'right second get to hit people',\n",
              " 'wot u 2 bitch',\n",
              " 'teach app da come college',\n",
              " 'know result',\n",
              " 'dude avatar 3d imp point think actually fly room try hittng reflex',\n",
              " '6time',\n",
              " 'cozy exhaust go school work closed',\n",
              " 'hello wat talk email address',\n",
              " 'usually fucking minute respond yes question',\n",
              " 'goodmorning grandfather expire leave today',\n",
              " 'brand new mobile phone agent mob plus load goody info text mat 87021',\n",
              " 'believe attach see day know good babe teach class midnight',\n",
              " 'day use sleep   lt;#&gt  ',\n",
              " 'hope alright babe worry feel bit desparate learn job fake wait come love',\n",
              " 'ok u enjoy ur show',\n",
              " \"s'fine anytime good\",\n",
              " 'cos want thing',\n",
              " 'depend quality want type send boye fade glory 6 want ralph maybe 2',\n",
              " 'not pick phone right pls send message',\n",
              " 'hi m have relaxing time 7 day party good night home tomorrow 5ish',\n",
              " 'bluray player',\n",
              " 'cool want kappa meet outside mu',\n",
              " 'lol member say aunt flow visit 6 month cause develop ovarian cyst bc way shrink',\n",
              " 'sorry completely forgot pop em round week',\n",
              " 'u secret admirer look 2 contact u find r*reveal think ur special 09058094599',\n",
              " 'sorry early put fire talk 9 actually life lol',\n",
              " 'total video converter free download type google search',\n",
              " 'happen r 2waxsto wat want come ill medical insurance able deliver basic care currently shop right medical insurance til friday morning s major person guide right insurance',\n",
              " 'yesterday go home',\n",
              " 'know u u know send chat 86688 let find 150p msg rcvd hg suite342/2lands row w1j6hl ldn 18 year',\n",
              " 'car appreciate dad have map read semi argument apart thing go ok p.',\n",
              " 'im gonna mis u',\n",
              " 'r home come 5 min',\n",
              " 'come people',\n",
              " 'general price   lt;#&gt /oz let know want',\n",
              " 'refuse loan secured unsecured credit free 0800 195 6669 text help',\n",
              " 'know pls open',\n",
              " 'hi m have relaxing time 7 day party good night home tomorrow 5ish',\n",
              " 'eastender tv quiz flower dot compare d= violet e= tulip f= lily txt d e f 84025 4 chance 2 win å£100 cash wkent/150p16 +',\n",
              " 'room need',\n",
              " \"s'fine anytime good\",\n",
              " 'yes swim',\n",
              " 'cry stuff happen push edge underdtand cry sorry sorry life',\n",
              " 'ola maybe today ve tell direct link get car bid online arrange shipping cut u partnership u invest money shipping take care rest!u??wud b self reliant soon dnt worry',\n",
              " 'wanna gym',\n",
              " 'wat time u wan 2 meet later',\n",
              " 'doc prescribe morphine cause pain med wait mom bring med kick fast go to try later',\n",
              " 'k come wenever u lik come tel vikky come get free time',\n",
              " 'not file bag work call me.i tell find room',\n",
              " 'private 2003 account statement show 800 un redeem s.i.m. point 08715203685 identifier code:4xx26 expire 13/10/04',\n",
              " 'awesome minute',\n",
              " 'update_now 12mths half price orange line rental 400min mobileupd8 08000839402 call2optout = j5q',\n",
              " 'sorry later',\n",
              " 'monday nxt week vl complete',\n",
              " 'official england poly ringtone colour flag yer mobile tonight game text tone flag 84199 optout txt eng stop box39822 w111wx å£1.50',\n",
              " 'sister law hope have great month say hey abiola',\n",
              " 'fine know want question',\n",
              " 'release vday shirt u make half naked instead white underwear',\n",
              " 'be answerin phone actually pretty reasonable hour sleepy',\n",
              " 'not message offer',\n",
              " 'beautiful truth gravity read carefully \\\\our heart feel light feel heavy leave good night',\n",
              " 'c ì',\n",
              " 'don know:)this week go tirunelvai da',\n",
              " 'time thinkin goin',\n",
              " 'chill 6hrs sleep pain surgical emergency unfold okay',\n",
              " 'play gautham',\n",
              " 'nooooooo go to bore death day cable internet outage',\n",
              " 'cheer message zogtorius iåõve stare phone age decide text',\n",
              " \"excellent thought misundrstud frnd knw u hate bt day wen u'll knw truth u'll hate urself:- gn:-\",\n",
              " 'guarantee late nokia phone 40 gb ipod mp3 player å£500 prize txt word collect 83355 ibhltd ldnw15h 150p mtmsgrcvd18 +',\n",
              " 'cthen thk shd b enuff get conclusion n content pg n reference b da content pg n cover pg',\n",
              " '\\\\symptoms\\\\ u love \\\\\"1.u like listen song 2.u stop u beloved 3.u will angry',\n",
              " 'ìï get wat buy tell ì need come',\n",
              " 'sure mean \\\\get',\n",
              " 'mmmm fuck fair know weakness grin push knee expose belly pull head forget know wicked smile',\n",
              " 'check room befor activity',\n",
              " 'not know ask brother problem thing tell',\n",
              " 'blame day ur life good day u happiness bad day u experience essential life gods blessing good morning',\n",
              " 'total disappointment texte crazy shit get',\n",
              " \"s.i'm watch live\",\n",
              " 'hi kindly document submit loan stapati',\n",
              " 'married local woman look discreet action 5 real match instantly phone text match 69969 msg cost 150p 2 stop txt stop bcmsfwc1n3xx',\n",
              " 'yun ì wkg where?btw ì nus sc ìï wana specialise wad',\n",
              " 'oh yah cancel leh haha',\n",
              " 'ìï thk wat eat tonight',\n",
              " 'hi chachi try call u unable reach u pl missed cal u c tiz msg   kanagu',\n",
              " 'god pick flower dippeditinadew lovingly touch itwhichturnedinto u gift tomeandsaid friend 4u',\n",
              " 'want kfc tuesday buy 2 meal 2 gravy 2 mark 2',\n",
              " 'awesome think 8th usf time tonight',\n",
              " 'lol oh get friend dog',\n",
              " 'sunny california weather cool',\n",
              " 'u sound like manky scouse boy steve like travel da bus u inmind 4 recreation dis eve',\n",
              " 'right think',\n",
              " 'end vomit okay come',\n",
              " 'pain move 6hr doctor',\n",
              " 'tonight',\n",
              " 'thanx birthday',\n",
              " 'forget love walk watch keep heart warm',\n",
              " 'wat make u thk fall actually thk prone 2 fall lucky dad home ask come n fetch',\n",
              " 'thatåõs alrite girl u know gail neva wrong!!take care sweet donåõt worry.c u l8tr hun!love yaxxx',\n",
              " 'pick ur fone u dumb',\n",
              " 'shall pouch',\n",
              " 'aldrine rakhesh ex rtm',\n",
              " 'total disappointment texte crazy shit get',\n",
              " 'ok lor',\n",
              " 'ok bit ex u well eat smth feel guilty',\n",
              " 'ok prob',\n",
              " 'ok c ì',\n",
              " 'v nice 2 sheffield tom 2 air opinion category 2 b 2 measure ethnicity census busy transcribe',\n",
              " 'come karnan car wait till 6 pm directly goto doctor',\n",
              " 'miss ya need ya want ya love ya',\n",
              " 'o shore takin bus',\n",
              " 'da:)he stupid da send like this:)don believe mental',\n",
              " 'yep great loxahatchee xmas tree burn   lt;#&gt   start hour',\n",
              " 'huh y lei',\n",
              " 'tot group mate lucky not reply wat time ì need leave',\n",
              " 'haha leg neck kill amigo hope end night burn think swing like hour',\n",
              " 'u wan 2 come dinner tonight',\n",
              " 'fyi usf swing room',\n",
              " 'k u bore come home',\n",
              " 'yes say',\n",
              " 'fine absolutly fine',\n",
              " 'send resume:-',\n",
              " 'http//tms wml?id=820554ad0a1705572711&first = trueåác c ringtoneåá',\n",
              " 'day',\n",
              " 'natalja 25 f invite friend reply yes-440 no-440 stop send stop frnd 62468',\n",
              " 'orh tot u dun believe',\n",
              " 'ok c u',\n",
              " 'way',\n",
              " 'problem spend lot quality time',\n",
              " 'have number sir',\n",
              " 'rounder:)so require',\n",
              " '1 new message 08715205273',\n",
              " 'lol great m get hungry',\n",
              " 'go bath ill place key window:-',\n",
              " 'will not b 2.15 try 2 sort house ok',\n",
              " 'ringtone club uk single chart mobile week choose quality ringtone message free charge',\n",
              " 'da birthdate certificate april real date today not publish shall special treat secret way thank wish',\n",
              " 'good morning dear great amp successful day',\n",
              " 'adult learn experience real danger not like peep drug not need comment',\n",
              " 'send jd customer service cum account executive ur mail d detail contact',\n",
              " 'honey sweetheart darling sexy bun sugar plum loverboy miss boytoy smack ass gym',\n",
              " 'cuz ibore don wanna study',\n",
              " 'hey leave friday wait ask superior tell',\n",
              " 'sister get place birla soft da:-',\n",
              " 'thanx 4 send home',\n",
              " 'think i\\x89û÷m wait bus inform',\n",
              " 'run young man pretty baby',\n",
              " 'headin busetop',\n",
              " 'dun need use dial juz open da browser n surf',\n",
              " 'not pick phone right pls send message',\n",
              " 'maybe hi   find   get card great escape wetherspoon',\n",
              " 'ok ur typical reply',\n",
              " 'nah wednesday bring mini cheeto bag',\n",
              " 'sure stomach',\n",
              " 'leave wif lar ìï wan carry meh heavy da num 98321561 familiar ì',\n",
              " '+123 congratulation week competition draw u win å£1450 prize claim 09050002311 b4280703 t&cs stop sms 08718727868 18 150ppm',\n",
              " 'dunno cos v late n reach inside eat spageddie lor e gal r laugh lor',\n",
              " 'spoil bed',\n",
              " 'hmm uncle inform pay school directly pls buy food',\n",
              " 'dear chechi talk',\n",
              " 'mobile 11 month u r entitle update late colour mobile camera free mobile update co free 08002986030',\n",
              " 'valentine game send dis msg ur friend 5 answer r d love u. ques- colour suit good',\n",
              " 'wait 4 ì inside da car park',\n",
              " 'sir late pay rent past month pay $ lt;#&gt   charge feel inconsiderate nag great cost not speak recession will not able pay charge month askin ahead month end help thank',\n",
              " 'wah lucky man save money hee',\n",
              " 'leave probably go to til dinner',\n",
              " 'literally bed like   lt;#&gt   hour',\n",
              " 'aah cuddle lush need lot tea soup kind fumbling',\n",
              " 'doc prescribe morphine cause pain med wait mom bring med kick fast go to try later',\n",
              " 'bday real april',\n",
              " 'urgent ur award complimentary trip eurodisinc trav aco&entry41 å£1000 claim txt dis 87121 18 + 6*å£1.50(morefrmmob shracomorsglsuplt)10 ls1 3aj',\n",
              " 'stayin trouble stranger!!saw dave day heåõs sort now!still bloke u gona girl mr!ur mum think 2getha',\n",
              " 'aathi dear',\n",
              " 'got to collect da car 6 lei',\n",
              " 'pure hearted person wonderful smile make enemy feel guilty enemy catch world smile goodmorning amp smiley sunday',\n",
              " 'k sure consent form v',\n",
              " 'got seventeen pound seven ml \\x89ûò hope ok',\n",
              " 's s time dhoni rock',\n",
              " 'time come tomorrow',\n",
              " 'think go reg pract lesson fling advance haha wat time u go',\n",
              " 'need know outsider',\n",
              " 'free entry å£250 weekly comp send word win 80086 18 t&c',\n",
              " 'simply sit watch match office',\n",
              " 'fren lor wif mum n sis lor',\n",
              " 'get tea sure flavour',\n",
              " 'kit strip bill 150p netcollex ltd. po box 1013 ig11 oja',\n",
              " 'hi chachi try call u unable reach u pl missed cal u c tiz msg   kanagu',\n",
              " 'don wake check stuff see true available space pls embassy send mail',\n",
              " 'sorry go place tomorrow sorry',\n",
              " 'kind take garage centre exhaust need replace order n take fix tomo morning',\n",
              " 'want new nokia 3510i colour phone deliver tomorrow 200 free minute mobile + 100 free text + free camcorder reply 8000930705',\n",
              " 'pic send',\n",
              " 'hope have good week check',\n",
              " 'haha awesome 4u couple time come',\n",
              " 'lol will feel bad use money steak dinner =d',\n",
              " 'problem baby good time talk call leave message',\n",
              " 'oh come ah',\n",
              " 'enjoy watch play football basketball outdoors',\n",
              " 'get ur mail muchand look forward lot support contact remember venugopal late shall try come till dear',\n",
              " 'remain bro bros',\n",
              " 'u today',\n",
              " 'ya tell abt tht incident',\n",
              " 'text not reply let know log',\n",
              " \"u need presnt bcz u not mis love \\\\jeevithathile irulinae neekunna prakasamanu sneham\\\\ prakasam ennal prabha mn prabha is'love got not mis\",\n",
              " 'wot u 2 bitch',\n",
              " 'urgent mobile won å£2,000 bonus caller prize 02/06/03 2nd attempt reach 09066362220 asap box97n7qp 150ppm',\n",
              " 'hey u gym',\n",
              " 'boytoy miss happen',\n",
              " 'wrong phone phone answer assume people',\n",
              " \"stop wonder \\\\wow go stop tm'e tm want laugh\",\n",
              " 'sac score big set batsman:-',\n",
              " 'win nokia 7250i win free auction send nokia 86021 hg suite342/2lands row w1jhl 16 +',\n",
              " 'mom want know',\n",
              " 'k.k:)when go',\n",
              " 'k. sent',\n",
              " 'urgent try contact u todays draw show win å£800 prize guarantee 09050000460 land line claim j89 po box245c2150pm',\n",
              " 'good morning dear great amp successful day',\n",
              " 'way home long dry spell season',\n",
              " 'forget love walk watch keep heart warm',\n",
              " 'believe attach see day know good babe teach class midnight',\n",
              " 'u repeat e instruction wat e road ur house',\n",
              " 'free',\n",
              " \"true dear sit pray evening feel sms'd time\",\n",
              " 'real tho suck cook electricity hungry',\n",
              " 'ok wif cos like 2 try new thing scare u dun like mah cos u say loud',\n",
              " 'hm good morning headache',\n",
              " 'en chikku nange bakra msg kalstiya tea coffee',\n",
              " 'guy get g say think stay mcr',\n",
              " 'alex say ok ok',\n",
              " 'wait know wesley town bet hella drug',\n",
              " 'hope enjoy new content text stop 61610 unsubscribe help:08712400602450p provide',\n",
              " \"sad story man week b'day wife did'nt wish parents forget n kid go work colleagues wish\",\n",
              " 'oh s late good night u tomorrow iam go sleep night night',\n",
              " '1st wk free gr8 tone str8 2 u wk txt nokia 8007 classic nokia tone hit 8007 poly nokia/150p poly/200p 16 +',\n",
              " 'boooo work quit',\n",
              " 'fine thatåõs way u feel thatåõs way gota b',\n",
              " 'lor juz lor',\n",
              " 'thank skype wit kz sura not pleasure company hope good give ultimatum oh countin aburo enjoy message send day ago',\n",
              " 'right think',\n",
              " 'free entry å£250 weekly competition text word win 80086 18 t&c',\n",
              " 's cool cum',\n",
              " 'dint come',\n",
              " 'lmao know',\n",
              " 'watch tv get new job',\n",
              " 'yeah hopefully tyler maybe ask bit',\n",
              " 'room',\n",
              " 'wa u efficient gee thanx',\n",
              " 'nope watch tv home go v bored',\n",
              " 'tell return order',\n",
              " 'pay like   lt;#&gt yr difficult',\n",
              " 'goodmorning grandfather expire leave today',\n",
              " 'aight plan come later tonight',\n",
              " 'lor toa payoh get place 2 walk meh',\n",
              " 'wake 4 afternoon sup',\n",
              " 'finish liao u',\n",
              " 'meet stranger choose friend long world stand friendship end let friend forever gud nitz',\n",
              " 'abeg profit start sponsor event',\n",
              " 'hospital da return home evening',\n",
              " \"  say quit least5time day wudn't notice nah mind go to want come taunton tonight u tell\",\n",
              " 'gosh pain spose well come',\n",
              " 'chance evaporate soon violate privacy steal phone number employer paperwork cool contact report supervisor',\n",
              " 'love set soul fire spark flame big rawring flame xoxo',\n",
              " 'sir wait mail',\n",
              " 'wan2 win meet+greet westlife 4 u m8 currently tour 1)unbreakable 2)untame 3)unkempt text 1,2 3 83049 cost 50p + std text',\n",
              " 'hello little party animal think buzz friend grin remind love send naughty adore kiss',\n",
              " 'hello go village pub 8 come accordingly ok',\n",
              " 'santa calling little one like santa xmas eve 09058094583 book time',\n",
              " 'hi kate u ring asap xxx',\n",
              " 'miserable tell u effect birth control massive gut wrench cramp 2 month sleep night',\n",
              " 'sorry go place tomorrow sorry',\n",
              " 'cos want thing',\n",
              " 'wat r u',\n",
              " 'forget couple buck send tomorrow k love ya',\n",
              " 'ok da plan wil pick',\n",
              " 'u call right hand phone',\n",
              " 'ha ha ha good joke girl situation seeker',\n",
              " 'e admin building b slightly early u reach',\n",
              " 'go 4 dinner soon',\n",
              " 'cool text ready',\n",
              " 's:)s.nervous   lt;#&gt',\n",
              " '  number u live 11',\n",
              " 'ask mummy father',\n",
              " 'send greeting joy happiness gr8 evening',\n",
              " 'hello lover go new job happy think wake slave send teasing kiss sea',\n",
              " 'da vijay go talk jaya tv',\n",
              " 'farm open',\n",
              " 'hiya night naughty buy clothe little ready shopping tho kind time wanna meet',\n",
              " 'draw va?i not think',\n",
              " 'get new year cos yetunde say want surprise not money return mid january   lt;#&gt day return period end',\n",
              " 'don know watch film computer',\n",
              " 'describe lucky actually awake noon',\n",
              " 'hey inconvenient sis huh',\n",
              " 'hard live 121 chat 60p min choose girl connect live 09094646899 cheap chat uk big live service vu bcm1896wc1n3xx',\n",
              " 'guy get g say think stay mcr',\n",
              " 'delhi chennai silent',\n",
              " 'way stay oh',\n",
              " 'happen dear silent tense',\n",
              " 'auction round 4 high bid å£54 maximum bid å£71 bid send bids e. g. 10 bid å£10 83383 good luck',\n",
              " 'somewhr surely 4 u. god decide perfect time u meet dat person till den enjoy ur crush',\n",
              " 'buzzzz grin buzz ass buzz chest buzz cock phone vibrator feel shake',\n",
              " 'yeah prob night obviously catch speak soon',\n",
              " 'know result',\n",
              " 'i\\x89û÷ve get salt rub open wound like',\n",
              " 'smith waste da.i wanna gayle',\n",
              " 'usually person unconscious child adult behave abnormally',\n",
              " 'text way cup stop work bus',\n",
              " 'v aluable ffectionate l oveable e ternal n oble t ruthful ntimate n atural e namous happy \\\\valentines day\\\\ advance',\n",
              " 'work',\n",
              " 'wish think go to snow flurry usually melt hit ground eek snow lt;#&gt bear',\n",
              " 'guai ìï shd haf see naughty ìï free today jog',\n",
              " 'spring come early yay',\n",
              " 'sorry im stil fucked nite go tobed 430 get 4 work 630',\n",
              " 'get msg frm tht unknown',\n",
              " 'sunshine hols claim ur med holiday send stamp self address envelope drinks uk po box 113 bray wicklow eire quiz start saturday unsub stop',\n",
              " 'v skint fancy gona meet othrs spoon jst bin watchng planet earth&sofa v comfey not hav gd night',\n",
              " 'yeah work fine start week stuff dull easy guy fun',\n",
              " 'not da',\n",
              " 'free video camera phone half price line rental 12 mth 500 cross ntwk min 100 txt mobileupd8 08001950382 call2optout/674',\n",
              " 'shall fine avalarr hollalater',\n",
              " 'ugh fuck resubbe eve',\n",
              " 'cool time think',\n",
              " 'well friday stuff like pig yesterday feel bleh writhe pain kind bleh',\n",
              " 'lor',\n",
              " 'gentle princess sweet gentle love',\n",
              " 'yo m right yo work',\n",
              " 'sorry later meeting',\n",
              " 'ball time call',\n",
              " 'weird know point',\n",
              " 'ok msg u b4 leave house',\n",
              " 'u want come back?.a beautiful necklace token heart wife liking.be me.i wait till come',\n",
              " 'week savamob member offer accessible 08709501522 detail savamob pobox 139 la3 2wu å£1.50 week savamob offer mobile',\n",
              " 'purity friendship smile read forwarded message smile see gud evng musthu',\n",
              " 'dude like buff wind',\n",
              " 'important information 4 orange user today lucky day!2find log fantastic surprise await',\n",
              " 'hear week',\n",
              " 'party alex nichols',\n",
              " 's staff take class',\n",
              " 'wat r u',\n",
              " 'fuck cedar key fuck come tho',\n",
              " 'yeah think usual guy pass night ahold anybody let know throw',\n",
              " '2 oz guy kinda flaky friend interested pick $ lt;#&gt   worth tonight possible',\n",
              " 'r meet',\n",
              " 'week savamob member offer accessible 08709501522 detail savamob pobox 139 la3 2wu å£1.50 week savamob offer mobile',\n",
              " 'say u mind bedroom minute ok se sexy mood come 5 minut latr wid cake n wife',\n",
              " 'go ride bike',\n",
              " 'hey gal u wanna meet 4 dinner nìâte',\n",
              " 'romantic paris 2 night 2 flight å£79 book 4 year 08704439680ts&cs apply',\n",
              " 'win nokia 7250i win free auction send nokia 86021 hg suite342/2lands row w1jhl 16 +',\n",
              " 'day training:-',\n",
              " 'prize customer t&c 18 + 150p min polo ltd suite 373 london w1j 6hl busy',\n",
              " 'cool let know kick   lt;#&gt day',\n",
              " \"west coast haiz ìï'll forever come\",\n",
              " 'nowadays people notixiquate laxinorficate opportunity bamble entropication oblisingately opt ur book masteriastere amplikater fidalfication champlaxigate think atrocious wotz ur opinion junna',\n",
              " 'yo get car',\n",
              " 'hi home calicut',\n",
              " 'got get 2 colour lor colour light n e darker lor actually style hair',\n",
              " 'lor toa payoh get place 2 walk meh',\n",
              " 'yavnt try play original',\n",
              " 'yes post couple pic fb snow outside wake',\n",
              " 'night end day morning come special way smile like sunny ray leave worry blue blue bay gud mrng',\n",
              " 'protect e threat sib ask sensitive information like passwords atm sms pin email share password anybody',\n",
              " 'thank baby not wait taste real thing',\n",
              " 'wait clear sure sarcastic x want live',\n",
              " 'hi durban number',\n",
              " 'come day class',\n",
              " 'need strong arm',\n",
              " 'hi sexychat girl wait text text great night chatting send stop stop service',\n",
              " 'account refill successfully inr   lt;decimal&gt keralacircle prepay account balance r   lt;decimal&gt transaction id kr lt;#&gt',\n",
              " 'hi love go day fuck morning wake drop cell way stair alright phew miss',\n",
              " 'ready big day tomorrow',\n",
              " 'prefer free day tue d fri oso ìï ask workin lor',\n",
              " 'mum go robinson',\n",
              " 'house maid murderer coz man murder   lt;#&gt th january public holiday closed include post office understand',\n",
              " 'aiyar sorry lor forget 2 tell u',\n",
              " 'k make sense btw carlos difficult guy go to smoke pick second batch gas',\n",
              " 'wana plan trip sometme',\n",
              " 'heat pa:- apply oil pa',\n",
              " 'darren say dat u meet da ge den dun meet 4 dinner cos later u leave xy feel awkward den u meet 4 lunch lor',\n",
              " 'free 1st week no1 nokia tone 4 ur mob week txt nokia 8007 txte tell ur mate pobox 36504 w45wq norm150p tone 16 +',\n",
              " 'asked 3mobile 0870 chatlines inclu free mins india cust serv sed yes l8er got mega bill 3 dont giv shit bailiff days o å£250 3 want å£800',\n",
              " 'cough',\n",
              " 'ask macho price range want new plus interfue blackberry bold   lt;#&gt   bb',\n",
              " 'family happiness',\n",
              " 'ok ask abt e movie u wan ktv oso',\n",
              " 'exactly anyways far jide study visit',\n",
              " 'lemme know',\n",
              " 'k love',\n",
              " 'yunny walk citylink ì fast come hungry',\n",
              " 'release italian today cosign option',\n",
              " 'hi roger cl',\n",
              " 'work go min',\n",
              " 'hey hun onbus goin 2 meet want 2go 4a meal donyt feel like cuz 2 bus home!but s sweet latelyxxx',\n",
              " 'say go bed sleep',\n",
              " 'haha friend tyler literally ask dubsack',\n",
              " 'not goin get somethin meetin 4 dinner lor haha wonder tis time',\n",
              " 'make dinner',\n",
              " 'sir wait mail',\n",
              " 'reminder o2 2.50 pound free credit detail great offer pls reply 2 text valid house postcode',\n",
              " 'right go to check today steam sale pee text want come',\n",
              " 'aight text',\n",
              " 'yeah class',\n",
              " 'school start stay weather like food social support system like friend school thing important',\n",
              " 'mila age23 blonde new uk look sex uk guy u like fun text mtalk 69866.18 30pp txt 1st 5free å£1.50 increment help08718728876',\n",
              " 't mobile customer claim free camera phone upgrade pay sim card loyalty 0845 021 3680.offer end 28thfeb t&c apply',\n",
              " 'past say train durham coz reserved seat',\n",
              " 'got small capacity ex',\n",
              " 'hey horny want chat naked text hot 69698 text charge 150pm unsubscribe text stop 69698',\n",
              " 'omg snow tonite',\n",
              " 'late say website not slipper',\n",
              " 'right space want need start issue go suggest set definite there-- greece maybe ready',\n",
              " 'yo game want walmart soon',\n",
              " 'desires- u go doctor 4 liver bit stylish ur hair manage s',\n",
              " 'yeah leave maybe 7ish',\n",
              " 'ill obey',\n",
              " 'tomarrow final hearing laptop case not',\n",
              " 'wrong phone phone answer assume people',\n",
              " '4mths half price orange line rental late camera phone 4 free phone 11mth mobilesdirect free 08000938767 update or2stoptxt',\n",
              " 'gudnite tc practice go',\n",
              " 'hep b immunisation nigeria',\n",
              " \"congratulation you've won winner august å£1000 prize draw 09066660100 prize code 2309\",\n",
              " 'aight close alex place',\n",
              " 'not pick phone right pls send message',\n",
              " 'ok lor',\n",
              " 'okie thanx',\n",
              " 'lol member say aunt flow visit 6 month cause develop ovarian cyst bc way shrink',\n",
              " 'think miss teach til lecture damn work thing',\n",
              " 'u konw waht rael friendship m gve yuo exmpel jsut ese tihs msg evrey spllee tihs msg wrnog bt sitll yuo raed wihtuot ayn mitsake goodnight amp nice sleep sweet dreams',\n",
              " 'pick rayan macleran',\n",
              " 'k 2marrow come class',\n",
              " 'honeymoon outfit',\n",
              " 'get like $ lt;#&gt later feel like',\n",
              " 'slowly god love amp need clean heart blood.send special people amp u c miracle tomorrow pls pls',\n",
              " 'request maangalyam alaipayuthe set callertune callers press 9 copy friend callertune',\n",
              " 'work',\n",
              " 'say text time',\n",
              " 'r shelf buy egg',\n",
              " 'ìï get lesson   ìï sch',\n",
              " 'ya tel wat ur problem',\n",
              " 'callin hi care bruv',\n",
              " 'send print   out da',\n",
              " 'good hear',\n",
              " 'k u not msg reply msg',\n",
              " 'aight 8 late probably close 7 jay tyler trip',\n",
              " 'yo howz u girl ring india l',\n",
              " 'alright good night',\n",
              " 'haha hope ì hear receipt sound gd luck',\n",
              " 'not thnk wrong calling',\n",
              " 'ok b lovely u r sure think wot u want drinkin dancin eatin cinema u wot',\n",
              " 'dear angry busy dear',\n",
              " 'tell marry',\n",
              " 'it\\x89û÷ å£6 ok',\n",
              " 'hi darlin work u trouble ijust talked mum morning good time night im goin soon u',\n",
              " 'double min txt 4 6month free bluetooth orange available sony nokia motorola phone mobileupd8 08000839402 call2optout n9dx',\n",
              " 'ha ha cool cool chikku chikku:-):-db-',\n",
              " 'send ur birthdate month year tel u ur life partner method calculation reply',\n",
              " 'plz note call mobile co. amp ask u type lt;#&gt   lt;#&gt disconnect coz iz attempt terrorist use sim card itz confirmd nokia n motorola n verify cnn ibn',\n",
              " 'need',\n",
              " 'sure try xavier smoke want smoke tell smoke',\n",
              " 'message responce happend',\n",
              " 'ahhhh wake up!had bad dream u tho not like u right not know comedy night guess m',\n",
              " 'bad use half way stop well complete',\n",
              " 'lol busy',\n",
              " 'urgent mobile number award å£2000 bonus caller prize 09058095201 land line valid 12hrs',\n",
              " 'thank ringtone order reference number x49 mobile charge 4.50 tone arrive customer service 09065989182 colour = red]text[/colour]txtstar',\n",
              " 'hope thing go doctor remind need u c d little thing leave lounge',\n",
              " 'k k:)how training process',\n",
              " '2mro come gym machan goodnight',\n",
              " 'y dun cut short leh u dun like ah fail sad',\n",
              " 'dunno leh not remember mayb lor wat time r meet tmr',\n",
              " 'tough',\n",
              " 'try make butt',\n",
              " 'meeting u work tel shall work tomorrow',\n",
              " 'nite nite pocay wocay luv u n e thing 4eva promise ring u 2morrowxxxx',\n",
              " 'auction round 4 high bid å£54 maximum bid å£71 bid send bids e. g. 10 bid å£10 83383 good luck',\n",
              " 'u send home ok lor ready',\n",
              " 'summer finally fancy chat flirt sexy single yr area matched reply summer free 2 join optout txt stop help08714742804',\n",
              " 'hello hello hi lou sorry take long 2 reply- leave mobile friend lancaster get bak neway m sorry couldnåõt ur båõday 2 hun',\n",
              " 'jurong point crazy available bugis n great world la e buffet cine get amore wat',\n",
              " 'ha don\\x89û÷t know clever simple thing pear day perfect christmas',\n",
              " 'know thing wrong everyso panick start goin bout bein good \\x89û',\n",
              " 'wonder get online love go net cafe phone recharge friend net think boytoy',\n",
              " 'tell come wednesday',\n",
              " 'uncle abbey happy new year abiola',\n",
              " 'time',\n",
              " 'will morphine',\n",
              " 'k head min',\n",
              " 'select stay 1 250 british hotel holiday worth å£350 claim london 02072069400 bx 526 sw73ss',\n",
              " 'not talk now.i call',\n",
              " 'dunno lei b eatin wif fren ì wan eat wait 4 ì lar',\n",
              " 'cool   lt;#&gt   inch long hope like big',\n",
              " 'hack chat backdoor entry 121 chat room fraction cost reply neo69 09050280520 subscribe 25p pm dps bcm box 8027 ldn wc1n3xx',\n",
              " 'new address -apples&pairs&all malarky',\n",
              " 'wot u 2 u weirdo',\n",
              " 'hi:)did ask waheeda fathima leave',\n",
              " 'oh brand',\n",
              " 'k:)eng rock ashe',\n",
              " 'ok msg u b4 leave house',\n",
              " 'free ringtone text 87131 poly text 87131 true tone help 0845 2814032 16 1st free tone 3xå£150pw eå£nd txt stop',\n",
              " 'total disappointment texte crazy shit get',\n",
              " 'contract mobile 11 mnth latest motorola nokia etc free double mins text orange tariff text yes callback remove record',\n",
              " 'imagine finally sink bath pace maybe have eat leave imagine feel cage cock surround bath water remind own enjoy cuck',\n",
              " 'know serve mean',\n",
              " 'oic cos n sis get lunch today dad go dunno 2 eat sch wat',\n",
              " 's radio',\n",
              " 'length e e short n get fringe thk go liao lazy dun wan 2 distract u',\n",
              " 'hey want crave miss need love ahmad saeed al hallaq',\n",
              " 'ur pin',\n",
              " 'dear voucher holder meal use follow link pc 2 enjoy 2 4 1 dining',\n",
              " 'u konw waht rael friendship m gve yuo exmpel jsut ese tihs msg evrey spllee tihs msg wrnog bt sitll yuo raed wihtuot ayn mitsake goodnight amp nice sleep sweet dreams',\n",
              " 'sure stomach',\n",
              " 'oh oh den muz change plan liao yan jiu',\n",
              " 'lovely smell bus be tobacco',\n",
              " 'not pick phone right pls send message',\n",
              " 'love u 2 babe r u sure alrite idiot txt bak girlie',\n",
              " 'goodmorning today late   lt;#&gt min',\n",
              " 'ok',\n",
              " 'hit',\n",
              " 'home',\n",
              " 'sport fan late sport news str 2 ur mobile 1 wk free plus free tone txt sport 8007 0870141701216 + norm 4txt/120p',\n",
              " '    pick point | go 2 yeovil | motor project 4 3 hour | u home || 12 2 5.30 max || easy',\n",
              " 'dad go to get work ask crazy question',\n",
              " 'meeting u work tel shall work tomorrow',\n",
              " 'easy',\n",
              " 'jurong point crazy available bugis n great world la e buffet cine get amore wat',\n",
              " 'feel conveying reason ese',\n",
              " 'oh god happy message 3 day',\n",
              " 'hi dis yijue happy work wif ì gek1510',\n",
              " 'ups 3days shipping company take 2wks way usp take week get lag bribe nipost stuff',\n",
              " 'otside le u come 2morrow maga',\n",
              " 'amazing xxx picsfree1 video send enjoy vid 2day text keyword picsfree1 video',\n",
              " 'teach ranjith sir call sm like becaus s verify project prabu tell today pa not mistake',\n",
              " 'hi mate rv u hav nice hol message 3 hello coz havenåõt send u 1 age start drive stay roads!rvx',\n",
              " 'midnight early',\n",
              " 'urgent mobile number award å£2000 prize guaranteed 09061790126 land line claim 3030 valid 12hrs 150ppm',\n",
              " 'aiyah ok wat long get improve wat',\n",
              " 'wot u c 4 dust',\n",
              " 'think far find check google map place dorm',\n",
              " 'u meet ur dream partner soon ur career 2 flyng start 2 find free txt horo follow ur star sign e. g. horo arie',\n",
              " 'tell drug dealer get impatient',\n",
              " '3 lion england tone reply lionm 4 mono lionp 4 poly 4 2 original n good tone 3gbp network operator rate apply',\n",
              " 'die e toot fringe',\n",
              " 'dun bluff leh u sleep early nite',\n",
              " 'curious cuz ask',\n",
              " 'dle 3d imp',\n",
              " 'oh thank lot buy 2 egg',\n",
              " 'bloo bloo bloo miss bowl',\n",
              " '3 lion england tone reply lionm 4 mono lionp 4 poly 4 2 original n good tone 3gbp network operator rate apply',\n",
              " 'hmmm mayb try e shoppin area forget e hotel',\n",
              " 'guy flash madam care oh',\n",
              " 'text not reply let know log',\n",
              " 'playin space poker u',\n",
              " 'general price   lt;#&gt /oz let know want',\n",
              " 'big | god bring success',\n",
              " 'chk ur belovd ms dict',\n",
              " 'pls food preferably pap slowly load sugar hour water slowly',\n",
              " 'single line big meaning \\\\miss 4 ur \\\\\"b life\\\\',\n",
              " 'start search job great potential talent',\n",
              " 's nice bad not eat',\n",
              " 'need',\n",
              " 'facebook huh',\n",
              " 'rose need water season need change poet need imagination phone need ur sm need ur lovely frndship forever',\n",
              " 'apart tell yesterday',\n",
              " \"friendship game play word doesn\\\\'t start march end tomorrow yesterday today e\",\n",
              " 'let want house 8',\n",
              " 'conacte date service enter phone fancy you!to find landline 09111030116 pobox12n146tf15',\n",
              " 'dude ve see lotta corvette lately',\n",
              " 'pansy live jungle year driving worried',\n",
              " 'great well day give reason thank god',\n",
              " 'hope work not stressful gr8 day',\n",
              " 'weather',\n",
              " 'nice new shirt thing wear nudist theme mu',\n",
              " 'u goin 2nite',\n",
              " 'will not wat wit guy',\n",
              " 'thank call forgot happy onam sirji fine remember meet insurance person meet qatar insha allah rakhesh ex tata aig join tissco tayseer',\n",
              " \"maybe woke fucking 3 wouldn't problem\",\n",
              " '\\\\er',\n",
              " 'wait e car 4 mum lor u leh reach home',\n",
              " 'want explicit sex 30 sec ring 02073162414 cost 20p min',\n",
              " 'oops   lt;#&gt',\n",
              " 'aiyo lesson early sleepin haha okie u home liao den confirm w lor',\n",
              " 'boy sweet word leave morning sigh go day love start studying',\n",
              " 'ìï eatin later eatin wif fren lei ìï go home',\n",
              " '1 polyphonic tone 4 ur mob week txt pt2 87575 1st tone free txtin tell ur friend 150p tone 16 reply hl 4info',\n",
              " 'aight hit cash',\n",
              " 'time job today ok umma ask speed',\n",
              " 'wnt buy bmw car urgently vry hv shortage   lt;#&gt source arng dis amt lt;#&gt lac that prob',\n",
              " 'talk g x',\n",
              " 'fact leave think addie go school tue d',\n",
              " 'message responce happend',\n",
              " 'ok buy',\n",
              " 'think tantrum finished yeah point',\n",
              " 'go to ring weekend wot',\n",
              " '1 polyphonic tone 4 ur mob week txt pt2 87575 1st tone free txtin tell ur friend 150p tone 16 reply hl 4info',\n",
              " 'sorry later',\n",
              " 'ok dear chechi',\n",
              " 'get job wipro:)you thing life 2 3 year',\n",
              " 'check nuerologist',\n",
              " '2 laptop noe infra slow lar wan fast',\n",
              " 'she. find send offline message know anjola',\n",
              " '\\\\wen u miss',\n",
              " 'plan stay night prolly will til late',\n",
              " 'urgent 09066350750 landline complimentary 4 ibiza holiday 10,000 cash await collection sae t&cs po box 434 sk3 8wp 150 ppm 18 +',\n",
              " 'gal n boy walk d park gal hold ur hand boy y u think run away gal jst wana c feel walk heaven prince gn:-',\n",
              " 'send score sophas secondary application school think think apply research cost contact joke ogunrinde school expensive one',\n",
              " 'like cheap i\\x89û÷m happy splash wine make feel well',\n",
              " 'don know:)this week go tirunelvai da',\n",
              " 'lol different try find real life photo take',\n",
              " 'shopping eh ger toke abt syd leh haha',\n",
              " 'yes woman man tell like dislike bed',\n",
              " 'possession especially offense',\n",
              " 'wewa 130 iriver 255 128 mb',\n",
              " 'bloody hell not believe forget surname mr ill u clue spanish begin m',\n",
              " \"imagine life fast u search me?don't worry l'm disturb u goodnoon\",\n",
              " 'ok ill tell company',\n",
              " 'oh pay outstanding commercial hasbro august jump hoop pay',\n",
              " 'mean money enter account bank remove flat rate transfer   lt;#&gt   account   lt;#&gt dollar get remove bank differ charge sure trust 9ja person send account detail cos',\n",
              " 'honestly lovely cup tea promptly drop key burn finger get',\n",
              " 'guy leave',\n",
              " 'come n pick ì come immediately aft ur lesson',\n",
              " 'urgent 09061743810 landline abta complimentary 4 tenerife holiday #5000 cash await collection sae t&cs box 326 cw25wx 150 ppm',\n",
              " 'mobile number win å£5000 claim call ring claim hot line 09050005321',\n",
              " 'hey sun 1030 basic yoga course bugis pilate intro sit tell time r free',\n",
              " 'big surprise',\n",
              " \"u're welcome catch u break english\",\n",
              " '10 min later k',\n",
              " 'good:)dhanush rock',\n",
              " 'oh k. come tomorrow',\n",
              " 'reach ard 20 min ok',\n",
              " 'u want xmas 100 free text message new video phone half price line rental free 0800 0721072 find',\n",
              " 'promise get soon text morning let know ok',\n",
              " 'get room soon \\x89û clock til 8 shout realise 7 wahay hour bed',\n",
              " 'soon real thing princess wet',\n",
              " 'last 2 hour lucky',\n",
              " 'crazy ar marry ìï like gd look guy fren like korean leona fave dun thk aft thinking mayb prob',\n",
              " \"jus an lar u'll noe later\",\n",
              " 'tuesday night r u 4 real',\n",
              " 'sit mu wait suite shower',\n",
              " 'not file bag work call me.i tell find room',\n",
              " 'life stressfull find time laugh add year life surely add life ur year gud ni8 swt dream',\n",
              " 'wait sir',\n",
              " ...]"
            ]
          },
          "execution_count": 81,
          "metadata": {},
          "output_type": "execute_result"
        }
      ],
      "source": [
        "X_train_cleaned"
      ]
    },
    {
      "cell_type": "code",
      "execution_count": 82,
      "metadata": {
        "colab": {
          "base_uri": "https://localhost:8080/"
        },
        "id": "kPSRtO3vhQ1O",
        "outputId": "be367ccf-13c6-4155-cd00-9b9e571333c9"
      },
      "outputs": [
        {
          "data": {
            "text/plain": [
              "['/content/drive/MyDrive/NLP_Fall22/HW3/Data/Cleaned_data/x_train_cleaned_sparse_embed.pkl']"
            ]
          },
          "execution_count": 82,
          "metadata": {},
          "output_type": "execute_result"
        }
      ],
      "source": [
        "# save  this to a file\n",
        "X_train_cleaned_sparse_embed = data_folder/'Cleaned_data/x_train_cleaned_sparse_embed.pkl'\n",
        "joblib.dump(X_train_cleaned, X_train_cleaned_sparse_embed)"
      ]
    },
    {
      "cell_type": "code",
      "execution_count": 83,
      "metadata": {
        "colab": {
          "base_uri": "https://localhost:8080/"
        },
        "id": "WABufipahu-D",
        "outputId": "8105b3cc-46a0-4912-c4d5-b461ca1ef13c"
      },
      "outputs": [
        {
          "data": {
            "text/plain": [
              "['/content/drive/MyDrive/NLP_Fall22/HW3/Data/Cleaned_data/x_test_cleaned_sparse_embed.pkl']"
            ]
          },
          "execution_count": 83,
          "metadata": {},
          "output_type": "execute_result"
        }
      ],
      "source": [
        "X_test_cleaned = cp.SpacyPreprocessor(model = 'en_core_web_sm', remove_stop=True,stemming=True, remove_hashtag_prefix=True ).transform(X_test.to_list())\n",
        "\n",
        "# save  this to a file\n",
        "X_test_cleaned_sparse_embed = data_folder / 'Cleaned_data/x_test_cleaned_sparse_embed.pkl'\n",
        "joblib.dump(X_test_cleaned, X_test_cleaned_sparse_embed)"
      ]
    },
    {
      "cell_type": "markdown",
      "metadata": {
        "id": "xL785OPUd1w2"
      },
      "source": [
        "# **Pipeline 2: Data Preprocessing + Manual Features + ML Model pipeline**"
      ]
    },
    {
      "cell_type": "markdown",
      "metadata": {
        "id": "0oEyKy3PeCLa"
      },
      "source": [
        "### Generate Manual Features"
      ]
    },
    {
      "cell_type": "code",
      "execution_count": 84,
      "metadata": {
        "id": "_yJEMzxFrYJz"
      },
      "outputs": [],
      "source": [
        "featurizer =  ManualFeatures(spacy_model='en_core_web_sm')"
      ]
    },
    {
      "cell_type": "code",
      "execution_count": 85,
      "metadata": {
        "colab": {
          "base_uri": "https://localhost:8080/"
        },
        "id": "ZbIm8E_BnUDJ",
        "outputId": "8dcc15dc-7b5b-4ecf-8cf0-96140a664935"
      },
      "outputs": [
        {
          "data": {
            "text/plain": [
              "numpy.ndarray"
            ]
          },
          "execution_count": 85,
          "metadata": {},
          "output_type": "execute_result"
        }
      ],
      "source": [
        "type(X_train.values)"
      ]
    },
    {
      "cell_type": "code",
      "execution_count": 86,
      "metadata": {
        "id": "L3AdqNMavkGX"
      },
      "outputs": [],
      "source": [
        "X_train_features, feature_names  = featurizer.fit_transform(X_train.values)"
      ]
    },
    {
      "cell_type": "code",
      "execution_count": 87,
      "metadata": {
        "colab": {
          "base_uri": "https://localhost:8080/"
        },
        "id": "fybV-T5u4c8n",
        "outputId": "108066df-bd05-4640-883f-0dd070f22956"
      },
      "outputs": [
        {
          "data": {
            "text/plain": [
              "['count_words',\n",
              " 'count_characters',\n",
              " 'count_characters_no_space',\n",
              " 'avg_word_length',\n",
              " 'count_digits',\n",
              " 'count_numbers',\n",
              " 'noun_count',\n",
              " 'aux_count',\n",
              " 'verb_count',\n",
              " 'adj_count',\n",
              " 'ner']"
            ]
          },
          "execution_count": 87,
          "metadata": {},
          "output_type": "execute_result"
        }
      ],
      "source": [
        "feature_names"
      ]
    },
    {
      "cell_type": "markdown",
      "metadata": {
        "id": "Qa3vx_Lq8Qlh"
      },
      "source": [
        "### Create pipeline 2"
      ]
    },
    {
      "cell_type": "code",
      "execution_count": 88,
      "metadata": {
        "id": "IoFklWbMvoX5"
      },
      "outputs": [],
      "source": [
        "classifier_1b = Pipeline([('classifier', LogisticRegression(max_iter = 10000)),\n",
        "                        ])"
      ]
    },
    {
      "cell_type": "markdown",
      "metadata": {
        "id": "FgkO3Eeh8ajl"
      },
      "source": [
        "### Parameter grid"
      ]
    },
    {
      "cell_type": "code",
      "execution_count": 89,
      "metadata": {
        "id": "kidjwgfVd7wy"
      },
      "outputs": [],
      "source": [
        "# We have used default valus for all parameters except for lammetizer\n",
        "# Ideally we can specify range of values for all parameters\n",
        "# If the search space is very large then we should use RandomSerachCV\n",
        "\n",
        "param_grid_classifier_1b = {'classifier__C': [0.01, 10, 1000,100000]}"
      ]
    },
    {
      "cell_type": "markdown",
      "metadata": {
        "id": "OegLcvEE8ge-"
      },
      "source": [
        "\n",
        "### Apply gridsearch\n"
      ]
    },
    {
      "cell_type": "code",
      "execution_count": 99,
      "metadata": {
        "id": "0nX_JCSxeHDK"
      },
      "outputs": [],
      "source": [
        "# We will now use Gridserach to find fine tune hyperparameters using cross validation\n",
        "# The advantage of using pipelines is that we can avoid data leakage\n",
        "# Since we have balanced data set, we will use default scoring method of accuracy\n",
        "# the typical value of cv used is 5. We are using 3, just for demonstration.\n",
        "# We will now use Gridserach to find fine tune hyperparameters using cross validation\n",
        "# The advantage of using pipelines is that we can avoid data leakage\n",
        "# Since we have balanced data set, we will use default scoring method of accuracy\n",
        "# the typical value of cv used is 5. We are using 3, just for demonstration.\n",
        "from sklearn.metrics import f1_score, make_scorer\n",
        "def f2_func(y_true, y_pred):\n",
        "    f2_score = fbeta_score(y_true, y_pred, beta=0.5,pos_label='ham')\n",
        "    return f2_score\n",
        "\n",
        "def my_f2_scorer():\n",
        "    return make_scorer(f2_func)\n",
        "\n",
        "grid_classifier_1b = GridSearchCV(estimator=classifier_1b, param_grid=param_grid_classifier_1b, cv = 3,scoring=my_f2_scorer())"
      ]
    },
    {
      "cell_type": "code",
      "execution_count": 100,
      "metadata": {
        "colab": {
          "base_uri": "https://localhost:8080/"
        },
        "id": "43gT4P0XeK5x",
        "outputId": "e2a41ee3-e291-4b6a-89c6-682c67ea2394"
      },
      "outputs": [
        {
          "data": {
            "text/plain": [
              "GridSearchCV(cv=3,\n",
              "             estimator=Pipeline(steps=[('classifier',\n",
              "                                        LogisticRegression(max_iter=10000))]),\n",
              "             param_grid={'classifier__C': [0.01, 10, 1000, 100000]},\n",
              "             scoring=make_scorer(f2_func))"
            ]
          },
          "execution_count": 100,
          "metadata": {},
          "output_type": "execute_result"
        }
      ],
      "source": [
        "# Fit the model on training data\n",
        "grid_classifier_1b.fit(X_train_features, y_train)"
      ]
    },
    {
      "cell_type": "code",
      "execution_count": 101,
      "metadata": {
        "colab": {
          "base_uri": "https://localhost:8080/"
        },
        "id": "Pq6YBjte0N-X",
        "outputId": "043826b8-c442-4e2b-d946-b5f5d1019b01"
      },
      "outputs": [
        {
          "name": "stdout",
          "output_type": "stream",
          "text": [
            "Best cross-validation score: 0.98\n",
            "\n",
            "Best parameters:  {'classifier__C': 10}\n",
            "\n",
            "Best estimator:  Pipeline(steps=[('classifier', LogisticRegression(C=10, max_iter=10000))])\n"
          ]
        }
      ],
      "source": [
        "print(\"Best cross-validation score: {:.2f}\".format(grid_classifier_1b.best_score_))\n",
        "print(\"\\nBest parameters: \", grid_classifier_1b.best_params_)\n",
        "print(\"\\nBest estimator: \", grid_classifier_1b.best_estimator_)"
      ]
    },
    {
      "cell_type": "markdown",
      "metadata": {
        "id": "_CjUuqaK85U4"
      },
      "source": [
        "### Save and Load mode;"
      ]
    },
    {
      "cell_type": "code",
      "execution_count": 102,
      "metadata": {
        "colab": {
          "base_uri": "https://localhost:8080/"
        },
        "id": "elPM_B5i0QTH",
        "outputId": "3a1ce211-c3c3-4063-8639-3f457089697e"
      },
      "outputs": [
        {
          "data": {
            "text/plain": [
              "['/content/drive/MyDrive/NLP_Fall22/HW3/Models/features_model.pkl']"
            ]
          },
          "execution_count": 102,
          "metadata": {},
          "output_type": "execute_result"
        }
      ],
      "source": [
        "file_model_features = model_folder / 'features_model.pkl'\n",
        "joblib.dump(grid_classifier_1b.best_estimator_, file_model_features)"
      ]
    },
    {
      "cell_type": "code",
      "execution_count": 103,
      "metadata": {
        "id": "6VIHzagX0eKo"
      },
      "outputs": [],
      "source": [
        "# load the saved model\n",
        "grid_classifier_1b = joblib.load(file_model_features)"
      ]
    },
    {
      "cell_type": "markdown",
      "metadata": {
        "id": "ZrpvOJ3k9EB4"
      },
      "source": [
        "### Plot learning curve"
      ]
    },
    {
      "cell_type": "code",
      "execution_count": 104,
      "metadata": {
        "colab": {
          "base_uri": "https://localhost:8080/",
          "height": 351
        },
        "id": "6Aqj9GlF2o6A",
        "outputId": "1c77df05-a08d-484d-87d3-6fa439abc934"
      },
      "outputs": [
        {
          "data": {
            "image/png": "[encoded data removed]",
            "text/plain": [
              "<Figure size 1440x360 with 3 Axes>"
            ]
          },
          "metadata": {
            "needs_background": "light"
          },
          "output_type": "display_data"
        }
      ],
      "source": [
        "# plot learning curces\n",
        "# This cell can take upto 30 minutes to run\n",
        "plot_learning_curve(grid_classifier_1b, 'Learning Curves classifier_1b', X_train_features, y_train,scoring=my_f2_scorer())\n",
        "plt.show()"
      ]
    },
    {
      "cell_type": "code",
      "execution_count": 105,
      "metadata": {
        "colab": {
          "base_uri": "https://localhost:8080/"
        },
        "id": "ST7mZTuL5dOt",
        "outputId": "2ba7c2ec-b3d3-4067-d506-15b77882ecb0"
      },
      "outputs": [
        {
          "name": "stdout",
          "output_type": "stream",
          "text": [
            "Accuracy on train set  is 0.9794871794871794\n"
          ]
        }
      ],
      "source": [
        "# Accuracy on Train data set\n",
        "grid_classifier_sparse_embed = grid_classifier_1b.score(X_train_features, y_train)\n",
        "print(f'Accuracy on train set  is {grid_classifier_sparse_embed}')"
      ]
    },
    {
      "cell_type": "markdown",
      "metadata": {
        "id": "pPfcc7yb9XI3"
      },
      "source": [
        "### Evaluate model on test datset"
      ]
    },
    {
      "cell_type": "code",
      "execution_count": 106,
      "metadata": {
        "id": "kFJv_MQq51-c"
      },
      "outputs": [],
      "source": [
        "# Final Pipeline\n",
        "def final_pipeline(text):\n",
        "  test_features, feature_names = featurizer.fit_transform(X_test.values)\n",
        "  predictions = grid_classifier_1b.predict(test_features)\n",
        "  return predictions\n",
        "# predicted values for Test data set\n",
        "y_test_pred = final_pipeline(X_test)"
      ]
    },
    {
      "cell_type": "markdown",
      "metadata": {
        "id": "Vr_ij0an9kAB"
      },
      "source": [
        "### Classification report for test dataset"
      ]
    },
    {
      "cell_type": "code",
      "execution_count": 107,
      "metadata": {
        "colab": {
          "base_uri": "https://localhost:8080/"
        },
        "id": "kR2M9N7w6WMV",
        "outputId": "56c4864d-7a83-425d-9cd4-15d43d6b2811"
      },
      "outputs": [
        {
          "name": "stdout",
          "output_type": "stream",
          "text": [
            "\n",
            "Test set classification report:\n",
            "\n",
            "               precision    recall  f1-score   support\n",
            "\n",
            "         ham       0.98      0.99      0.98       587\n",
            "        spam       0.93      0.83      0.88        82\n",
            "\n",
            "    accuracy                           0.97       669\n",
            "   macro avg       0.95      0.91      0.93       669\n",
            "weighted avg       0.97      0.97      0.97       669\n",
            "\n"
          ]
        }
      ],
      "source": [
        "print('\\nTest set classification report:\\n\\n',classification_report(y_test, y_test_pred ))"
      ]
    },
    {
      "cell_type": "markdown",
      "metadata": {
        "id": "TEFAzjmxWANU"
      },
      "source": [
        "### In this case with larger dataset, the model's performance is not as good as it was for the smaller dataset. The reason being the hyperparameter tuning was done based on the smaller dataset. If the parameters are modified to fit this data better, the model would give better performance. "
      ]
    },
    {
      "cell_type": "code",
      "execution_count": 107,
      "metadata": {
        "id": "dk11-JcFQd5S"
      },
      "outputs": [],
      "source": []
    }
  ],
  "metadata": {
    "colab": {
      "collapsed_sections": [],
      "provenance": []
    },
    "kernelspec": {
      "display_name": "Python 3",
      "name": "python3"
    },
    "language_info": {
      "name": "python"
    }
  },
  "nbformat": 4,
  "nbformat_minor": 0
}
