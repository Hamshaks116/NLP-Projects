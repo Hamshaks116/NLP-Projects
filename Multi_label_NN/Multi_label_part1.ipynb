{
  "nbformat": 4,
  "nbformat_minor": 0,
  "metadata": {
    "colab": {
      "provenance": [],
      "collapsed_sections": [
        "XoEVe7eGtY7U",
        "ojvSMWR5u-LU"
      ]
    },
    "kernelspec": {
      "name": "python3",
      "display_name": "Python 3"
    },
    "language_info": {
      "name": "python"
    },
    "widgets": {
      "application/vnd.jupyter.widget-state+json": {
        "a15502bb7e96418184d9f0ef4da87876": {
          "model_module": "@jupyter-widgets/controls",
          "model_name": "HBoxModel",
          "model_module_version": "1.5.0",
          "state": {
            "_dom_classes": [],
            "_model_module": "@jupyter-widgets/controls",
            "_model_module_version": "1.5.0",
            "_model_name": "HBoxModel",
            "_view_count": null,
            "_view_module": "@jupyter-widgets/controls",
            "_view_module_version": "1.5.0",
            "_view_name": "HBoxView",
            "box_style": "",
            "children": [
              "IPY_MODEL_038251ce14a147feb38f8e055786e2e5",
              "IPY_MODEL_8d7f72c8b3844301960f85e9c8cc8d32",
              "IPY_MODEL_5d7272640bca4d648c505709b611f987"
            ],
            "layout": "IPY_MODEL_b71209fffaca46a5a84b47ed821c1c82"
          }
        },
        "038251ce14a147feb38f8e055786e2e5": {
          "model_module": "@jupyter-widgets/controls",
          "model_name": "HTMLModel",
          "model_module_version": "1.5.0",
          "state": {
            "_dom_classes": [],
            "_model_module": "@jupyter-widgets/controls",
            "_model_module_version": "1.5.0",
            "_model_name": "HTMLModel",
            "_view_count": null,
            "_view_module": "@jupyter-widgets/controls",
            "_view_module_version": "1.5.0",
            "_view_name": "HTMLView",
            "description": "",
            "description_tooltip": null,
            "layout": "IPY_MODEL_7962b728acdc466fad7b5d28ed2d8828",
            "placeholder": "​",
            "style": "IPY_MODEL_179d6e6a99c7408fba6f3796f19702cc",
            "value": "Pandas Apply: 100%"
          }
        },
        "8d7f72c8b3844301960f85e9c8cc8d32": {
          "model_module": "@jupyter-widgets/controls",
          "model_name": "FloatProgressModel",
          "model_module_version": "1.5.0",
          "state": {
            "_dom_classes": [],
            "_model_module": "@jupyter-widgets/controls",
            "_model_module_version": "1.5.0",
            "_model_name": "FloatProgressModel",
            "_view_count": null,
            "_view_module": "@jupyter-widgets/controls",
            "_view_module_version": "1.5.0",
            "_view_name": "ProgressView",
            "bar_style": "success",
            "description": "",
            "description_tooltip": null,
            "layout": "IPY_MODEL_0192ed11ddfd4764a368ff9ce06304d9",
            "max": 47427,
            "min": 0,
            "orientation": "horizontal",
            "style": "IPY_MODEL_23a0f7c99fe74a00b5bf03db86244b0e",
            "value": 47427
          }
        },
        "5d7272640bca4d648c505709b611f987": {
          "model_module": "@jupyter-widgets/controls",
          "model_name": "HTMLModel",
          "model_module_version": "1.5.0",
          "state": {
            "_dom_classes": [],
            "_model_module": "@jupyter-widgets/controls",
            "_model_module_version": "1.5.0",
            "_model_name": "HTMLModel",
            "_view_count": null,
            "_view_module": "@jupyter-widgets/controls",
            "_view_module_version": "1.5.0",
            "_view_name": "HTMLView",
            "description": "",
            "description_tooltip": null,
            "layout": "IPY_MODEL_bd871a5aef254ab7b82470801ba51e4a",
            "placeholder": "​",
            "style": "IPY_MODEL_af3ea5572c604f80806657802907175b",
            "value": " 47427/47427 [00:25&lt;00:00, 2299.75it/s]"
          }
        },
        "b71209fffaca46a5a84b47ed821c1c82": {
          "model_module": "@jupyter-widgets/base",
          "model_name": "LayoutModel",
          "model_module_version": "1.2.0",
          "state": {
            "_model_module": "@jupyter-widgets/base",
            "_model_module_version": "1.2.0",
            "_model_name": "LayoutModel",
            "_view_count": null,
            "_view_module": "@jupyter-widgets/base",
            "_view_module_version": "1.2.0",
            "_view_name": "LayoutView",
            "align_content": null,
            "align_items": null,
            "align_self": null,
            "border": null,
            "bottom": null,
            "display": null,
            "flex": null,
            "flex_flow": null,
            "grid_area": null,
            "grid_auto_columns": null,
            "grid_auto_flow": null,
            "grid_auto_rows": null,
            "grid_column": null,
            "grid_gap": null,
            "grid_row": null,
            "grid_template_areas": null,
            "grid_template_columns": null,
            "grid_template_rows": null,
            "height": null,
            "justify_content": null,
            "justify_items": null,
            "left": null,
            "margin": null,
            "max_height": null,
            "max_width": null,
            "min_height": null,
            "min_width": null,
            "object_fit": null,
            "object_position": null,
            "order": null,
            "overflow": null,
            "overflow_x": null,
            "overflow_y": null,
            "padding": null,
            "right": null,
            "top": null,
            "visibility": null,
            "width": null
          }
        },
        "7962b728acdc466fad7b5d28ed2d8828": {
          "model_module": "@jupyter-widgets/base",
          "model_name": "LayoutModel",
          "model_module_version": "1.2.0",
          "state": {
            "_model_module": "@jupyter-widgets/base",
            "_model_module_version": "1.2.0",
            "_model_name": "LayoutModel",
            "_view_count": null,
            "_view_module": "@jupyter-widgets/base",
            "_view_module_version": "1.2.0",
            "_view_name": "LayoutView",
            "align_content": null,
            "align_items": null,
            "align_self": null,
            "border": null,
            "bottom": null,
            "display": null,
            "flex": null,
            "flex_flow": null,
            "grid_area": null,
            "grid_auto_columns": null,
            "grid_auto_flow": null,
            "grid_auto_rows": null,
            "grid_column": null,
            "grid_gap": null,
            "grid_row": null,
            "grid_template_areas": null,
            "grid_template_columns": null,
            "grid_template_rows": null,
            "height": null,
            "justify_content": null,
            "justify_items": null,
            "left": null,
            "margin": null,
            "max_height": null,
            "max_width": null,
            "min_height": null,
            "min_width": null,
            "object_fit": null,
            "object_position": null,
            "order": null,
            "overflow": null,
            "overflow_x": null,
            "overflow_y": null,
            "padding": null,
            "right": null,
            "top": null,
            "visibility": null,
            "width": null
          }
        },
        "179d6e6a99c7408fba6f3796f19702cc": {
          "model_module": "@jupyter-widgets/controls",
          "model_name": "DescriptionStyleModel",
          "model_module_version": "1.5.0",
          "state": {
            "_model_module": "@jupyter-widgets/controls",
            "_model_module_version": "1.5.0",
            "_model_name": "DescriptionStyleModel",
            "_view_count": null,
            "_view_module": "@jupyter-widgets/base",
            "_view_module_version": "1.2.0",
            "_view_name": "StyleView",
            "description_width": ""
          }
        },
        "0192ed11ddfd4764a368ff9ce06304d9": {
          "model_module": "@jupyter-widgets/base",
          "model_name": "LayoutModel",
          "model_module_version": "1.2.0",
          "state": {
            "_model_module": "@jupyter-widgets/base",
            "_model_module_version": "1.2.0",
            "_model_name": "LayoutModel",
            "_view_count": null,
            "_view_module": "@jupyter-widgets/base",
            "_view_module_version": "1.2.0",
            "_view_name": "LayoutView",
            "align_content": null,
            "align_items": null,
            "align_self": null,
            "border": null,
            "bottom": null,
            "display": null,
            "flex": null,
            "flex_flow": null,
            "grid_area": null,
            "grid_auto_columns": null,
            "grid_auto_flow": null,
            "grid_auto_rows": null,
            "grid_column": null,
            "grid_gap": null,
            "grid_row": null,
            "grid_template_areas": null,
            "grid_template_columns": null,
            "grid_template_rows": null,
            "height": null,
            "justify_content": null,
            "justify_items": null,
            "left": null,
            "margin": null,
            "max_height": null,
            "max_width": null,
            "min_height": null,
            "min_width": null,
            "object_fit": null,
            "object_position": null,
            "order": null,
            "overflow": null,
            "overflow_x": null,
            "overflow_y": null,
            "padding": null,
            "right": null,
            "top": null,
            "visibility": null,
            "width": null
          }
        },
        "23a0f7c99fe74a00b5bf03db86244b0e": {
          "model_module": "@jupyter-widgets/controls",
          "model_name": "ProgressStyleModel",
          "model_module_version": "1.5.0",
          "state": {
            "_model_module": "@jupyter-widgets/controls",
            "_model_module_version": "1.5.0",
            "_model_name": "ProgressStyleModel",
            "_view_count": null,
            "_view_module": "@jupyter-widgets/base",
            "_view_module_version": "1.2.0",
            "_view_name": "StyleView",
            "bar_color": null,
            "description_width": ""
          }
        },
        "bd871a5aef254ab7b82470801ba51e4a": {
          "model_module": "@jupyter-widgets/base",
          "model_name": "LayoutModel",
          "model_module_version": "1.2.0",
          "state": {
            "_model_module": "@jupyter-widgets/base",
            "_model_module_version": "1.2.0",
            "_model_name": "LayoutModel",
            "_view_count": null,
            "_view_module": "@jupyter-widgets/base",
            "_view_module_version": "1.2.0",
            "_view_name": "LayoutView",
            "align_content": null,
            "align_items": null,
            "align_self": null,
            "border": null,
            "bottom": null,
            "display": null,
            "flex": null,
            "flex_flow": null,
            "grid_area": null,
            "grid_auto_columns": null,
            "grid_auto_flow": null,
            "grid_auto_rows": null,
            "grid_column": null,
            "grid_gap": null,
            "grid_row": null,
            "grid_template_areas": null,
            "grid_template_columns": null,
            "grid_template_rows": null,
            "height": null,
            "justify_content": null,
            "justify_items": null,
            "left": null,
            "margin": null,
            "max_height": null,
            "max_width": null,
            "min_height": null,
            "min_width": null,
            "object_fit": null,
            "object_position": null,
            "order": null,
            "overflow": null,
            "overflow_x": null,
            "overflow_y": null,
            "padding": null,
            "right": null,
            "top": null,
            "visibility": null,
            "width": null
          }
        },
        "af3ea5572c604f80806657802907175b": {
          "model_module": "@jupyter-widgets/controls",
          "model_name": "DescriptionStyleModel",
          "model_module_version": "1.5.0",
          "state": {
            "_model_module": "@jupyter-widgets/controls",
            "_model_module_version": "1.5.0",
            "_model_name": "DescriptionStyleModel",
            "_view_count": null,
            "_view_module": "@jupyter-widgets/base",
            "_view_module_version": "1.2.0",
            "_view_name": "StyleView",
            "description_width": ""
          }
        },
        "c68d35fd62cb4219b04401372dc71512": {
          "model_module": "@jupyter-widgets/controls",
          "model_name": "VBoxModel",
          "model_module_version": "1.5.0",
          "state": {
            "_dom_classes": [],
            "_model_module": "@jupyter-widgets/controls",
            "_model_module_version": "1.5.0",
            "_model_name": "VBoxModel",
            "_view_count": null,
            "_view_module": "@jupyter-widgets/controls",
            "_view_module_version": "1.5.0",
            "_view_name": "VBoxView",
            "box_style": "",
            "children": [
              "IPY_MODEL_bf21b6737e304b0381df4964410e3df7",
              "IPY_MODEL_01468ab94ca3428b8fe374acd0ad5d96"
            ],
            "layout": "IPY_MODEL_2051f721f7a6481482be5bee261b6c5c"
          }
        },
        "bf21b6737e304b0381df4964410e3df7": {
          "model_module": "@jupyter-widgets/controls",
          "model_name": "LabelModel",
          "model_module_version": "1.5.0",
          "state": {
            "_dom_classes": [],
            "_model_module": "@jupyter-widgets/controls",
            "_model_module_version": "1.5.0",
            "_model_name": "LabelModel",
            "_view_count": null,
            "_view_module": "@jupyter-widgets/controls",
            "_view_module_version": "1.5.0",
            "_view_name": "LabelView",
            "description": "",
            "description_tooltip": null,
            "layout": "IPY_MODEL_e89ae1e7de6348c188c501b207542f0b",
            "placeholder": "​",
            "style": "IPY_MODEL_82ae0c1e3abc4813bf8e936026622cc6",
            "value": "0.001 MB of 0.012 MB uploaded (0.000 MB deduped)\r"
          }
        },
        "01468ab94ca3428b8fe374acd0ad5d96": {
          "model_module": "@jupyter-widgets/controls",
          "model_name": "FloatProgressModel",
          "model_module_version": "1.5.0",
          "state": {
            "_dom_classes": [],
            "_model_module": "@jupyter-widgets/controls",
            "_model_module_version": "1.5.0",
            "_model_name": "FloatProgressModel",
            "_view_count": null,
            "_view_module": "@jupyter-widgets/controls",
            "_view_module_version": "1.5.0",
            "_view_name": "ProgressView",
            "bar_style": "",
            "description": "",
            "description_tooltip": null,
            "layout": "IPY_MODEL_fdaeeb264af0416e8155b80604a97257",
            "max": 1,
            "min": 0,
            "orientation": "horizontal",
            "style": "IPY_MODEL_8a7552a967794f0da84c2d481dfe7137",
            "value": 0.07290764506731753
          }
        },
        "2051f721f7a6481482be5bee261b6c5c": {
          "model_module": "@jupyter-widgets/base",
          "model_name": "LayoutModel",
          "model_module_version": "1.2.0",
          "state": {
            "_model_module": "@jupyter-widgets/base",
            "_model_module_version": "1.2.0",
            "_model_name": "LayoutModel",
            "_view_count": null,
            "_view_module": "@jupyter-widgets/base",
            "_view_module_version": "1.2.0",
            "_view_name": "LayoutView",
            "align_content": null,
            "align_items": null,
            "align_self": null,
            "border": null,
            "bottom": null,
            "display": null,
            "flex": null,
            "flex_flow": null,
            "grid_area": null,
            "grid_auto_columns": null,
            "grid_auto_flow": null,
            "grid_auto_rows": null,
            "grid_column": null,
            "grid_gap": null,
            "grid_row": null,
            "grid_template_areas": null,
            "grid_template_columns": null,
            "grid_template_rows": null,
            "height": null,
            "justify_content": null,
            "justify_items": null,
            "left": null,
            "margin": null,
            "max_height": null,
            "max_width": null,
            "min_height": null,
            "min_width": null,
            "object_fit": null,
            "object_position": null,
            "order": null,
            "overflow": null,
            "overflow_x": null,
            "overflow_y": null,
            "padding": null,
            "right": null,
            "top": null,
            "visibility": null,
            "width": null
          }
        },
        "e89ae1e7de6348c188c501b207542f0b": {
          "model_module": "@jupyter-widgets/base",
          "model_name": "LayoutModel",
          "model_module_version": "1.2.0",
          "state": {
            "_model_module": "@jupyter-widgets/base",
            "_model_module_version": "1.2.0",
            "_model_name": "LayoutModel",
            "_view_count": null,
            "_view_module": "@jupyter-widgets/base",
            "_view_module_version": "1.2.0",
            "_view_name": "LayoutView",
            "align_content": null,
            "align_items": null,
            "align_self": null,
            "border": null,
            "bottom": null,
            "display": null,
            "flex": null,
            "flex_flow": null,
            "grid_area": null,
            "grid_auto_columns": null,
            "grid_auto_flow": null,
            "grid_auto_rows": null,
            "grid_column": null,
            "grid_gap": null,
            "grid_row": null,
            "grid_template_areas": null,
            "grid_template_columns": null,
            "grid_template_rows": null,
            "height": null,
            "justify_content": null,
            "justify_items": null,
            "left": null,
            "margin": null,
            "max_height": null,
            "max_width": null,
            "min_height": null,
            "min_width": null,
            "object_fit": null,
            "object_position": null,
            "order": null,
            "overflow": null,
            "overflow_x": null,
            "overflow_y": null,
            "padding": null,
            "right": null,
            "top": null,
            "visibility": null,
            "width": null
          }
        },
        "82ae0c1e3abc4813bf8e936026622cc6": {
          "model_module": "@jupyter-widgets/controls",
          "model_name": "DescriptionStyleModel",
          "model_module_version": "1.5.0",
          "state": {
            "_model_module": "@jupyter-widgets/controls",
            "_model_module_version": "1.5.0",
            "_model_name": "DescriptionStyleModel",
            "_view_count": null,
            "_view_module": "@jupyter-widgets/base",
            "_view_module_version": "1.2.0",
            "_view_name": "StyleView",
            "description_width": ""
          }
        },
        "fdaeeb264af0416e8155b80604a97257": {
          "model_module": "@jupyter-widgets/base",
          "model_name": "LayoutModel",
          "model_module_version": "1.2.0",
          "state": {
            "_model_module": "@jupyter-widgets/base",
            "_model_module_version": "1.2.0",
            "_model_name": "LayoutModel",
            "_view_count": null,
            "_view_module": "@jupyter-widgets/base",
            "_view_module_version": "1.2.0",
            "_view_name": "LayoutView",
            "align_content": null,
            "align_items": null,
            "align_self": null,
            "border": null,
            "bottom": null,
            "display": null,
            "flex": null,
            "flex_flow": null,
            "grid_area": null,
            "grid_auto_columns": null,
            "grid_auto_flow": null,
            "grid_auto_rows": null,
            "grid_column": null,
            "grid_gap": null,
            "grid_row": null,
            "grid_template_areas": null,
            "grid_template_columns": null,
            "grid_template_rows": null,
            "height": null,
            "justify_content": null,
            "justify_items": null,
            "left": null,
            "margin": null,
            "max_height": null,
            "max_width": null,
            "min_height": null,
            "min_width": null,
            "object_fit": null,
            "object_position": null,
            "order": null,
            "overflow": null,
            "overflow_x": null,
            "overflow_y": null,
            "padding": null,
            "right": null,
            "top": null,
            "visibility": null,
            "width": null
          }
        },
        "8a7552a967794f0da84c2d481dfe7137": {
          "model_module": "@jupyter-widgets/controls",
          "model_name": "ProgressStyleModel",
          "model_module_version": "1.5.0",
          "state": {
            "_model_module": "@jupyter-widgets/controls",
            "_model_module_version": "1.5.0",
            "_model_name": "ProgressStyleModel",
            "_view_count": null,
            "_view_module": "@jupyter-widgets/base",
            "_view_module_version": "1.2.0",
            "_view_name": "StyleView",
            "bar_color": null,
            "description_width": ""
          }
        }
      }
    }
  },
  "cells": [
    {
      "cell_type": "markdown",
      "metadata": {
        "id": "FIxAU6f3S-MI"
      },
      "source": [
        "# <Font color = 'pickle'>**Load Libraries/Install Software**"
      ]
    },
    {
      "cell_type": "code",
      "execution_count": 3,
      "metadata": {
        "execution": {
          "iopub.execute_input": "2022-10-24T09:22:05.950717Z",
          "iopub.status.busy": "2022-10-24T09:22:05.950028Z",
          "iopub.status.idle": "2022-10-24T09:22:05.976035Z",
          "shell.execute_reply": "2022-10-24T09:22:05.975507Z",
          "shell.execute_reply.started": "2022-10-24T09:22:05.950700Z"
        },
        "id": "silZTZDXNSGU",
        "colab": {
          "base_uri": "https://localhost:8080/"
        },
        "outputId": "a85ff0b3-85d5-4ff2-f7f4-248b67c4a90c"
      },
      "outputs": [
        {
          "output_type": "stream",
          "name": "stdout",
          "text": [
            "The autoreload extension is already loaded. To reload it, use:\n",
            "  %reload_ext autoreload\n"
          ]
        }
      ],
      "source": [
        "%load_ext autoreload\n",
        "%autoreload 2"
      ]
    },
    {
      "cell_type": "code",
      "execution_count": 4,
      "metadata": {
        "colab": {
          "base_uri": "https://localhost:8080/"
        },
        "execution": {
          "iopub.execute_input": "2022-10-24T09:22:05.977041Z",
          "iopub.status.busy": "2022-10-24T09:22:05.976895Z",
          "iopub.status.idle": "2022-10-24T09:22:06.003745Z",
          "shell.execute_reply": "2022-10-24T09:22:06.003149Z",
          "shell.execute_reply.started": "2022-10-24T09:22:05.977027Z"
        },
        "id": "-h5a-vtFb738",
        "outputId": "e5942c8e-fa78-4e38-d1c7-6cfbbbef77c3",
        "tags": []
      },
      "outputs": [
        {
          "output_type": "stream",
          "name": "stdout",
          "text": [
            "Running on CoLab\n"
          ]
        }
      ],
      "source": [
        "if 'google.colab' in str(get_ipython()):\n",
        "  print('Running on CoLab')\n",
        "else:\n",
        "  print('Not running on CoLab')"
      ]
    },
    {
      "cell_type": "code",
      "execution_count": 5,
      "metadata": {
        "execution": {
          "iopub.execute_input": "2022-10-24T09:22:06.004907Z",
          "iopub.status.busy": "2022-10-24T09:22:06.004631Z",
          "iopub.status.idle": "2022-10-24T09:22:06.032137Z",
          "shell.execute_reply": "2022-10-24T09:22:06.031648Z",
          "shell.execute_reply.started": "2022-10-24T09:22:06.004864Z"
        },
        "id": "q4OpOEo0QktF",
        "tags": [],
        "colab": {
          "base_uri": "https://localhost:8080/"
        },
        "outputId": "bcb30ba6-fe6b-418b-e7b6-bb02dbab1156"
      },
      "outputs": [
        {
          "output_type": "stream",
          "name": "stdout",
          "text": [
            "\u001b[K     |████████████████████████████████| 1.9 MB 5.3 MB/s \n",
            "\u001b[K     |████████████████████████████████| 182 kB 46.0 MB/s \n",
            "\u001b[K     |████████████████████████████████| 166 kB 54.5 MB/s \n",
            "\u001b[K     |████████████████████████████████| 63 kB 1.5 MB/s \n",
            "\u001b[K     |████████████████████████████████| 166 kB 56.5 MB/s \n",
            "\u001b[K     |████████████████████████████████| 162 kB 55.2 MB/s \n",
            "\u001b[K     |████████████████████████████████| 162 kB 48.5 MB/s \n",
            "\u001b[K     |████████████████████████████████| 158 kB 64.3 MB/s \n",
            "\u001b[K     |████████████████████████████████| 157 kB 55.0 MB/s \n",
            "\u001b[K     |████████████████████████████████| 157 kB 57.8 MB/s \n",
            "\u001b[K     |████████████████████████████████| 157 kB 56.8 MB/s \n",
            "\u001b[K     |████████████████████████████████| 157 kB 50.9 MB/s \n",
            "\u001b[K     |████████████████████████████████| 157 kB 46.4 MB/s \n",
            "\u001b[K     |████████████████████████████████| 157 kB 54.9 MB/s \n",
            "\u001b[K     |████████████████████████████████| 157 kB 57.3 MB/s \n",
            "\u001b[K     |████████████████████████████████| 156 kB 58.2 MB/s \n",
            "\u001b[?25h  Building wheel for pathtools (setup.py) ... \u001b[?25l\u001b[?25hdone\n"
          ]
        }
      ],
      "source": [
        "# Install wandb and update it to the latest version\n",
        "if 'google.colab' in str(get_ipython()):\n",
        "    !pip install wandb --upgrade -q"
      ]
    },
    {
      "cell_type": "code",
      "source": [
        "# Install swifter and update it to the latest version\n",
        "if 'google.colab' in str(get_ipython()):\n",
        "    !pip install swifter --upgrade -q"
      ],
      "metadata": {
        "id": "qiX2ex3LRorV",
        "colab": {
          "base_uri": "https://localhost:8080/"
        },
        "outputId": "6aa2c221-8eb2-4611-8b5b-6af04d0421f6"
      },
      "execution_count": 6,
      "outputs": [
        {
          "output_type": "stream",
          "name": "stdout",
          "text": [
            "\u001b[K     |████████████████████████████████| 830 kB 5.1 MB/s \n",
            "\u001b[K     |████████████████████████████████| 280 kB 46.9 MB/s \n",
            "\u001b[K     |████████████████████████████████| 1.6 MB 36.0 MB/s \n",
            "\u001b[?25h  Building wheel for swifter (setup.py) ... \u001b[?25l\u001b[?25hdone\n"
          ]
        }
      ]
    },
    {
      "cell_type": "code",
      "execution_count": 7,
      "metadata": {
        "colab": {
          "base_uri": "https://localhost:8080/"
        },
        "execution": {
          "iopub.execute_input": "2022-10-24T09:22:06.033258Z",
          "iopub.status.busy": "2022-10-24T09:22:06.033113Z",
          "iopub.status.idle": "2022-10-24T09:22:06.057829Z",
          "shell.execute_reply": "2022-10-24T09:22:06.057305Z",
          "shell.execute_reply.started": "2022-10-24T09:22:06.033244Z"
        },
        "id": "m7C0tvyKoy6f",
        "outputId": "9fdedae2-d4cc-46fb-a6c2-1065d11d5270",
        "tags": []
      },
      "outputs": [
        {
          "output_type": "stream",
          "name": "stderr",
          "text": [
            "[autoreload of psutil failed: Traceback (most recent call last):\n",
            "  File \"/usr/local/lib/python3.7/dist-packages/IPython/extensions/autoreload.py\", line 245, in check\n",
            "    superreload(m, reload, self.old_objects)\n",
            "  File \"/usr/local/lib/python3.7/dist-packages/IPython/extensions/autoreload.py\", line 394, in superreload\n",
            "    module = reload(module)\n",
            "  File \"/usr/lib/python3.7/imp.py\", line 314, in reload\n",
            "    return importlib.reload(module)\n",
            "  File \"/usr/lib/python3.7/importlib/__init__.py\", line 169, in reload\n",
            "    _bootstrap._exec(spec, module)\n",
            "  File \"<frozen importlib._bootstrap>\", line 630, in _exec\n",
            "  File \"<frozen importlib._bootstrap_external>\", line 728, in exec_module\n",
            "  File \"<frozen importlib._bootstrap>\", line 219, in _call_with_frames_removed\n",
            "  File \"/usr/local/lib/python3.7/dist-packages/psutil/__init__.py\", line 83, in <module>\n",
            "    from ._common import AccessDenied\n",
            "ImportError: cannot import name 'AccessDenied' from 'psutil._common' (/usr/local/lib/python3.7/dist-packages/psutil/_common.py)\n",
            "]\n",
            "[autoreload of psutil._pslinux failed: Traceback (most recent call last):\n",
            "  File \"/usr/local/lib/python3.7/dist-packages/IPython/extensions/autoreload.py\", line 245, in check\n",
            "    superreload(m, reload, self.old_objects)\n",
            "  File \"/usr/local/lib/python3.7/dist-packages/IPython/extensions/autoreload.py\", line 394, in superreload\n",
            "    module = reload(module)\n",
            "  File \"/usr/lib/python3.7/imp.py\", line 314, in reload\n",
            "    return importlib.reload(module)\n",
            "  File \"/usr/lib/python3.7/importlib/__init__.py\", line 169, in reload\n",
            "    _bootstrap._exec(spec, module)\n",
            "  File \"<frozen importlib._bootstrap>\", line 630, in _exec\n",
            "  File \"<frozen importlib._bootstrap_external>\", line 728, in exec_module\n",
            "  File \"<frozen importlib._bootstrap>\", line 219, in _call_with_frames_removed\n",
            "  File \"/usr/local/lib/python3.7/dist-packages/psutil/_pslinux.py\", line 87, in <module>\n",
            "    PAGESIZE = cext_posix.getpagesize()\n",
            "AttributeError: module 'psutil_posix' has no attribute 'getpagesize'\n",
            "]\n"
          ]
        },
        {
          "output_type": "stream",
          "name": "stdout",
          "text": [
            "Mounted at /content/drive\n"
          ]
        }
      ],
      "source": [
        "# mount google drive\n",
        "if 'google.colab' in str(get_ipython()):\n",
        "    from google.colab import drive\n",
        "    drive.mount('/content/drive')"
      ]
    },
    {
      "cell_type": "code",
      "execution_count": 92,
      "metadata": {
        "execution": {
          "iopub.execute_input": "2022-10-24T09:22:06.058551Z",
          "iopub.status.busy": "2022-10-24T09:22:06.058401Z",
          "iopub.status.idle": "2022-10-24T09:22:06.083291Z",
          "shell.execute_reply": "2022-10-24T09:22:06.082816Z",
          "shell.execute_reply.started": "2022-10-24T09:22:06.058538Z"
        },
        "id": "TqYqOtp5yluv",
        "tags": []
      },
      "outputs": [],
      "source": [
        "# Importing the necessary libraries\n",
        "import torch\n",
        "import torch.nn as nn\n",
        "import torch.nn.functional as F\n",
        "from torchtext.vocab import  vocab\n",
        "\n",
        "import random\n",
        "from datetime import datetime\n",
        "import numpy as np\n",
        "import pandas as pd\n",
        "import joblib\n",
        "from collections import Counter\n",
        "from types import SimpleNamespace\n",
        "\n",
        "from pathlib import Path\n",
        "import sys\n",
        "\n",
        "from sklearn.model_selection import train_test_split\n",
        "import wandb\n",
        "\n",
        "from bs4 import BeautifulSoup\n",
        "import re\n",
        "\n",
        "import swifter\n",
        "# Importing the necessary libraries\n",
        "\n",
        "from sklearn.metrics import multilabel_confusion_matrix\n",
        "from sklearn.metrics import classification_report"
      ]
    },
    {
      "cell_type": "code",
      "execution_count": 9,
      "metadata": {
        "colab": {
          "base_uri": "https://localhost:8080/",
          "height": 86
        },
        "execution": {
          "iopub.execute_input": "2022-10-24T09:22:06.108098Z",
          "iopub.status.busy": "2022-10-24T09:22:06.107923Z",
          "iopub.status.idle": "2022-10-24T09:22:06.134044Z",
          "shell.execute_reply": "2022-10-24T09:22:06.133601Z",
          "shell.execute_reply.started": "2022-10-24T09:22:06.108084Z"
        },
        "id": "vsr_hAq78XFz",
        "outputId": "31814a2b-47a8-4324-c77d-9e9e7760f9a8"
      },
      "outputs": [
        {
          "output_type": "stream",
          "name": "stderr",
          "text": [
            "ERROR:wandb.jupyter:Failed to detect the name of this notebook, you can set it manually with the WANDB_NOTEBOOK_NAME environment variable to enable code saving.\n"
          ]
        },
        {
          "output_type": "display_data",
          "data": {
            "text/plain": [
              "<IPython.core.display.Javascript object>"
            ],
            "application/javascript": [
              "\n",
              "        window._wandbApiKey = new Promise((resolve, reject) => {\n",
              "            function loadScript(url) {\n",
              "            return new Promise(function(resolve, reject) {\n",
              "                let newScript = document.createElement(\"script\");\n",
              "                newScript.onerror = reject;\n",
              "                newScript.onload = resolve;\n",
              "                document.body.appendChild(newScript);\n",
              "                newScript.src = url;\n",
              "            });\n",
              "            }\n",
              "            loadScript(\"https://cdn.jsdelivr.net/npm/postmate/build/postmate.min.js\").then(() => {\n",
              "            const iframe = document.createElement('iframe')\n",
              "            iframe.style.cssText = \"width:0;height:0;border:none\"\n",
              "            document.body.appendChild(iframe)\n",
              "            const handshake = new Postmate({\n",
              "                container: iframe,\n",
              "                url: 'https://wandb.ai/authorize'\n",
              "            });\n",
              "            const timeout = setTimeout(() => reject(\"Couldn't auto authenticate\"), 5000)\n",
              "            handshake.then(function(child) {\n",
              "                child.on('authorize', data => {\n",
              "                    clearTimeout(timeout)\n",
              "                    resolve(data)\n",
              "                });\n",
              "            });\n",
              "            })\n",
              "        });\n",
              "    "
            ]
          },
          "metadata": {}
        },
        {
          "output_type": "stream",
          "name": "stderr",
          "text": [
            "\u001b[34m\u001b[1mwandb\u001b[0m: Appending key for api.wandb.ai to your netrc file: /root/.netrc\n"
          ]
        },
        {
          "output_type": "execute_result",
          "data": {
            "text/plain": [
              "True"
            ]
          },
          "metadata": {},
          "execution_count": 9
        }
      ],
      "source": [
        "# Login to W&B\n",
        "wandb.login()"
      ]
    },
    {
      "cell_type": "code",
      "execution_count": 10,
      "metadata": {
        "execution": {
          "iopub.execute_input": "2022-10-24T09:22:06.134555Z",
          "iopub.status.busy": "2022-10-24T09:22:06.134427Z",
          "iopub.status.idle": "2022-10-24T09:22:06.160029Z",
          "shell.execute_reply": "2022-10-24T09:22:06.159623Z",
          "shell.execute_reply.started": "2022-10-24T09:22:06.134542Z"
        },
        "id": "zd6c5IGa_iUl",
        "tags": []
      },
      "outputs": [],
      "source": [
        "base_folder = Path('/content/drive/MyDrive/NLP_Fall22/HW6')\n",
        "data_folder = base_folder/'Data'\n",
        "model_folder = base_folder/'Models'\n",
        "custom_functions = base_folder/'Scripts/custom_function'"
      ]
    },
    {
      "cell_type": "code",
      "execution_count": 11,
      "metadata": {
        "execution": {
          "iopub.execute_input": "2022-10-24T09:22:06.185912Z",
          "iopub.status.busy": "2022-10-24T09:22:06.185778Z",
          "iopub.status.idle": "2022-10-24T09:22:06.209147Z",
          "shell.execute_reply": "2022-10-24T09:22:06.208793Z",
          "shell.execute_reply.started": "2022-10-24T09:22:06.185899Z"
        },
        "id": "1i9tdWEkOha8"
      },
      "outputs": [],
      "source": [
        "sys.path.append(str(custom_functions))"
      ]
    },
    {
      "cell_type": "code",
      "execution_count": 12,
      "metadata": {
        "colab": {
          "base_uri": "https://localhost:8080/"
        },
        "execution": {
          "iopub.execute_input": "2022-10-24T09:22:06.209759Z",
          "iopub.status.busy": "2022-10-24T09:22:06.209628Z",
          "iopub.status.idle": "2022-10-24T09:22:06.234346Z",
          "shell.execute_reply": "2022-10-24T09:22:06.233972Z",
          "shell.execute_reply.started": "2022-10-24T09:22:06.209746Z"
        },
        "id": "m8C6e11FOiEX",
        "outputId": "daef3674-329c-44bf-becc-b2b9e8ce9a83"
      },
      "outputs": [
        {
          "output_type": "execute_result",
          "data": {
            "text/plain": [
              "['/content',\n",
              " '/env/python',\n",
              " '/usr/lib/python37.zip',\n",
              " '/usr/lib/python3.7',\n",
              " '/usr/lib/python3.7/lib-dynload',\n",
              " '',\n",
              " '/usr/local/lib/python3.7/dist-packages',\n",
              " '/usr/lib/python3/dist-packages',\n",
              " '/usr/local/lib/python3.7/dist-packages/IPython/extensions',\n",
              " '/root/.ipython',\n",
              " '/content/drive/MyDrive/NLP_Fall22/HW6/Scripts/custom_function']"
            ]
          },
          "metadata": {},
          "execution_count": 12
        }
      ],
      "source": [
        "sys.path"
      ]
    },
    {
      "cell_type": "code",
      "source": [
        "import custom_preprocessor as cp"
      ],
      "metadata": {
        "id": "zyDuOy_Snb96"
      },
      "execution_count": 15,
      "outputs": []
    },
    {
      "cell_type": "markdown",
      "metadata": {
        "id": "17xctemopjdA"
      },
      "source": [
        "# <Font color = 'pickle'>**Stack Exchange Dataset**\n"
      ]
    },
    {
      "cell_type": "code",
      "execution_count": 16,
      "metadata": {
        "execution": {
          "iopub.execute_input": "2022-10-24T09:22:06.258687Z",
          "iopub.status.busy": "2022-10-24T09:22:06.258444Z",
          "iopub.status.idle": "2022-10-24T09:22:06.284167Z",
          "shell.execute_reply": "2022-10-24T09:22:06.283743Z",
          "shell.execute_reply.started": "2022-10-24T09:22:06.258672Z"
        },
        "id": "2f94n6S-6YCO"
      },
      "outputs": [],
      "source": [
        "# location of train and test files\n",
        "data_file = data_folder /'df_multilabel_hw.joblib'"
      ]
    },
    {
      "cell_type": "code",
      "execution_count": 17,
      "metadata": {
        "execution": {
          "iopub.execute_input": "2022-10-24T09:22:06.284889Z",
          "iopub.status.busy": "2022-10-24T09:22:06.284716Z",
          "iopub.status.idle": "2022-10-24T09:22:06.653127Z",
          "shell.execute_reply": "2022-10-24T09:22:06.652721Z",
          "shell.execute_reply.started": "2022-10-24T09:22:06.284876Z"
        },
        "id": "5ggR-K3o6fhY"
      },
      "outputs": [],
      "source": [
        "# creating Pandas Dataframe\n",
        "train_data = joblib.load(data_file)"
      ]
    },
    {
      "cell_type": "code",
      "source": [
        "train_data.head()"
      ],
      "metadata": {
        "colab": {
          "base_uri": "https://localhost:8080/",
          "height": 206
        },
        "id": "SWXR7PGlCYid",
        "outputId": "b4130ec7-7fc5-45ea-9612-7ed6a2e3cf20"
      },
      "execution_count": 18,
      "outputs": [
        {
          "output_type": "execute_result",
          "data": {
            "text/plain": [
              "   Unnamed: 0  Unnamed: 0.1       Id  \\\n",
              "0       35264       3589944  3589945   \n",
              "1       56592       5756414  5756415   \n",
              "2       23303       2358596  2358597   \n",
              "3       42563       4332881  4332882   \n",
              "4       58216       5922132  5922133   \n",
              "\n",
              "                                               Title  \\\n",
              "0                     ASP Query String From DropDown   \n",
              "1  How can I run JavaScript code at server side J...   \n",
              "2  linq to sql throwing an exception row not foun...   \n",
              "3            Running a Python script on a PHP server   \n",
              "4  some advice on how to write a window.resize fu...   \n",
              "\n",
              "                                                Body               Tags  \\\n",
              "0  <p>I have a webpage: <strong>Menu.aspx</strong...         c# asp.net   \n",
              "1  <p>I want to run JavaScript code at the server...    java javascript   \n",
              "2  <p>Hi I am linq to sql and i am getting the er...         c# asp.net   \n",
              "3  <p>I am running a nginx web server, along with...         php python   \n",
              "4  <p>Im trying to write a function that resizes ...  javascript jquery   \n",
              "\n",
              "  Tag_Number  \n",
              "0     [0, 9]  \n",
              "1     [1, 3]  \n",
              "2     [0, 9]  \n",
              "3     [2, 7]  \n",
              "4     [3, 5]  "
            ],
            "text/html": [
              "\n",
              "  <div id=\"df-4a7b91f0-9606-47ce-a19b-d84ca0b00b8c\">\n",
              "    <div class=\"colab-df-container\">\n",
              "      <div>\n",
              "<style scoped>\n",
              "    .dataframe tbody tr th:only-of-type {\n",
              "        vertical-align: middle;\n",
              "    }\n",
              "\n",
              "    .dataframe tbody tr th {\n",
              "        vertical-align: top;\n",
              "    }\n",
              "\n",
              "    .dataframe thead th {\n",
              "        text-align: right;\n",
              "    }\n",
              "</style>\n",
              "<table border=\"1\" class=\"dataframe\">\n",
              "  <thead>\n",
              "    <tr style=\"text-align: right;\">\n",
              "      <th></th>\n",
              "      <th>Unnamed: 0</th>\n",
              "      <th>Unnamed: 0.1</th>\n",
              "      <th>Id</th>\n",
              "      <th>Title</th>\n",
              "      <th>Body</th>\n",
              "      <th>Tags</th>\n",
              "      <th>Tag_Number</th>\n",
              "    </tr>\n",
              "  </thead>\n",
              "  <tbody>\n",
              "    <tr>\n",
              "      <th>0</th>\n",
              "      <td>35264</td>\n",
              "      <td>3589944</td>\n",
              "      <td>3589945</td>\n",
              "      <td>ASP Query String From DropDown</td>\n",
              "      <td>&lt;p&gt;I have a webpage: &lt;strong&gt;Menu.aspx&lt;/strong...</td>\n",
              "      <td>c# asp.net</td>\n",
              "      <td>[0, 9]</td>\n",
              "    </tr>\n",
              "    <tr>\n",
              "      <th>1</th>\n",
              "      <td>56592</td>\n",
              "      <td>5756414</td>\n",
              "      <td>5756415</td>\n",
              "      <td>How can I run JavaScript code at server side J...</td>\n",
              "      <td>&lt;p&gt;I want to run JavaScript code at the server...</td>\n",
              "      <td>java javascript</td>\n",
              "      <td>[1, 3]</td>\n",
              "    </tr>\n",
              "    <tr>\n",
              "      <th>2</th>\n",
              "      <td>23303</td>\n",
              "      <td>2358596</td>\n",
              "      <td>2358597</td>\n",
              "      <td>linq to sql throwing an exception row not foun...</td>\n",
              "      <td>&lt;p&gt;Hi I am linq to sql and i am getting the er...</td>\n",
              "      <td>c# asp.net</td>\n",
              "      <td>[0, 9]</td>\n",
              "    </tr>\n",
              "    <tr>\n",
              "      <th>3</th>\n",
              "      <td>42563</td>\n",
              "      <td>4332881</td>\n",
              "      <td>4332882</td>\n",
              "      <td>Running a Python script on a PHP server</td>\n",
              "      <td>&lt;p&gt;I am running a nginx web server, along with...</td>\n",
              "      <td>php python</td>\n",
              "      <td>[2, 7]</td>\n",
              "    </tr>\n",
              "    <tr>\n",
              "      <th>4</th>\n",
              "      <td>58216</td>\n",
              "      <td>5922132</td>\n",
              "      <td>5922133</td>\n",
              "      <td>some advice on how to write a window.resize fu...</td>\n",
              "      <td>&lt;p&gt;Im trying to write a function that resizes ...</td>\n",
              "      <td>javascript jquery</td>\n",
              "      <td>[3, 5]</td>\n",
              "    </tr>\n",
              "  </tbody>\n",
              "</table>\n",
              "</div>\n",
              "      <button class=\"colab-df-convert\" onclick=\"convertToInteractive('df-4a7b91f0-9606-47ce-a19b-d84ca0b00b8c')\"\n",
              "              title=\"Convert this dataframe to an interactive table.\"\n",
              "              style=\"display:none;\">\n",
              "        \n",
              "  <svg xmlns=\"http://www.w3.org/2000/svg\" height=\"24px\"viewBox=\"0 0 24 24\"\n",
              "       width=\"24px\">\n",
              "    <path d=\"M0 0h24v24H0V0z\" fill=\"none\"/>\n",
              "    <path d=\"M18.56 5.44l.94 2.06.94-2.06 2.06-.94-2.06-.94-.94-2.06-.94 2.06-2.06.94zm-11 1L8.5 8.5l.94-2.06 2.06-.94-2.06-.94L8.5 2.5l-.94 2.06-2.06.94zm10 10l.94 2.06.94-2.06 2.06-.94-2.06-.94-.94-2.06-.94 2.06-2.06.94z\"/><path d=\"M17.41 7.96l-1.37-1.37c-.4-.4-.92-.59-1.43-.59-.52 0-1.04.2-1.43.59L10.3 9.45l-7.72 7.72c-.78.78-.78 2.05 0 2.83L4 21.41c.39.39.9.59 1.41.59.51 0 1.02-.2 1.41-.59l7.78-7.78 2.81-2.81c.8-.78.8-2.07 0-2.86zM5.41 20L4 18.59l7.72-7.72 1.47 1.35L5.41 20z\"/>\n",
              "  </svg>\n",
              "      </button>\n",
              "      \n",
              "  <style>\n",
              "    .colab-df-container {\n",
              "      display:flex;\n",
              "      flex-wrap:wrap;\n",
              "      gap: 12px;\n",
              "    }\n",
              "\n",
              "    .colab-df-convert {\n",
              "      background-color: #E8F0FE;\n",
              "      border: none;\n",
              "      border-radius: 50%;\n",
              "      cursor: pointer;\n",
              "      display: none;\n",
              "      fill: #1967D2;\n",
              "      height: 32px;\n",
              "      padding: 0 0 0 0;\n",
              "      width: 32px;\n",
              "    }\n",
              "\n",
              "    .colab-df-convert:hover {\n",
              "      background-color: #E2EBFA;\n",
              "      box-shadow: 0px 1px 2px rgba(60, 64, 67, 0.3), 0px 1px 3px 1px rgba(60, 64, 67, 0.15);\n",
              "      fill: #174EA6;\n",
              "    }\n",
              "\n",
              "    [theme=dark] .colab-df-convert {\n",
              "      background-color: #3B4455;\n",
              "      fill: #D2E3FC;\n",
              "    }\n",
              "\n",
              "    [theme=dark] .colab-df-convert:hover {\n",
              "      background-color: #434B5C;\n",
              "      box-shadow: 0px 1px 3px 1px rgba(0, 0, 0, 0.15);\n",
              "      filter: drop-shadow(0px 1px 2px rgba(0, 0, 0, 0.3));\n",
              "      fill: #FFFFFF;\n",
              "    }\n",
              "  </style>\n",
              "\n",
              "      <script>\n",
              "        const buttonEl =\n",
              "          document.querySelector('#df-4a7b91f0-9606-47ce-a19b-d84ca0b00b8c button.colab-df-convert');\n",
              "        buttonEl.style.display =\n",
              "          google.colab.kernel.accessAllowed ? 'block' : 'none';\n",
              "\n",
              "        async function convertToInteractive(key) {\n",
              "          const element = document.querySelector('#df-4a7b91f0-9606-47ce-a19b-d84ca0b00b8c');\n",
              "          const dataTable =\n",
              "            await google.colab.kernel.invokeFunction('convertToInteractive',\n",
              "                                                     [key], {});\n",
              "          if (!dataTable) return;\n",
              "\n",
              "          const docLinkHtml = 'Like what you see? Visit the ' +\n",
              "            '<a target=\"_blank\" href=https://colab.research.google.com/notebooks/data_table.ipynb>data table notebook</a>'\n",
              "            + ' to learn more about interactive tables.';\n",
              "          element.innerHTML = '';\n",
              "          dataTable['output_type'] = 'display_data';\n",
              "          await google.colab.output.renderOutput(dataTable, element);\n",
              "          const docLink = document.createElement('div');\n",
              "          docLink.innerHTML = docLinkHtml;\n",
              "          element.appendChild(docLink);\n",
              "        }\n",
              "      </script>\n",
              "    </div>\n",
              "  </div>\n",
              "  "
            ]
          },
          "metadata": {},
          "execution_count": 18
        }
      ]
    },
    {
      "cell_type": "code",
      "execution_count": 19,
      "metadata": {
        "colab": {
          "base_uri": "https://localhost:8080/"
        },
        "execution": {
          "iopub.execute_input": "2022-10-24T09:22:06.653776Z",
          "iopub.status.busy": "2022-10-24T09:22:06.653641Z",
          "iopub.status.idle": "2022-10-24T09:22:06.679384Z",
          "shell.execute_reply": "2022-10-24T09:22:06.678956Z",
          "shell.execute_reply.started": "2022-10-24T09:22:06.653763Z"
        },
        "id": "RXYsyw4r7OGb",
        "outputId": "729e94fb-4375-420c-e4a7-f2b7c810c7e7"
      },
      "outputs": [
        {
          "output_type": "stream",
          "name": "stdout",
          "text": [
            "Shape of Training data set is : (47427, 7)\n"
          ]
        }
      ],
      "source": [
        "# print shape of the datasets\n",
        "print(f'Shape of Training data set is : {train_data.shape}')"
      ]
    },
    {
      "cell_type": "code",
      "source": [
        "train_data.drop(columns = ['Unnamed: 0.1','Unnamed: 0'], inplace=True)\n",
        "train_data.set_index('Id', inplace=True)"
      ],
      "metadata": {
        "id": "BxEwF_3yPd4c"
      },
      "execution_count": 20,
      "outputs": []
    },
    {
      "cell_type": "code",
      "source": [
        "def RemoveHTML(text):\n",
        "  return BeautifulSoup(text , \"html.parser\").get_text()\n",
        "\n",
        "train_data['cleaned_text'] = train_data['Body'].swifter.apply(RemoveHTML)"
      ],
      "metadata": {
        "id": "zFprHz2_Rya8",
        "colab": {
          "base_uri": "https://localhost:8080/",
          "height": 49,
          "referenced_widgets": [
            "a15502bb7e96418184d9f0ef4da87876",
            "038251ce14a147feb38f8e055786e2e5",
            "8d7f72c8b3844301960f85e9c8cc8d32",
            "5d7272640bca4d648c505709b611f987",
            "b71209fffaca46a5a84b47ed821c1c82",
            "7962b728acdc466fad7b5d28ed2d8828",
            "179d6e6a99c7408fba6f3796f19702cc",
            "0192ed11ddfd4764a368ff9ce06304d9",
            "23a0f7c99fe74a00b5bf03db86244b0e",
            "bd871a5aef254ab7b82470801ba51e4a",
            "af3ea5572c604f80806657802907175b"
          ]
        },
        "outputId": "aaa76688-94b0-4647-a895-98a6281e5111"
      },
      "execution_count": 21,
      "outputs": [
        {
          "output_type": "display_data",
          "data": {
            "text/plain": [
              "Pandas Apply:   0%|          | 0/47427 [00:00<?, ?it/s]"
            ],
            "application/vnd.jupyter.widget-view+json": {
              "version_major": 2,
              "version_minor": 0,
              "model_id": "a15502bb7e96418184d9f0ef4da87876"
            }
          },
          "metadata": {}
        }
      ]
    },
    {
      "cell_type": "code",
      "source": [
        "train_data['cleaned_text'].iloc[0]"
      ],
      "metadata": {
        "id": "Usujb6W7Q4Mz",
        "colab": {
          "base_uri": "https://localhost:8080/",
          "height": 105
        },
        "outputId": "daffdc54-97e2-48ed-a65e-1eccba32e0ae"
      },
      "execution_count": 23,
      "outputs": [
        {
          "output_type": "execute_result",
          "data": {
            "text/plain": [
              "'I have a webpage: Menu.aspx, where I have the following controls of relevance: \\n\\na DropDownList with some values\\na hyperlink, which redirects me to a page called Edit.aspx.\\n\\nIn my Edit.aspx page, I have a cancel button, which redirects the user back to the Menu page\\nWhat I would like to do is when my user clicks on the hyperlink to go to the Edit page,index of the DropDownList is preserved in a query string In my Menu.aspx page I have the following aspx code, but I am not sure how to proceed\\n<asp:HyperLink\\n    ID=\"lnkEdit\"\\n    NavigateUrl=\\'<%# \"Edit.aspx?\" + Eval(\"UserID\") + ...not sure... %>\\'\\n</asp:HyperLink>\\n\\n<asp:DropDownList\\n    ID=\"myDropDown\"\\n    ...some <asp:ListItems/>\\n</asp:DropDownList>\\n\\nEDIT: Clarified why Im using NavigateURL. Because my query string already does an Eval to determine the user ID.\\n'"
            ],
            "application/vnd.google.colaboratory.intrinsic+json": {
              "type": "string"
            }
          },
          "metadata": {},
          "execution_count": 23
        }
      ]
    },
    {
      "cell_type": "code",
      "source": [
        "train_data['cleaned_text'] = train_data['Title'] + ' ' + train_data['cleaned_text']"
      ],
      "metadata": {
        "id": "3EXFuNP7Qmbl"
      },
      "execution_count": 24,
      "outputs": []
    },
    {
      "cell_type": "code",
      "source": [
        "!python -m spacy download 'en_core_web_sm'"
      ],
      "metadata": {
        "colab": {
          "base_uri": "https://localhost:8080/"
        },
        "id": "0tkXEMN7oWMK",
        "outputId": "8dbfa50d-2bf4-4db4-c52a-19e98651526f"
      },
      "execution_count": 22,
      "outputs": [
        {
          "output_type": "stream",
          "name": "stdout",
          "text": [
            "2022-11-10 03:42:32.189215: E tensorflow/stream_executor/cuda/cuda_driver.cc:271] failed call to cuInit: CUDA_ERROR_NO_DEVICE: no CUDA-capable device is detected\n",
            "Looking in indexes: https://pypi.org/simple, https://us-python.pkg.dev/colab-wheels/public/simple/\n",
            "Collecting en-core-web-sm==3.4.1\n",
            "  Downloading https://github.com/explosion/spacy-models/releases/download/en_core_web_sm-3.4.1/en_core_web_sm-3.4.1-py3-none-any.whl (12.8 MB)\n",
            "\u001b[K     |████████████████████████████████| 12.8 MB 4.8 MB/s \n",
            "\u001b[?25hRequirement already satisfied: spacy<3.5.0,>=3.4.0 in /usr/local/lib/python3.7/dist-packages (from en-core-web-sm==3.4.1) (3.4.2)\n",
            "Requirement already satisfied: tqdm<5.0.0,>=4.38.0 in /usr/local/lib/python3.7/dist-packages (from spacy<3.5.0,>=3.4.0->en-core-web-sm==3.4.1) (4.64.1)\n",
            "Requirement already satisfied: thinc<8.2.0,>=8.1.0 in /usr/local/lib/python3.7/dist-packages (from spacy<3.5.0,>=3.4.0->en-core-web-sm==3.4.1) (8.1.5)\n",
            "Requirement already satisfied: setuptools in /usr/local/lib/python3.7/dist-packages (from spacy<3.5.0,>=3.4.0->en-core-web-sm==3.4.1) (57.4.0)\n",
            "Requirement already satisfied: murmurhash<1.1.0,>=0.28.0 in /usr/local/lib/python3.7/dist-packages (from spacy<3.5.0,>=3.4.0->en-core-web-sm==3.4.1) (1.0.9)\n",
            "Requirement already satisfied: cymem<2.1.0,>=2.0.2 in /usr/local/lib/python3.7/dist-packages (from spacy<3.5.0,>=3.4.0->en-core-web-sm==3.4.1) (2.0.7)\n",
            "Requirement already satisfied: pydantic!=1.8,!=1.8.1,<1.11.0,>=1.7.4 in /usr/local/lib/python3.7/dist-packages (from spacy<3.5.0,>=3.4.0->en-core-web-sm==3.4.1) (1.10.2)\n",
            "Requirement already satisfied: wasabi<1.1.0,>=0.9.1 in /usr/local/lib/python3.7/dist-packages (from spacy<3.5.0,>=3.4.0->en-core-web-sm==3.4.1) (0.10.1)\n",
            "Requirement already satisfied: preshed<3.1.0,>=3.0.2 in /usr/local/lib/python3.7/dist-packages (from spacy<3.5.0,>=3.4.0->en-core-web-sm==3.4.1) (3.0.8)\n",
            "Requirement already satisfied: packaging>=20.0 in /usr/local/lib/python3.7/dist-packages (from spacy<3.5.0,>=3.4.0->en-core-web-sm==3.4.1) (21.3)\n",
            "Requirement already satisfied: requests<3.0.0,>=2.13.0 in /usr/local/lib/python3.7/dist-packages (from spacy<3.5.0,>=3.4.0->en-core-web-sm==3.4.1) (2.23.0)\n",
            "Requirement already satisfied: catalogue<2.1.0,>=2.0.6 in /usr/local/lib/python3.7/dist-packages (from spacy<3.5.0,>=3.4.0->en-core-web-sm==3.4.1) (2.0.8)\n",
            "Requirement already satisfied: jinja2 in /usr/local/lib/python3.7/dist-packages (from spacy<3.5.0,>=3.4.0->en-core-web-sm==3.4.1) (2.11.3)\n",
            "Requirement already satisfied: typer<0.5.0,>=0.3.0 in /usr/local/lib/python3.7/dist-packages (from spacy<3.5.0,>=3.4.0->en-core-web-sm==3.4.1) (0.4.2)\n",
            "Requirement already satisfied: spacy-loggers<2.0.0,>=1.0.0 in /usr/local/lib/python3.7/dist-packages (from spacy<3.5.0,>=3.4.0->en-core-web-sm==3.4.1) (1.0.3)\n",
            "Requirement already satisfied: srsly<3.0.0,>=2.4.3 in /usr/local/lib/python3.7/dist-packages (from spacy<3.5.0,>=3.4.0->en-core-web-sm==3.4.1) (2.4.5)\n",
            "Requirement already satisfied: langcodes<4.0.0,>=3.2.0 in /usr/local/lib/python3.7/dist-packages (from spacy<3.5.0,>=3.4.0->en-core-web-sm==3.4.1) (3.3.0)\n",
            "Requirement already satisfied: pathy>=0.3.5 in /usr/local/lib/python3.7/dist-packages (from spacy<3.5.0,>=3.4.0->en-core-web-sm==3.4.1) (0.6.2)\n",
            "Requirement already satisfied: spacy-legacy<3.1.0,>=3.0.10 in /usr/local/lib/python3.7/dist-packages (from spacy<3.5.0,>=3.4.0->en-core-web-sm==3.4.1) (3.0.10)\n",
            "Requirement already satisfied: typing-extensions<4.2.0,>=3.7.4 in /usr/local/lib/python3.7/dist-packages (from spacy<3.5.0,>=3.4.0->en-core-web-sm==3.4.1) (4.1.1)\n",
            "Requirement already satisfied: numpy>=1.15.0 in /usr/local/lib/python3.7/dist-packages (from spacy<3.5.0,>=3.4.0->en-core-web-sm==3.4.1) (1.21.6)\n",
            "Requirement already satisfied: zipp>=0.5 in /usr/local/lib/python3.7/dist-packages (from catalogue<2.1.0,>=2.0.6->spacy<3.5.0,>=3.4.0->en-core-web-sm==3.4.1) (3.10.0)\n",
            "Requirement already satisfied: pyparsing!=3.0.5,>=2.0.2 in /usr/local/lib/python3.7/dist-packages (from packaging>=20.0->spacy<3.5.0,>=3.4.0->en-core-web-sm==3.4.1) (3.0.9)\n",
            "Requirement already satisfied: smart-open<6.0.0,>=5.2.1 in /usr/local/lib/python3.7/dist-packages (from pathy>=0.3.5->spacy<3.5.0,>=3.4.0->en-core-web-sm==3.4.1) (5.2.1)\n",
            "Requirement already satisfied: idna<3,>=2.5 in /usr/local/lib/python3.7/dist-packages (from requests<3.0.0,>=2.13.0->spacy<3.5.0,>=3.4.0->en-core-web-sm==3.4.1) (2.10)\n",
            "Requirement already satisfied: chardet<4,>=3.0.2 in /usr/local/lib/python3.7/dist-packages (from requests<3.0.0,>=2.13.0->spacy<3.5.0,>=3.4.0->en-core-web-sm==3.4.1) (3.0.4)\n",
            "Requirement already satisfied: urllib3!=1.25.0,!=1.25.1,<1.26,>=1.21.1 in /usr/local/lib/python3.7/dist-packages (from requests<3.0.0,>=2.13.0->spacy<3.5.0,>=3.4.0->en-core-web-sm==3.4.1) (1.24.3)\n",
            "Requirement already satisfied: certifi>=2017.4.17 in /usr/local/lib/python3.7/dist-packages (from requests<3.0.0,>=2.13.0->spacy<3.5.0,>=3.4.0->en-core-web-sm==3.4.1) (2022.9.24)\n",
            "Requirement already satisfied: confection<1.0.0,>=0.0.1 in /usr/local/lib/python3.7/dist-packages (from thinc<8.2.0,>=8.1.0->spacy<3.5.0,>=3.4.0->en-core-web-sm==3.4.1) (0.0.3)\n",
            "Requirement already satisfied: blis<0.8.0,>=0.7.8 in /usr/local/lib/python3.7/dist-packages (from thinc<8.2.0,>=8.1.0->spacy<3.5.0,>=3.4.0->en-core-web-sm==3.4.1) (0.7.9)\n",
            "Requirement already satisfied: click<9.0.0,>=7.1.1 in /usr/local/lib/python3.7/dist-packages (from typer<0.5.0,>=0.3.0->spacy<3.5.0,>=3.4.0->en-core-web-sm==3.4.1) (7.1.2)\n",
            "Requirement already satisfied: MarkupSafe>=0.23 in /usr/local/lib/python3.7/dist-packages (from jinja2->spacy<3.5.0,>=3.4.0->en-core-web-sm==3.4.1) (2.0.1)\n",
            "\u001b[38;5;2m✔ Download and installation successful\u001b[0m\n",
            "You can now load the package via spacy.load('en_core_web_sm')\n"
          ]
        }
      ]
    },
    {
      "cell_type": "code",
      "source": [
        "train_data.drop(columns = ['Title', 'Body','Tags'], inplace=True)"
      ],
      "metadata": {
        "id": "fmX8kF_XTVnp"
      },
      "execution_count": 28,
      "outputs": []
    },
    {
      "cell_type": "code",
      "source": [
        "train_data.cleaned_text[:10]"
      ],
      "metadata": {
        "colab": {
          "base_uri": "https://localhost:8080/"
        },
        "id": "X2xZpJC8ol-l",
        "outputId": "229a88b0-67d1-4bb6-910e-65f1ef2f1fd0"
      },
      "execution_count": 31,
      "outputs": [
        {
          "output_type": "execute_result",
          "data": {
            "text/plain": [
              "Id\n",
              "3589945    ASP Query String From DropDown I have a webpag...\n",
              "5756415    How can I run JavaScript code at server side J...\n",
              "2358597    linq to sql throwing an exception row not foun...\n",
              "4332882    Running a Python script on a PHP server I am r...\n",
              "5922133    some advice on how to write a window.resize fu...\n",
              "870476     jQuery auto resize function causes jumping in ...\n",
              "4021486    php page redirect after operation I have a pag...\n",
              "4029695    Advice needed from experts about ASP.NET UserC...\n",
              "3785322    Revert style applied from focus after blur Whe...\n",
              "860009     Hacking RadioInfo.java to work I have been loo...\n",
              "Name: cleaned_text, dtype: object"
            ]
          },
          "metadata": {},
          "execution_count": 31
        }
      ]
    },
    {
      "cell_type": "code",
      "source": [
        "train_data['cleaned_text'] = cp.SpacyPreprocessor(model = 'en_core_web_sm', remove_stop=True ).transform(train_data['cleaned_text'].to_list())"
      ],
      "metadata": {
        "id": "UDMBlICT3giF"
      },
      "execution_count": null,
      "outputs": []
    },
    {
      "cell_type": "code",
      "source": [
        "import ast\n",
        "def convert(x):\n",
        "  return (*x,)\n",
        "train_data['Tag_Number'] = train_data['Tag_Number'].apply(ast.literal_eval).apply(convert)"
      ],
      "metadata": {
        "id": "JEyyAsArqtQa"
      },
      "execution_count": 40,
      "outputs": []
    },
    {
      "cell_type": "code",
      "source": [
        "from sklearn import preprocessing\n",
        "import ast\n",
        "from sklearn.preprocessing import MultiLabelBinarizer\n",
        "mlb = MultiLabelBinarizer()\n"
      ],
      "metadata": {
        "id": "gCdL0kisNgaG"
      },
      "execution_count": 41,
      "outputs": []
    },
    {
      "cell_type": "code",
      "source": [
        "train_data['Tag_Number'].iloc[0]"
      ],
      "metadata": {
        "colab": {
          "base_uri": "https://localhost:8080/"
        },
        "id": "fcCxOektsTjn",
        "outputId": "225274ee-0c45-4ab0-dd53-e61ae1ffe55a"
      },
      "execution_count": 47,
      "outputs": [
        {
          "output_type": "execute_result",
          "data": {
            "text/plain": [
              "(0, 9)"
            ]
          },
          "metadata": {},
          "execution_count": 47
        }
      ]
    },
    {
      "cell_type": "code",
      "source": [
        "list(mlb.fit_transform(train_data['Tag_Number']))[0]"
      ],
      "metadata": {
        "colab": {
          "base_uri": "https://localhost:8080/"
        },
        "id": "aQz2YNvLsOuA",
        "outputId": "da263ddf-519a-4ecb-8c9f-2cfca447c40c"
      },
      "execution_count": 54,
      "outputs": [
        {
          "output_type": "execute_result",
          "data": {
            "text/plain": [
              "array([1, 0, 0, 0, 0, 0, 0, 0, 0, 1])"
            ]
          },
          "metadata": {},
          "execution_count": 54
        }
      ]
    },
    {
      "cell_type": "code",
      "source": [
        "train_data[['Y0','Y1','Y2','Y3','Y4','Y5','Y6','Y7','Y8','Y9']] = mlb.fit_transform(train_data['Tag_Number'])"
      ],
      "metadata": {
        "id": "FjRACJ0IpKyd"
      },
      "execution_count": 57,
      "outputs": []
    },
    {
      "cell_type": "code",
      "source": [
        "train_data.drop(columns=['Tag_Number'], inplace=True)"
      ],
      "metadata": {
        "id": "Ig70yO7AtW04"
      },
      "execution_count": 59,
      "outputs": []
    },
    {
      "cell_type": "code",
      "source": [
        "train_data.head(10)"
      ],
      "metadata": {
        "colab": {
          "base_uri": "https://localhost:8080/",
          "height": 394
        },
        "id": "2PYNjzFVpLfp",
        "outputId": "9fdc5a1c-61f0-4423-b8c3-9dc9c1ecb4dd"
      },
      "execution_count": 112,
      "outputs": [
        {
          "output_type": "execute_result",
          "data": {
            "text/plain": [
              "                                              cleaned_text  Y0  Y1  Y2  Y3  \\\n",
              "Id                                                                           \n",
              "3589945  ASP Query String From DropDown I have a webpag...   1   0   0   0   \n",
              "5756415  How can I run JavaScript code at server side J...   0   1   0   1   \n",
              "2358597  linq to sql throwing an exception row not foun...   1   0   0   0   \n",
              "4332882  Running a Python script on a PHP server I am r...   0   0   1   0   \n",
              "5922133  some advice on how to write a window.resize fu...   0   0   0   1   \n",
              "870476   jQuery auto resize function causes jumping in ...   0   0   0   1   \n",
              "4021486  php page redirect after operation I have a pag...   0   0   1   1   \n",
              "4029695  Advice needed from experts about ASP.NET UserC...   1   0   0   0   \n",
              "3785322  Revert style applied from focus after blur Whe...   0   0   0   1   \n",
              "860009   Hacking RadioInfo.java to work I have been loo...   0   1   0   0   \n",
              "\n",
              "         Y4  Y5  Y6  Y7  Y8  Y9  \n",
              "Id                               \n",
              "3589945   0   0   0   0   0   1  \n",
              "5756415   0   0   0   0   0   0  \n",
              "2358597   0   0   0   0   0   1  \n",
              "4332882   0   0   0   1   0   0  \n",
              "5922133   0   1   0   0   0   0  \n",
              "870476    0   1   0   0   0   0  \n",
              "4021486   0   0   0   0   0   0  \n",
              "4029695   0   0   0   0   0   1  \n",
              "3785322   0   1   0   0   0   0  \n",
              "860009    1   0   0   0   0   0  "
            ],
            "text/html": [
              "\n",
              "  <div id=\"df-58f85fa6-e6a4-4df3-a20c-2cae9031d9af\">\n",
              "    <div class=\"colab-df-container\">\n",
              "      <div>\n",
              "<style scoped>\n",
              "    .dataframe tbody tr th:only-of-type {\n",
              "        vertical-align: middle;\n",
              "    }\n",
              "\n",
              "    .dataframe tbody tr th {\n",
              "        vertical-align: top;\n",
              "    }\n",
              "\n",
              "    .dataframe thead th {\n",
              "        text-align: right;\n",
              "    }\n",
              "</style>\n",
              "<table border=\"1\" class=\"dataframe\">\n",
              "  <thead>\n",
              "    <tr style=\"text-align: right;\">\n",
              "      <th></th>\n",
              "      <th>cleaned_text</th>\n",
              "      <th>Y0</th>\n",
              "      <th>Y1</th>\n",
              "      <th>Y2</th>\n",
              "      <th>Y3</th>\n",
              "      <th>Y4</th>\n",
              "      <th>Y5</th>\n",
              "      <th>Y6</th>\n",
              "      <th>Y7</th>\n",
              "      <th>Y8</th>\n",
              "      <th>Y9</th>\n",
              "    </tr>\n",
              "    <tr>\n",
              "      <th>Id</th>\n",
              "      <th></th>\n",
              "      <th></th>\n",
              "      <th></th>\n",
              "      <th></th>\n",
              "      <th></th>\n",
              "      <th></th>\n",
              "      <th></th>\n",
              "      <th></th>\n",
              "      <th></th>\n",
              "      <th></th>\n",
              "      <th></th>\n",
              "    </tr>\n",
              "  </thead>\n",
              "  <tbody>\n",
              "    <tr>\n",
              "      <th>3589945</th>\n",
              "      <td>ASP Query String From DropDown I have a webpag...</td>\n",
              "      <td>1</td>\n",
              "      <td>0</td>\n",
              "      <td>0</td>\n",
              "      <td>0</td>\n",
              "      <td>0</td>\n",
              "      <td>0</td>\n",
              "      <td>0</td>\n",
              "      <td>0</td>\n",
              "      <td>0</td>\n",
              "      <td>1</td>\n",
              "    </tr>\n",
              "    <tr>\n",
              "      <th>5756415</th>\n",
              "      <td>How can I run JavaScript code at server side J...</td>\n",
              "      <td>0</td>\n",
              "      <td>1</td>\n",
              "      <td>0</td>\n",
              "      <td>1</td>\n",
              "      <td>0</td>\n",
              "      <td>0</td>\n",
              "      <td>0</td>\n",
              "      <td>0</td>\n",
              "      <td>0</td>\n",
              "      <td>0</td>\n",
              "    </tr>\n",
              "    <tr>\n",
              "      <th>2358597</th>\n",
              "      <td>linq to sql throwing an exception row not foun...</td>\n",
              "      <td>1</td>\n",
              "      <td>0</td>\n",
              "      <td>0</td>\n",
              "      <td>0</td>\n",
              "      <td>0</td>\n",
              "      <td>0</td>\n",
              "      <td>0</td>\n",
              "      <td>0</td>\n",
              "      <td>0</td>\n",
              "      <td>1</td>\n",
              "    </tr>\n",
              "    <tr>\n",
              "      <th>4332882</th>\n",
              "      <td>Running a Python script on a PHP server I am r...</td>\n",
              "      <td>0</td>\n",
              "      <td>0</td>\n",
              "      <td>1</td>\n",
              "      <td>0</td>\n",
              "      <td>0</td>\n",
              "      <td>0</td>\n",
              "      <td>0</td>\n",
              "      <td>1</td>\n",
              "      <td>0</td>\n",
              "      <td>0</td>\n",
              "    </tr>\n",
              "    <tr>\n",
              "      <th>5922133</th>\n",
              "      <td>some advice on how to write a window.resize fu...</td>\n",
              "      <td>0</td>\n",
              "      <td>0</td>\n",
              "      <td>0</td>\n",
              "      <td>1</td>\n",
              "      <td>0</td>\n",
              "      <td>1</td>\n",
              "      <td>0</td>\n",
              "      <td>0</td>\n",
              "      <td>0</td>\n",
              "      <td>0</td>\n",
              "    </tr>\n",
              "    <tr>\n",
              "      <th>870476</th>\n",
              "      <td>jQuery auto resize function causes jumping in ...</td>\n",
              "      <td>0</td>\n",
              "      <td>0</td>\n",
              "      <td>0</td>\n",
              "      <td>1</td>\n",
              "      <td>0</td>\n",
              "      <td>1</td>\n",
              "      <td>0</td>\n",
              "      <td>0</td>\n",
              "      <td>0</td>\n",
              "      <td>0</td>\n",
              "    </tr>\n",
              "    <tr>\n",
              "      <th>4021486</th>\n",
              "      <td>php page redirect after operation I have a pag...</td>\n",
              "      <td>0</td>\n",
              "      <td>0</td>\n",
              "      <td>1</td>\n",
              "      <td>1</td>\n",
              "      <td>0</td>\n",
              "      <td>0</td>\n",
              "      <td>0</td>\n",
              "      <td>0</td>\n",
              "      <td>0</td>\n",
              "      <td>0</td>\n",
              "    </tr>\n",
              "    <tr>\n",
              "      <th>4029695</th>\n",
              "      <td>Advice needed from experts about ASP.NET UserC...</td>\n",
              "      <td>1</td>\n",
              "      <td>0</td>\n",
              "      <td>0</td>\n",
              "      <td>0</td>\n",
              "      <td>0</td>\n",
              "      <td>0</td>\n",
              "      <td>0</td>\n",
              "      <td>0</td>\n",
              "      <td>0</td>\n",
              "      <td>1</td>\n",
              "    </tr>\n",
              "    <tr>\n",
              "      <th>3785322</th>\n",
              "      <td>Revert style applied from focus after blur Whe...</td>\n",
              "      <td>0</td>\n",
              "      <td>0</td>\n",
              "      <td>0</td>\n",
              "      <td>1</td>\n",
              "      <td>0</td>\n",
              "      <td>1</td>\n",
              "      <td>0</td>\n",
              "      <td>0</td>\n",
              "      <td>0</td>\n",
              "      <td>0</td>\n",
              "    </tr>\n",
              "    <tr>\n",
              "      <th>860009</th>\n",
              "      <td>Hacking RadioInfo.java to work I have been loo...</td>\n",
              "      <td>0</td>\n",
              "      <td>1</td>\n",
              "      <td>0</td>\n",
              "      <td>0</td>\n",
              "      <td>1</td>\n",
              "      <td>0</td>\n",
              "      <td>0</td>\n",
              "      <td>0</td>\n",
              "      <td>0</td>\n",
              "      <td>0</td>\n",
              "    </tr>\n",
              "  </tbody>\n",
              "</table>\n",
              "</div>\n",
              "      <button class=\"colab-df-convert\" onclick=\"convertToInteractive('df-58f85fa6-e6a4-4df3-a20c-2cae9031d9af')\"\n",
              "              title=\"Convert this dataframe to an interactive table.\"\n",
              "              style=\"display:none;\">\n",
              "        \n",
              "  <svg xmlns=\"http://www.w3.org/2000/svg\" height=\"24px\"viewBox=\"0 0 24 24\"\n",
              "       width=\"24px\">\n",
              "    <path d=\"M0 0h24v24H0V0z\" fill=\"none\"/>\n",
              "    <path d=\"M18.56 5.44l.94 2.06.94-2.06 2.06-.94-2.06-.94-.94-2.06-.94 2.06-2.06.94zm-11 1L8.5 8.5l.94-2.06 2.06-.94-2.06-.94L8.5 2.5l-.94 2.06-2.06.94zm10 10l.94 2.06.94-2.06 2.06-.94-2.06-.94-.94-2.06-.94 2.06-2.06.94z\"/><path d=\"M17.41 7.96l-1.37-1.37c-.4-.4-.92-.59-1.43-.59-.52 0-1.04.2-1.43.59L10.3 9.45l-7.72 7.72c-.78.78-.78 2.05 0 2.83L4 21.41c.39.39.9.59 1.41.59.51 0 1.02-.2 1.41-.59l7.78-7.78 2.81-2.81c.8-.78.8-2.07 0-2.86zM5.41 20L4 18.59l7.72-7.72 1.47 1.35L5.41 20z\"/>\n",
              "  </svg>\n",
              "      </button>\n",
              "      \n",
              "  <style>\n",
              "    .colab-df-container {\n",
              "      display:flex;\n",
              "      flex-wrap:wrap;\n",
              "      gap: 12px;\n",
              "    }\n",
              "\n",
              "    .colab-df-convert {\n",
              "      background-color: #E8F0FE;\n",
              "      border: none;\n",
              "      border-radius: 50%;\n",
              "      cursor: pointer;\n",
              "      display: none;\n",
              "      fill: #1967D2;\n",
              "      height: 32px;\n",
              "      padding: 0 0 0 0;\n",
              "      width: 32px;\n",
              "    }\n",
              "\n",
              "    .colab-df-convert:hover {\n",
              "      background-color: #E2EBFA;\n",
              "      box-shadow: 0px 1px 2px rgba(60, 64, 67, 0.3), 0px 1px 3px 1px rgba(60, 64, 67, 0.15);\n",
              "      fill: #174EA6;\n",
              "    }\n",
              "\n",
              "    [theme=dark] .colab-df-convert {\n",
              "      background-color: #3B4455;\n",
              "      fill: #D2E3FC;\n",
              "    }\n",
              "\n",
              "    [theme=dark] .colab-df-convert:hover {\n",
              "      background-color: #434B5C;\n",
              "      box-shadow: 0px 1px 3px 1px rgba(0, 0, 0, 0.15);\n",
              "      filter: drop-shadow(0px 1px 2px rgba(0, 0, 0, 0.3));\n",
              "      fill: #FFFFFF;\n",
              "    }\n",
              "  </style>\n",
              "\n",
              "      <script>\n",
              "        const buttonEl =\n",
              "          document.querySelector('#df-58f85fa6-e6a4-4df3-a20c-2cae9031d9af button.colab-df-convert');\n",
              "        buttonEl.style.display =\n",
              "          google.colab.kernel.accessAllowed ? 'block' : 'none';\n",
              "\n",
              "        async function convertToInteractive(key) {\n",
              "          const element = document.querySelector('#df-58f85fa6-e6a4-4df3-a20c-2cae9031d9af');\n",
              "          const dataTable =\n",
              "            await google.colab.kernel.invokeFunction('convertToInteractive',\n",
              "                                                     [key], {});\n",
              "          if (!dataTable) return;\n",
              "\n",
              "          const docLinkHtml = 'Like what you see? Visit the ' +\n",
              "            '<a target=\"_blank\" href=https://colab.research.google.com/notebooks/data_table.ipynb>data table notebook</a>'\n",
              "            + ' to learn more about interactive tables.';\n",
              "          element.innerHTML = '';\n",
              "          dataTable['output_type'] = 'display_data';\n",
              "          await google.colab.output.renderOutput(dataTable, element);\n",
              "          const docLink = document.createElement('div');\n",
              "          docLink.innerHTML = docLinkHtml;\n",
              "          element.appendChild(docLink);\n",
              "        }\n",
              "      </script>\n",
              "    </div>\n",
              "  </div>\n",
              "  "
            ]
          },
          "metadata": {},
          "execution_count": 112
        }
      ]
    },
    {
      "cell_type": "markdown",
      "metadata": {
        "id": "bTrbf15aROgj"
      },
      "source": [
        "## <Font color = 'pickle'>**Create Train/Test/Valid Split**\n"
      ]
    },
    {
      "cell_type": "code",
      "execution_count": 61,
      "metadata": {
        "execution": {
          "iopub.execute_input": "2022-10-24T09:22:06.708539Z",
          "iopub.status.busy": "2022-10-24T09:22:06.708395Z",
          "iopub.status.idle": "2022-10-24T09:22:06.733452Z",
          "shell.execute_reply": "2022-10-24T09:22:06.733008Z",
          "shell.execute_reply.started": "2022-10-24T09:22:06.708525Z"
        },
        "id": "9RFTtWvX7Vwr"
      },
      "outputs": [],
      "source": [
        "X, y = train_data['cleaned_text'].values, train_data[['Y0','Y1','Y2','Y3','Y4','Y5','Y6','Y7','Y8','Y9']].values\n",
        "y = np.array(y, dtype=int)"
      ]
    },
    {
      "cell_type": "code",
      "source": [
        "train_data[['Y0','Y1','Y2','Y3','Y4','Y5','Y6','Y7','Y8','Y9']].values"
      ],
      "metadata": {
        "colab": {
          "base_uri": "https://localhost:8080/"
        },
        "id": "ubuVEzwSCx3Q",
        "outputId": "3522ba2f-004f-4a1d-de18-101cf56b45f0"
      },
      "execution_count": 62,
      "outputs": [
        {
          "output_type": "execute_result",
          "data": {
            "text/plain": [
              "array([[1, 0, 0, ..., 0, 0, 1],\n",
              "       [0, 1, 0, ..., 0, 0, 0],\n",
              "       [1, 0, 0, ..., 0, 0, 1],\n",
              "       ...,\n",
              "       [0, 1, 0, ..., 0, 0, 0],\n",
              "       [0, 0, 0, ..., 0, 0, 1],\n",
              "       [0, 0, 0, ..., 0, 0, 0]])"
            ]
          },
          "metadata": {},
          "execution_count": 62
        }
      ]
    },
    {
      "cell_type": "code",
      "execution_count": 63,
      "metadata": {
        "execution": {
          "iopub.execute_input": "2022-10-24T09:22:06.734158Z",
          "iopub.status.busy": "2022-10-24T09:22:06.734012Z",
          "iopub.status.idle": "2022-10-24T09:22:06.765176Z",
          "shell.execute_reply": "2022-10-24T09:22:06.764742Z",
          "shell.execute_reply.started": "2022-10-24T09:22:06.734144Z"
        },
        "id": "a8sZ605P7mON"
      },
      "outputs": [],
      "source": [
        "X_train, X_rem, y_train, y_rem = train_test_split(X,y, train_size=0.6, random_state=42)\n",
        "\n",
        "X_valid, X_test, y_valid, y_test = train_test_split(X_rem,y_rem, test_size=0.5, random_state=42)"
      ]
    },
    {
      "cell_type": "code",
      "source": [
        "X_train.shape"
      ],
      "metadata": {
        "colab": {
          "base_uri": "https://localhost:8080/"
        },
        "id": "-UVsVTBvBsgT",
        "outputId": "0df81f8d-ebf4-4527-819b-83f6da9f0d71"
      },
      "execution_count": 64,
      "outputs": [
        {
          "output_type": "execute_result",
          "data": {
            "text/plain": [
              "(28456,)"
            ]
          },
          "metadata": {},
          "execution_count": 64
        }
      ]
    },
    {
      "cell_type": "markdown",
      "metadata": {
        "id": "FTIKaTsTgvYu"
      },
      "source": [
        "## <Font color = 'pickle'>**Custom Dataset Class**"
      ]
    },
    {
      "cell_type": "code",
      "source": [
        "from sklearn.feature_extraction.text import  TfidfVectorizer\n",
        "\n",
        "vectorizer = TfidfVectorizer(stop_words=\"english\", min_df=4, max_features=5000).fit(X_train)\n",
        "\n",
        "X_train_vec = vectorizer.transform(X_train)\n",
        "X_valid_vec = vectorizer.transform(X_valid)\n",
        "X_test_vec = vectorizer.transform(X_test)"
      ],
      "metadata": {
        "id": "5Qaf4Zii7XAD"
      },
      "execution_count": 65,
      "outputs": []
    },
    {
      "cell_type": "code",
      "execution_count": 66,
      "metadata": {
        "execution": {
          "iopub.execute_input": "2022-10-24T09:22:07.037149Z",
          "iopub.status.busy": "2022-10-24T09:22:07.036975Z",
          "iopub.status.idle": "2022-10-24T09:22:07.063057Z",
          "shell.execute_reply": "2022-10-24T09:22:07.062578Z",
          "shell.execute_reply.started": "2022-10-24T09:22:07.037135Z"
        },
        "id": "kul5dyeM2d4k"
      },
      "outputs": [],
      "source": [
        "class CustomDataset(torch.utils.data.Dataset):\n",
        "    \"\"\"STACK_EXCHANGE dataset.\"\"\"\n",
        "\n",
        "    def __init__(self, X, y):\n",
        "        self.X = np.array(X)\n",
        "        self.y = y\n",
        "\n",
        "    def __len__(self):\n",
        "        return len(self.X)\n",
        "\n",
        "    def __getitem__(self, idx):\n",
        "        if torch.is_tensor(idx):\n",
        "            idx = idx.tolist()\n",
        "\n",
        "        text = self.X[idx]\n",
        "        labels = self.y[idx]\n",
        "        sample = (text, labels)\n",
        "        \n",
        "        return sample"
      ]
    },
    {
      "cell_type": "code",
      "execution_count": 67,
      "metadata": {
        "execution": {
          "iopub.execute_input": "2022-10-24T09:22:07.063940Z",
          "iopub.status.busy": "2022-10-24T09:22:07.063802Z",
          "iopub.status.idle": "2022-10-24T09:22:07.471457Z",
          "shell.execute_reply": "2022-10-24T09:22:07.470796Z",
          "shell.execute_reply.started": "2022-10-24T09:22:07.063927Z"
        },
        "id": "R1mKoKSlAxAq"
      },
      "outputs": [],
      "source": [
        "trainset = CustomDataset(X_train, y_train)\n",
        "validset = CustomDataset(X_valid, y_valid)\n",
        "testset = CustomDataset(X_test, y_test)"
      ]
    },
    {
      "cell_type": "code",
      "source": [
        "# Creating a tensors of data\n",
        "\n",
        "X_train_tensor = torch.tensor(X_train_vec.toarray()).float()\n",
        "X_valid_tensor = torch.tensor(X_valid_vec.toarray()).float()\n",
        "X_test_tensor = torch.tensor(X_test_vec.toarray()).float()\n",
        "\n",
        "y_train_tensor = torch.tensor(np.array(y_train)).float()\n",
        "y_valid_tensor = torch.tensor(np.array(y_valid)).float()\n",
        "y_test_tensor = torch.tensor(np.array(y_test)).float()"
      ],
      "metadata": {
        "id": "AVFVT-b57qBw"
      },
      "execution_count": 68,
      "outputs": []
    },
    {
      "cell_type": "code",
      "source": [
        "# Creating tensor dataset\n",
        "train_set = torch.utils.data.TensorDataset(X_train_tensor, y_train_tensor)\n",
        "valid_set = torch.utils.data.TensorDataset(X_valid_tensor, y_valid_tensor)\n",
        "test_set = torch.utils.data.TensorDataset(X_test_tensor, y_test_tensor)"
      ],
      "metadata": {
        "id": "sKY2pUHdZdmY"
      },
      "execution_count": 69,
      "outputs": []
    },
    {
      "cell_type": "markdown",
      "metadata": {
        "id": "XoEVe7eGtY7U"
      },
      "source": [
        "## <Font color = 'pickle'>**Create Vocab**"
      ]
    },
    {
      "cell_type": "code",
      "execution_count": null,
      "metadata": {
        "execution": {
          "iopub.execute_input": "2022-10-24T09:22:07.475835Z",
          "iopub.status.busy": "2022-10-24T09:22:07.475552Z",
          "iopub.status.idle": "2022-10-24T09:22:07.505585Z",
          "shell.execute_reply": "2022-10-24T09:22:07.505110Z",
          "shell.execute_reply.started": "2022-10-24T09:22:07.475808Z"
        },
        "id": "LRLHO-M1to6q"
      },
      "outputs": [],
      "source": [
        "def create_vocab(dataset, min_freq):\n",
        "  counter = Counter()\n",
        "  for (text, _) in dataset:\n",
        "    counter.update(str(text).split())\n",
        "  my_vocab = vocab(counter, min_freq=min_freq)\n",
        "  my_vocab.insert_token('<unk>', 0)\n",
        "  my_vocab.set_default_index(0)\n",
        "  return my_vocab"
      ]
    },
    {
      "cell_type": "code",
      "execution_count": null,
      "metadata": {
        "execution": {
          "iopub.execute_input": "2022-10-24T09:22:07.506294Z",
          "iopub.status.busy": "2022-10-24T09:22:07.506154Z",
          "iopub.status.idle": "2022-10-24T09:22:08.211189Z",
          "shell.execute_reply": "2022-10-24T09:22:08.210609Z",
          "shell.execute_reply.started": "2022-10-24T09:22:07.506280Z"
        },
        "id": "wNUi_aNctkAo"
      },
      "outputs": [],
      "source": [
        "stack_vocab = create_vocab(trainset, min_freq = 5)"
      ]
    },
    {
      "cell_type": "code",
      "execution_count": null,
      "metadata": {
        "execution": {
          "iopub.execute_input": "2022-10-24T09:22:08.211908Z",
          "iopub.status.busy": "2022-10-24T09:22:08.211772Z",
          "iopub.status.idle": "2022-10-24T09:22:08.239663Z",
          "shell.execute_reply": "2022-10-24T09:22:08.239191Z",
          "shell.execute_reply.started": "2022-10-24T09:22:08.211894Z"
        },
        "id": "ask8H1QJJMZK"
      },
      "outputs": [],
      "source": [
        "len(stack_vocab)"
      ]
    },
    {
      "cell_type": "code",
      "execution_count": null,
      "metadata": {
        "execution": {
          "iopub.execute_input": "2022-10-24T09:22:08.240488Z",
          "iopub.status.busy": "2022-10-24T09:22:08.240291Z",
          "iopub.status.idle": "2022-10-24T09:22:08.269589Z",
          "shell.execute_reply": "2022-10-24T09:22:08.268970Z",
          "shell.execute_reply.started": "2022-10-24T09:22:08.240474Z"
        },
        "id": "eyaeFqCsuRTQ",
        "tags": []
      },
      "outputs": [],
      "source": [
        "stack_vocab.get_itos()[0:5]"
      ]
    },
    {
      "cell_type": "code",
      "execution_count": null,
      "metadata": {
        "execution": {
          "iopub.execute_input": "2022-10-24T09:22:08.270357Z",
          "iopub.status.busy": "2022-10-24T09:22:08.270178Z",
          "iopub.status.idle": "2022-10-24T09:22:08.296058Z",
          "shell.execute_reply": "2022-10-24T09:22:08.295670Z",
          "shell.execute_reply.started": "2022-10-24T09:22:08.270327Z"
        },
        "id": "WDMu8-JOujxY"
      },
      "outputs": [],
      "source": [
        "stack_vocab['Validate python Code on']"
      ]
    },
    {
      "cell_type": "markdown",
      "metadata": {
        "id": "ojvSMWR5u-LU"
      },
      "source": [
        "## <Font color = 'pickle'>**Collate_fn for Data Loaders**"
      ]
    },
    {
      "cell_type": "code",
      "execution_count": null,
      "metadata": {
        "execution": {
          "iopub.execute_input": "2022-10-24T09:22:08.296819Z",
          "iopub.status.busy": "2022-10-24T09:22:08.296636Z",
          "iopub.status.idle": "2022-10-24T09:22:08.322287Z",
          "shell.execute_reply": "2022-10-24T09:22:08.321891Z",
          "shell.execute_reply.started": "2022-10-24T09:22:08.296805Z"
        },
        "id": "cdBKJlVmvB-9"
      },
      "outputs": [],
      "source": [
        "# Creating a lambda function objects that will be used to get the indices of words from vocab\n",
        "text_pipeline = lambda x: [stack_vocab[token] for token in str(x).split()]\n",
        "label_pipeline = lambda x: int(x)"
      ]
    },
    {
      "cell_type": "code",
      "execution_count": null,
      "metadata": {
        "execution": {
          "iopub.execute_input": "2022-10-24T09:22:08.323133Z",
          "iopub.status.busy": "2022-10-24T09:22:08.322814Z",
          "iopub.status.idle": "2022-10-24T09:22:08.349717Z",
          "shell.execute_reply": "2022-10-24T09:22:08.349148Z",
          "shell.execute_reply.started": "2022-10-24T09:22:08.323120Z"
        },
        "id": "cL1TZVthvIT2"
      },
      "outputs": [],
      "source": [
        "'''\n",
        "We know that input to the embedding layers are indices of words from the vocab.\n",
        "The collate_batch() accepts batch of data and gets the indices of text from vocab and returns the same\n",
        "We will include this collate_batch() in collat_fn attribute of DataLoader.\n",
        "So it will create a batch of data containing indices of words and corresponding labels.\n",
        "But for EmbeddingBag we need one more extra parameter, that is offset.\n",
        "offsets determines the starting index position of each bag (sequence) in input.\n",
        "'''\n",
        "def collate_batch(batch):\n",
        "    label_list, text_list, offsets = [], [], [0]\n",
        "    for (_text, _label) in batch:\n",
        "         label_list.append(label_pipeline(_label))\n",
        "         processed_text = torch.tensor(text_pipeline(_text), dtype=torch.int64)\n",
        "         text_list.append(processed_text)\n",
        "         offsets.append(processed_text.size(0))\n",
        "    label_list = torch.tensor(label_list, dtype=torch.int64)\n",
        "    offsets = torch.tensor(offsets[:-1]).cumsum(dim=0)\n",
        "    text_list = torch.cat(text_list)\n",
        "    return text_list, label_list, offsets"
      ]
    },
    {
      "cell_type": "markdown",
      "metadata": {
        "id": "U5PslDp5R7Ff"
      },
      "source": [
        "## <Font color = 'pickle'>**Check Data Loaders**\n",
        "\n",
        "Let us check if our collate function is working by creating a dataloader"
      ]
    },
    {
      "cell_type": "code",
      "execution_count": 70,
      "metadata": {
        "execution": {
          "iopub.execute_input": "2022-10-24T09:22:08.350505Z",
          "iopub.status.busy": "2022-10-24T09:22:08.350358Z",
          "iopub.status.idle": "2022-10-24T09:22:08.376028Z",
          "shell.execute_reply": "2022-10-24T09:22:08.375584Z",
          "shell.execute_reply.started": "2022-10-24T09:22:08.350491Z"
        },
        "id": "4ltYqq5e4NLD"
      },
      "outputs": [],
      "source": [
        "# Initializing the batch size\n",
        "batch_size = 256\n",
        "\n",
        "# Creating data loader for train set\n",
        "train_loader = torch.utils.data.DataLoader(dataset = train_set, \n",
        "                                            batch_size = batch_size, \n",
        "                                            shuffle = True)\n",
        "\n",
        "valid_loader = torch.utils.data.DataLoader(dataset = valid_set, \n",
        "                                            batch_size = batch_size, \n",
        "                                            shuffle = False)\n",
        "\n",
        "# Creating data loader for test set\n",
        "test_loader = torch.utils.data.DataLoader(dataset = test_set, \n",
        "                                          batch_size = batch_size, \n",
        "                                          shuffle = False)"
      ]
    },
    {
      "cell_type": "code",
      "source": [
        "# check shape\n",
        "for input_, target in train_loader:\n",
        "  print(f'shape of inputs is :{input_.shape}')\n",
        "  print(f'\\nmax input value  :{input_.max()}')\n",
        "  print(f'\\nmin input value  :{input_.min()}')\n",
        "  print(f'\\nmean input value  :{input_.mean()}')\n",
        "  print(f'\\nstd input value  :{input_.std()}')\n",
        "  print(f'\\nshape of targets is :{target.shape}')\n",
        "  print(f'\\ninputs  :{input_[0:10]}')\n",
        "  \n",
        "  break"
      ],
      "metadata": {
        "id": "ZC7Au9RRARw1",
        "colab": {
          "base_uri": "https://localhost:8080/"
        },
        "outputId": "248d3655-a887-4fa4-b674-e3817d6bb8b5"
      },
      "execution_count": 71,
      "outputs": [
        {
          "output_type": "stream",
          "name": "stdout",
          "text": [
            "shape of inputs is :torch.Size([256, 5000])\n",
            "\n",
            "max input value  :0.9633175730705261\n",
            "\n",
            "min input value  :0.0\n",
            "\n",
            "mean input value  :0.0009570792317390442\n",
            "\n",
            "std input value  :0.01410971861332655\n",
            "\n",
            "shape of targets is :torch.Size([256, 10])\n",
            "\n",
            "inputs  :tensor([[0., 0., 0.,  ..., 0., 0., 0.],\n",
            "        [0., 0., 0.,  ..., 0., 0., 0.],\n",
            "        [0., 0., 0.,  ..., 0., 0., 0.],\n",
            "        ...,\n",
            "        [0., 0., 0.,  ..., 0., 0., 0.],\n",
            "        [0., 0., 0.,  ..., 0., 0., 0.],\n",
            "        [0., 0., 0.,  ..., 0., 0., 0.]])\n"
          ]
        }
      ]
    },
    {
      "cell_type": "markdown",
      "metadata": {
        "id": "iQ60WJKlg3bQ"
      },
      "source": [
        "# <font color = 'pickle'> **Functions to implement NN Training**"
      ]
    },
    {
      "cell_type": "markdown",
      "metadata": {
        "id": "GLIXu5RaylkZ"
      },
      "source": [
        "## <Font color = 'pickle'>**Model**"
      ]
    },
    {
      "cell_type": "code",
      "execution_count": 72,
      "metadata": {
        "execution": {
          "iopub.execute_input": "2022-10-24T09:22:08.612148Z",
          "iopub.status.busy": "2022-10-24T09:22:08.611902Z",
          "iopub.status.idle": "2022-10-24T09:22:08.644739Z",
          "shell.execute_reply": "2022-10-24T09:22:08.644207Z",
          "shell.execute_reply.started": "2022-10-24T09:22:08.612127Z"
        },
        "id": "LNJY8GBipO2q",
        "tags": []
      },
      "outputs": [],
      "source": [
        "def shallow_nn(n_ins, n_hidden1, n_hidden2, n_outs, bias):\n",
        "  model =  nn.Sequential(nn.Linear(n_ins, n_hidden1),\n",
        "                    nn.ReLU(),\n",
        "                    nn.Linear(n_hidden1, n_hidden2),\n",
        "                    nn.ReLU(),\n",
        "                    nn.Linear(n_hidden2, n_outs),\n",
        "                    nn.Sigmoid())\n",
        "  return model"
      ]
    },
    {
      "cell_type": "code",
      "source": [
        "loss_function = nn.BCELoss()"
      ],
      "metadata": {
        "id": "Gy7Lxz5fNKmy"
      },
      "execution_count": 73,
      "outputs": []
    },
    {
      "cell_type": "markdown",
      "metadata": {
        "id": "aqI_o6qwy6lb"
      },
      "source": [
        "## <Font color = 'pickle'>**Function for Training  Loops**\n",
        "\n",
        "**Model Training** involves five steps: \n",
        "\n",
        "- Step 0: Randomly initialize parameters / weights\n",
        "- Step 1: Compute model's predictions - forward pass\n",
        "- Step 2: Compute loss\n",
        "- Step 3: Compute the gradients\n",
        "- Step 4: Update the parameters\n",
        "- Step 5: Repeat steps 1 - 4\n",
        "\n",
        "Model training is repeating this process over and over, for many **epochs**.\n",
        "\n",
        "We will specify number of ***epochs*** and during each epoch we will iterate over the complete dataset and will keep on updating the parameters.\n",
        "\n",
        "***Learning rate*** and ***epochs*** are known as hyperparameters. We have to adjust the values of these two based on validation dataset.\n",
        "\n",
        "We will now create functions for step 1 to 4."
      ]
    },
    {
      "cell_type": "code",
      "source": [
        "def train(train_loader, learning_rate, loss_function, model, optimizer):\n",
        "\n",
        "  \"\"\" \n",
        "  Function for training the model in each epoch\n",
        "  Input: iterator for train dataset, weights and bias, number of outputs, learning rate,\n",
        "  loss function, model.\n",
        "  Output: weights, bias, train loss, train accuracy at end of each epoch\n",
        "  \"\"\"\n",
        "\n",
        "  # Step 0: Randomly initialize parameters / weights - We give this as input to function for first epoch\n",
        "  # In subsequent epochs the function gets the updated weights from last epoch\n",
        "\n",
        "  # Training Loop \n",
        "  # Initialize train_loss at the he start of the epoch\n",
        "  running_train_loss = 0\n",
        "  running_train_correct = 0\n",
        "  \n",
        "  # Iterate on batches from the dataset using train_loader\n",
        "  for input_, targets in train_loader:\n",
        "    \n",
        "    # move inputs and outputs to GPUs\n",
        "    input_ = input_.to(device)\n",
        "    targets = targets.to(device)\n",
        "\n",
        "\n",
        "    # Step 1: Forward Pass: Compute model's predictions \n",
        "    output = model(input_)\n",
        "    \n",
        "    # Step 2: Compute loss\n",
        "    loss = loss_function(output, targets)\n",
        "\n",
        "    # Step 3: Backward pass -Compute the gradients\n",
        "    optimizer.zero_grad()\n",
        "    loss.backward()\n",
        "\n",
        "    # Step 4: Update the parameters\n",
        "    optimizer.step()\n",
        "          \n",
        "    # Add train loss of a batch \n",
        "    running_train_loss += loss.item()\n",
        " \n",
        "  # Calculate mean train loss for the whole dataset for a particular epoch\n",
        "  train_loss = running_train_loss/len(train_loader)\n",
        "\n",
        "  return train_loss"
      ],
      "metadata": {
        "id": "ohN5rQlvNN0F"
      },
      "execution_count": 74,
      "outputs": []
    },
    {
      "cell_type": "markdown",
      "metadata": {
        "id": "KeLm-GI5bW2V"
      },
      "source": [
        "## <Font color = 'pickle'>**Function for Validation Loops**\n"
      ]
    },
    {
      "cell_type": "code",
      "execution_count": 79,
      "metadata": {
        "execution": {
          "iopub.execute_input": "2022-10-24T09:22:08.675883Z",
          "iopub.status.busy": "2022-10-24T09:22:08.675433Z",
          "iopub.status.idle": "2022-10-24T09:22:08.703605Z",
          "shell.execute_reply": "2022-10-24T09:22:08.703113Z",
          "shell.execute_reply.started": "2022-10-24T09:22:08.675864Z"
        },
        "id": "pHP1WKDessiI",
        "tags": []
      },
      "outputs": [],
      "source": [
        "def validate(valid_loader, loss_function, model):\n",
        "\n",
        "  # initilalize variables as global\n",
        "  # these counts will be updated every epoch\n",
        "  global batch_ct_valid\n",
        "\n",
        "  # Validation/Test loop\n",
        "  # Initialize valid_loss at the he strat of the epoch\n",
        "  running_val_loss = 0\n",
        "  running_val_correct = 0\n",
        "\n",
        "  # put the model in evaluation mode\n",
        "  model.eval()\n",
        "\n",
        "  with torch.no_grad():\n",
        "    for input_, targets in valid_loader:\n",
        "\n",
        "      # move inputs and outputs to GPUs\n",
        "      input_ = input_.to(device)\n",
        "      targets = targets.to(device)\n",
        "      # offsets = offsets.to(device)\n",
        "\n",
        "      # Step 1: Forward Pass: Compute model's predictions \n",
        "      output = model(input_)\n",
        "\n",
        "      # Step 2: Compute loss\n",
        "      loss = loss_function(output, targets)\n",
        "\n",
        "      # Add val loss of a batch \n",
        "      running_val_loss += loss.item()\n",
        "\n",
        "    # Calculate mean val loss for the whole dataset for a particular epoch\n",
        "    val_loss = running_val_loss/len(valid_loader)\n",
        "    \n",
        "  return val_loss"
      ]
    },
    {
      "cell_type": "markdown",
      "metadata": {
        "id": "UwF70eqE6n_v"
      },
      "source": [
        "## <Font color = 'pickle'>**Function for Model Training**\n",
        "    \n",
        "We will now create a function for step 5 of model training\n"
      ]
    },
    {
      "cell_type": "code",
      "execution_count": 81,
      "metadata": {
        "execution": {
          "iopub.execute_input": "2022-10-24T09:22:08.704977Z",
          "iopub.status.busy": "2022-10-24T09:22:08.704490Z",
          "iopub.status.idle": "2022-10-24T09:22:08.736110Z",
          "shell.execute_reply": "2022-10-24T09:22:08.735492Z",
          "shell.execute_reply.started": "2022-10-24T09:22:08.704957Z"
        },
        "id": "KeCKVgg-5FiZ",
        "tags": []
      },
      "outputs": [],
      "source": [
        "def train_loop(train_loader, valid_loader, model, optimizer, loss_function, epochs, device):\n",
        "    \n",
        "  \"\"\" \n",
        "  Function for training the model and plotting the graph for train & validation loss vs epoch.\n",
        "  Input: iterator for train dataset, initial weights and bias, epochs, learning rate, batch size.\n",
        "  Output: final weights, bias and train loss and validation loss for each epoch.\n",
        "  \"\"\"\n",
        "\n",
        "  # Create lists to store train and val loss at each epoch\n",
        "  train_loss_history = []\n",
        "  valid_loss_history = []\n",
        "  train_acc_history = []\n",
        "  valid_acc_history = []\n",
        "\n",
        "  # Iterate for the given number of epochs\n",
        "  # Step 5: Repeat steps 1 - 4\n",
        "\n",
        "  for epoch in range(epochs):\n",
        "\n",
        "    # Get train loss and accuracy for one epoch\n",
        "    train_loss = train(train_loader, learning_rate, loss_function, model, optimizer)\n",
        "    valid_loss = validate(valid_loader, loss_function, model)\n",
        "\n",
        "    # Save history of the Losses and accuracy\n",
        "    train_loss_history.append(train_loss)\n",
        "\n",
        "    valid_loss_history.append(valid_loss)\n",
        "\n",
        "    # Log the train and valid loss to wandb\n",
        "    wandb.log({f\"Train Loss :\": train_loss})\n",
        "\n",
        "    wandb.log({f\"Valid Loss :\": valid_loss})\n",
        "\n",
        "\n",
        "    # Print the train loss and accuracy for given number of epochs, batch size and number of samples\n",
        "    print(f'Epoch : {epoch+1} / {epochs}')\n",
        "    print(f'Train Loss: {train_loss : .4f}')\n",
        "    print(f'Valid Loss: {valid_loss : .4f}')\n",
        "    print()\n",
        "\n",
        "  return train_loss_history, valid_loss_history"
      ]
    },
    {
      "cell_type": "markdown",
      "metadata": {
        "id": "FWCLH47azD6j"
      },
      "source": [
        "## <Font color = 'pickle'>**Function for Accuracy and Predictions**\n",
        "\n",
        "Now we have final values for weights and bias after training the model. We will use these values to make predictions on the test dataset."
      ]
    },
    {
      "cell_type": "code",
      "execution_count": 82,
      "metadata": {
        "execution": {
          "iopub.execute_input": "2022-10-24T09:22:08.737097Z",
          "iopub.status.busy": "2022-10-24T09:22:08.736789Z",
          "iopub.status.idle": "2022-10-24T09:22:08.766610Z",
          "shell.execute_reply": "2022-10-24T09:22:08.766133Z",
          "shell.execute_reply.started": "2022-10-24T09:22:08.737077Z"
        },
        "id": "M6KZqsnqQFVu",
        "tags": [],
        "cellView": "form"
      },
      "outputs": [],
      "source": [
        "#@title\n",
        "def get_acc_pred(data_loader, model, device):\n",
        "    \n",
        "  \"\"\" \n",
        "  Function to get predictions and accuracy for a given data using estimated model\n",
        "  Input: Data iterator, Final estimated weoights, bias\n",
        "  Output: Prections and Accuracy for given dataset\n",
        "  \"\"\"\n",
        "\n",
        "  # Array to store predicted labels\n",
        "  predictions = torch.Tensor() # empty tensor\n",
        "  predictions = predictions.to(device) # move predictions to GPU\n",
        "\n",
        "  # Array to store actual labels\n",
        "  y = torch.Tensor() # empty tensor\n",
        "  y = y.to(device)\n",
        "\n",
        "  # put the model in evaluation mode\n",
        "  model.eval()\n",
        "  n_correct = []\n",
        "  #total = []\n",
        "  n_samples=0\n",
        "  n_class_correct=[]\n",
        "  n_class_samples=[]\n",
        "  correct=0\n",
        "  total=0\n",
        "  # Iterate over batches from data iterator\n",
        "  with torch.no_grad():\n",
        "    for input_, targets in data_loader:\n",
        "      \n",
        "      # move inputs and outputs to GPUs      \n",
        "      input_ = input_.to(device)\n",
        "      targets = targets.to(device)\n",
        "      #offsets = offsets.to(device)\n",
        "      \n",
        "      # Calculated the predicted labels\n",
        "      output = model(input_)\n",
        "\n",
        "      '''for i,out in enumerate(output):\n",
        "        _, predicted = torch.max(output[out],1)\n",
        "        n_correct[i] += (predicted == targets[i]).sum().item()\n",
        "\n",
        "        if i == 0:\n",
        "          n_samples += targets[i].size(0)\n",
        "\n",
        "        for k in range(16):\n",
        "          label = targets[i][k]\n",
        "          pred = predicted[k]\n",
        "          if (label == pred):\n",
        "              n_class_correct[i][label] += 1\n",
        "          n_class_samples[i][label] += 1\n",
        "'''\n",
        "\n",
        "      # Choose the label with maximum probability\n",
        "      for i,out in enumerate(output):\n",
        "        _, predictions = torch.max(out)\n",
        "        #print(output.data)\n",
        "        # Total number of labels\n",
        "        print('targets:',targets)\n",
        "        print('target size:',targets.size(0))\n",
        "        total += targets.size(0)\n",
        "        print('predictions:',predictions)\n",
        "        # Total correct predictions\n",
        "        correct += (predictions == targets).sum()\n",
        "\n",
        "      accuracy = 100 * correct / total\n",
        "\n",
        "      # Print Loss\n",
        "      print('Iteration: {}. Loss: {}. Accuracy: {}'.format(iter, accuracy))\n",
        "\n",
        "      # Add the predicted labels to the array\n",
        "      #predictions = torch.cat((predictions, prediction)) \n",
        "\n",
        "      # Add the actual labels to the array\n",
        "      #y = torch.cat((y, targets)) \n",
        "\n",
        "  # Check for complete dataset if actual and predicted labels are same or not\n",
        "  # Calculate accuracy\n",
        "  #acc = (predictions == y).float().mean()\n",
        "\n",
        "  # Return tuple containing predictions and accuracy\n",
        "  return 1"
      ]
    },
    {
      "cell_type": "code",
      "source": [
        "def get_acc_pred(data_loader, model, device):\n",
        "    \n",
        "  \"\"\" \n",
        "  Function to get predictions and accuracy for a given data using estimated model\n",
        "  Input: Data iterator, Final estimated weoights, bias\n",
        "  Output: Prections and Accuracy for given dataset\n",
        "  \"\"\"\n",
        "\n",
        "  # Array to store predicted labels\n",
        "  predictions = torch.Tensor() # empty tensor\n",
        "  predictions = predictions.to(device) # move predictions to GPU\n",
        "\n",
        "  # Array to store actual labels\n",
        "  y = torch.Tensor() # empty tensor\n",
        "  y = y.to(device)\n",
        "\n",
        "  # put the model in evaluation mode\n",
        "  model.eval()\n",
        "  \n",
        "  # Iterate over batches from data iterator\n",
        "  with torch.no_grad():\n",
        "    for input_, targets in data_loader:\n",
        "      \n",
        "      # move inputs and outputs to GPUs\n",
        "      \n",
        "      input_ = input_.to(device)\n",
        "      targets = targets.to(device)\n",
        "      \n",
        "      # Calculated the predicted labels\n",
        "      output = model(input_)\n",
        "\n",
        "      # Choose all the labels with probability greater than 0.5\n",
        "      prediction = torch.where(output<0.5,0,1)\n",
        "\n",
        "      # Add the predicted labels to the array\n",
        "      predictions = torch.cat((predictions, prediction)) \n",
        "\n",
        "      # Add the actual labels to the array\n",
        "      y = torch.cat((y, targets)) \n",
        "\n",
        "  # Check for complete dataset if actual and predicted labels are same or not\n",
        "  # Calculate accuracy\n",
        "  acc = (predictions == y).float().mean()\n",
        "\n",
        "  # Return tuple containing predictions and accuracy\n",
        "  return predictions, acc  \n",
        "  # return output"
      ],
      "metadata": {
        "id": "ecIpDjaXls7I"
      },
      "execution_count": 108,
      "outputs": []
    },
    {
      "cell_type": "markdown",
      "metadata": {
        "id": "5nF5iTy_VqdV"
      },
      "source": [
        "# <Font color = 'pickle'>**Meta Data**"
      ]
    },
    {
      "cell_type": "code",
      "execution_count": 113,
      "metadata": {
        "execution": {
          "iopub.execute_input": "2022-10-24T09:22:08.767546Z",
          "iopub.status.busy": "2022-10-24T09:22:08.767317Z",
          "iopub.status.idle": "2022-10-24T09:22:08.794203Z",
          "shell.execute_reply": "2022-10-24T09:22:08.793600Z",
          "shell.execute_reply.started": "2022-10-24T09:22:08.767526Z"
        },
        "id": "TAuG3mxBWHaz",
        "colab": {
          "base_uri": "https://localhost:8080/",
          "height": 291
        },
        "outputId": "f30fea08-4946-4216-d069-c3310f459ce1"
      },
      "outputs": [
        {
          "output_type": "display_data",
          "data": {
            "text/plain": [
              "<IPython.core.display.HTML object>"
            ],
            "text/html": [
              "Finishing last run (ID:3e6h1u1z) before initializing another..."
            ]
          },
          "metadata": {}
        },
        {
          "output_type": "display_data",
          "data": {
            "text/plain": [
              "<IPython.core.display.HTML object>"
            ],
            "text/html": [
              "Waiting for W&B process to finish... <strong style=\"color:green\">(success).</strong>"
            ]
          },
          "metadata": {}
        },
        {
          "output_type": "display_data",
          "data": {
            "text/plain": [
              "<IPython.core.display.HTML object>"
            ],
            "text/html": [
              "<style>\n",
              "    table.wandb td:nth-child(1) { padding: 0 10px; text-align: left ; width: auto;} td:nth-child(2) {text-align: left ; width: 100%}\n",
              "    .wandb-row { display: flex; flex-direction: row; flex-wrap: wrap; justify-content: flex-start; width: 100% }\n",
              "    .wandb-col { display: flex; flex-direction: column; flex-basis: 100%; flex: 1; padding: 10px; }\n",
              "    </style>\n",
              "<div class=\"wandb-row\"><div class=\"wandb-col\"><h3>Run history:</h3><br/><table class=\"wandb\"><tr><td>learning_rate</td><td>▁</td></tr></table><br/></div><div class=\"wandb-col\"><h3>Run summary:</h3><br/><table class=\"wandb\"><tr><td>learning_rate</td><td>0.5</td></tr></table><br/></div></div>"
            ]
          },
          "metadata": {}
        },
        {
          "output_type": "display_data",
          "data": {
            "text/plain": [
              "<IPython.core.display.HTML object>"
            ],
            "text/html": [
              "Synced <strong style=\"color:#cdcd00\">stack_sigmoid</strong>: <a href=\"https://wandb.ai/hamshaks1/nlp_6A/runs/3e6h1u1z\" target=\"_blank\">https://wandb.ai/hamshaks1/nlp_6A/runs/3e6h1u1z</a><br/>Synced 4 W&B file(s), 0 media file(s), 0 artifact file(s) and 0 other file(s)"
            ]
          },
          "metadata": {}
        },
        {
          "output_type": "display_data",
          "data": {
            "text/plain": [
              "<IPython.core.display.HTML object>"
            ],
            "text/html": [
              "Find logs at: <code>./wandb/run-20221110_042741-3e6h1u1z/logs</code>"
            ]
          },
          "metadata": {}
        },
        {
          "output_type": "display_data",
          "data": {
            "text/plain": [
              "<IPython.core.display.HTML object>"
            ],
            "text/html": [
              "Successfully finished last run (ID:3e6h1u1z). Initializing new run:<br/>"
            ]
          },
          "metadata": {}
        },
        {
          "output_type": "display_data",
          "data": {
            "text/plain": [
              "<IPython.core.display.HTML object>"
            ],
            "text/html": [
              "Tracking run with wandb version 0.13.5"
            ]
          },
          "metadata": {}
        },
        {
          "output_type": "display_data",
          "data": {
            "text/plain": [
              "<IPython.core.display.HTML object>"
            ],
            "text/html": [
              "Run data is saved locally in <code>/content/wandb/run-20221110_044001-27ib4mgf</code>"
            ]
          },
          "metadata": {}
        },
        {
          "output_type": "display_data",
          "data": {
            "text/plain": [
              "<IPython.core.display.HTML object>"
            ],
            "text/html": [
              "Syncing run <strong><a href=\"https://wandb.ai/hamshaks1/nlp_6A/runs/27ib4mgf\" target=\"_blank\">stack_sigmoid</a></strong> to <a href=\"https://wandb.ai/hamshaks1/nlp_6A\" target=\"_blank\">Weights & Biases</a> (<a href=\"https://wandb.me/run\" target=\"_blank\">docs</a>)<br/>"
            ]
          },
          "metadata": {}
        }
      ],
      "source": [
        "# Initialize a new project\n",
        "wandb.init(name = \"stack_sigmoid\", project = 'nlp_6A')\n",
        "\n",
        "# Initialize number of epochs, learning rate and batch size\n",
        "learning_rate = 0.5\n",
        "wandb.log({'learning_rate': learning_rate})\n",
        "epochs = 50\n",
        "\n",
        "# device \n",
        "device = torch.device('cuda:0' if torch.cuda.is_available() else 'cpu')\n",
        "\n",
        "# Initialize number of inputs (features: 5000) and outputs (labels: 2)\n",
        "n_ins = train_set.tensors[0].shape[1]\n",
        "n_hidden1 = 512\n",
        "n_hidden2 = 256\n",
        "n_outs = 10\n",
        "\n",
        "# Initialize weights from normal distribution with mean 0 and standard deviation 0.01\n",
        "def init_weights(layer):\n",
        "  if type(layer) == nn.Linear:\n",
        "    torch.nn.init.normal_(layer.weight, mean = 0, std = 0.015)\n",
        "    torch.nn.init.zeros_(layer.bias)\n",
        "\n",
        "# loss_function\n",
        "loss_function = loss_function\n",
        "\n",
        "model = shallow_nn(n_ins, n_hidden1, n_hidden2, n_outs, bias=True)\n",
        "model.to(device)\n",
        "model.apply(init_weights)\n",
        "\n",
        "optimizer = torch.optim.SGD(model.parameters(), learning_rate)"
      ]
    },
    {
      "cell_type": "markdown",
      "metadata": {
        "id": "oVk_RctgdPRP"
      },
      "source": [
        "# <Font color = 'pickle'>**Data Loaders, Loss Function, Optimizer**"
      ]
    },
    {
      "cell_type": "code",
      "source": [
        "# See live graphs in the notebook.\n",
        "#%%wandb \n",
        "train_loss_history, valid_loss_history = train_loop(train_loader, \n",
        "                                                                valid_loader, \n",
        "                                                                model, \n",
        "                                                                optimizer, \n",
        "                                                                loss_function, \n",
        "                                                                epochs, \n",
        "                                                                device)"
      ],
      "metadata": {
        "id": "g_Lm1_oAYCkw",
        "colab": {
          "base_uri": "https://localhost:8080/"
        },
        "outputId": "69bcf028-b2eb-4552-9aff-026129f63326"
      },
      "execution_count": 114,
      "outputs": [
        {
          "output_type": "stream",
          "name": "stdout",
          "text": [
            "Epoch : 1 / 50\n",
            "Train Loss:  0.5031\n",
            "Valid Loss:  0.4055\n",
            "\n",
            "Epoch : 2 / 50\n",
            "Train Loss:  0.3968\n",
            "Valid Loss:  0.3938\n",
            "\n",
            "Epoch : 3 / 50\n",
            "Train Loss:  0.3924\n",
            "Valid Loss:  0.3926\n",
            "\n",
            "Epoch : 4 / 50\n",
            "Train Loss:  0.3913\n",
            "Valid Loss:  0.3918\n",
            "\n",
            "Epoch : 5 / 50\n",
            "Train Loss:  0.3907\n",
            "Valid Loss:  0.3908\n",
            "\n",
            "Epoch : 6 / 50\n",
            "Train Loss:  0.3895\n",
            "Valid Loss:  0.3890\n",
            "\n",
            "Epoch : 7 / 50\n",
            "Train Loss:  0.3867\n",
            "Valid Loss:  0.3853\n",
            "\n",
            "Epoch : 8 / 50\n",
            "Train Loss:  0.3807\n",
            "Valid Loss:  0.3757\n",
            "\n",
            "Epoch : 9 / 50\n",
            "Train Loss:  0.3633\n",
            "Valid Loss:  0.3484\n",
            "\n",
            "Epoch : 10 / 50\n",
            "Train Loss:  0.3216\n",
            "Valid Loss:  0.2970\n",
            "\n",
            "Epoch : 11 / 50\n",
            "Train Loss:  0.2802\n",
            "Valid Loss:  0.2713\n",
            "\n",
            "Epoch : 12 / 50\n",
            "Train Loss:  0.2640\n",
            "Valid Loss:  0.2636\n",
            "\n",
            "Epoch : 13 / 50\n",
            "Train Loss:  0.2565\n",
            "Valid Loss:  0.2684\n",
            "\n",
            "Epoch : 14 / 50\n",
            "Train Loss:  0.2501\n",
            "Valid Loss:  0.2537\n",
            "\n",
            "Epoch : 15 / 50\n",
            "Train Loss:  0.2438\n",
            "Valid Loss:  0.2489\n",
            "\n",
            "Epoch : 16 / 50\n",
            "Train Loss:  0.2367\n",
            "Valid Loss:  0.2448\n",
            "\n",
            "Epoch : 17 / 50\n",
            "Train Loss:  0.2281\n",
            "Valid Loss:  0.2366\n",
            "\n",
            "Epoch : 18 / 50\n",
            "Train Loss:  0.2174\n",
            "Valid Loss:  0.2183\n",
            "\n",
            "Epoch : 19 / 50\n",
            "Train Loss:  0.2064\n",
            "Valid Loss:  0.2099\n",
            "\n",
            "Epoch : 20 / 50\n",
            "Train Loss:  0.1954\n",
            "Valid Loss:  0.1972\n",
            "\n",
            "Epoch : 21 / 50\n",
            "Train Loss:  0.1865\n",
            "Valid Loss:  0.2115\n",
            "\n",
            "Epoch : 22 / 50\n",
            "Train Loss:  0.1792\n",
            "Valid Loss:  0.1845\n",
            "\n",
            "Epoch : 23 / 50\n",
            "Train Loss:  0.1726\n",
            "Valid Loss:  0.1818\n",
            "\n",
            "Epoch : 24 / 50\n",
            "Train Loss:  0.1673\n",
            "Valid Loss:  0.1866\n",
            "\n",
            "Epoch : 25 / 50\n",
            "Train Loss:  0.1620\n",
            "Valid Loss:  0.1680\n",
            "\n",
            "Epoch : 26 / 50\n",
            "Train Loss:  0.1573\n",
            "Valid Loss:  0.1721\n",
            "\n",
            "Epoch : 27 / 50\n",
            "Train Loss:  0.1533\n",
            "Valid Loss:  0.1614\n",
            "\n",
            "Epoch : 28 / 50\n",
            "Train Loss:  0.1500\n",
            "Valid Loss:  0.1582\n",
            "\n",
            "Epoch : 29 / 50\n",
            "Train Loss:  0.1463\n",
            "Valid Loss:  0.1572\n",
            "\n",
            "Epoch : 30 / 50\n",
            "Train Loss:  0.1445\n",
            "Valid Loss:  0.1531\n",
            "\n",
            "Epoch : 31 / 50\n",
            "Train Loss:  0.1419\n",
            "Valid Loss:  0.1602\n",
            "\n",
            "Epoch : 32 / 50\n",
            "Train Loss:  0.1403\n",
            "Valid Loss:  0.1493\n",
            "\n",
            "Epoch : 33 / 50\n",
            "Train Loss:  0.1382\n",
            "Valid Loss:  0.1477\n",
            "\n",
            "Epoch : 34 / 50\n",
            "Train Loss:  0.1353\n",
            "Valid Loss:  0.1474\n",
            "\n",
            "Epoch : 35 / 50\n",
            "Train Loss:  0.1342\n",
            "Valid Loss:  0.1529\n",
            "\n",
            "Epoch : 36 / 50\n",
            "Train Loss:  0.1327\n",
            "Valid Loss:  0.1590\n",
            "\n",
            "Epoch : 37 / 50\n",
            "Train Loss:  0.1314\n",
            "Valid Loss:  0.1429\n",
            "\n",
            "Epoch : 38 / 50\n",
            "Train Loss:  0.1308\n",
            "Valid Loss:  0.1446\n",
            "\n",
            "Epoch : 39 / 50\n",
            "Train Loss:  0.1296\n",
            "Valid Loss:  0.1418\n",
            "\n",
            "Epoch : 40 / 50\n",
            "Train Loss:  0.1273\n",
            "Valid Loss:  0.1532\n",
            "\n",
            "Epoch : 41 / 50\n",
            "Train Loss:  0.1252\n",
            "Valid Loss:  0.1402\n",
            "\n",
            "Epoch : 42 / 50\n",
            "Train Loss:  0.1244\n",
            "Valid Loss:  0.1451\n",
            "\n",
            "Epoch : 43 / 50\n",
            "Train Loss:  0.1235\n",
            "Valid Loss:  0.1413\n",
            "\n",
            "Epoch : 44 / 50\n",
            "Train Loss:  0.1222\n",
            "Valid Loss:  0.1436\n",
            "\n",
            "Epoch : 45 / 50\n",
            "Train Loss:  0.1216\n",
            "Valid Loss:  0.1732\n",
            "\n",
            "Epoch : 46 / 50\n",
            "Train Loss:  0.1214\n",
            "Valid Loss:  0.1377\n",
            "\n",
            "Epoch : 47 / 50\n",
            "Train Loss:  0.1182\n",
            "Valid Loss:  0.1363\n",
            "\n",
            "Epoch : 48 / 50\n",
            "Train Loss:  0.1180\n",
            "Valid Loss:  0.1416\n",
            "\n",
            "Epoch : 49 / 50\n",
            "Train Loss:  0.1166\n",
            "Valid Loss:  0.1516\n",
            "\n",
            "Epoch : 50 / 50\n",
            "Train Loss:  0.1168\n",
            "Valid Loss:  0.1523\n",
            "\n"
          ]
        }
      ]
    },
    {
      "cell_type": "markdown",
      "metadata": {
        "id": "c-Cj1f2Qb74K"
      },
      "source": [
        "# <Font color = 'pickle'>**Get Accuracy, Predictions**"
      ]
    },
    {
      "cell_type": "code",
      "execution_count": 115,
      "metadata": {
        "execution": {
          "iopub.execute_input": "2022-10-24T09:23:02.181062Z",
          "iopub.status.busy": "2022-10-24T09:23:02.180903Z",
          "iopub.status.idle": "2022-10-24T09:23:04.130737Z",
          "shell.execute_reply": "2022-10-24T09:23:04.130200Z",
          "shell.execute_reply.started": "2022-10-24T09:23:02.181049Z"
        },
        "id": "3v2z0oFcRjrF",
        "tags": []
      },
      "outputs": [],
      "source": [
        "# Get the prediction and accuracy for the test dataseta\n",
        "predictions_test, acc_test = get_acc_pred(test_loader, model, device)\n",
        "predictions_train, acc_train = get_acc_pred(train_loader, model, device)\n",
        "predictions_valid, acc_valid = get_acc_pred(valid_loader, model, device)"
      ]
    },
    {
      "cell_type": "code",
      "execution_count": 116,
      "metadata": {
        "execution": {
          "iopub.execute_input": "2022-10-24T09:23:04.131454Z",
          "iopub.status.busy": "2022-10-24T09:23:04.131289Z",
          "iopub.status.idle": "2022-10-24T09:23:04.164428Z",
          "shell.execute_reply": "2022-10-24T09:23:04.163978Z",
          "shell.execute_reply.started": "2022-10-24T09:23:04.131438Z"
        },
        "id": "vcfIlMd3FKAX",
        "tags": [],
        "colab": {
          "base_uri": "https://localhost:8080/"
        },
        "outputId": "1587d30d-9de3-40fe-b5d1-5a0fa97dd169"
      },
      "outputs": [
        {
          "output_type": "stream",
          "name": "stdout",
          "text": [
            "Test accuracy tensor(94.4339)\n",
            "Train accuracy tensor(95.3377)\n",
            "Valid accuracy tensor(94.6526)\n"
          ]
        }
      ],
      "source": [
        "# Print Test Accuracy\n",
        "print('Test accuracy', acc_test * 100)\n",
        "print('Train accuracy', acc_train * 100)\n",
        "print('Valid accuracy', acc_valid * 100)"
      ]
    },
    {
      "cell_type": "code",
      "execution_count": 117,
      "metadata": {
        "execution": {
          "iopub.execute_input": "2022-10-24T09:23:04.165156Z",
          "iopub.status.busy": "2022-10-24T09:23:04.164980Z",
          "iopub.status.idle": "2022-10-24T09:23:04.194302Z",
          "shell.execute_reply": "2022-10-24T09:23:04.193768Z",
          "shell.execute_reply.started": "2022-10-24T09:23:04.165142Z"
        },
        "id": "ZXfjniBJjX3u",
        "tags": []
      },
      "outputs": [],
      "source": [
        "wandb.log({'Best_test_Acc': acc_test})\n",
        "wandb.log({'Best_train_Acc': acc_train})\n",
        "wandb.log({'Best_valid_Acc': acc_valid})"
      ]
    },
    {
      "cell_type": "markdown",
      "metadata": {
        "id": "caRp4G3ov5fp"
      },
      "source": [
        "# <Font color = 'pickle'>**Confusion Matrix for Test Data**"
      ]
    },
    {
      "cell_type": "markdown",
      "metadata": {
        "id": "GZf0pSyQV32m"
      },
      "source": [
        "Now, we will make some visualizations for the predictions that we obtained."
      ]
    },
    {
      "cell_type": "markdown",
      "metadata": {
        "id": "5sQH0GvxXnam"
      },
      "source": [
        "We will construct a `confusion matrix` which will help us to visualize the performance of our classification model on the test dataset as we know the true values for the test data."
      ]
    },
    {
      "cell_type": "code",
      "execution_count": 118,
      "metadata": {
        "execution": {
          "iopub.execute_input": "2022-10-24T09:23:04.195041Z",
          "iopub.status.busy": "2022-10-24T09:23:04.194862Z",
          "iopub.status.idle": "2022-10-24T09:23:04.223022Z",
          "shell.execute_reply": "2022-10-24T09:23:04.222549Z",
          "shell.execute_reply.started": "2022-10-24T09:23:04.195027Z"
        },
        "id": "NaiRaPuQYYIV",
        "tags": []
      },
      "outputs": [],
      "source": [
        "confusion_matrix = multilabel_confusion_matrix(y_test, predictions_test)"
      ]
    },
    {
      "cell_type": "code",
      "execution_count": 119,
      "metadata": {
        "execution": {
          "iopub.execute_input": "2022-10-24T09:23:04.223871Z",
          "iopub.status.busy": "2022-10-24T09:23:04.223671Z",
          "iopub.status.idle": "2022-10-24T09:23:04.253617Z",
          "shell.execute_reply": "2022-10-24T09:23:04.253106Z",
          "shell.execute_reply.started": "2022-10-24T09:23:04.223857Z"
        },
        "id": "wMuZ1Yl2X47z",
        "tags": [],
        "colab": {
          "base_uri": "https://localhost:8080/"
        },
        "outputId": "27f24fbc-874f-4c9a-b160-baab63d3cb85"
      },
      "outputs": [
        {
          "output_type": "stream",
          "name": "stderr",
          "text": [
            "/usr/local/lib/python3.7/dist-packages/sklearn/metrics/_classification.py:1318: UndefinedMetricWarning: Precision and F-score are ill-defined and being set to 0.0 in labels with no predicted samples. Use `zero_division` parameter to control this behavior.\n",
            "  _warn_prf(average, modifier, msg_start, len(result))\n",
            "/usr/local/lib/python3.7/dist-packages/sklearn/metrics/_classification.py:1318: UndefinedMetricWarning: Precision and F-score are ill-defined and being set to 0.0 in samples with no predicted labels. Use `zero_division` parameter to control this behavior.\n",
            "  _warn_prf(average, modifier, msg_start, len(result))\n"
          ]
        }
      ],
      "source": [
        "report = classification_report(\n",
        "    y_test, \n",
        "    predictions_test,\n",
        "    output_dict=False,\n",
        "    target_names=['c#', 'java', 'php', 'javascript', 'android', 'jquery', 'c++', 'python', 'iphone', 'asp.net']\n",
        ")"
      ]
    },
    {
      "cell_type": "code",
      "execution_count": 120,
      "metadata": {
        "execution": {
          "iopub.execute_input": "2022-10-24T09:23:04.254472Z",
          "iopub.status.busy": "2022-10-24T09:23:04.254315Z",
          "iopub.status.idle": "2022-10-24T09:23:04.427017Z",
          "shell.execute_reply": "2022-10-24T09:23:04.426567Z",
          "shell.execute_reply.started": "2022-10-24T09:23:04.254457Z"
        },
        "id": "lAtBZumJcuwX",
        "tags": [],
        "colab": {
          "base_uri": "https://localhost:8080/"
        },
        "outputId": "5cdd002e-2e72-4d8d-b764-8373be170e04"
      },
      "outputs": [
        {
          "output_type": "execute_result",
          "data": {
            "text/plain": [
              "['              precision    recall  f1-score   support',\n",
              " '',\n",
              " '          c#       0.90      0.68      0.78      2123',\n",
              " '        java       0.94      0.78      0.86      1686',\n",
              " '         php       0.84      0.65      0.73      1152',\n",
              " '  javascript       0.83      0.96      0.89      5417',\n",
              " '     android       0.97      0.85      0.91      1528',\n",
              " '      jquery       0.84      0.98      0.90      4934',\n",
              " '         c++       0.00      0.00      0.00       169',\n",
              " '      python       0.00      0.00      0.00       130',\n",
              " '      iphone       0.00      0.00      0.00        72',\n",
              " '     asp.net       0.93      0.85      0.89      2502',\n",
              " '',\n",
              " '   micro avg       0.87      0.86      0.87     19713',\n",
              " '   macro avg       0.63      0.57      0.60     19713',\n",
              " 'weighted avg       0.86      0.86      0.85     19713',\n",
              " ' samples avg       0.86      0.87      0.86     19713',\n",
              " '']"
            ]
          },
          "metadata": {},
          "execution_count": 120
        }
      ],
      "source": [
        "report.split('\\n')"
      ]
    },
    {
      "cell_type": "code",
      "source": [
        "from sklearn import metrics\n",
        "round(metrics.f1_score(y_test, predictions_test, average='weighted', labels=np.unique(predictions_test)),3)"
      ],
      "metadata": {
        "colab": {
          "base_uri": "https://localhost:8080/"
        },
        "id": "pX3_ORwix3uD",
        "outputId": "b70811b4-99b4-4bbb-dd05-7877534fad53"
      },
      "execution_count": 121,
      "outputs": [
        {
          "output_type": "execute_result",
          "data": {
            "text/plain": [
              "0.812"
            ]
          },
          "metadata": {},
          "execution_count": 121
        }
      ]
    },
    {
      "cell_type": "markdown",
      "source": [
        "### Metrics:\n",
        "\n",
        "The metrics that I have used here is weighted F1score. The weighted-averaged F1 score is calculated by taking the mean of all per-class F1 scores while considering each class’s support.\n",
        "\n",
        "This gives an overall intuition rather than just the per-class score as it might vary based on the imbalanced dataset groups as well"
      ],
      "metadata": {
        "id": "iJ57o7pb3tHH"
      }
    },
    {
      "cell_type": "code",
      "execution_count": 122,
      "metadata": {
        "execution": {
          "iopub.execute_input": "2022-10-24T09:23:04.427751Z",
          "iopub.status.busy": "2022-10-24T09:23:04.427524Z",
          "iopub.status.idle": "2022-10-24T09:23:09.403139Z",
          "shell.execute_reply": "2022-10-24T09:23:09.402650Z",
          "shell.execute_reply.started": "2022-10-24T09:23:04.427738Z"
        },
        "id": "jIlsxRdPHZYa",
        "tags": [],
        "colab": {
          "base_uri": "https://localhost:8080/",
          "height": 373,
          "referenced_widgets": [
            "c68d35fd62cb4219b04401372dc71512",
            "bf21b6737e304b0381df4964410e3df7",
            "01468ab94ca3428b8fe374acd0ad5d96",
            "2051f721f7a6481482be5bee261b6c5c",
            "e89ae1e7de6348c188c501b207542f0b",
            "82ae0c1e3abc4813bf8e936026622cc6",
            "fdaeeb264af0416e8155b80604a97257",
            "8a7552a967794f0da84c2d481dfe7137"
          ]
        },
        "outputId": "48680b78-6572-4160-b465-bf3ac49b7e13"
      },
      "outputs": [
        {
          "output_type": "display_data",
          "data": {
            "text/plain": [
              "<IPython.core.display.HTML object>"
            ],
            "text/html": [
              "Waiting for W&B process to finish... <strong style=\"color:green\">(success).</strong>"
            ]
          },
          "metadata": {}
        },
        {
          "output_type": "display_data",
          "data": {
            "text/plain": [
              "VBox(children=(Label(value='0.001 MB of 0.001 MB uploaded (0.000 MB deduped)\\r'), FloatProgress(value=1.0, max…"
            ],
            "application/vnd.jupyter.widget-view+json": {
              "version_major": 2,
              "version_minor": 0,
              "model_id": "c68d35fd62cb4219b04401372dc71512"
            }
          },
          "metadata": {}
        },
        {
          "output_type": "display_data",
          "data": {
            "text/plain": [
              "<IPython.core.display.HTML object>"
            ],
            "text/html": [
              "<style>\n",
              "    table.wandb td:nth-child(1) { padding: 0 10px; text-align: left ; width: auto;} td:nth-child(2) {text-align: left ; width: 100%}\n",
              "    .wandb-row { display: flex; flex-direction: row; flex-wrap: wrap; justify-content: flex-start; width: 100% }\n",
              "    .wandb-col { display: flex; flex-direction: column; flex-basis: 100%; flex: 1; padding: 10px; }\n",
              "    </style>\n",
              "<div class=\"wandb-row\"><div class=\"wandb-col\"><h3>Run history:</h3><br/><table class=\"wandb\"><tr><td>Best_test_Acc</td><td>▁</td></tr><tr><td>Best_train_Acc</td><td>▁</td></tr><tr><td>Best_valid_Acc</td><td>▁</td></tr><tr><td>Train Loss :</td><td>█▆▆▆▆▆▆▅▄▄▄▃▃▃▃▃▂▂▂▂▂▂▂▂▁▁▁▁▁▁▁▁▁▁▁▁▁▁▁▁</td></tr><tr><td>Valid Loss :</td><td>█████▇▇▇▅▄▄▄▄▄▃▃▃▂▂▂▂▂▂▂▂▁▁▁▂▁▁▁▁▁▁▁▁▁▁▁</td></tr><tr><td>learning_rate</td><td>▁</td></tr></table><br/></div><div class=\"wandb-col\"><h3>Run summary:</h3><br/><table class=\"wandb\"><tr><td>Best_test_Acc</td><td>0.94434</td></tr><tr><td>Best_train_Acc</td><td>0.95338</td></tr><tr><td>Best_valid_Acc</td><td>0.94653</td></tr><tr><td>Train Loss :</td><td>0.11679</td></tr><tr><td>Valid Loss :</td><td>0.15235</td></tr><tr><td>learning_rate</td><td>0.5</td></tr></table><br/></div></div>"
            ]
          },
          "metadata": {}
        },
        {
          "output_type": "display_data",
          "data": {
            "text/plain": [
              "<IPython.core.display.HTML object>"
            ],
            "text/html": [
              "Synced <strong style=\"color:#cdcd00\">stack_sigmoid</strong>: <a href=\"https://wandb.ai/hamshaks1/nlp_6A/runs/27ib4mgf\" target=\"_blank\">https://wandb.ai/hamshaks1/nlp_6A/runs/27ib4mgf</a><br/>Synced 5 W&B file(s), 0 media file(s), 0 artifact file(s) and 0 other file(s)"
            ]
          },
          "metadata": {}
        },
        {
          "output_type": "display_data",
          "data": {
            "text/plain": [
              "<IPython.core.display.HTML object>"
            ],
            "text/html": [
              "Find logs at: <code>./wandb/run-20221110_044001-27ib4mgf/logs</code>"
            ]
          },
          "metadata": {}
        }
      ],
      "source": [
        "wandb.finish()"
      ]
    },
    {
      "cell_type": "code",
      "source": [],
      "metadata": {
        "id": "6WYO4bKl4K9g"
      },
      "execution_count": null,
      "outputs": []
    }
  ]
}