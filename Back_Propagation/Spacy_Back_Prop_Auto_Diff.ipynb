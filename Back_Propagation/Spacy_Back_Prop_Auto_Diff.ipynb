{
  "cells": [
    {
      "cell_type": "markdown",
      "source": [
        "# <font color = 'pickle'>**HW4 - 20 Points** </font>\n",
        "\n",
        "1. For Task (1, 3 and 4) you will submit two files: a) A colab notebook b) A well formatted PDF file (convert notebook tp pdf).\n",
        "2. The notebook and pdf files should contain all the output.\n",
        "3. For Task 2 - submit a pdf OR ppt file.\n",
        "4. Name the files as follows : FirstName_hw4.ipynb, FirstName_hw4.pdf\n",
        "5. If the submission requires multiple files name them as follows: FirstName_file1_hw4, FirstName_file2_hw4."
      ],
      "metadata": {
        "id": "Q4vVUgxxDJD0"
      },
      "id": "Q4vVUgxxDJD0"
    },
    {
      "cell_type": "markdown",
      "id": "12773301-f940-4545-ac8e-8545ed6c964b",
      "metadata": {
        "id": "12773301-f940-4545-ac8e-8545ed6c964b"
      },
      "source": [
        "# <font color = 'pickle'> **Install/Import Modules**"
      ]
    },
    {
      "cell_type": "code",
      "execution_count": 1,
      "id": "15e47125-bc59-43e4-9265-efecb2a1c00f",
      "metadata": {
        "execution": {
          "iopub.execute_input": "2022-09-25T17:30:11.718257Z",
          "iopub.status.busy": "2022-09-25T17:30:11.718037Z",
          "iopub.status.idle": "2022-09-25T17:30:11.723423Z",
          "shell.execute_reply": "2022-09-25T17:30:11.722953Z",
          "shell.execute_reply.started": "2022-09-25T17:30:11.718219Z"
        },
        "id": "15e47125-bc59-43e4-9265-efecb2a1c00f",
        "tags": [],
        "colab": {
          "base_uri": "https://localhost:8080/"
        },
        "outputId": "f0c94020-77f2-458e-f743-d17addf29efb"
      },
      "outputs": [
        {
          "output_type": "stream",
          "name": "stdout",
          "text": [
            "Running on Colab\n"
          ]
        }
      ],
      "source": [
        "if 'google.colab' in str(get_ipython()):\n",
        "    print('Running on Colab')\n",
        "else:\n",
        "    print('Not Running on Colab')"
      ]
    },
    {
      "cell_type": "code",
      "execution_count": 2,
      "id": "96a03b3c-53a5-4478-b864-e8a735f1f614",
      "metadata": {
        "execution": {
          "iopub.execute_input": "2022-09-25T17:30:13.094523Z",
          "iopub.status.busy": "2022-09-25T17:30:13.094325Z",
          "iopub.status.idle": "2022-09-25T17:30:13.097566Z",
          "shell.execute_reply": "2022-09-25T17:30:13.096998Z",
          "shell.execute_reply.started": "2022-09-25T17:30:13.094509Z"
        },
        "id": "96a03b3c-53a5-4478-b864-e8a735f1f614",
        "tags": []
      },
      "outputs": [],
      "source": [
        "if 'google.colab' in str(get_ipython()):\n",
        "    !pip install  -U spacy  -q"
      ]
    },
    {
      "cell_type": "code",
      "execution_count": 3,
      "id": "7a9a863b-d87c-4df6-bdf3-b30aa695f846",
      "metadata": {
        "execution": {
          "iopub.execute_input": "2022-09-25T17:30:19.802075Z",
          "iopub.status.busy": "2022-09-25T17:30:19.801789Z",
          "iopub.status.idle": "2022-09-25T17:30:19.804799Z",
          "shell.execute_reply": "2022-09-25T17:30:19.804440Z",
          "shell.execute_reply.started": "2022-09-25T17:30:19.802059Z"
        },
        "id": "7a9a863b-d87c-4df6-bdf3-b30aa695f846",
        "tags": []
      },
      "outputs": [],
      "source": [
        "import spacy \n",
        "import pandas as pd\n",
        "from pathlib import Path\n",
        "import sys\n",
        "import re\n",
        "import joblib"
      ]
    },
    {
      "cell_type": "code",
      "execution_count": 4,
      "id": "drn3S9CriepX",
      "metadata": {
        "execution": {
          "iopub.execute_input": "2022-09-25T17:30:21.096045Z",
          "iopub.status.busy": "2022-09-25T17:30:21.095846Z",
          "iopub.status.idle": "2022-09-25T17:30:21.102125Z",
          "shell.execute_reply": "2022-09-25T17:30:21.101793Z",
          "shell.execute_reply.started": "2022-09-25T17:30:21.096032Z"
        },
        "id": "drn3S9CriepX",
        "tags": [],
        "colab": {
          "base_uri": "https://localhost:8080/",
          "height": 36
        },
        "outputId": "c9f088ab-0dc2-4c34-84c2-b628837e59ed"
      },
      "outputs": [
        {
          "output_type": "execute_result",
          "data": {
            "text/plain": [
              "'3.4.1'"
            ],
            "application/vnd.google.colaboratory.intrinsic+json": {
              "type": "string"
            }
          },
          "metadata": {},
          "execution_count": 4
        }
      ],
      "source": [
        "spacy.__version__"
      ]
    },
    {
      "cell_type": "code",
      "source": [
        "%load_ext autoreload\n",
        "%autoreload 2"
      ],
      "metadata": {
        "id": "fik0Nd3zo8oZ"
      },
      "id": "fik0Nd3zo8oZ",
      "execution_count": 5,
      "outputs": []
    },
    {
      "cell_type": "markdown",
      "id": "a43e7e8e-42fb-48bb-92ee-7664bba37482",
      "metadata": {
        "id": "a43e7e8e-42fb-48bb-92ee-7664bba37482"
      },
      "source": [
        "# <font color = 'pickle'> **Specify Project Folder Location**"
      ]
    },
    {
      "cell_type": "code",
      "execution_count": 6,
      "id": "59e12d1e-f461-4178-8ece-9b95cf673570",
      "metadata": {
        "colab": {
          "base_uri": "https://localhost:8080/"
        },
        "execution": {
          "iopub.execute_input": "2022-09-24T20:02:12.918185Z",
          "iopub.status.busy": "2022-09-24T20:02:12.917782Z",
          "iopub.status.idle": "2022-09-24T20:02:12.921469Z",
          "shell.execute_reply": "2022-09-24T20:02:12.920872Z",
          "shell.execute_reply.started": "2022-09-24T20:02:12.918148Z"
        },
        "id": "59e12d1e-f461-4178-8ece-9b95cf673570",
        "outputId": "a23833df-c731-4e04-fff6-39de12551a2b",
        "tags": []
      },
      "outputs": [
        {
          "output_type": "stream",
          "name": "stdout",
          "text": [
            "Mounted at /content/drive\n"
          ]
        }
      ],
      "source": [
        "if 'google.colab' in str(get_ipython()):\n",
        "    from google.colab import drive\n",
        "    drive.mount('/content/drive')     "
      ]
    },
    {
      "cell_type": "code",
      "execution_count": 7,
      "id": "d371ec9d-8440-41fa-b535-ba2b028f477f",
      "metadata": {
        "execution": {
          "iopub.execute_input": "2022-09-24T20:02:12.922684Z",
          "iopub.status.busy": "2022-09-24T20:02:12.922320Z",
          "iopub.status.idle": "2022-09-24T20:02:12.926124Z",
          "shell.execute_reply": "2022-09-24T20:02:12.925656Z",
          "shell.execute_reply.started": "2022-09-24T20:02:12.922664Z"
        },
        "id": "d371ec9d-8440-41fa-b535-ba2b028f477f",
        "tags": []
      },
      "outputs": [],
      "source": [
        "if 'google.colab' in str(get_ipython()):\n",
        "    base_folder = Path('/content/drive/MyDrive/NLP_Fall22/HW4/')\n",
        "else:\n",
        "    base_folder = Path('/home/harpreet/Insync/google_drive_shaannoor/data/')"
      ]
    },
    {
      "cell_type": "code",
      "execution_count": 8,
      "id": "46473c1e-a70c-4f30-b0b4-baafcfc9dccf",
      "metadata": {
        "execution": {
          "iopub.execute_input": "2022-09-24T20:52:39.665944Z",
          "iopub.status.busy": "2022-09-24T20:52:39.665715Z",
          "iopub.status.idle": "2022-09-24T20:52:39.688510Z",
          "shell.execute_reply": "2022-09-24T20:52:39.687856Z",
          "shell.execute_reply.started": "2022-09-24T20:52:39.665930Z"
        },
        "id": "46473c1e-a70c-4f30-b0b4-baafcfc9dccf",
        "tags": []
      },
      "outputs": [],
      "source": [
        "data_folder = base_folder/'Data/'\n",
        "#archive_folder = base_folder/'archive'\n",
        "custom_function_folder = base_folder/'Scripts/custom_functions'"
      ]
    },
    {
      "cell_type": "code",
      "execution_count": 9,
      "id": "b8604b77-87e5-443b-a124-ef0675c20e9c",
      "metadata": {
        "execution": {
          "iopub.execute_input": "2022-09-24T20:02:12.930925Z",
          "iopub.status.busy": "2022-09-24T20:02:12.930555Z",
          "iopub.status.idle": "2022-09-24T20:02:12.935802Z",
          "shell.execute_reply": "2022-09-24T20:02:12.935459Z",
          "shell.execute_reply.started": "2022-09-24T20:02:12.930904Z"
        },
        "id": "b8604b77-87e5-443b-a124-ef0675c20e9c",
        "tags": []
      },
      "outputs": [],
      "source": [
        "sys.path.append(str(custom_function_folder))"
      ]
    },
    {
      "cell_type": "code",
      "execution_count": 10,
      "id": "b7e70234-a8a2-42eb-839f-0688b0509cf7",
      "metadata": {
        "execution": {
          "iopub.execute_input": "2022-09-24T20:02:12.936451Z",
          "iopub.status.busy": "2022-09-24T20:02:12.936311Z",
          "iopub.status.idle": "2022-09-24T20:02:12.939900Z",
          "shell.execute_reply": "2022-09-24T20:02:12.939328Z",
          "shell.execute_reply.started": "2022-09-24T20:02:12.936438Z"
        },
        "id": "b7e70234-a8a2-42eb-839f-0688b0509cf7",
        "tags": [],
        "colab": {
          "base_uri": "https://localhost:8080/"
        },
        "outputId": "97e167f9-acce-4664-87fa-e3d41900e787"
      },
      "outputs": [
        {
          "output_type": "execute_result",
          "data": {
            "text/plain": [
              "['/content',\n",
              " '/env/python',\n",
              " '/usr/lib/python37.zip',\n",
              " '/usr/lib/python3.7',\n",
              " '/usr/lib/python3.7/lib-dynload',\n",
              " '',\n",
              " '/usr/local/lib/python3.7/dist-packages',\n",
              " '/usr/lib/python3/dist-packages',\n",
              " '/usr/local/lib/python3.7/dist-packages/IPython/extensions',\n",
              " '/root/.ipython',\n",
              " '/content/drive/MyDrive/NLP_Fall22/HW4/Scripts/custom_functions']"
            ]
          },
          "metadata": {},
          "execution_count": 10
        }
      ],
      "source": [
        "sys.path"
      ]
    },
    {
      "cell_type": "code",
      "execution_count": 11,
      "id": "479018b0-b739-4a16-851d-d43178a2b2f8",
      "metadata": {
        "execution": {
          "iopub.execute_input": "2022-09-24T20:02:13.455887Z",
          "iopub.status.busy": "2022-09-24T20:02:13.455757Z",
          "iopub.status.idle": "2022-09-24T20:02:13.480330Z",
          "shell.execute_reply": "2022-09-24T20:02:13.479982Z",
          "shell.execute_reply.started": "2022-09-24T20:02:13.455875Z"
        },
        "id": "479018b0-b739-4a16-851d-d43178a2b2f8",
        "tags": [],
        "colab": {
          "base_uri": "https://localhost:8080/"
        },
        "outputId": "5f2982e2-cb2a-4736-f9fd-89cac7f2cab0"
      },
      "outputs": [
        {
          "output_type": "stream",
          "name": "stdout",
          "text": [
            "Looking in indexes: https://pypi.org/simple, https://us-python.pkg.dev/colab-wheels/public/simple/\n",
            "Collecting en-core-web-sm==3.4.0\n",
            "  Downloading https://github.com/explosion/spacy-models/releases/download/en_core_web_sm-3.4.0/en_core_web_sm-3.4.0-py3-none-any.whl (12.8 MB)\n",
            "\u001b[K     |████████████████████████████████| 12.8 MB 8.3 MB/s \n",
            "\u001b[?25hRequirement already satisfied: spacy<3.5.0,>=3.4.0 in /usr/local/lib/python3.7/dist-packages (from en-core-web-sm==3.4.0) (3.4.1)\n",
            "Requirement already satisfied: langcodes<4.0.0,>=3.2.0 in /usr/local/lib/python3.7/dist-packages (from spacy<3.5.0,>=3.4.0->en-core-web-sm==3.4.0) (3.3.0)\n",
            "Requirement already satisfied: typing-extensions<4.2.0,>=3.7.4 in /usr/local/lib/python3.7/dist-packages (from spacy<3.5.0,>=3.4.0->en-core-web-sm==3.4.0) (4.1.1)\n",
            "Requirement already satisfied: preshed<3.1.0,>=3.0.2 in /usr/local/lib/python3.7/dist-packages (from spacy<3.5.0,>=3.4.0->en-core-web-sm==3.4.0) (3.0.7)\n",
            "Requirement already satisfied: pydantic!=1.8,!=1.8.1,<1.10.0,>=1.7.4 in /usr/local/lib/python3.7/dist-packages (from spacy<3.5.0,>=3.4.0->en-core-web-sm==3.4.0) (1.9.2)\n",
            "Requirement already satisfied: packaging>=20.0 in /usr/local/lib/python3.7/dist-packages (from spacy<3.5.0,>=3.4.0->en-core-web-sm==3.4.0) (21.3)\n",
            "Requirement already satisfied: typer<0.5.0,>=0.3.0 in /usr/local/lib/python3.7/dist-packages (from spacy<3.5.0,>=3.4.0->en-core-web-sm==3.4.0) (0.4.2)\n",
            "Requirement already satisfied: thinc<8.2.0,>=8.1.0 in /usr/local/lib/python3.7/dist-packages (from spacy<3.5.0,>=3.4.0->en-core-web-sm==3.4.0) (8.1.2)\n",
            "Requirement already satisfied: srsly<3.0.0,>=2.4.3 in /usr/local/lib/python3.7/dist-packages (from spacy<3.5.0,>=3.4.0->en-core-web-sm==3.4.0) (2.4.4)\n",
            "Requirement already satisfied: jinja2 in /usr/local/lib/python3.7/dist-packages (from spacy<3.5.0,>=3.4.0->en-core-web-sm==3.4.0) (2.11.3)\n",
            "Requirement already satisfied: murmurhash<1.1.0,>=0.28.0 in /usr/local/lib/python3.7/dist-packages (from spacy<3.5.0,>=3.4.0->en-core-web-sm==3.4.0) (1.0.8)\n",
            "Requirement already satisfied: pathy>=0.3.5 in /usr/local/lib/python3.7/dist-packages (from spacy<3.5.0,>=3.4.0->en-core-web-sm==3.4.0) (0.6.2)\n",
            "Requirement already satisfied: numpy>=1.15.0 in /usr/local/lib/python3.7/dist-packages (from spacy<3.5.0,>=3.4.0->en-core-web-sm==3.4.0) (1.21.6)\n",
            "Requirement already satisfied: tqdm<5.0.0,>=4.38.0 in /usr/local/lib/python3.7/dist-packages (from spacy<3.5.0,>=3.4.0->en-core-web-sm==3.4.0) (4.64.1)\n",
            "Requirement already satisfied: spacy-loggers<2.0.0,>=1.0.0 in /usr/local/lib/python3.7/dist-packages (from spacy<3.5.0,>=3.4.0->en-core-web-sm==3.4.0) (1.0.3)\n",
            "Requirement already satisfied: spacy-legacy<3.1.0,>=3.0.9 in /usr/local/lib/python3.7/dist-packages (from spacy<3.5.0,>=3.4.0->en-core-web-sm==3.4.0) (3.0.10)\n",
            "Requirement already satisfied: setuptools in /usr/local/lib/python3.7/dist-packages (from spacy<3.5.0,>=3.4.0->en-core-web-sm==3.4.0) (57.4.0)\n",
            "Requirement already satisfied: requests<3.0.0,>=2.13.0 in /usr/local/lib/python3.7/dist-packages (from spacy<3.5.0,>=3.4.0->en-core-web-sm==3.4.0) (2.23.0)\n",
            "Requirement already satisfied: wasabi<1.1.0,>=0.9.1 in /usr/local/lib/python3.7/dist-packages (from spacy<3.5.0,>=3.4.0->en-core-web-sm==3.4.0) (0.10.1)\n",
            "Requirement already satisfied: cymem<2.1.0,>=2.0.2 in /usr/local/lib/python3.7/dist-packages (from spacy<3.5.0,>=3.4.0->en-core-web-sm==3.4.0) (2.0.6)\n",
            "Requirement already satisfied: catalogue<2.1.0,>=2.0.6 in /usr/local/lib/python3.7/dist-packages (from spacy<3.5.0,>=3.4.0->en-core-web-sm==3.4.0) (2.0.8)\n",
            "Requirement already satisfied: zipp>=0.5 in /usr/local/lib/python3.7/dist-packages (from catalogue<2.1.0,>=2.0.6->spacy<3.5.0,>=3.4.0->en-core-web-sm==3.4.0) (3.8.1)\n",
            "Requirement already satisfied: pyparsing!=3.0.5,>=2.0.2 in /usr/local/lib/python3.7/dist-packages (from packaging>=20.0->spacy<3.5.0,>=3.4.0->en-core-web-sm==3.4.0) (3.0.9)\n",
            "Requirement already satisfied: smart-open<6.0.0,>=5.2.1 in /usr/local/lib/python3.7/dist-packages (from pathy>=0.3.5->spacy<3.5.0,>=3.4.0->en-core-web-sm==3.4.0) (5.2.1)\n",
            "Requirement already satisfied: chardet<4,>=3.0.2 in /usr/local/lib/python3.7/dist-packages (from requests<3.0.0,>=2.13.0->spacy<3.5.0,>=3.4.0->en-core-web-sm==3.4.0) (3.0.4)\n",
            "Requirement already satisfied: idna<3,>=2.5 in /usr/local/lib/python3.7/dist-packages (from requests<3.0.0,>=2.13.0->spacy<3.5.0,>=3.4.0->en-core-web-sm==3.4.0) (2.10)\n",
            "Requirement already satisfied: urllib3!=1.25.0,!=1.25.1,<1.26,>=1.21.1 in /usr/local/lib/python3.7/dist-packages (from requests<3.0.0,>=2.13.0->spacy<3.5.0,>=3.4.0->en-core-web-sm==3.4.0) (1.24.3)\n",
            "Requirement already satisfied: certifi>=2017.4.17 in /usr/local/lib/python3.7/dist-packages (from requests<3.0.0,>=2.13.0->spacy<3.5.0,>=3.4.0->en-core-web-sm==3.4.0) (2022.9.24)\n",
            "Requirement already satisfied: blis<0.8.0,>=0.7.8 in /usr/local/lib/python3.7/dist-packages (from thinc<8.2.0,>=8.1.0->spacy<3.5.0,>=3.4.0->en-core-web-sm==3.4.0) (0.7.8)\n",
            "Requirement already satisfied: confection<1.0.0,>=0.0.1 in /usr/local/lib/python3.7/dist-packages (from thinc<8.2.0,>=8.1.0->spacy<3.5.0,>=3.4.0->en-core-web-sm==3.4.0) (0.0.2)\n",
            "Requirement already satisfied: click<9.0.0,>=7.1.1 in /usr/local/lib/python3.7/dist-packages (from typer<0.5.0,>=0.3.0->spacy<3.5.0,>=3.4.0->en-core-web-sm==3.4.0) (7.1.2)\n",
            "Requirement already satisfied: MarkupSafe>=0.23 in /usr/local/lib/python3.7/dist-packages (from jinja2->spacy<3.5.0,>=3.4.0->en-core-web-sm==3.4.0) (2.0.1)\n",
            "\u001b[38;5;2m✔ Download and installation successful\u001b[0m\n",
            "You can now load the package via spacy.load('en_core_web_sm')\n"
          ]
        }
      ],
      "source": [
        "if 'google.colab' in str(get_ipython()):\n",
        "    !python -m spacy download en_core_web_sm"
      ]
    },
    {
      "cell_type": "markdown",
      "id": "a1108bd5-bc73-4d00-8784-4a62d220894c",
      "metadata": {
        "id": "a1108bd5-bc73-4d00-8784-4a62d220894c"
      },
      "source": [
        "# <font color = 'pickle'>  **Task 1 Rule Based Matching - 5 points**"
      ]
    },
    {
      "cell_type": "markdown",
      "id": "34dd0b69-5f69-4405-814c-e7aff8adcd49",
      "metadata": {
        "execution": {
          "iopub.execute_input": "2022-09-21T21:48:35.843292Z",
          "iopub.status.busy": "2022-09-21T21:48:35.843080Z",
          "iopub.status.idle": "2022-09-21T21:48:35.845899Z",
          "shell.execute_reply": "2022-09-21T21:48:35.845576Z",
          "shell.execute_reply.started": "2022-09-21T21:48:35.843278Z"
        },
        "id": "34dd0b69-5f69-4405-814c-e7aff8adcd49"
      },
      "source": [
        "## <font color = 'pickle'> **Get Data**\n",
        "\n",
        "For this HW we wil use a subset of United Nations General Debate Corpus. \n",
        "    \n",
        "Reference: Jankin Mikhaylov, Slava; Baturo, Alexander; Dasandi, Niheer, 2017, \"United Nations General Debate Corpus\", https://doi.org/10.7910/DVN/0TJX8Y, Harvard Dataverse, V6\n",
        "    \n",
        "**Data Description from [here](https://dataverse.harvard.edu/dataset.xhtml?persistentId=doi:10.7910/DVN/0TJX8Y)**\n",
        "\"*Every year since 1946, representatives of the UN member states gather at the annual sessions of the United Nations General Assembly. The centrepiece of each session is the General Debate. This is a forum at which leaders and other senior officials deliver statements that present their government’s perspective on the major issues in world politics.*\"\n",
        "    \n",
        "You can download the individual text files form here <font color = 'indianred'> UNGDC_1970-2020.tar.gz </font> from this [link](https://dataverse.harvard.edu/dataset.xhtml?persistentId=doi:10.7910/DVN/0TJX8Y).\n",
        "    \n",
        " I have combined the speeches in to a dataframe. I have also extracted year , session number and country as columns. Further, i have done basic cleaning. <font size = 4, color = indianred>**For the HW, please load the dataframe using joblib from file 'ungdc_cleaned_df.joblib'.**</font>"
      ]
    },
    {
      "cell_type": "code",
      "execution_count": null,
      "id": "0fdfb984-fa5e-4ca7-9ac0-3155850641a8",
      "metadata": {
        "execution": {
          "iopub.execute_input": "2022-09-24T20:02:13.481007Z",
          "iopub.status.busy": "2022-09-24T20:02:13.480822Z",
          "iopub.status.idle": "2022-09-24T20:02:13.788614Z",
          "shell.execute_reply": "2022-09-24T20:02:13.788199Z",
          "shell.execute_reply.started": "2022-09-24T20:02:13.480995Z"
        },
        "id": "0fdfb984-fa5e-4ca7-9ac0-3155850641a8",
        "tags": []
      },
      "outputs": [],
      "source": [
        "# change the path to where you have downloaded the file - 'ungdc_cleaned_df.joblib'\n",
        "df = joblib.load(data_folder/'ungdc_cleaned_df.joblib')"
      ]
    },
    {
      "cell_type": "code",
      "execution_count": null,
      "id": "a23adafd-4a6a-42d8-9b53-fc9677828ffd",
      "metadata": {
        "execution": {
          "iopub.execute_input": "2022-09-24T20:02:13.789329Z",
          "iopub.status.busy": "2022-09-24T20:02:13.789169Z",
          "iopub.status.idle": "2022-09-24T20:02:13.816728Z",
          "shell.execute_reply": "2022-09-24T20:02:13.816359Z",
          "shell.execute_reply.started": "2022-09-24T20:02:13.789317Z"
        },
        "id": "a23adafd-4a6a-42d8-9b53-fc9677828ffd",
        "outputId": "3d414bbf-ec4e-4966-9c8b-2f8eb108be15",
        "colab": {
          "base_uri": "https://localhost:8080/",
          "height": 206
        }
      },
      "outputs": [
        {
          "output_type": "execute_result",
          "data": {
            "text/plain": [
              "   Unnamed: 0  years countries  sessions  \\\n",
              "0           0   1970       ALB        25   \n",
              "1           1   1970       ARG        25   \n",
              "2           2   1970       AUS        25   \n",
              "3           3   1970       AUT        25   \n",
              "4           4   1970       BEL        25   \n",
              "\n",
              "                                            speeches  \\\n",
              "0  33: May I first convey to our President the co...   \n",
              "1  177.\\t : It is a fortunate coincidence that pr...   \n",
              "2  100.\\t  It is a pleasure for me to extend to y...   \n",
              "3  155.\\t  May I begin by expressing to Ambassado...   \n",
              "4  176. No doubt each of us, before coming up to ...   \n",
              "\n",
              "                                    cleaned_speeches  \n",
              "0  33: May I first convey to our President the co...  \n",
              "1   : It is a fortunate coincidence that precisel...  \n",
              "2    It is a pleasure for me to extend to you, Mr...  \n",
              "3    May I begin by expressing to Ambassador Hamb...  \n",
              "4  176. No doubt each of us, before coming up to ...  "
            ],
            "text/html": [
              "\n",
              "  <div id=\"df-c740a5d8-e60b-414d-9f12-cc823b1a9649\">\n",
              "    <div class=\"colab-df-container\">\n",
              "      <div>\n",
              "<style scoped>\n",
              "    .dataframe tbody tr th:only-of-type {\n",
              "        vertical-align: middle;\n",
              "    }\n",
              "\n",
              "    .dataframe tbody tr th {\n",
              "        vertical-align: top;\n",
              "    }\n",
              "\n",
              "    .dataframe thead th {\n",
              "        text-align: right;\n",
              "    }\n",
              "</style>\n",
              "<table border=\"1\" class=\"dataframe\">\n",
              "  <thead>\n",
              "    <tr style=\"text-align: right;\">\n",
              "      <th></th>\n",
              "      <th>Unnamed: 0</th>\n",
              "      <th>years</th>\n",
              "      <th>countries</th>\n",
              "      <th>sessions</th>\n",
              "      <th>speeches</th>\n",
              "      <th>cleaned_speeches</th>\n",
              "    </tr>\n",
              "  </thead>\n",
              "  <tbody>\n",
              "    <tr>\n",
              "      <th>0</th>\n",
              "      <td>0</td>\n",
              "      <td>1970</td>\n",
              "      <td>ALB</td>\n",
              "      <td>25</td>\n",
              "      <td>33: May I first convey to our President the co...</td>\n",
              "      <td>33: May I first convey to our President the co...</td>\n",
              "    </tr>\n",
              "    <tr>\n",
              "      <th>1</th>\n",
              "      <td>1</td>\n",
              "      <td>1970</td>\n",
              "      <td>ARG</td>\n",
              "      <td>25</td>\n",
              "      <td>177.\\t : It is a fortunate coincidence that pr...</td>\n",
              "      <td>: It is a fortunate coincidence that precisel...</td>\n",
              "    </tr>\n",
              "    <tr>\n",
              "      <th>2</th>\n",
              "      <td>2</td>\n",
              "      <td>1970</td>\n",
              "      <td>AUS</td>\n",
              "      <td>25</td>\n",
              "      <td>100.\\t  It is a pleasure for me to extend to y...</td>\n",
              "      <td>It is a pleasure for me to extend to you, Mr...</td>\n",
              "    </tr>\n",
              "    <tr>\n",
              "      <th>3</th>\n",
              "      <td>3</td>\n",
              "      <td>1970</td>\n",
              "      <td>AUT</td>\n",
              "      <td>25</td>\n",
              "      <td>155.\\t  May I begin by expressing to Ambassado...</td>\n",
              "      <td>May I begin by expressing to Ambassador Hamb...</td>\n",
              "    </tr>\n",
              "    <tr>\n",
              "      <th>4</th>\n",
              "      <td>4</td>\n",
              "      <td>1970</td>\n",
              "      <td>BEL</td>\n",
              "      <td>25</td>\n",
              "      <td>176. No doubt each of us, before coming up to ...</td>\n",
              "      <td>176. No doubt each of us, before coming up to ...</td>\n",
              "    </tr>\n",
              "  </tbody>\n",
              "</table>\n",
              "</div>\n",
              "      <button class=\"colab-df-convert\" onclick=\"convertToInteractive('df-c740a5d8-e60b-414d-9f12-cc823b1a9649')\"\n",
              "              title=\"Convert this dataframe to an interactive table.\"\n",
              "              style=\"display:none;\">\n",
              "        \n",
              "  <svg xmlns=\"http://www.w3.org/2000/svg\" height=\"24px\"viewBox=\"0 0 24 24\"\n",
              "       width=\"24px\">\n",
              "    <path d=\"M0 0h24v24H0V0z\" fill=\"none\"/>\n",
              "    <path d=\"M18.56 5.44l.94 2.06.94-2.06 2.06-.94-2.06-.94-.94-2.06-.94 2.06-2.06.94zm-11 1L8.5 8.5l.94-2.06 2.06-.94-2.06-.94L8.5 2.5l-.94 2.06-2.06.94zm10 10l.94 2.06.94-2.06 2.06-.94-2.06-.94-.94-2.06-.94 2.06-2.06.94z\"/><path d=\"M17.41 7.96l-1.37-1.37c-.4-.4-.92-.59-1.43-.59-.52 0-1.04.2-1.43.59L10.3 9.45l-7.72 7.72c-.78.78-.78 2.05 0 2.83L4 21.41c.39.39.9.59 1.41.59.51 0 1.02-.2 1.41-.59l7.78-7.78 2.81-2.81c.8-.78.8-2.07 0-2.86zM5.41 20L4 18.59l7.72-7.72 1.47 1.35L5.41 20z\"/>\n",
              "  </svg>\n",
              "      </button>\n",
              "      \n",
              "  <style>\n",
              "    .colab-df-container {\n",
              "      display:flex;\n",
              "      flex-wrap:wrap;\n",
              "      gap: 12px;\n",
              "    }\n",
              "\n",
              "    .colab-df-convert {\n",
              "      background-color: #E8F0FE;\n",
              "      border: none;\n",
              "      border-radius: 50%;\n",
              "      cursor: pointer;\n",
              "      display: none;\n",
              "      fill: #1967D2;\n",
              "      height: 32px;\n",
              "      padding: 0 0 0 0;\n",
              "      width: 32px;\n",
              "    }\n",
              "\n",
              "    .colab-df-convert:hover {\n",
              "      background-color: #E2EBFA;\n",
              "      box-shadow: 0px 1px 2px rgba(60, 64, 67, 0.3), 0px 1px 3px 1px rgba(60, 64, 67, 0.15);\n",
              "      fill: #174EA6;\n",
              "    }\n",
              "\n",
              "    [theme=dark] .colab-df-convert {\n",
              "      background-color: #3B4455;\n",
              "      fill: #D2E3FC;\n",
              "    }\n",
              "\n",
              "    [theme=dark] .colab-df-convert:hover {\n",
              "      background-color: #434B5C;\n",
              "      box-shadow: 0px 1px 3px 1px rgba(0, 0, 0, 0.15);\n",
              "      filter: drop-shadow(0px 1px 2px rgba(0, 0, 0, 0.3));\n",
              "      fill: #FFFFFF;\n",
              "    }\n",
              "  </style>\n",
              "\n",
              "      <script>\n",
              "        const buttonEl =\n",
              "          document.querySelector('#df-c740a5d8-e60b-414d-9f12-cc823b1a9649 button.colab-df-convert');\n",
              "        buttonEl.style.display =\n",
              "          google.colab.kernel.accessAllowed ? 'block' : 'none';\n",
              "\n",
              "        async function convertToInteractive(key) {\n",
              "          const element = document.querySelector('#df-c740a5d8-e60b-414d-9f12-cc823b1a9649');\n",
              "          const dataTable =\n",
              "            await google.colab.kernel.invokeFunction('convertToInteractive',\n",
              "                                                     [key], {});\n",
              "          if (!dataTable) return;\n",
              "\n",
              "          const docLinkHtml = 'Like what you see? Visit the ' +\n",
              "            '<a target=\"_blank\" href=https://colab.research.google.com/notebooks/data_table.ipynb>data table notebook</a>'\n",
              "            + ' to learn more about interactive tables.';\n",
              "          element.innerHTML = '';\n",
              "          dataTable['output_type'] = 'display_data';\n",
              "          await google.colab.output.renderOutput(dataTable, element);\n",
              "          const docLink = document.createElement('div');\n",
              "          docLink.innerHTML = docLinkHtml;\n",
              "          element.appendChild(docLink);\n",
              "        }\n",
              "      </script>\n",
              "    </div>\n",
              "  </div>\n",
              "  "
            ]
          },
          "metadata": {},
          "execution_count": 13
        }
      ],
      "source": [
        "df.head()"
      ]
    },
    {
      "cell_type": "code",
      "source": [
        "df['countries'].value_counts()"
      ],
      "metadata": {
        "colab": {
          "base_uri": "https://localhost:8080/"
        },
        "id": "iPCuZitfS2VH",
        "outputId": "e88acfff-f6c1-4718-9ead-5a187604e4c3"
      },
      "id": "iPCuZitfS2VH",
      "execution_count": null,
      "outputs": [
        {
          "output_type": "execute_result",
          "data": {
            "text/plain": [
              "ALB    51\n",
              "IND    51\n",
              "IRQ    51\n",
              "ISL    51\n",
              "ISR    51\n",
              "       ..\n",
              "MNE    15\n",
              "SRB    15\n",
              "EU     10\n",
              "SSD     9\n",
              "POR     1\n",
              "Name: countries, Length: 201, dtype: int64"
            ]
          },
          "metadata": {},
          "execution_count": 14
        }
      ]
    },
    {
      "cell_type": "markdown",
      "source": [],
      "metadata": {
        "id": "Rsfng3n7D7MH"
      },
      "id": "Rsfng3n7D7MH"
    },
    {
      "cell_type": "markdown",
      "source": [
        "## <font color = 'pickle'> **Get Subset of Data**\n",
        "\n",
        "For the HW we will use subset of data. We will extract data for USA and India. The Country codes are \"USA\" and \"IND\". "
      ],
      "metadata": {
        "id": "hWlQJ50hECSR"
      },
      "id": "hWlQJ50hECSR"
    },
    {
      "cell_type": "code",
      "source": [
        "df_subset = df[(df['countries']=='USA') | (df['countries']=='IND')].copy()"
      ],
      "metadata": {
        "id": "X5tn0Vz1SeB-"
      },
      "id": "X5tn0Vz1SeB-",
      "execution_count": null,
      "outputs": []
    },
    {
      "cell_type": "code",
      "source": [
        "df_subset['countries'].value_counts()"
      ],
      "metadata": {
        "colab": {
          "base_uri": "https://localhost:8080/"
        },
        "id": "_c_nbRu-TBKV",
        "outputId": "a50d5974-4a15-46c7-b8e7-c5420230e09d"
      },
      "id": "_c_nbRu-TBKV",
      "execution_count": null,
      "outputs": [
        {
          "output_type": "execute_result",
          "data": {
            "text/plain": [
              "IND    51\n",
              "USA    51\n",
              "Name: countries, dtype: int64"
            ]
          },
          "metadata": {},
          "execution_count": 16
        }
      ]
    },
    {
      "cell_type": "code",
      "source": [
        "df_subset.head()"
      ],
      "metadata": {
        "colab": {
          "base_uri": "https://localhost:8080/",
          "height": 206
        },
        "id": "FgeSJNMgZuFT",
        "outputId": "5396263f-2f2a-4828-f6b3-840bed7f6951"
      },
      "id": "FgeSJNMgZuFT",
      "execution_count": null,
      "outputs": [
        {
          "output_type": "execute_result",
          "data": {
            "text/plain": [
              "     Unnamed: 0  years countries  sessions  \\\n",
              "26           26   1970       IND        25   \n",
              "65           65   1970       USA        25   \n",
              "114         114   1971       IND        26   \n",
              "179         179   1971       USA        26   \n",
              "238         238   1972       IND        27   \n",
              "\n",
              "                                              speeches  \\\n",
              "26   40.\\t Mr. President, I offer you our congratul...   \n",
              "65   1.\\t It is my privilege to extend to you once ...   \n",
              "114  38.\\tMr. President, on behalf of the people of...   \n",
              "179   Mr. President, I should like first of all to ...   \n",
              "238  Mr. President, I offer you on behalf of India ...   \n",
              "\n",
              "                                      cleaned_speeches  \n",
              "26    Mr. President, I offer you our congratulation...  \n",
              "65    It is my privilege to extend to you once agai...  \n",
              "114  Mr. President, on behalf of the people of Indi...  \n",
              "179   Mr. President, I should like first of all to ...  \n",
              "238  Mr. President, I offer you on behalf of India ...  "
            ],
            "text/html": [
              "\n",
              "  <div id=\"df-15c3af99-997f-4fa6-9708-65032ae70ecb\">\n",
              "    <div class=\"colab-df-container\">\n",
              "      <div>\n",
              "<style scoped>\n",
              "    .dataframe tbody tr th:only-of-type {\n",
              "        vertical-align: middle;\n",
              "    }\n",
              "\n",
              "    .dataframe tbody tr th {\n",
              "        vertical-align: top;\n",
              "    }\n",
              "\n",
              "    .dataframe thead th {\n",
              "        text-align: right;\n",
              "    }\n",
              "</style>\n",
              "<table border=\"1\" class=\"dataframe\">\n",
              "  <thead>\n",
              "    <tr style=\"text-align: right;\">\n",
              "      <th></th>\n",
              "      <th>Unnamed: 0</th>\n",
              "      <th>years</th>\n",
              "      <th>countries</th>\n",
              "      <th>sessions</th>\n",
              "      <th>speeches</th>\n",
              "      <th>cleaned_speeches</th>\n",
              "    </tr>\n",
              "  </thead>\n",
              "  <tbody>\n",
              "    <tr>\n",
              "      <th>26</th>\n",
              "      <td>26</td>\n",
              "      <td>1970</td>\n",
              "      <td>IND</td>\n",
              "      <td>25</td>\n",
              "      <td>40.\\t Mr. President, I offer you our congratul...</td>\n",
              "      <td>Mr. President, I offer you our congratulation...</td>\n",
              "    </tr>\n",
              "    <tr>\n",
              "      <th>65</th>\n",
              "      <td>65</td>\n",
              "      <td>1970</td>\n",
              "      <td>USA</td>\n",
              "      <td>25</td>\n",
              "      <td>1.\\t It is my privilege to extend to you once ...</td>\n",
              "      <td>It is my privilege to extend to you once agai...</td>\n",
              "    </tr>\n",
              "    <tr>\n",
              "      <th>114</th>\n",
              "      <td>114</td>\n",
              "      <td>1971</td>\n",
              "      <td>IND</td>\n",
              "      <td>26</td>\n",
              "      <td>38.\\tMr. President, on behalf of the people of...</td>\n",
              "      <td>Mr. President, on behalf of the people of Indi...</td>\n",
              "    </tr>\n",
              "    <tr>\n",
              "      <th>179</th>\n",
              "      <td>179</td>\n",
              "      <td>1971</td>\n",
              "      <td>USA</td>\n",
              "      <td>26</td>\n",
              "      <td>Mr. President, I should like first of all to ...</td>\n",
              "      <td>Mr. President, I should like first of all to ...</td>\n",
              "    </tr>\n",
              "    <tr>\n",
              "      <th>238</th>\n",
              "      <td>238</td>\n",
              "      <td>1972</td>\n",
              "      <td>IND</td>\n",
              "      <td>27</td>\n",
              "      <td>Mr. President, I offer you on behalf of India ...</td>\n",
              "      <td>Mr. President, I offer you on behalf of India ...</td>\n",
              "    </tr>\n",
              "  </tbody>\n",
              "</table>\n",
              "</div>\n",
              "      <button class=\"colab-df-convert\" onclick=\"convertToInteractive('df-15c3af99-997f-4fa6-9708-65032ae70ecb')\"\n",
              "              title=\"Convert this dataframe to an interactive table.\"\n",
              "              style=\"display:none;\">\n",
              "        \n",
              "  <svg xmlns=\"http://www.w3.org/2000/svg\" height=\"24px\"viewBox=\"0 0 24 24\"\n",
              "       width=\"24px\">\n",
              "    <path d=\"M0 0h24v24H0V0z\" fill=\"none\"/>\n",
              "    <path d=\"M18.56 5.44l.94 2.06.94-2.06 2.06-.94-2.06-.94-.94-2.06-.94 2.06-2.06.94zm-11 1L8.5 8.5l.94-2.06 2.06-.94-2.06-.94L8.5 2.5l-.94 2.06-2.06.94zm10 10l.94 2.06.94-2.06 2.06-.94-2.06-.94-.94-2.06-.94 2.06-2.06.94z\"/><path d=\"M17.41 7.96l-1.37-1.37c-.4-.4-.92-.59-1.43-.59-.52 0-1.04.2-1.43.59L10.3 9.45l-7.72 7.72c-.78.78-.78 2.05 0 2.83L4 21.41c.39.39.9.59 1.41.59.51 0 1.02-.2 1.41-.59l7.78-7.78 2.81-2.81c.8-.78.8-2.07 0-2.86zM5.41 20L4 18.59l7.72-7.72 1.47 1.35L5.41 20z\"/>\n",
              "  </svg>\n",
              "      </button>\n",
              "      \n",
              "  <style>\n",
              "    .colab-df-container {\n",
              "      display:flex;\n",
              "      flex-wrap:wrap;\n",
              "      gap: 12px;\n",
              "    }\n",
              "\n",
              "    .colab-df-convert {\n",
              "      background-color: #E8F0FE;\n",
              "      border: none;\n",
              "      border-radius: 50%;\n",
              "      cursor: pointer;\n",
              "      display: none;\n",
              "      fill: #1967D2;\n",
              "      height: 32px;\n",
              "      padding: 0 0 0 0;\n",
              "      width: 32px;\n",
              "    }\n",
              "\n",
              "    .colab-df-convert:hover {\n",
              "      background-color: #E2EBFA;\n",
              "      box-shadow: 0px 1px 2px rgba(60, 64, 67, 0.3), 0px 1px 3px 1px rgba(60, 64, 67, 0.15);\n",
              "      fill: #174EA6;\n",
              "    }\n",
              "\n",
              "    [theme=dark] .colab-df-convert {\n",
              "      background-color: #3B4455;\n",
              "      fill: #D2E3FC;\n",
              "    }\n",
              "\n",
              "    [theme=dark] .colab-df-convert:hover {\n",
              "      background-color: #434B5C;\n",
              "      box-shadow: 0px 1px 3px 1px rgba(0, 0, 0, 0.15);\n",
              "      filter: drop-shadow(0px 1px 2px rgba(0, 0, 0, 0.3));\n",
              "      fill: #FFFFFF;\n",
              "    }\n",
              "  </style>\n",
              "\n",
              "      <script>\n",
              "        const buttonEl =\n",
              "          document.querySelector('#df-15c3af99-997f-4fa6-9708-65032ae70ecb button.colab-df-convert');\n",
              "        buttonEl.style.display =\n",
              "          google.colab.kernel.accessAllowed ? 'block' : 'none';\n",
              "\n",
              "        async function convertToInteractive(key) {\n",
              "          const element = document.querySelector('#df-15c3af99-997f-4fa6-9708-65032ae70ecb');\n",
              "          const dataTable =\n",
              "            await google.colab.kernel.invokeFunction('convertToInteractive',\n",
              "                                                     [key], {});\n",
              "          if (!dataTable) return;\n",
              "\n",
              "          const docLinkHtml = 'Like what you see? Visit the ' +\n",
              "            '<a target=\"_blank\" href=https://colab.research.google.com/notebooks/data_table.ipynb>data table notebook</a>'\n",
              "            + ' to learn more about interactive tables.';\n",
              "          element.innerHTML = '';\n",
              "          dataTable['output_type'] = 'display_data';\n",
              "          await google.colab.output.renderOutput(dataTable, element);\n",
              "          const docLink = document.createElement('div');\n",
              "          docLink.innerHTML = docLinkHtml;\n",
              "          element.appendChild(docLink);\n",
              "        }\n",
              "      </script>\n",
              "    </div>\n",
              "  </div>\n",
              "  "
            ]
          },
          "metadata": {},
          "execution_count": 17
        }
      ]
    },
    {
      "cell_type": "markdown",
      "source": [
        "## <font color = 'pickle'>  **Task Description**\n",
        "\n",
        "For the task you will use the subset of data related to speeches of India and USA only. We have extracted this subset above.\n",
        "\n",
        "In this task you will have to extract top ten (based on frequency) initiatives mentioned in speeches from USA and India. The initiatives are defined based on follwing set \n",
        "\n",
        "```\n",
        "initiative_list = ['programme','scheme',\n",
        "                 'initiative','campaign',\n",
        "                 'agreement','conference',\n",
        "                 'alliance','plan']\n",
        "```\n",
        "\n",
        "Some examples of initiatives will be - (1) United Nations International Drug Control Programme (2) Global Peace Operations Initiative (3) Global Alliance.\n",
        "\n",
        "Negative exaples -- (1) good plan, (2) excellent initiative etc.\n",
        "\n",
        "- The initiatives can be two or more tokens. The last token will be the token from the list above.\n",
        "- You have to extract the unique initiatives from each speech (Hint : convert list of matches to set)\n",
        "- Finally, you have to provide the top ten initiatives in speeches across the years for USA and India.\n"
      ],
      "metadata": {
        "id": "Njk4k48LTs6d"
      },
      "id": "Njk4k48LTs6d"
    },
    {
      "cell_type": "markdown",
      "id": "65e13abb-5a91-496a-ab6e-e6490a230fa7",
      "metadata": {
        "id": "65e13abb-5a91-496a-ab6e-e6490a230fa7"
      },
      "source": [
        "## <font color = 'pickle'>**Understanding Structure of initiatives/plans/schemes**"
      ]
    },
    {
      "cell_type": "code",
      "execution_count": null,
      "id": "082cfa16-f466-4291-bf48-117cfc4ead7e",
      "metadata": {
        "execution": {
          "iopub.execute_input": "2022-09-24T20:02:13.817478Z",
          "iopub.status.busy": "2022-09-24T20:02:13.817257Z",
          "iopub.status.idle": "2022-09-24T20:02:14.203647Z",
          "shell.execute_reply": "2022-09-24T20:02:14.203075Z",
          "shell.execute_reply.started": "2022-09-24T20:02:13.817466Z"
        },
        "id": "082cfa16-f466-4291-bf48-117cfc4ead7e",
        "tags": []
      },
      "outputs": [],
      "source": [
        "nlp = spacy.load('en_core_web_sm')"
      ]
    },
    {
      "cell_type": "code",
      "execution_count": null,
      "id": "0f27e27e-7cb4-4ba8-943a-a3b63b1475c2",
      "metadata": {
        "execution": {
          "iopub.execute_input": "2022-09-24T20:02:14.204338Z",
          "iopub.status.busy": "2022-09-24T20:02:14.204213Z",
          "iopub.status.idle": "2022-09-24T20:02:14.226646Z",
          "shell.execute_reply": "2022-09-24T20:02:14.226172Z",
          "shell.execute_reply.started": "2022-09-24T20:02:14.204326Z"
        },
        "id": "0f27e27e-7cb4-4ba8-943a-a3b63b1475c2",
        "tags": []
      },
      "outputs": [],
      "source": [
        "sample = '''The United States will continue its strong efforts to advance the United Nations plan for Namibia.The United States and Italy have proposed a Global Peace Operations Initiative\n",
        "For 35 years, United Nations International Drug Control Programme has helped. This scheme was good. It was a great plan'''"
      ]
    },
    {
      "cell_type": "code",
      "execution_count": null,
      "id": "5ff1a9ec-3387-4d3c-81a5-aa9f8d75b16b",
      "metadata": {
        "execution": {
          "iopub.execute_input": "2022-09-24T20:02:14.227286Z",
          "iopub.status.busy": "2022-09-24T20:02:14.227120Z",
          "iopub.status.idle": "2022-09-24T20:02:14.259478Z",
          "shell.execute_reply": "2022-09-24T20:02:14.259011Z",
          "shell.execute_reply.started": "2022-09-24T20:02:14.227273Z"
        },
        "id": "5ff1a9ec-3387-4d3c-81a5-aa9f8d75b16b",
        "outputId": "4095cb93-8fc9-4de3-8ec0-4291b618ffc3",
        "tags": [],
        "colab": {
          "base_uri": "https://localhost:8080/"
        }
      },
      "outputs": [
        {
          "output_type": "stream",
          "name": "stdout",
          "text": [
            "token.text      -> token.pos_ -> token.dep_\n",
            "The             -> DET        -> det       \n",
            "United          -> PROPN      -> compound  \n",
            "States          -> PROPN      -> nsubj     \n",
            "will            -> AUX        -> aux       \n",
            "continue        -> VERB       -> ROOT      \n",
            "its             -> PRON       -> poss      \n",
            "strong          -> ADJ        -> amod      \n",
            "efforts         -> NOUN       -> dobj      \n",
            "to              -> PART       -> aux       \n",
            "advance         -> VERB       -> acl       \n",
            "the             -> DET        -> det       \n",
            "United          -> PROPN      -> compound  \n",
            "Nations         -> PROPN      -> compound  \n",
            "plan            -> NOUN       -> dobj      \n",
            "for             -> ADP        -> prep      \n",
            "Namibia         -> PROPN      -> pobj      \n",
            ".               -> PUNCT      -> punct     \n",
            "The             -> DET        -> det       \n",
            "United          -> PROPN      -> compound  \n",
            "States          -> PROPN      -> nsubj     \n",
            "and             -> CCONJ      -> cc        \n",
            "Italy           -> PROPN      -> conj      \n",
            "have            -> AUX        -> aux       \n",
            "proposed        -> VERB       -> ccomp     \n",
            "a               -> DET        -> det       \n",
            "Global          -> PROPN      -> compound  \n",
            "Peace           -> PROPN      -> compound  \n",
            "Operations      -> PROPN      -> compound  \n",
            "Initiative      -> PROPN      -> dobj      \n",
            "\n",
            "               -> SPACE      -> dep       \n",
            "For             -> ADP        -> prep      \n",
            "35              -> NUM        -> nummod    \n",
            "years           -> NOUN       -> pobj      \n",
            ",               -> PUNCT      -> punct     \n",
            "United          -> PROPN      -> compound  \n",
            "Nations         -> PROPN      -> compound  \n",
            "International   -> PROPN      -> compound  \n",
            "Drug            -> PROPN      -> compound  \n",
            "Control         -> PROPN      -> compound  \n",
            "Programme       -> PROPN      -> nsubj     \n",
            "has             -> AUX        -> aux       \n",
            "helped          -> VERB       -> ROOT      \n",
            ".               -> PUNCT      -> punct     \n",
            "This            -> DET        -> det       \n",
            "scheme          -> NOUN       -> nsubj     \n",
            "was             -> AUX        -> ROOT      \n",
            "good            -> ADJ        -> acomp     \n",
            ".               -> PUNCT      -> punct     \n",
            "It              -> PRON       -> nsubj     \n",
            "was             -> AUX        -> ROOT      \n",
            "a               -> DET        -> det       \n",
            "great           -> ADJ        -> amod      \n",
            "plan            -> NOUN       -> attr      \n"
          ]
        }
      ],
      "source": [
        "doc = nlp(sample)\n",
        "print(f\"{'token.text':<15} -> {'token.pos_':<10} -> {'token.dep_':<10}\")\n",
        "for token in doc:\n",
        "    print(f'{token.text:<15} -> {token.pos_:<10} -> {token.dep_:<10}')"
      ]
    },
    {
      "cell_type": "markdown",
      "id": "47768899-ff7f-455a-88db-e422ba64bc1e",
      "metadata": {
        "id": "47768899-ff7f-455a-88db-e422ba64bc1e"
      },
      "source": [
        "## <font color = 'pickle'> **Get Initiatives**"
      ]
    },
    {
      "cell_type": "code",
      "execution_count": null,
      "id": "bb085804-ce54-4c13-9a05-be2fe2de2660",
      "metadata": {
        "execution": {
          "iopub.execute_input": "2022-09-24T20:02:14.260067Z",
          "iopub.status.busy": "2022-09-24T20:02:14.259930Z",
          "iopub.status.idle": "2022-09-24T20:02:14.283563Z",
          "shell.execute_reply": "2022-09-24T20:02:14.283163Z",
          "shell.execute_reply.started": "2022-09-24T20:02:14.260054Z"
        },
        "id": "bb085804-ce54-4c13-9a05-be2fe2de2660",
        "tags": []
      },
      "outputs": [],
      "source": [
        "initiative_list = ['programme','scheme',\n",
        "                 'initiative','campaign',\n",
        "                 'agreement','conference',\n",
        "                 'alliance','plan']"
      ]
    },
    {
      "cell_type": "code",
      "execution_count": null,
      "id": "45f5fc6c-5949-432a-b368-d057bc2d8fdc",
      "metadata": {
        "execution": {
          "iopub.execute_input": "2022-09-24T20:02:14.284432Z",
          "iopub.status.busy": "2022-09-24T20:02:14.284121Z",
          "iopub.status.idle": "2022-09-24T20:02:14.307473Z",
          "shell.execute_reply": "2022-09-24T20:02:14.306988Z",
          "shell.execute_reply.started": "2022-09-24T20:02:14.284414Z"
        },
        "id": "45f5fc6c-5949-432a-b368-d057bc2d8fdc",
        "tags": []
      },
      "outputs": [],
      "source": [
        "from spacy.matcher import Matcher"
      ]
    },
    {
      "cell_type": "code",
      "source": [
        "'''The United States will continue its strong efforts to advance the United Nations plan for Namibia.The United States and Italy have proposed a Global Peace Operations Initiative\n",
        "For 35 years, United Nations International Drug Control Programme has helped. This scheme was good. It was a great plan'''"
      ],
      "metadata": {
        "colab": {
          "base_uri": "https://localhost:8080/",
          "height": 53
        },
        "id": "eL7KFAk-I273",
        "outputId": "80fc9436-f4b6-43a7-ad13-a679368cf47c"
      },
      "id": "eL7KFAk-I273",
      "execution_count": null,
      "outputs": [
        {
          "output_type": "execute_result",
          "data": {
            "text/plain": [
              "'The United States will continue its strong efforts to advance the United Nations plan for Namibia.The United States and Italy have proposed a Global Peace Operations Initiative\\nFor 35 years, United Nations International Drug Control Programme has helped. This scheme was good. It was a great plan'"
            ],
            "application/vnd.google.colaboratory.intrinsic+json": {
              "type": "string"
            }
          },
          "metadata": {},
          "execution_count": 113
        }
      ]
    },
    {
      "cell_type": "code",
      "execution_count": null,
      "id": "6480c71a-cfdb-4982-aa01-06e503d8f958",
      "metadata": {
        "execution": {
          "iopub.execute_input": "2022-09-24T20:02:14.308365Z",
          "iopub.status.busy": "2022-09-24T20:02:14.308023Z",
          "iopub.status.idle": "2022-09-24T20:02:14.340046Z",
          "shell.execute_reply": "2022-09-24T20:02:14.339597Z",
          "shell.execute_reply.started": "2022-09-24T20:02:14.308346Z"
        },
        "id": "6480c71a-cfdb-4982-aa01-06e503d8f958",
        "outputId": "2fd5fb59-237a-4cb4-9d6e-98857f596423",
        "tags": [],
        "colab": {
          "base_uri": "https://localhost:8080/"
        }
      },
      "outputs": [
        {
          "output_type": "stream",
          "name": "stdout",
          "text": [
            "United Nations International Drug Control Programme\n",
            "Global Peace Operations Initiative\n",
            "United Nations plan\n"
          ]
        }
      ],
      "source": [
        "matcher = Matcher(nlp.vocab)    \n",
        "doc = nlp(sample)\n",
        "pattern1 =  [{\"pos\": \"PROPN\"},\n",
        "             {\"pos\": \"PROPN\", \"OP\": \"*\"},\n",
        "             {'TEXT':{'IN': initiative_list+[a.capitalize() for a in initiative_list]}}]\n",
        "matcher.add(\"mypattern\",[pattern1],greedy='LONGEST')\n",
        "matches = matcher(doc)\n",
        "for match_id, start, end in matches:\n",
        "  print(doc[start:end].text)"
      ]
    },
    {
      "cell_type": "code",
      "execution_count": null,
      "id": "70c8272d-48da-44ac-b706-84d34d22ec8d",
      "metadata": {
        "execution": {
          "iopub.execute_input": "2022-09-24T20:02:14.340974Z",
          "iopub.status.busy": "2022-09-24T20:02:14.340728Z",
          "iopub.status.idle": "2022-09-24T20:02:14.364105Z",
          "shell.execute_reply": "2022-09-24T20:02:14.363646Z",
          "shell.execute_reply.started": "2022-09-24T20:02:14.340955Z"
        },
        "id": "70c8272d-48da-44ac-b706-84d34d22ec8d",
        "tags": []
      },
      "outputs": [],
      "source": [
        "def get_initiatives(text):\n",
        "    nlp = spacy.load('en_core_web_sm')\n",
        "    initiative_list = ['programme','scheme',\n",
        "                 'initiative','campaign',\n",
        "                 'agreement','conference',\n",
        "                 'alliance','plan']\n",
        "    \n",
        "    pattern1 = [{\"pos\": \"PROPN\"},\n",
        "             {\"pos\": \"PROPN\", \"OP\": \"*\"},\n",
        "             {'TEXT':{'IN': initiative_list+[a.capitalize() for a in initiative_list]}}]\n",
        "    matcher = Matcher(nlp.vocab)  \n",
        "    matcher.add(\"mypattern\",[pattern1],greedy='LONGEST')\n",
        "    \n",
        "    initiatives =[]\n",
        "    for doc in nlp.pipe(text, batch_size=20, n_process=8):\n",
        "      matches = matcher(doc)\n",
        "      initiative_doc_base=[]\n",
        "      for match_id, start, end in matches:      \n",
        "        initiative_doc = doc[start:end].text\n",
        "        initiative_doc_base.append(initiative_doc)\n",
        "      initiative_doc_base = list(set(initiative_doc_base))\n",
        "      initiatives.append(initiative_doc_base)\n",
        "    return initiatives\n",
        "    "
      ]
    },
    {
      "cell_type": "code",
      "source": [
        "# if your pattern is correct, running this cell should give you the same result as result below\n",
        "get_initiatives([sample])"
      ],
      "metadata": {
        "id": "kDd6I8dteyuO",
        "colab": {
          "base_uri": "https://localhost:8080/"
        },
        "outputId": "7e3f0af3-3c35-4e81-ae9f-6ea074b0b98a"
      },
      "id": "kDd6I8dteyuO",
      "execution_count": null,
      "outputs": [
        {
          "output_type": "execute_result",
          "data": {
            "text/plain": [
              "[['United Nations plan',\n",
              "  'United Nations International Drug Control Programme',\n",
              "  'Global Peace Operations Initiative']]"
            ]
          },
          "metadata": {},
          "execution_count": 151
        }
      ]
    },
    {
      "cell_type": "code",
      "execution_count": null,
      "id": "e7c58928-ad4c-40dc-ba8f-16dee7aa912d",
      "metadata": {
        "execution": {
          "iopub.execute_input": "2022-09-24T20:02:14.364881Z",
          "iopub.status.busy": "2022-09-24T20:02:14.364681Z",
          "iopub.status.idle": "2022-09-24T20:02:14.488589Z",
          "shell.execute_reply": "2022-09-24T20:02:14.487897Z",
          "shell.execute_reply.started": "2022-09-24T20:02:14.364863Z"
        },
        "id": "e7c58928-ad4c-40dc-ba8f-16dee7aa912d",
        "outputId": "5c75af04-6c4b-4b5c-a477-8dda320c45e6",
        "tags": [],
        "colab": {
          "base_uri": "https://localhost:8080/"
        }
      },
      "outputs": [
        {
          "output_type": "execute_result",
          "data": {
            "text/plain": [
              "[['United Nations plan',\n",
              "  'Global Peace Operations Initiative',\n",
              "  'United Nations International Drug Control Programme']]"
            ]
          },
          "metadata": {},
          "execution_count": 34
        }
      ],
      "source": [
        "# DO NOT RUN THIS CELL"
      ]
    },
    {
      "cell_type": "code",
      "source": [
        "# if your pattern is correct, running this cell should give you the same result as result below\n",
        "get_initiatives([df_subset.loc[114,'cleaned_speeches']])"
      ],
      "metadata": {
        "id": "Hzh_b7F-fAXd",
        "colab": {
          "base_uri": "https://localhost:8080/"
        },
        "outputId": "8d7ed1ef-754e-4f05-fbcf-136026b39c62"
      },
      "id": "Hzh_b7F-fAXd",
      "execution_count": null,
      "outputs": [
        {
          "output_type": "execute_result",
          "data": {
            "text/plain": [
              "[['Fourth International Conference',\n",
              "  'Quadripartite Agreement',\n",
              "  'General Agreement']]"
            ]
          },
          "metadata": {},
          "execution_count": 140
        }
      ]
    },
    {
      "cell_type": "code",
      "execution_count": null,
      "id": "92c29e1a-b7b8-4a52-a4c7-b48a817f1810",
      "metadata": {
        "execution": {
          "iopub.execute_input": "2022-09-24T20:02:14.489920Z",
          "iopub.status.busy": "2022-09-24T20:02:14.489625Z",
          "iopub.status.idle": "2022-09-24T20:02:15.192042Z",
          "shell.execute_reply": "2022-09-24T20:02:15.191463Z",
          "shell.execute_reply.started": "2022-09-24T20:02:14.489898Z"
        },
        "id": "92c29e1a-b7b8-4a52-a4c7-b48a817f1810",
        "outputId": "0deae4e2-8790-44c3-8983-12061c6ec2d1",
        "tags": [],
        "colab": {
          "base_uri": "https://localhost:8080/"
        }
      },
      "outputs": [
        {
          "output_type": "execute_result",
          "data": {
            "text/plain": [
              "[['General Agreement',\n",
              "  'Quadripartite Agreement',\n",
              "  'Fourth International Conference']]"
            ]
          },
          "metadata": {},
          "execution_count": 35
        }
      ],
      "source": [
        "# DO NOT RUN THIS CELL"
      ]
    },
    {
      "cell_type": "code",
      "execution_count": null,
      "id": "e6fa0982-b473-49fa-8bc2-61f7f487f5c0",
      "metadata": {
        "execution": {
          "iopub.execute_input": "2022-09-24T20:02:36.371014Z",
          "iopub.status.busy": "2022-09-24T20:02:36.370802Z",
          "iopub.status.idle": "2022-09-24T20:07:45.577063Z",
          "shell.execute_reply": "2022-09-24T20:07:45.576313Z",
          "shell.execute_reply.started": "2022-09-24T20:02:36.371000Z"
        },
        "id": "e6fa0982-b473-49fa-8bc2-61f7f487f5c0",
        "tags": []
      },
      "outputs": [],
      "source": [
        "initiatives = get_initiatives(df_subset['cleaned_speeches'].values)"
      ]
    },
    {
      "cell_type": "code",
      "execution_count": null,
      "id": "5e288308-2595-4ae6-964b-bac941b7bc2a",
      "metadata": {
        "execution": {
          "iopub.execute_input": "2022-09-24T20:08:15.715811Z",
          "iopub.status.busy": "2022-09-24T20:08:15.715597Z",
          "iopub.status.idle": "2022-09-24T20:08:15.741489Z",
          "shell.execute_reply": "2022-09-24T20:08:15.741116Z",
          "shell.execute_reply.started": "2022-09-24T20:08:15.715797Z"
        },
        "id": "5e288308-2595-4ae6-964b-bac941b7bc2a"
      },
      "outputs": [],
      "source": [
        "df_subset['initiatives'] = initiatives"
      ]
    },
    {
      "cell_type": "code",
      "source": [
        "# if your pattern is correct, running this cell should give you the same result as result below\n",
        "df_subset.head()"
      ],
      "metadata": {
        "id": "gd7tiYGRfMpx",
        "colab": {
          "base_uri": "https://localhost:8080/",
          "height": 206
        },
        "outputId": "54e2477c-1b00-4b1f-8cf1-1fbbd5413b97"
      },
      "id": "gd7tiYGRfMpx",
      "execution_count": null,
      "outputs": [
        {
          "output_type": "execute_result",
          "data": {
            "text/plain": [
              "     Unnamed: 0  years countries  sessions  \\\n",
              "26           26   1970       IND        25   \n",
              "65           65   1970       USA        25   \n",
              "114         114   1971       IND        26   \n",
              "179         179   1971       USA        26   \n",
              "238         238   1972       IND        27   \n",
              "\n",
              "                                              speeches  \\\n",
              "26   40.\\t Mr. President, I offer you our congratul...   \n",
              "65   1.\\t It is my privilege to extend to you once ...   \n",
              "114  38.\\tMr. President, on behalf of the people of...   \n",
              "179   Mr. President, I should like first of all to ...   \n",
              "238  Mr. President, I offer you on behalf of India ...   \n",
              "\n",
              "                                      cleaned_speeches  \\\n",
              "26    Mr. President, I offer you our congratulation...   \n",
              "65    It is my privilege to extend to you once agai...   \n",
              "114  Mr. President, on behalf of the people of Indi...   \n",
              "179   Mr. President, I should like first of all to ...   \n",
              "238  Mr. President, I offer you on behalf of India ...   \n",
              "\n",
              "                                           initiatives  \n",
              "26                         [United Nations Conference]  \n",
              "65   [Stockholm Conference, United Nations Conferen...  \n",
              "114  [Fourth International Conference, General Agre...  \n",
              "179           [Berlin agreement, Suez Canal agreement]  \n",
              "238  [Simla Agreement, Stockholm Conference, United...  "
            ],
            "text/html": [
              "\n",
              "  <div id=\"df-063681d2-d422-4060-a1ab-b9d9c4f0dbb8\">\n",
              "    <div class=\"colab-df-container\">\n",
              "      <div>\n",
              "<style scoped>\n",
              "    .dataframe tbody tr th:only-of-type {\n",
              "        vertical-align: middle;\n",
              "    }\n",
              "\n",
              "    .dataframe tbody tr th {\n",
              "        vertical-align: top;\n",
              "    }\n",
              "\n",
              "    .dataframe thead th {\n",
              "        text-align: right;\n",
              "    }\n",
              "</style>\n",
              "<table border=\"1\" class=\"dataframe\">\n",
              "  <thead>\n",
              "    <tr style=\"text-align: right;\">\n",
              "      <th></th>\n",
              "      <th>Unnamed: 0</th>\n",
              "      <th>years</th>\n",
              "      <th>countries</th>\n",
              "      <th>sessions</th>\n",
              "      <th>speeches</th>\n",
              "      <th>cleaned_speeches</th>\n",
              "      <th>initiatives</th>\n",
              "    </tr>\n",
              "  </thead>\n",
              "  <tbody>\n",
              "    <tr>\n",
              "      <th>26</th>\n",
              "      <td>26</td>\n",
              "      <td>1970</td>\n",
              "      <td>IND</td>\n",
              "      <td>25</td>\n",
              "      <td>40.\\t Mr. President, I offer you our congratul...</td>\n",
              "      <td>Mr. President, I offer you our congratulation...</td>\n",
              "      <td>[United Nations Conference]</td>\n",
              "    </tr>\n",
              "    <tr>\n",
              "      <th>65</th>\n",
              "      <td>65</td>\n",
              "      <td>1970</td>\n",
              "      <td>USA</td>\n",
              "      <td>25</td>\n",
              "      <td>1.\\t It is my privilege to extend to you once ...</td>\n",
              "      <td>It is my privilege to extend to you once agai...</td>\n",
              "      <td>[Stockholm Conference, United Nations Conferen...</td>\n",
              "    </tr>\n",
              "    <tr>\n",
              "      <th>114</th>\n",
              "      <td>114</td>\n",
              "      <td>1971</td>\n",
              "      <td>IND</td>\n",
              "      <td>26</td>\n",
              "      <td>38.\\tMr. President, on behalf of the people of...</td>\n",
              "      <td>Mr. President, on behalf of the people of Indi...</td>\n",
              "      <td>[Fourth International Conference, General Agre...</td>\n",
              "    </tr>\n",
              "    <tr>\n",
              "      <th>179</th>\n",
              "      <td>179</td>\n",
              "      <td>1971</td>\n",
              "      <td>USA</td>\n",
              "      <td>26</td>\n",
              "      <td>Mr. President, I should like first of all to ...</td>\n",
              "      <td>Mr. President, I should like first of all to ...</td>\n",
              "      <td>[Berlin agreement, Suez Canal agreement]</td>\n",
              "    </tr>\n",
              "    <tr>\n",
              "      <th>238</th>\n",
              "      <td>238</td>\n",
              "      <td>1972</td>\n",
              "      <td>IND</td>\n",
              "      <td>27</td>\n",
              "      <td>Mr. President, I offer you on behalf of India ...</td>\n",
              "      <td>Mr. President, I offer you on behalf of India ...</td>\n",
              "      <td>[Simla Agreement, Stockholm Conference, United...</td>\n",
              "    </tr>\n",
              "  </tbody>\n",
              "</table>\n",
              "</div>\n",
              "      <button class=\"colab-df-convert\" onclick=\"convertToInteractive('df-063681d2-d422-4060-a1ab-b9d9c4f0dbb8')\"\n",
              "              title=\"Convert this dataframe to an interactive table.\"\n",
              "              style=\"display:none;\">\n",
              "        \n",
              "  <svg xmlns=\"http://www.w3.org/2000/svg\" height=\"24px\"viewBox=\"0 0 24 24\"\n",
              "       width=\"24px\">\n",
              "    <path d=\"M0 0h24v24H0V0z\" fill=\"none\"/>\n",
              "    <path d=\"M18.56 5.44l.94 2.06.94-2.06 2.06-.94-2.06-.94-.94-2.06-.94 2.06-2.06.94zm-11 1L8.5 8.5l.94-2.06 2.06-.94-2.06-.94L8.5 2.5l-.94 2.06-2.06.94zm10 10l.94 2.06.94-2.06 2.06-.94-2.06-.94-.94-2.06-.94 2.06-2.06.94z\"/><path d=\"M17.41 7.96l-1.37-1.37c-.4-.4-.92-.59-1.43-.59-.52 0-1.04.2-1.43.59L10.3 9.45l-7.72 7.72c-.78.78-.78 2.05 0 2.83L4 21.41c.39.39.9.59 1.41.59.51 0 1.02-.2 1.41-.59l7.78-7.78 2.81-2.81c.8-.78.8-2.07 0-2.86zM5.41 20L4 18.59l7.72-7.72 1.47 1.35L5.41 20z\"/>\n",
              "  </svg>\n",
              "      </button>\n",
              "      \n",
              "  <style>\n",
              "    .colab-df-container {\n",
              "      display:flex;\n",
              "      flex-wrap:wrap;\n",
              "      gap: 12px;\n",
              "    }\n",
              "\n",
              "    .colab-df-convert {\n",
              "      background-color: #E8F0FE;\n",
              "      border: none;\n",
              "      border-radius: 50%;\n",
              "      cursor: pointer;\n",
              "      display: none;\n",
              "      fill: #1967D2;\n",
              "      height: 32px;\n",
              "      padding: 0 0 0 0;\n",
              "      width: 32px;\n",
              "    }\n",
              "\n",
              "    .colab-df-convert:hover {\n",
              "      background-color: #E2EBFA;\n",
              "      box-shadow: 0px 1px 2px rgba(60, 64, 67, 0.3), 0px 1px 3px 1px rgba(60, 64, 67, 0.15);\n",
              "      fill: #174EA6;\n",
              "    }\n",
              "\n",
              "    [theme=dark] .colab-df-convert {\n",
              "      background-color: #3B4455;\n",
              "      fill: #D2E3FC;\n",
              "    }\n",
              "\n",
              "    [theme=dark] .colab-df-convert:hover {\n",
              "      background-color: #434B5C;\n",
              "      box-shadow: 0px 1px 3px 1px rgba(0, 0, 0, 0.15);\n",
              "      filter: drop-shadow(0px 1px 2px rgba(0, 0, 0, 0.3));\n",
              "      fill: #FFFFFF;\n",
              "    }\n",
              "  </style>\n",
              "\n",
              "      <script>\n",
              "        const buttonEl =\n",
              "          document.querySelector('#df-063681d2-d422-4060-a1ab-b9d9c4f0dbb8 button.colab-df-convert');\n",
              "        buttonEl.style.display =\n",
              "          google.colab.kernel.accessAllowed ? 'block' : 'none';\n",
              "\n",
              "        async function convertToInteractive(key) {\n",
              "          const element = document.querySelector('#df-063681d2-d422-4060-a1ab-b9d9c4f0dbb8');\n",
              "          const dataTable =\n",
              "            await google.colab.kernel.invokeFunction('convertToInteractive',\n",
              "                                                     [key], {});\n",
              "          if (!dataTable) return;\n",
              "\n",
              "          const docLinkHtml = 'Like what you see? Visit the ' +\n",
              "            '<a target=\"_blank\" href=https://colab.research.google.com/notebooks/data_table.ipynb>data table notebook</a>'\n",
              "            + ' to learn more about interactive tables.';\n",
              "          element.innerHTML = '';\n",
              "          dataTable['output_type'] = 'display_data';\n",
              "          await google.colab.output.renderOutput(dataTable, element);\n",
              "          const docLink = document.createElement('div');\n",
              "          docLink.innerHTML = docLinkHtml;\n",
              "          element.appendChild(docLink);\n",
              "        }\n",
              "      </script>\n",
              "    </div>\n",
              "  </div>\n",
              "  "
            ]
          },
          "metadata": {},
          "execution_count": 154
        }
      ]
    },
    {
      "cell_type": "code",
      "execution_count": null,
      "id": "bf4a281e-3362-4d5c-a5ff-ee9e46f6d98f",
      "metadata": {
        "execution": {
          "iopub.execute_input": "2022-09-24T20:08:19.878301Z",
          "iopub.status.busy": "2022-09-24T20:08:19.878096Z",
          "iopub.status.idle": "2022-09-24T20:08:19.906338Z",
          "shell.execute_reply": "2022-09-24T20:08:19.905948Z",
          "shell.execute_reply.started": "2022-09-24T20:08:19.878288Z"
        },
        "id": "bf4a281e-3362-4d5c-a5ff-ee9e46f6d98f",
        "outputId": "15229334-2a97-4e90-8a2c-1019a4a62244",
        "colab": {
          "base_uri": "https://localhost:8080/",
          "height": 354
        }
      },
      "outputs": [
        {
          "output_type": "execute_result",
          "data": {
            "text/plain": [
              "     Unnamed: 0  years countries  sessions  \\\n",
              "26           26   1970       IND        25   \n",
              "65           65   1970       USA        25   \n",
              "114         114   1971       IND        26   \n",
              "179         179   1971       USA        26   \n",
              "238         238   1972       IND        27   \n",
              "\n",
              "                                              speeches  \\\n",
              "26   40.\\t Mr. President, I offer you our congratul...   \n",
              "65   1.\\t It is my privilege to extend to you once ...   \n",
              "114  38.\\tMr. President, on behalf of the people of...   \n",
              "179   Mr. President, I should like first of all to ...   \n",
              "238  Mr. President, I offer you on behalf of India ...   \n",
              "\n",
              "                                      cleaned_speeches  \\\n",
              "26    Mr. President, I offer you our congratulation...   \n",
              "65    It is my privilege to extend to you once agai...   \n",
              "114  Mr. President, on behalf of the people of Indi...   \n",
              "179   Mr. President, I should like first of all to ...   \n",
              "238  Mr. President, I offer you on behalf of India ...   \n",
              "\n",
              "                                           initiatives  \n",
              "26                         [United Nations Conference]  \n",
              "65   [United Nations Conference, United States init...  \n",
              "114  [General Agreement, Quadripartite Agreement, F...  \n",
              "179           [Suez Canal agreement, Berlin agreement]  \n",
              "238  [Simla Agreement, United Nations Conference, S...  "
            ],
            "text/html": [
              "\n",
              "  <div id=\"df-1b50fd82-b4e4-4cd4-9acb-9e7072584d05\">\n",
              "    <div class=\"colab-df-container\">\n",
              "      <div>\n",
              "<style scoped>\n",
              "    .dataframe tbody tr th:only-of-type {\n",
              "        vertical-align: middle;\n",
              "    }\n",
              "\n",
              "    .dataframe tbody tr th {\n",
              "        vertical-align: top;\n",
              "    }\n",
              "\n",
              "    .dataframe thead th {\n",
              "        text-align: right;\n",
              "    }\n",
              "</style>\n",
              "<table border=\"1\" class=\"dataframe\">\n",
              "  <thead>\n",
              "    <tr style=\"text-align: right;\">\n",
              "      <th></th>\n",
              "      <th>Unnamed: 0</th>\n",
              "      <th>years</th>\n",
              "      <th>countries</th>\n",
              "      <th>sessions</th>\n",
              "      <th>speeches</th>\n",
              "      <th>cleaned_speeches</th>\n",
              "      <th>initiatives</th>\n",
              "    </tr>\n",
              "  </thead>\n",
              "  <tbody>\n",
              "    <tr>\n",
              "      <th>26</th>\n",
              "      <td>26</td>\n",
              "      <td>1970</td>\n",
              "      <td>IND</td>\n",
              "      <td>25</td>\n",
              "      <td>40.\\t Mr. President, I offer you our congratul...</td>\n",
              "      <td>Mr. President, I offer you our congratulation...</td>\n",
              "      <td>[United Nations Conference]</td>\n",
              "    </tr>\n",
              "    <tr>\n",
              "      <th>65</th>\n",
              "      <td>65</td>\n",
              "      <td>1970</td>\n",
              "      <td>USA</td>\n",
              "      <td>25</td>\n",
              "      <td>1.\\t It is my privilege to extend to you once ...</td>\n",
              "      <td>It is my privilege to extend to you once agai...</td>\n",
              "      <td>[United Nations Conference, United States init...</td>\n",
              "    </tr>\n",
              "    <tr>\n",
              "      <th>114</th>\n",
              "      <td>114</td>\n",
              "      <td>1971</td>\n",
              "      <td>IND</td>\n",
              "      <td>26</td>\n",
              "      <td>38.\\tMr. President, on behalf of the people of...</td>\n",
              "      <td>Mr. President, on behalf of the people of Indi...</td>\n",
              "      <td>[General Agreement, Quadripartite Agreement, F...</td>\n",
              "    </tr>\n",
              "    <tr>\n",
              "      <th>179</th>\n",
              "      <td>179</td>\n",
              "      <td>1971</td>\n",
              "      <td>USA</td>\n",
              "      <td>26</td>\n",
              "      <td>Mr. President, I should like first of all to ...</td>\n",
              "      <td>Mr. President, I should like first of all to ...</td>\n",
              "      <td>[Suez Canal agreement, Berlin agreement]</td>\n",
              "    </tr>\n",
              "    <tr>\n",
              "      <th>238</th>\n",
              "      <td>238</td>\n",
              "      <td>1972</td>\n",
              "      <td>IND</td>\n",
              "      <td>27</td>\n",
              "      <td>Mr. President, I offer you on behalf of India ...</td>\n",
              "      <td>Mr. President, I offer you on behalf of India ...</td>\n",
              "      <td>[Simla Agreement, United Nations Conference, S...</td>\n",
              "    </tr>\n",
              "  </tbody>\n",
              "</table>\n",
              "</div>\n",
              "      <button class=\"colab-df-convert\" onclick=\"convertToInteractive('df-1b50fd82-b4e4-4cd4-9acb-9e7072584d05')\"\n",
              "              title=\"Convert this dataframe to an interactive table.\"\n",
              "              style=\"display:none;\">\n",
              "        \n",
              "  <svg xmlns=\"http://www.w3.org/2000/svg\" height=\"24px\"viewBox=\"0 0 24 24\"\n",
              "       width=\"24px\">\n",
              "    <path d=\"M0 0h24v24H0V0z\" fill=\"none\"/>\n",
              "    <path d=\"M18.56 5.44l.94 2.06.94-2.06 2.06-.94-2.06-.94-.94-2.06-.94 2.06-2.06.94zm-11 1L8.5 8.5l.94-2.06 2.06-.94-2.06-.94L8.5 2.5l-.94 2.06-2.06.94zm10 10l.94 2.06.94-2.06 2.06-.94-2.06-.94-.94-2.06-.94 2.06-2.06.94z\"/><path d=\"M17.41 7.96l-1.37-1.37c-.4-.4-.92-.59-1.43-.59-.52 0-1.04.2-1.43.59L10.3 9.45l-7.72 7.72c-.78.78-.78 2.05 0 2.83L4 21.41c.39.39.9.59 1.41.59.51 0 1.02-.2 1.41-.59l7.78-7.78 2.81-2.81c.8-.78.8-2.07 0-2.86zM5.41 20L4 18.59l7.72-7.72 1.47 1.35L5.41 20z\"/>\n",
              "  </svg>\n",
              "      </button>\n",
              "      \n",
              "  <style>\n",
              "    .colab-df-container {\n",
              "      display:flex;\n",
              "      flex-wrap:wrap;\n",
              "      gap: 12px;\n",
              "    }\n",
              "\n",
              "    .colab-df-convert {\n",
              "      background-color: #E8F0FE;\n",
              "      border: none;\n",
              "      border-radius: 50%;\n",
              "      cursor: pointer;\n",
              "      display: none;\n",
              "      fill: #1967D2;\n",
              "      height: 32px;\n",
              "      padding: 0 0 0 0;\n",
              "      width: 32px;\n",
              "    }\n",
              "\n",
              "    .colab-df-convert:hover {\n",
              "      background-color: #E2EBFA;\n",
              "      box-shadow: 0px 1px 2px rgba(60, 64, 67, 0.3), 0px 1px 3px 1px rgba(60, 64, 67, 0.15);\n",
              "      fill: #174EA6;\n",
              "    }\n",
              "\n",
              "    [theme=dark] .colab-df-convert {\n",
              "      background-color: #3B4455;\n",
              "      fill: #D2E3FC;\n",
              "    }\n",
              "\n",
              "    [theme=dark] .colab-df-convert:hover {\n",
              "      background-color: #434B5C;\n",
              "      box-shadow: 0px 1px 3px 1px rgba(0, 0, 0, 0.15);\n",
              "      filter: drop-shadow(0px 1px 2px rgba(0, 0, 0, 0.3));\n",
              "      fill: #FFFFFF;\n",
              "    }\n",
              "  </style>\n",
              "\n",
              "      <script>\n",
              "        const buttonEl =\n",
              "          document.querySelector('#df-1b50fd82-b4e4-4cd4-9acb-9e7072584d05 button.colab-df-convert');\n",
              "        buttonEl.style.display =\n",
              "          google.colab.kernel.accessAllowed ? 'block' : 'none';\n",
              "\n",
              "        async function convertToInteractive(key) {\n",
              "          const element = document.querySelector('#df-1b50fd82-b4e4-4cd4-9acb-9e7072584d05');\n",
              "          const dataTable =\n",
              "            await google.colab.kernel.invokeFunction('convertToInteractive',\n",
              "                                                     [key], {});\n",
              "          if (!dataTable) return;\n",
              "\n",
              "          const docLinkHtml = 'Like what you see? Visit the ' +\n",
              "            '<a target=\"_blank\" href=https://colab.research.google.com/notebooks/data_table.ipynb>data table notebook</a>'\n",
              "            + ' to learn more about interactive tables.';\n",
              "          element.innerHTML = '';\n",
              "          dataTable['output_type'] = 'display_data';\n",
              "          await google.colab.output.renderOutput(dataTable, element);\n",
              "          const docLink = document.createElement('div');\n",
              "          docLink.innerHTML = docLinkHtml;\n",
              "          element.appendChild(docLink);\n",
              "        }\n",
              "      </script>\n",
              "    </div>\n",
              "  </div>\n",
              "  "
            ]
          },
          "metadata": {},
          "execution_count": 38
        }
      ],
      "source": [
        "# DO NOT RUN THIS CELL"
      ]
    },
    {
      "cell_type": "markdown",
      "id": "8ec05e26-2639-4fbb-8d28-d42e7b113f4d",
      "metadata": {
        "id": "8ec05e26-2639-4fbb-8d28-d42e7b113f4d"
      },
      "source": [
        "# <font color = 'pickle'> **Compare Initiatves of USA and India**"
      ]
    },
    {
      "cell_type": "code",
      "execution_count": null,
      "id": "e2ef54e6-da69-4fa3-85af-ed75fbc999e3",
      "metadata": {
        "execution": {
          "iopub.execute_input": "2022-09-24T20:16:53.446346Z",
          "iopub.status.busy": "2022-09-24T20:16:53.446090Z",
          "iopub.status.idle": "2022-09-24T20:16:53.480482Z",
          "shell.execute_reply": "2022-09-24T20:16:53.479817Z",
          "shell.execute_reply.started": "2022-09-24T20:16:53.446327Z"
        },
        "id": "e2ef54e6-da69-4fa3-85af-ed75fbc999e3"
      },
      "outputs": [],
      "source": [
        "from collections import Counter"
      ]
    },
    {
      "cell_type": "code",
      "source": [
        "country = 'USA'\n",
        "\n"
      ],
      "metadata": {
        "colab": {
          "base_uri": "https://localhost:8080/"
        },
        "id": "ZdAAiSOdixG6",
        "outputId": "70847a0e-6107-49eb-cff8-97afacd5dc90"
      },
      "id": "ZdAAiSOdixG6",
      "execution_count": null,
      "outputs": [
        {
          "output_type": "execute_result",
          "data": {
            "text/plain": [
              "['Stockholm Conference',\n",
              " 'United Nations Conference',\n",
              " 'United States initiative',\n",
              " 'Berlin agreement',\n",
              " 'Suez Canal agreement',\n",
              " 'United Nations Conference',\n",
              " 'Suez Canal agreement',\n",
              " 'Geneve Conference',\n",
              " 'World Population Conference',\n",
              " 'Third United Nations Conference',\n",
              " 'World Food Conference',\n",
              " 'Sinai agreement',\n",
              " 'Third United Nations Conference',\n",
              " 'Armistice Agreement',\n",
              " 'Geneva Conference',\n",
              " 'Armistice Agreement',\n",
              " 'Geneva Conference',\n",
              " 'Geneva Peace Conference',\n",
              " 'Geneva Conference',\n",
              " 'Geneva Peace Conference',\n",
              " 'United Nations conference',\n",
              " 'Bonn Economic Summit Conference',\n",
              " 'World Food Conference',\n",
              " 'United Nations Conference',\n",
              " 'United Nations Conference',\n",
              " 'Second Review Conference',\n",
              " 'Review Conference',\n",
              " 'United Nations plan',\n",
              " 'Caribbean Basin initiative',\n",
              " 'United Nations Conference',\n",
              " 'Caribbean Basin Initiative',\n",
              " 'Marshall Plan',\n",
              " 'North Atlantic alliance',\n",
              " 'General Agreement',\n",
              " 'San Francisco Conference',\n",
              " 'Caribbean Basin initiative',\n",
              " 'Third Review Conference',\n",
              " 'General Agreement',\n",
              " 'Stockholm Conference',\n",
              " 'Guatemala agreement',\n",
              " 'Brady plan',\n",
              " 'General Agreement',\n",
              " 'North American Free Trade Agreement',\n",
              " 'General Agreement',\n",
              " 'Vienna Conference',\n",
              " 'North American Free Trade Agreement',\n",
              " 'San Francisco Conference',\n",
              " 'North American Free Trade Agreement',\n",
              " 'General Agreement',\n",
              " 'Cairo Conference',\n",
              " 'Rio Conference',\n",
              " 'United Nations Conference',\n",
              " 'United Nations International Drug Control Programme',\n",
              " 'Cairo Conference',\n",
              " 'Information Technology Agreement',\n",
              " 'United Nations Development Programme',\n",
              " 'Good Friday Agreement',\n",
              " 'World Food Programme',\n",
              " 'African Crisis Response Initiative',\n",
              " 'Marshall Plan',\n",
              " 'Proliferation Security Initiative',\n",
              " 'Emergency Plan',\n",
              " 'World Food Programme',\n",
              " 'Global Peace Operations Initiative',\n",
              " 'Monterrey Conference',\n",
              " 'NATO alliance',\n",
              " 'Doha agreement',\n",
              " 'San Francisco Conference',\n",
              " 'NATO alliance',\n",
              " 'Emergency Plan',\n",
              " 'Islamic Conference',\n",
              " 'Doha agreement',\n",
              " 'Comprehensive Peace Agreement',\n",
              " 'Arab Peace Initiative',\n",
              " 'San Francisco Conference',\n",
              " 'Paris Agreement',\n",
              " 'Women Entrepreneurs Finance Initiative',\n",
              " 'Malaria Initiative',\n",
              " 'Emergency Plan',\n",
              " 'Marshall Plan',\n",
              " 'Canada agreement',\n",
              " 'North American Free Trade Agreement',\n",
              " 'Prosperity Initiative',\n",
              " 'NATO Alliance']"
            ]
          },
          "metadata": {},
          "execution_count": 167
        }
      ]
    },
    {
      "cell_type": "code",
      "execution_count": null,
      "id": "86474550-dc8a-4f98-9eb5-c09ecaf7bb6d",
      "metadata": {
        "execution": {
          "iopub.execute_input": "2022-09-24T20:31:00.309188Z",
          "iopub.status.busy": "2022-09-24T20:31:00.308980Z",
          "iopub.status.idle": "2022-09-24T20:31:00.331133Z",
          "shell.execute_reply": "2022-09-24T20:31:00.330698Z",
          "shell.execute_reply.started": "2022-09-24T20:31:00.309174Z"
        },
        "id": "86474550-dc8a-4f98-9eb5-c09ecaf7bb6d",
        "tags": []
      },
      "outputs": [],
      "source": [
        "# Write a function that takes country as an input and gives the counter object for that \n",
        "# country as output. \n",
        "# Hint:Start with an empty list. You will have to iterate over the initiative column \n",
        "# for the specific country # and extract all the initiatives in one list \n",
        "# (see append vs extend for python list). You will then pass the list to Counter Object.\n",
        "def get_initiative_country(country: str):\n",
        "    # code here\n",
        "    all_initiatives = [item for sublist in list(df_subset[df_subset['countries']==country]['initiatives']) for item in sublist]\n",
        "    return Counter(all_initiatives)   "
      ]
    },
    {
      "cell_type": "code",
      "execution_count": null,
      "id": "bf0de091-1d12-46fc-9e56-970bda955f85",
      "metadata": {
        "execution": {
          "iopub.execute_input": "2022-09-24T20:31:00.942661Z",
          "iopub.status.busy": "2022-09-24T20:31:00.942485Z",
          "iopub.status.idle": "2022-09-24T20:31:00.966292Z",
          "shell.execute_reply": "2022-09-24T20:31:00.965842Z",
          "shell.execute_reply.started": "2022-09-24T20:31:00.942647Z"
        },
        "id": "bf0de091-1d12-46fc-9e56-970bda955f85",
        "tags": []
      },
      "outputs": [],
      "source": [
        "initiatives_usa = get_initiative_country('USA')"
      ]
    },
    {
      "cell_type": "code",
      "execution_count": null,
      "id": "93f45afd-9a63-4f88-bcd9-4404f24f745e",
      "metadata": {
        "execution": {
          "iopub.execute_input": "2022-09-24T20:31:18.606993Z",
          "iopub.status.busy": "2022-09-24T20:31:18.606786Z",
          "iopub.status.idle": "2022-09-24T20:31:18.638004Z",
          "shell.execute_reply": "2022-09-24T20:31:18.637038Z",
          "shell.execute_reply.started": "2022-09-24T20:31:18.606980Z"
        },
        "id": "93f45afd-9a63-4f88-bcd9-4404f24f745e",
        "tags": []
      },
      "outputs": [],
      "source": [
        "initiatives_india = get_initiative_country('IND')"
      ]
    },
    {
      "cell_type": "code",
      "source": [
        "# If your function is correct, running this cell should give you the similar result as result below\n",
        "# The results need not be exactly the same.\n",
        "initiatives_usa.most_common(10)"
      ],
      "metadata": {
        "id": "Vx_TzYj8fgmy",
        "colab": {
          "base_uri": "https://localhost:8080/"
        },
        "outputId": "7fbbfd53-d0f7-4904-e1c6-08ece2a5044d"
      },
      "id": "Vx_TzYj8fgmy",
      "execution_count": null,
      "outputs": [
        {
          "output_type": "execute_result",
          "data": {
            "text/plain": [
              "[('United Nations Conference', 6),\n",
              " ('General Agreement', 5),\n",
              " ('San Francisco Conference', 4),\n",
              " ('North American Free Trade Agreement', 4),\n",
              " ('Geneva Conference', 3),\n",
              " ('Marshall Plan', 3),\n",
              " ('Emergency Plan', 3),\n",
              " ('Stockholm Conference', 2),\n",
              " ('Suez Canal agreement', 2),\n",
              " ('Third United Nations Conference', 2)]"
            ]
          },
          "metadata": {},
          "execution_count": 171
        }
      ]
    },
    {
      "cell_type": "code",
      "execution_count": null,
      "id": "8ffa6f08-a2cb-48af-9441-e69ef2226f7d",
      "metadata": {
        "execution": {
          "iopub.execute_input": "2022-09-24T20:31:33.483041Z",
          "iopub.status.busy": "2022-09-24T20:31:33.482464Z",
          "iopub.status.idle": "2022-09-24T20:31:33.506184Z",
          "shell.execute_reply": "2022-09-24T20:31:33.505627Z",
          "shell.execute_reply.started": "2022-09-24T20:31:33.483026Z"
        },
        "id": "8ffa6f08-a2cb-48af-9441-e69ef2226f7d",
        "outputId": "58ee1b71-37e0-4a19-e9a4-8c452dbe500d",
        "tags": [],
        "colab": {
          "base_uri": "https://localhost:8080/"
        }
      },
      "outputs": [
        {
          "output_type": "execute_result",
          "data": {
            "text/plain": [
              "[('United Nations Conference', 6),\n",
              " ('General Agreement', 5),\n",
              " ('San Francisco Conference', 4),\n",
              " ('North American Free Trade Agreement', 4),\n",
              " ('Geneva Conference', 3),\n",
              " ('Marshall Plan', 3),\n",
              " ('Emergency Plan', 3),\n",
              " ('Stockholm Conference', 2),\n",
              " ('Suez Canal agreement', 2),\n",
              " ('World Food Conference', 2)]"
            ]
          },
          "metadata": {},
          "execution_count": 45
        }
      ],
      "source": [
        "# DO NOT RUN THIS CELL"
      ]
    },
    {
      "cell_type": "code",
      "source": [
        "# If your function is correct, running this cell should give you the similar result as result below\n",
        "# The results need not be exactly the same.\n",
        "initiatives_india.most_common(10)"
      ],
      "metadata": {
        "id": "TMYVMU4Mfi00",
        "colab": {
          "base_uri": "https://localhost:8080/"
        },
        "outputId": "ba504bdb-bd50-4685-c9bd-0bce88398abe"
      },
      "id": "TMYVMU4Mfi00",
      "execution_count": null,
      "outputs": [
        {
          "output_type": "execute_result",
          "data": {
            "text/plain": [
              "[('United Nations Conference', 18),\n",
              " ('Simla Agreement', 8),\n",
              " ('International Conference', 7),\n",
              " ('United Nations plan', 5),\n",
              " ('Paris Agreement', 4),\n",
              " ('Third United Nations Conference', 4),\n",
              " ('International Solar Alliance', 4),\n",
              " ('General Agreement', 3),\n",
              " ('Seventh Conference', 3),\n",
              " ('United Nations Environment Programme', 2)]"
            ]
          },
          "metadata": {},
          "execution_count": 172
        }
      ]
    },
    {
      "cell_type": "code",
      "execution_count": null,
      "id": "3484063c-54a0-4c04-87ca-1d6defee0001",
      "metadata": {
        "execution": {
          "iopub.execute_input": "2022-09-24T20:31:45.708030Z",
          "iopub.status.busy": "2022-09-24T20:31:45.707228Z",
          "iopub.status.idle": "2022-09-24T20:31:45.733155Z",
          "shell.execute_reply": "2022-09-24T20:31:45.731831Z",
          "shell.execute_reply.started": "2022-09-24T20:31:45.708014Z"
        },
        "id": "3484063c-54a0-4c04-87ca-1d6defee0001",
        "outputId": "b50a23d4-6aaa-49f6-f3be-0131ac3a3b18",
        "tags": [],
        "colab": {
          "base_uri": "https://localhost:8080/"
        }
      },
      "outputs": [
        {
          "output_type": "execute_result",
          "data": {
            "text/plain": [
              "[('United Nations Conference', 18),\n",
              " ('Simla Agreement', 8),\n",
              " ('International Conference', 7),\n",
              " ('United Nations plan', 5),\n",
              " ('Paris Agreement', 4),\n",
              " ('Third United Nations Conference', 4),\n",
              " ('International Solar Alliance', 4),\n",
              " ('General Agreement', 3),\n",
              " ('Seventh Conference', 3),\n",
              " ('United Nations Environment Programme', 2)]"
            ]
          },
          "metadata": {},
          "execution_count": 46
        }
      ],
      "source": [
        "# DO NOT RUN THIS CELL"
      ]
    },
    {
      "cell_type": "markdown",
      "id": "d22add31-01cd-4b81-a673-a2eb61acbdac",
      "metadata": {
        "execution": {
          "iopub.execute_input": "2022-09-25T04:52:06.252960Z",
          "iopub.status.busy": "2022-09-25T04:52:06.252688Z",
          "iopub.status.idle": "2022-09-25T04:52:06.289502Z",
          "shell.execute_reply": "2022-09-25T04:52:06.288879Z",
          "shell.execute_reply.started": "2022-09-25T04:52:06.252942Z"
        },
        "id": "d22add31-01cd-4b81-a673-a2eb61acbdac"
      },
      "source": [
        "# <font color = 'pickle'>**Task 2 : Manual Backpropogation (5 Points)**\n",
        "\n",
        "For the network below update the weights using back propogation. \n",
        "\n",
        "<img src = \"https://drive.google.com/uc?export=view&id=1e1EI-N773mUtQJ0SQx5wlJJ1RaIQ4dZ2\" width =600 >\n",
        "\n",
        "- X1, x2 are inputs. The values of the inputs are provided.\n",
        "- h1, h2 are hidden neurons. You will need to calculate the values of h1 and h2 in forward pass.\n",
        "- o1 and o2 are outputs. 0.01 and 0.99 are the true values of the output. You will calculate the predicted values of o1 and o1 in forward pass.\n",
        "- W1-W8 are weights. The initial values are provided to you. You will need to calculate the updated values in backward pass.\n",
        "- bh1, bh2, bo1, bo2 are bias terms. The initial values are provided. You will need to calculate the updated values in backward pass.\n",
        "\n",
        "- You will apply sigmoid activation on hidden layer.\n",
        "- You will apply Linear activation function on output neurons.\n",
        "- You will use the  squared error as the loss function. \n",
        "where <br>$ E_1 =1/2 *(\\hat{o_1}-o_1)^2 $ <br> \n",
        "$ E_2 =1/2 *(\\hat{o_2}-o_2)^2 $ <br>  $ E = E_1 + E_2$\n",
        "\n",
        "Here $E$ is the total loss. $\\hat{o_2}$ and $\\hat{o_2}$ are predicted values of $o_1$ and $o_2$.\n",
        " \n",
        "- <font color ='indianred'> **Assume a Learning Rate of 10.**\n",
        "    \n",
        "\n",
        "<font size = 4 color ='indianred'> **Requirements**\n",
        "- Show caluclations for one forward and one backward pass.\n",
        "- Show all the steps of your calculations. You will get partial credit for the steps even if the final answers are not accurate.\n",
        "- You will do this question manually.\n",
        "- For this question you can submit - ppt  or pdf file (pdf of handwritten calculations)."
      ]
    },
    {
      "cell_type": "markdown",
      "id": "c32ad0f3-a41b-477a-ad23-105010ed39e1",
      "metadata": {
        "id": "c32ad0f3-a41b-477a-ad23-105010ed39e1"
      },
      "source": [
        "# <font color = 'pickle'>**Task 3 - Tensors and Autodiff - 5 Points**"
      ]
    },
    {
      "cell_type": "code",
      "source": [
        "import torch"
      ],
      "metadata": {
        "id": "IsWkg1CufBwg"
      },
      "id": "IsWkg1CufBwg",
      "execution_count": null,
      "outputs": []
    },
    {
      "cell_type": "markdown",
      "source": [
        "## <font color = 'pickle'>**Q1 : Create Tensor (1/2 Point)**\n",
        " Create a torch Tensor of shape (5, 3) which is filled with zeros. Modify the tensor to set element (0, 2) to 10 and element (2, 0)  to 100."
      ],
      "metadata": {
        "id": "2Voz6l5RUZRh"
      },
      "id": "2Voz6l5RUZRh"
    },
    {
      "cell_type": "code",
      "execution_count": null,
      "metadata": {
        "id": "bI9MwTaamhis",
        "colab": {
          "base_uri": "https://localhost:8080/"
        },
        "outputId": "05f3c6d3-2af5-4ccd-ee39-f12fcf065c26"
      },
      "outputs": [
        {
          "output_type": "stream",
          "name": "stdout",
          "text": [
            "tensor([[  0.,   0.,  10.],\n",
            "        [  0.,   0.,   0.],\n",
            "        [100.,   0.,   0.],\n",
            "        [  0.,   0.,   0.],\n",
            "        [  0.,   0.,   0.]])\n"
          ]
        }
      ],
      "source": [
        "tens = torch.zeros(5,3)      \n",
        "tens[0,2] = 10\n",
        "tens[2,0] = 100\n",
        "print(tens)"
      ],
      "id": "bI9MwTaamhis"
    },
    {
      "cell_type": "code",
      "execution_count": null,
      "metadata": {
        "colab": {
          "base_uri": "https://localhost:8080/"
        },
        "id": "ZdEftwuPyyx9",
        "outputId": "499d871b-9559-43b9-cf5a-b889ce356d67"
      },
      "outputs": [
        {
          "output_type": "execute_result",
          "data": {
            "text/plain": [
              "tensor([[  0.,   0.,  10.],\n",
              "        [  0.,   0.,   0.],\n",
              "        [100.,   0.,   0.],\n",
              "        [  0.,   0.,   0.],\n",
              "        [  0.,   0.,   0.]])"
            ]
          },
          "metadata": {},
          "execution_count": 7
        }
      ],
      "source": [
        "# DO NOT RUN THIS CELL"
      ],
      "id": "ZdEftwuPyyx9"
    },
    {
      "cell_type": "markdown",
      "metadata": {
        "id": "6Eoa6rF80ZTa"
      },
      "source": [
        "## <font color = 'pickle'>**Q2: Reshape tensor (1/2 Point)**\n",
        "You have following tensor as input:\n",
        "\n",
        "```x=torch.tensor([0, 1, 2, 3, 4, 5, 6, 7, 8, 9, 10, 11, 12, 13, 14, 15, 16, 17, 18, 19, 20, 21, 22, 23])```\n",
        "\n",
        "Using only reshaping functions (like view, reshape, transpose, permute), you need to get at the following tensor as output:\n",
        "\n",
        "```\n",
        "tensor([[ 0,  4,  8, 12, 16, 20],\n",
        "        [ 1,  5,  9, 13, 17, 21],\n",
        "        [ 2,  6, 10, 14, 18, 22],\n",
        "        [ 3,  7, 11, 15, 19, 23]])\n",
        "```\n",
        "\n"
      ],
      "id": "6Eoa6rF80ZTa"
    },
    {
      "cell_type": "code",
      "execution_count": null,
      "metadata": {
        "id": "LDBQ6kYZ-JRV",
        "colab": {
          "base_uri": "https://localhost:8080/"
        },
        "outputId": "143a048b-a640-4f42-da19-be0b2cf3a07c"
      },
      "outputs": [
        {
          "output_type": "execute_result",
          "data": {
            "text/plain": [
              "tensor([[ 0,  4,  8, 12, 16, 20],\n",
              "        [ 1,  5,  9, 13, 17, 21],\n",
              "        [ 2,  6, 10, 14, 18, 22],\n",
              "        [ 3,  7, 11, 15, 19, 23]])"
            ]
          },
          "metadata": {},
          "execution_count": 5
        }
      ],
      "source": [
        "x = torch.tensor([0, 1, 2, 3, 4, 5, 6, 7, 8, 9, 10, 11, 12, 13, 14, 15, 16, 17, 18, 19, 20, 21, 22, 23])\n",
        "x = torch.reshape(x,(6,4))\n",
        "x = torch.transpose(x,0,1)\n",
        "x"
      ],
      "id": "LDBQ6kYZ-JRV"
    },
    {
      "cell_type": "code",
      "execution_count": null,
      "metadata": {
        "colab": {
          "base_uri": "https://localhost:8080/"
        },
        "id": "b6_SdFS-ke_x",
        "outputId": "44572be6-4264-4d55-fde8-279d0d44adab"
      },
      "outputs": [
        {
          "output_type": "execute_result",
          "data": {
            "text/plain": [
              "tensor([[ 0,  4,  8, 12, 16, 20],\n",
              "        [ 1,  5,  9, 13, 17, 21],\n",
              "        [ 2,  6, 10, 14, 18, 22],\n",
              "        [ 3,  7, 11, 15, 19, 23]])"
            ]
          },
          "metadata": {},
          "execution_count": 9
        }
      ],
      "source": [
        "# DO NOT RUN THIS CELL"
      ],
      "id": "b6_SdFS-ke_x"
    },
    {
      "cell_type": "markdown",
      "source": [
        "## <font color = 'pickle'>**Q3: Slice tensor (1 Point)**\n",
        "\n",
        "- Slice the tensor x to get the following\n",
        ">- last row of x\n",
        ">- fourth column of x\n",
        ">- first three rows and first two columns - the shape of subtensor should be (3,2)\n",
        ">- odd valued rows and columns"
      ],
      "metadata": {
        "id": "dnw5qi7A4ysc"
      },
      "id": "dnw5qi7A4ysc"
    },
    {
      "cell_type": "code",
      "source": [
        "x = torch.tensor([[1, 2, 3, 4, 5], [6, 7, 8, 8, 10], [11, 12, 13, 14, 15]])\n",
        "x"
      ],
      "metadata": {
        "colab": {
          "base_uri": "https://localhost:8080/"
        },
        "id": "STbUdF0J5IBD",
        "outputId": "960b277f-0f79-4937-f5fc-fa2322e119de"
      },
      "id": "STbUdF0J5IBD",
      "execution_count": null,
      "outputs": [
        {
          "output_type": "execute_result",
          "data": {
            "text/plain": [
              "tensor([[ 1,  2,  3,  4,  5],\n",
              "        [ 6,  7,  8,  8, 10],\n",
              "        [11, 12, 13, 14, 15]])"
            ]
          },
          "metadata": {},
          "execution_count": 6
        }
      ]
    },
    {
      "cell_type": "code",
      "source": [
        "x.shape"
      ],
      "metadata": {
        "colab": {
          "base_uri": "https://localhost:8080/"
        },
        "id": "mgHPm0qP5ZU3",
        "outputId": "af47f7d1-344c-4865-ba37-db767f8c0457"
      },
      "id": "mgHPm0qP5ZU3",
      "execution_count": null,
      "outputs": [
        {
          "output_type": "execute_result",
          "data": {
            "text/plain": [
              "torch.Size([3, 5])"
            ]
          },
          "metadata": {},
          "execution_count": 7
        }
      ]
    },
    {
      "cell_type": "code",
      "source": [
        "# get last row fo the tensor\n",
        "last_row = x[len(x)-1]\n",
        "last_row"
      ],
      "metadata": {
        "id": "hzQRs79A5JGd",
        "colab": {
          "base_uri": "https://localhost:8080/"
        },
        "outputId": "e9f8a497-bd01-4bec-c0f5-dccf5044c11f"
      },
      "id": "hzQRs79A5JGd",
      "execution_count": null,
      "outputs": [
        {
          "output_type": "execute_result",
          "data": {
            "text/plain": [
              "tensor([11, 12, 13, 14, 15])"
            ]
          },
          "metadata": {},
          "execution_count": 8
        }
      ]
    },
    {
      "cell_type": "code",
      "source": [
        "fourth_column = x[:,3]\n",
        "fourth_column"
      ],
      "metadata": {
        "colab": {
          "base_uri": "https://localhost:8080/"
        },
        "id": "-mb_Et866ZEW",
        "outputId": "d5a2aa0e-ac45-4b3a-87be-c0d7d3ec2088"
      },
      "id": "-mb_Et866ZEW",
      "execution_count": null,
      "outputs": [
        {
          "output_type": "execute_result",
          "data": {
            "text/plain": [
              "tensor([ 4,  8, 14])"
            ]
          },
          "metadata": {},
          "execution_count": 10
        }
      ]
    },
    {
      "cell_type": "code",
      "source": [
        "first_3_rows_2_columns = x[0:3,0:2]\n",
        "first_3_rows_2_columns"
      ],
      "metadata": {
        "colab": {
          "base_uri": "https://localhost:8080/"
        },
        "id": "c2VaG6Y16jsA",
        "outputId": "1286eea2-9c8b-4236-b105-0ff18f7bb05e"
      },
      "id": "c2VaG6Y16jsA",
      "execution_count": null,
      "outputs": [
        {
          "output_type": "execute_result",
          "data": {
            "text/plain": [
              "tensor([[ 1,  2],\n",
              "        [ 6,  7],\n",
              "        [11, 12]])"
            ]
          },
          "metadata": {},
          "execution_count": 11
        }
      ]
    },
    {
      "cell_type": "code",
      "source": [
        "odd_valued_rows_columns = x[0:3:2,0:5:2]\n",
        "odd_valued_rows_columns"
      ],
      "metadata": {
        "colab": {
          "base_uri": "https://localhost:8080/"
        },
        "id": "RHnSUpxs7O82",
        "outputId": "dbc08461-6237-496a-b836-660d6a73fe57"
      },
      "id": "RHnSUpxs7O82",
      "execution_count": null,
      "outputs": [
        {
          "output_type": "execute_result",
          "data": {
            "text/plain": [
              "tensor([[ 1,  3,  5],\n",
              "        [11, 13, 15]])"
            ]
          },
          "metadata": {},
          "execution_count": 13
        }
      ]
    },
    {
      "cell_type": "markdown",
      "source": [
        "##  <font color = 'pickle'>**Q4 -Normalize Function (1 Points)**<font>\n",
        "\n",
        "Write the function that normalizes the columns of a matrix. You have to compute the mean and standard deviation of each column. Then for each element of the column, you subtract the mean and divide by the standard deviation."
      ],
      "metadata": {
        "id": "uSj20OEuf6bf"
      },
      "id": "uSj20OEuf6bf"
    },
    {
      "cell_type": "code",
      "source": [
        "x = [[ 3,  60,  100, -100],\n",
        "     [ 2,  20,  600, -600],\n",
        "     [-5,  50,  900, -900]]"
      ],
      "metadata": {
        "id": "8L9JBFNilkWt"
      },
      "id": "8L9JBFNilkWt",
      "execution_count": null,
      "outputs": []
    },
    {
      "cell_type": "code",
      "source": [
        "X = torch.tensor(x)\n",
        "X= X.float()"
      ],
      "metadata": {
        "id": "iRrhopVBl-0q"
      },
      "id": "iRrhopVBl-0q",
      "execution_count": null,
      "outputs": []
    },
    {
      "cell_type": "code",
      "source": [
        "print(X.shape)\n",
        "print(X.dtype)"
      ],
      "metadata": {
        "colab": {
          "base_uri": "https://localhost:8080/"
        },
        "id": "S2MaocHxmEQJ",
        "outputId": "fee7a9af-1261-4131-b24e-55d27b335abf"
      },
      "id": "S2MaocHxmEQJ",
      "execution_count": null,
      "outputs": [
        {
          "output_type": "stream",
          "name": "stdout",
          "text": [
            "torch.Size([3, 4])\n",
            "torch.float32\n"
          ]
        }
      ]
    },
    {
      "cell_type": "code",
      "source": [
        "X.mean(axis = 0)"
      ],
      "metadata": {
        "colab": {
          "base_uri": "https://localhost:8080/"
        },
        "id": "rPgb1L9RmQAU",
        "outputId": "1a777356-22b7-4993-e72f-578affdc83a4"
      },
      "id": "rPgb1L9RmQAU",
      "execution_count": null,
      "outputs": [
        {
          "output_type": "execute_result",
          "data": {
            "text/plain": [
              "tensor([   0.0000,   43.3333,  533.3333, -533.3333])"
            ]
          },
          "metadata": {},
          "execution_count": 17
        }
      ]
    },
    {
      "cell_type": "code",
      "source": [
        "X.std(axis = 0)"
      ],
      "metadata": {
        "colab": {
          "base_uri": "https://localhost:8080/"
        },
        "id": "qnM87Db1mqFH",
        "outputId": "8d467544-0382-46c0-bf5b-af1cc12d0dc4"
      },
      "id": "qnM87Db1mqFH",
      "execution_count": null,
      "outputs": [
        {
          "output_type": "execute_result",
          "data": {
            "text/plain": [
              "tensor([  4.3589,  20.8167, 404.1452, 404.1452])"
            ]
          },
          "metadata": {},
          "execution_count": 18
        }
      ]
    },
    {
      "cell_type": "code",
      "source": [
        "def noramlize_matrix(x):\n",
        "  mean = X.mean(axis = 0)\n",
        "  std = X.std(axis = 0)\n",
        "  y = (x-mean)/std\n",
        "  return y\n",
        "  "
      ],
      "metadata": {
        "id": "mwq8qnqFlu9V"
      },
      "id": "mwq8qnqFlu9V",
      "execution_count": null,
      "outputs": []
    },
    {
      "cell_type": "code",
      "source": [
        "# if your function is correct, running this cell should give you the same result as result below\n",
        "Z = noramlize_matrix(X)\n",
        "Z"
      ],
      "metadata": {
        "id": "W7LSj0qcgg3q",
        "colab": {
          "base_uri": "https://localhost:8080/"
        },
        "outputId": "70e88edb-c5cd-4e59-dfcc-3dbcdda34010"
      },
      "id": "W7LSj0qcgg3q",
      "execution_count": null,
      "outputs": [
        {
          "output_type": "execute_result",
          "data": {
            "text/plain": [
              "tensor([[ 0.6882,  0.8006, -1.0722,  1.0722],\n",
              "        [ 0.4588, -1.1209,  0.1650, -0.1650],\n",
              "        [-1.1471,  0.3203,  0.9073, -0.9073]])"
            ]
          },
          "metadata": {},
          "execution_count": 20
        }
      ]
    },
    {
      "cell_type": "code",
      "source": [
        "# DO NOT RUN THIS CELL"
      ],
      "metadata": {
        "colab": {
          "base_uri": "https://localhost:8080/"
        },
        "id": "m027Qcgwm9OL",
        "outputId": "93649e10-e95f-42de-9472-e1c891e3115e"
      },
      "id": "m027Qcgwm9OL",
      "execution_count": null,
      "outputs": [
        {
          "output_type": "execute_result",
          "data": {
            "text/plain": [
              "tensor([[ 0.6882,  0.8006, -1.0722,  1.0722],\n",
              "        [ 0.4588, -1.1209,  0.1650, -0.1650],\n",
              "        [-1.1471,  0.3203,  0.9073, -0.9073]])"
            ]
          },
          "metadata": {},
          "execution_count": 54
        }
      ]
    },
    {
      "cell_type": "code",
      "source": [
        "# if your function is correct, running this cell should give you the same result as result below\n",
        "Z.mean(axis = 0)"
      ],
      "metadata": {
        "id": "ppF1eipvgxx8",
        "colab": {
          "base_uri": "https://localhost:8080/"
        },
        "outputId": "6cb82628-0cf3-4c37-8c6c-2b4cb7a27bd0"
      },
      "id": "ppF1eipvgxx8",
      "execution_count": null,
      "outputs": [
        {
          "output_type": "execute_result",
          "data": {
            "text/plain": [
              "tensor([ 0.0000e+00,  4.9671e-08,  3.9736e-08, -3.9736e-08])"
            ]
          },
          "metadata": {},
          "execution_count": 21
        }
      ]
    },
    {
      "cell_type": "code",
      "source": [
        "# DO NOT RUN THIS CELL"
      ],
      "metadata": {
        "colab": {
          "base_uri": "https://localhost:8080/"
        },
        "id": "78-0D3KfnHel",
        "outputId": "895b5d2c-0d1d-4f35-ba15-5921118e9561"
      },
      "id": "78-0D3KfnHel",
      "execution_count": null,
      "outputs": [
        {
          "output_type": "execute_result",
          "data": {
            "text/plain": [
              "tensor([ 0.0000e+00,  4.9671e-08,  3.9736e-08, -3.9736e-08])"
            ]
          },
          "metadata": {},
          "execution_count": 55
        }
      ]
    },
    {
      "cell_type": "code",
      "source": [
        "# if your function is correct, running this cell should give you the same result as result below\n",
        "Z.std(axis = 0)"
      ],
      "metadata": {
        "id": "14xgIxnQg3y5",
        "colab": {
          "base_uri": "https://localhost:8080/"
        },
        "outputId": "59baa277-672a-44e5-e1bd-6279dce28335"
      },
      "id": "14xgIxnQg3y5",
      "execution_count": null,
      "outputs": [
        {
          "output_type": "execute_result",
          "data": {
            "text/plain": [
              "tensor([1., 1., 1., 1.])"
            ]
          },
          "metadata": {},
          "execution_count": 22
        }
      ]
    },
    {
      "cell_type": "code",
      "source": [
        "# DO NOT RUN THIS CELL"
      ],
      "metadata": {
        "colab": {
          "base_uri": "https://localhost:8080/"
        },
        "id": "NETkPmz8n142",
        "outputId": "36a43b53-c237-4cea-aca8-1d626f15cb3c"
      },
      "id": "NETkPmz8n142",
      "execution_count": null,
      "outputs": [
        {
          "output_type": "execute_result",
          "data": {
            "text/plain": [
              "tensor([1., 1., 1., 1.])"
            ]
          },
          "metadata": {},
          "execution_count": 56
        }
      ]
    },
    {
      "cell_type": "markdown",
      "source": [
        "##  <font color = 'pickle'>**Q5: Matrix Multiplication on CPU vs GPU- 1 Point**<font>"
      ],
      "metadata": {
        "id": "M79Giew-cDtM"
      },
      "id": "M79Giew-cDtM"
    },
    {
      "cell_type": "markdown",
      "source": [
        "### <font color = 'pickle'>**Q5 Part A CPU**<font>\n",
        "\n",
        "- Compute the matrix multiplication of matrix x1 and y1 below. The final matrix should have the shape (10000, 10000). You might  have to reshape one of the matrix to do this operation. \n",
        "\n"
      ],
      "metadata": {
        "id": "8fkB-ZylmUIA"
      },
      "id": "8fkB-ZylmUIA"
    },
    {
      "cell_type": "code",
      "source": [
        "import time\n",
        "\n",
        "x1 = torch.rand(5000, 10000)\n",
        "y1 = torch.rand(5000, 10000)\n",
        "x1 = x1.reshape(10000,5000)\n",
        "\n",
        "t0 = time.time()\n",
        "\n",
        "# matrix multiplication of x1, y1\n",
        "z1 = torch.mm(x1, y1)\n",
        "t1 = time.time()\n",
        "\n",
        "print('shape of z1:', z1.shape == (10000, 10000))\n",
        "print('z on CPU:', z1.device == torch.device('cpu'))\n",
        "\n",
        "cpu_time = 1000.0 * (t1 - t0)\n",
        "print(f'CPU time: {cpu_time:.2f}')\n"
      ],
      "metadata": {
        "colab": {
          "base_uri": "https://localhost:8080/"
        },
        "id": "-YmmkPx9cHe3",
        "outputId": "dd2e5731-0217-45ed-bee2-fbc3ad5e1581"
      },
      "id": "-YmmkPx9cHe3",
      "execution_count": null,
      "outputs": [
        {
          "output_type": "stream",
          "name": "stdout",
          "text": [
            "shape of z1: True\n",
            "z on CPU: True\n",
            "CPU time: 13004.88\n"
          ]
        }
      ]
    },
    {
      "cell_type": "code",
      "source": [
        "# check gpu is availible - if not change the runtime type \n",
        "# Go to Runtime -- change run time type\n",
        "if torch.cuda.is_available():\n",
        "  print('GPU is availible')\n",
        "else:\n",
        "  print('GPU is not availible')"
      ],
      "metadata": {
        "colab": {
          "base_uri": "https://localhost:8080/"
        },
        "id": "F4q3seCjhTEu",
        "outputId": "9a8b3aec-7d10-4b87-cba4-b97ac061d3e0"
      },
      "id": "F4q3seCjhTEu",
      "execution_count": null,
      "outputs": [
        {
          "output_type": "stream",
          "name": "stdout",
          "text": [
            "GPU is availible\n"
          ]
        }
      ]
    },
    {
      "cell_type": "markdown",
      "source": [
        "###  <font color = 'pickle'>**Q5 Part B GPU**<font>\n",
        "(b) Now you wil do the  matrix multiplication of matrix x2 and y2. The final matrix should have the shape (10000, 10000). However before doing the matrix multiplication, move x2 and y2 on gpus. After doing the multiplication move z2 back to cpu. "
      ],
      "metadata": {
        "id": "dEc97Wk2ltrS"
      },
      "id": "dEc97Wk2ltrS"
    },
    {
      "cell_type": "code",
      "source": [
        "x2 = torch.rand(5000, 10000)\n",
        "y2 = torch.rand(5000, 10000)\n",
        "\n",
        "t0 = time.time()\n",
        "device = torch.device('cuda:0' if torch.cuda.is_available() else \"cpu\")\n",
        "# move x to gpu\n",
        "x2 = x2.to(device = device)\n",
        "\n",
        "# move y to gpu\n",
        "y2 = x2.to(device = device)\n",
        "\n",
        "# matrix multiplication of x2, y2\n",
        "x2 = x2.reshape(10000, 5000)\n",
        "z2 =  torch.mm(x2, y2)\n",
        "\n",
        "# waits for everything to finish running\n",
        "torch.cuda.synchronize()\n",
        "t1 = time.time()\n",
        "\n",
        "# move z2 to cpu\n",
        "z2 = z2.to('cpu')\n",
        "\n",
        "print('shape of z2:', z2.shape == (10000, 10000)) # This should print True\n",
        "print('z2 on CPU:', z2.device == torch.device('cpu')) # This should print cpu\n",
        "\n",
        "gpu_time = 1000.0 * (t1 - t0)\n",
        "print(f'GPU time: {gpu_time:.2f}')"
      ],
      "metadata": {
        "id": "6smrvwC3dbQC",
        "colab": {
          "base_uri": "https://localhost:8080/"
        },
        "outputId": "99f3d5a2-012e-4c3c-a6b8-e7bd05b12a0a"
      },
      "id": "6smrvwC3dbQC",
      "execution_count": null,
      "outputs": [
        {
          "output_type": "stream",
          "name": "stdout",
          "text": [
            "shape of z2: True\n",
            "z2 on CPU: True\n",
            "GPU time: 6182.09\n"
          ]
        }
      ]
    },
    {
      "cell_type": "markdown",
      "metadata": {
        "id": "b2816679-bf3f-4f97-82b7-3b1f9780b609"
      },
      "source": [
        "##  <font color = 'pickle'>**Q6 -Calculate Gradients 1 Point** \n",
        "\n",
        "Compute Gradient using  PyTorch Autograd - 2 Points\n",
        "## $f(x,y) = \\frac{x + \\exp(y)}{\\log(x) + (x-y)^3}$\n",
        "Compute dx and dy at x=3 and y=4"
      ],
      "id": "b2816679-bf3f-4f97-82b7-3b1f9780b609"
    },
    {
      "cell_type": "code",
      "source": [
        "import math\n",
        "import numpy as np\n",
        "from numpy import exp\n",
        "def fxy(x,y):\n",
        "  num = x + torch.exp(y)\n",
        "  den = torch.log(x) + torch.pow(x-y,3)\n",
        "  return num/den"
      ],
      "metadata": {
        "id": "rcDTwteKbZUH"
      },
      "execution_count": 65,
      "outputs": [],
      "id": "rcDTwteKbZUH"
    },
    {
      "cell_type": "code",
      "source": [
        "x = torch.tensor([3.0],requires_grad=True) \n",
        "y = torch.tensor([4.0],requires_grad=True) \n",
        "# I changed the code for y here as I wanted to compute the gradient of y at the end of this task. requires_grad as False, gives me None value for dy\n",
        "print(x)"
      ],
      "metadata": {
        "id": "0ADHy2FqfP8S",
        "colab": {
          "base_uri": "https://localhost:8080/"
        },
        "outputId": "a6434d6d-a3f2-4717-9724-2d053083be05"
      },
      "execution_count": 66,
      "outputs": [
        {
          "output_type": "stream",
          "name": "stdout",
          "text": [
            "tensor([3.], requires_grad=True)\n"
          ]
        }
      ],
      "id": "0ADHy2FqfP8S"
    },
    {
      "cell_type": "code",
      "source": [
        "# if your function is correct, running this cell should give you the same result as result below\n",
        "f = fxy(x,y)\n",
        "f"
      ],
      "metadata": {
        "id": "ajt-wEIshkpJ",
        "colab": {
          "base_uri": "https://localhost:8080/"
        },
        "outputId": "3b0c10c3-d7da-404a-fcac-583ef3a61e08"
      },
      "id": "ajt-wEIshkpJ",
      "execution_count": 67,
      "outputs": [
        {
          "output_type": "execute_result",
          "data": {
            "text/plain": [
              "tensor([584.0868], grad_fn=<DivBackward0>)"
            ]
          },
          "metadata": {},
          "execution_count": 67
        }
      ]
    },
    {
      "cell_type": "code",
      "source": [
        "# DO NOT RUN THIS CELL"
      ],
      "metadata": {
        "id": "_2HFXif6fg7A"
      },
      "execution_count": 68,
      "outputs": [],
      "id": "_2HFXif6fg7A"
    },
    {
      "cell_type": "code",
      "source": [
        "# compute gradients\n",
        "f.backward()\n",
        "print('gradients using pytorch autodiff function \\n')\n",
        "print(f'gradient with respect to a  : {x.grad}')\n",
        "print(f'gradient with respect to a  : {y.grad}')"
      ],
      "metadata": {
        "id": "TbZiDeTXfrLf",
        "colab": {
          "base_uri": "https://localhost:8080/"
        },
        "outputId": "67b1fd62-fc45-47a2-b325-121c906d5cf5"
      },
      "execution_count": 69,
      "outputs": [
        {
          "output_type": "stream",
          "name": "stdout",
          "text": [
            "gradients using pytorch autodiff function \n",
            "\n",
            "gradient with respect to a  : tensor([-19733.3965])\n",
            "gradient with respect to a  : tensor([18322.8477])\n"
          ]
        }
      ],
      "id": "TbZiDeTXfrLf"
    },
    {
      "cell_type": "code",
      "source": [
        "print(x.grad, y.grad)"
      ],
      "metadata": {
        "id": "7al8BVZKf3R7",
        "colab": {
          "base_uri": "https://localhost:8080/"
        },
        "outputId": "88161b35-0fd3-4069-b82a-f938dd3340c3"
      },
      "execution_count": 70,
      "outputs": [
        {
          "output_type": "stream",
          "name": "stdout",
          "text": [
            "tensor([-19733.3965]) tensor([18322.8477])\n"
          ]
        }
      ],
      "id": "7al8BVZKf3R7"
    },
    {
      "cell_type": "markdown",
      "metadata": {
        "id": "BYYL_jnG0B3i"
      },
      "source": [
        "# <font color = 'pickle'> **Task 4: Logistic Regression using Minibatch Stochastic Gradient Descent with PyTorch - 5 Points**"
      ],
      "id": "BYYL_jnG0B3i"
    },
    {
      "cell_type": "markdown",
      "source": [
        "## <font color = 'pickle'>**Data**"
      ],
      "metadata": {
        "id": "o6jh4FfFPgi_"
      },
      "id": "o6jh4FfFPgi_"
    },
    {
      "cell_type": "code",
      "source": [
        "from sklearn.datasets import make_moons\n",
        "from sklearn.preprocessing import StandardScaler\n",
        "from sklearn.model_selection import train_test_split"
      ],
      "metadata": {
        "id": "1pN2psBZPquN"
      },
      "id": "1pN2psBZPquN",
      "execution_count": 90,
      "outputs": []
    },
    {
      "cell_type": "code",
      "source": [
        "import torch\n",
        "import torch.optim as optim\n",
        "import torch.nn as nn\n",
        "import torch.functional as F\n",
        "from torch.utils.data import DataLoader, TensorDataset"
      ],
      "metadata": {
        "id": "dHjBoauBQ809"
      },
      "id": "dHjBoauBQ809",
      "execution_count": 91,
      "outputs": []
    },
    {
      "cell_type": "code",
      "execution_count": 92,
      "metadata": {
        "id": "WUcQ0mpp3HNm"
      },
      "outputs": [],
      "source": [
        "X, y = make_moons(n_samples=1000, noise=0.05, random_state=0)"
      ],
      "id": "WUcQ0mpp3HNm"
    },
    {
      "cell_type": "code",
      "execution_count": 93,
      "metadata": {
        "id": "rANPOz2gM6jM"
      },
      "outputs": [],
      "source": [
        "preprocessor = StandardScaler()\n",
        "X = preprocessor.fit_transform(X)"
      ],
      "id": "rANPOz2gM6jM"
    },
    {
      "cell_type": "code",
      "source": [
        "print(X.shape, y.shape)"
      ],
      "metadata": {
        "colab": {
          "base_uri": "https://localhost:8080/"
        },
        "id": "IKQM7PcKVDkK",
        "outputId": "bee5b874-b336-4eb4-f2ce-a2cc2efb8b51"
      },
      "id": "IKQM7PcKVDkK",
      "execution_count": 94,
      "outputs": [
        {
          "output_type": "stream",
          "name": "stdout",
          "text": [
            "(1000, 2) (1000,)\n"
          ]
        }
      ]
    },
    {
      "cell_type": "code",
      "source": [
        "X[0:5]"
      ],
      "metadata": {
        "colab": {
          "base_uri": "https://localhost:8080/"
        },
        "id": "YhLylG90VHG5",
        "outputId": "5185c513-e95f-4c7c-a3ba-10465b5dfc1f"
      },
      "id": "YhLylG90VHG5",
      "execution_count": 95,
      "outputs": [
        {
          "output_type": "execute_result",
          "data": {
            "text/plain": [
              "array([[ 1.75081891,  0.48393978],\n",
              "       [ 1.35606443, -0.90706929],\n",
              "       [-0.90150442,  1.22470664],\n",
              "       [-0.60117222, -0.14688373],\n",
              "       [ 0.0048725 , -1.28700543]])"
            ]
          },
          "metadata": {},
          "execution_count": 95
        }
      ]
    },
    {
      "cell_type": "code",
      "source": [
        "print(y[0:10])"
      ],
      "metadata": {
        "colab": {
          "base_uri": "https://localhost:8080/"
        },
        "id": "a8ZlJ168VLQL",
        "outputId": "9dcd78f6-34e0-42a0-b4c3-5b7ef6b21fd4"
      },
      "id": "a8ZlJ168VLQL",
      "execution_count": 96,
      "outputs": [
        {
          "output_type": "stream",
          "name": "stdout",
          "text": [
            "[1 1 0 1 1 1 0 0 0 1]\n"
          ]
        }
      ]
    },
    {
      "cell_type": "markdown",
      "source": [
        "## <font color = 'pickle'>**Dataset and Data Loaders**"
      ],
      "metadata": {
        "id": "tUYUlTaEQW2w"
      },
      "id": "tUYUlTaEQW2w"
    },
    {
      "cell_type": "code",
      "execution_count": 97,
      "metadata": {
        "id": "hqQS3ENqNE2l"
      },
      "outputs": [],
      "source": [
        "# Initializing the batch size\n",
        "batch_size = 2\n",
        "\n",
        "# Create Tensors from numpy \n",
        "x_tensor = torch.from_numpy(X).float()\n",
        "y_tensor = torch.from_numpy(y.reshape(-1, 1)).float()\n",
        "y_tensor = torch.squeeze(y_tensor)\n",
        "# create a PyTorch Dataset from x and y tensors\n",
        "train_dataset = TensorDataset(x_tensor,y_tensor)\n",
        "\n",
        "# create Data loader from Dataset\n",
        "train_loader = torch.utils.data.DataLoader(dataset = train_dataset, \n",
        "                                            batch_size = batch_size, \n",
        "                                            shuffle = True)"
      ],
      "id": "hqQS3ENqNE2l"
    },
    {
      "cell_type": "markdown",
      "source": [
        "## <font color = 'pickle'>**Model**"
      ],
      "metadata": {
        "id": "y3HFDKy1RLMj"
      },
      "id": "y3HFDKy1RLMj"
    },
    {
      "cell_type": "code",
      "source": [
        "# Speciy your model\n",
        "def softmax_reg(n_ins, n_outs, bias):\n",
        "  return nn.Sequential(nn.Linear(n_ins, n_outs))\n",
        "\n",
        "num_inputs = train_dataset.tensors[0].shape[1]\n",
        "num_outputs = 2\n",
        "model = softmax_reg(num_inputs, num_outputs, bias = True)\n"
      ],
      "metadata": {
        "id": "mtFhXfXpROP3"
      },
      "id": "mtFhXfXpROP3",
      "execution_count": 98,
      "outputs": []
    },
    {
      "cell_type": "markdown",
      "source": [
        "## <font color = 'pickle'>**Loss function**"
      ],
      "metadata": {
        "id": "189Bp-1CRTWb"
      },
      "id": "189Bp-1CRTWb"
    },
    {
      "cell_type": "code",
      "source": [
        "# specify your loss function\n",
        "loss_function =  nn.CrossEntropyLoss()"
      ],
      "metadata": {
        "id": "ZyxG9cEIRdxD"
      },
      "id": "ZyxG9cEIRdxD",
      "execution_count": 99,
      "outputs": []
    },
    {
      "cell_type": "markdown",
      "source": [
        "## <font color = 'pickle'>**Optimizer**"
      ],
      "metadata": {
        "id": "Mu2DOkq5SH_X"
      },
      "id": "Mu2DOkq5SH_X"
    },
    {
      "cell_type": "code",
      "source": [
        "# specify optimizer\n",
        "learning_rate = 0.1\n",
        "optimizer = torch.optim.SGD(model.parameters(), lr=learning_rate)"
      ],
      "metadata": {
        "id": "z2ZPyfdlSMi9"
      },
      "id": "z2ZPyfdlSMi9",
      "execution_count": 100,
      "outputs": []
    },
    {
      "cell_type": "markdown",
      "source": [
        "## <font color = 'pickle'>**Initialization**\n",
        "\n",
        "Create a function to initilaize weights. \n",
        "- Initialize weights using normal distribution with mean = 0 and std = 0.05 \n",
        "- Initilaize the bias term with zeros"
      ],
      "metadata": {
        "id": "Z0ETm1C0apXS"
      },
      "id": "Z0ETm1C0apXS"
    },
    {
      "cell_type": "code",
      "source": [
        "def init_weights(layer):\n",
        "  if type(layer) == nn.Linear:\n",
        "    torch.nn.init.normal_(layer.weight, mean = 0, std = 0.05)\n",
        "    torch.nn.init.zeros_(layer.bias)"
      ],
      "metadata": {
        "id": "P7_uk-Wya5w-"
      },
      "id": "P7_uk-Wya5w-",
      "execution_count": 101,
      "outputs": []
    },
    {
      "cell_type": "markdown",
      "source": [
        "## <font color = 'pickle'>**Training Loop**"
      ],
      "metadata": {
        "id": "_s37DSbzSkWF"
      },
      "id": "_s37DSbzSkWF"
    },
    {
      "cell_type": "markdown",
      "source": [
        "**Model Training** involves five steps: \n",
        "\n",
        "- Step 0: Randomly initialize parameters / weights\n",
        "- Step 1: Compute model's predictions - forward pass\n",
        "- Step 2: Compute loss\n",
        "- Step 3: Compute the gradients\n",
        "- Step 4: Update the parameters\n",
        "- Step 5: Repeat steps 1 - 4\n",
        "\n",
        "Model training is repeating this process over and over, for many **epochs**.\n",
        "\n",
        "We will specify number of ***epochs*** and during each epoch we will iterate over the complete dataset and will keep on updating the parameters.\n",
        "\n",
        "***Learning rate*** and ***epochs*** are known as hyperparameters. We have to adjust the values of these two based on validation dataset.\n",
        "\n",
        "We will now create functions for step 1 to 4."
      ],
      "metadata": {
        "id": "0m8CNyv7Syxx"
      },
      "id": "0m8CNyv7Syxx"
    },
    {
      "cell_type": "code",
      "source": [
        "epochs = 5\n",
        "device = torch.device('cuda:0' if torch.cuda.is_available() else 'cpu')\n",
        "print(device)\n",
        "\n",
        "# move model tp gpu\n",
        "model.to(device)\n",
        "\n",
        "# Step 0: Randomly initialize parameters / weights\n",
        "\n",
        "model.apply(init_weights)\n",
        "\n",
        "for epoch in range(epochs):\n",
        "\n",
        "  # Training Loop \n",
        "  # Initialize train_loss at the he start of the epoch\n",
        "  running_train_loss = 0\n",
        "  running_train_correct = 0\n",
        "  correct = torch.Tensor() # empty tensor\n",
        "  correct = correct.to(device)\n",
        "\n",
        "  # Iterate on batches from the dataset using train_loader\n",
        "  for input_, targets in train_loader:\n",
        "    \n",
        "    # move inputs and outputs to GPUs\n",
        "    input_ = input_.to(device)\n",
        "    targets = targets.type(torch.LongTensor)\n",
        "    targets = targets.to(device)\n",
        "\n",
        "    # Step 1: Forward Pass: Compute model's predictions \n",
        "    output = model(input_)\n",
        "    \n",
        "    # Step 2: Compute loss\n",
        "    loss = loss_function(output, targets)\n",
        "\n",
        "    # Correct prediction\n",
        "    # get the predicted class\n",
        "    y_pred = torch.argmax(output, dim = 1)\n",
        "\n",
        "    # get total correct predictions for the batch\n",
        "    correct = torch.sum(y_pred == targets)\n",
        "\n",
        "    # Step 3: Backward pass -Compute the gradients\n",
        "\n",
        "    # set gradients to zero\n",
        "    optimizer.zero_grad()\n",
        "    \n",
        "    # calculate gradients\n",
        "    loss.backward()\n",
        "\n",
        "    # Step 4: Update the parameters\n",
        "    optimizer.step()\n",
        "          \n",
        "    # Add train loss of a batch \n",
        "    running_train_loss += loss.item()\n",
        "\n",
        "    # Add Corect counts of a batch\n",
        "    running_train_correct += correct\n",
        "  \n",
        "  # Calculate mean train loss for the whole dataset for a particular epoch\n",
        "  train_loss = running_train_loss/len(train_loader)\n",
        "\n",
        "  # Calculate accuracy for the whole dataset for a particular epoch\n",
        "  train_acc = running_train_correct/len(train_loader.dataset)\n",
        "\n",
        "  # Print the train loss and accuracy for given number of epochs, batch size and number of samples\n",
        "  print(f'Epoch : {epoch+1} / {epochs}')\n",
        "  print(f'Train Loss: {train_loss : .4f} | Train Accuracy: {train_acc * 100 : .4f}%')"
      ],
      "metadata": {
        "id": "zRFZkBl-TGPC",
        "colab": {
          "base_uri": "https://localhost:8080/"
        },
        "outputId": "e70a9939-1ead-435d-a080-98ef7c99cfcc"
      },
      "id": "zRFZkBl-TGPC",
      "execution_count": 102,
      "outputs": [
        {
          "output_type": "stream",
          "name": "stdout",
          "text": [
            "cuda:0\n",
            "Epoch : 1 / 5\n",
            "Train Loss:  0.2636 | Train Accuracy:  87.7000%\n",
            "Epoch : 2 / 5\n",
            "Train Loss:  0.2444 | Train Accuracy:  88.5000%\n",
            "Epoch : 3 / 5\n",
            "Train Loss:  0.2457 | Train Accuracy:  87.7000%\n",
            "Epoch : 4 / 5\n",
            "Train Loss:  0.2444 | Train Accuracy:  88.4000%\n",
            "Epoch : 5 / 5\n",
            "Train Loss:  0.2463 | Train Accuracy:  88.5000%\n"
          ]
        }
      ]
    },
    {
      "cell_type": "code",
      "source": [
        "# print the estimated weight and bias term\n",
        "for name, param in model.named_parameters():\n",
        "  print(name, param.data)"
      ],
      "metadata": {
        "id": "6V3o_7WCYWac",
        "colab": {
          "base_uri": "https://localhost:8080/"
        },
        "outputId": "771aa427-ee55-409a-b3f7-40dafbac487e"
      },
      "id": "6V3o_7WCYWac",
      "execution_count": 103,
      "outputs": [
        {
          "output_type": "stream",
          "name": "stdout",
          "text": [
            "0.weight tensor([[-0.5163,  1.5884],\n",
            "        [ 0.4170, -1.4683]], device='cuda:0')\n",
            "0.bias tensor([ 0.0250, -0.0250], device='cuda:0')\n"
          ]
        }
      ]
    },
    {
      "cell_type": "code",
      "source": [],
      "metadata": {
        "id": "nuO9vMMnftu2"
      },
      "id": "nuO9vMMnftu2",
      "execution_count": 47,
      "outputs": []
    }
  ],
  "metadata": {
    "colab": {
      "collapsed_sections": [],
      "provenance": []
    },
    "kernelspec": {
      "display_name": "Python 3 (ipykernel)",
      "language": "python",
      "name": "python3"
    },
    "language_info": {
      "codemirror_mode": {
        "name": "ipython",
        "version": 3
      },
      "file_extension": ".py",
      "mimetype": "text/x-python",
      "name": "python",
      "nbconvert_exporter": "python",
      "pygments_lexer": "ipython3",
      "version": "3.9.13"
    },
    "accelerator": "GPU"
  },
  "nbformat": 4,
  "nbformat_minor": 5
}